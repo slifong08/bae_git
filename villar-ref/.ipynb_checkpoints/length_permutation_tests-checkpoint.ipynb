{
 "cells": [
  {
   "cell_type": "code",
   "execution_count": null,
   "metadata": {
    "collapsed": true
   },
   "outputs": [],
   "source": [
    "#!/bin/bash/python\n",
    "\n",
    "#Permutation test on length.\n",
    "\n",
    "#180504\n",
    "#originally written 180228 based on method2_v4.py script structure\n",
    "\n",
    "#Method:\n",
    "#step 1 - make 10000 random length matched shuffle bed files.\n",
    "#step 2 - load each file into a for loop"
   ]
  },
  {
   "cell_type": "code",
   "execution_count": 2,
   "metadata": {},
   "outputs": [
    {
     "name": "stdout",
     "output_type": "stream",
     "text": [
      "start  2018-05-07 12:51:14.735792\n"
     ]
    }
   ],
   "source": [
    "import os, sys\n",
    "import pandas\n",
    "import glob\n",
    "import datetime\n",
    "print(\"start \",datetime.datetime.now())"
   ]
  },
  {
   "cell_type": "code",
   "execution_count": 3,
   "metadata": {
    "collapsed": true
   },
   "outputs": [],
   "source": [
    "#make a results dataframe to collect results\n",
    "today = datetime.date.today()\n",
    "test_path = \"/dors/capra_lab/users/fongsl/roadmap/stringent/results/\" # ACCRE TEMP\n",
    "\n",
    "#mkdir = \"mkdir %s \"% test_path\n",
    "#os.system(mkdir)\n",
    "os.chdir(test_path)"
   ]
  },
  {
   "cell_type": "code",
   "execution_count": 47,
   "metadata": {},
   "outputs": [
    {
     "name": "stdout",
     "output_type": "stream",
     "text": [
      "roadmap_vrs_90\n"
     ]
    }
   ],
   "source": [
    "#gather the files needed to shuffle chip-seq fragments.\n",
    "blacklist = \"/dors/capra_lab/users/bentonml/data/hg19_blacklist_gap.bed\"\n",
    "trim_chrom = \"/dors/capra_lab/data/dna/hg19_trim.chrom.sizes\"\n",
    "v_90th = \"/dors/capra_lab/users/fongsl/broadly_active_enhancers/baes_data/villar_ref_data/permutations/roadmap_vrs_0-24.bed\"\n",
    "v_90th = \"/dors/capra_lab/users/fongsl/broadly_active_enhancers/baes_data/villar_ref_data/permutations/roadmap_vrs_25-49.bed\"\n",
    "v_90th = \"/dors/capra_lab/users/fongsl/broadly_active_enhancers/baes_data/villar_ref_data/permutations/roadmap_vrs_50-74.bed\"\n",
    "v_90th = \"/dors/capra_lab/users/fongsl/broadly_active_enhancers/baes_data/villar_ref_data/permutations/roadmap_vrs_75-90.bed\"\n",
    "v_90th = \"/dors/capra_lab/users/fongsl/broadly_active_enhancers/baes_data/villar_ref_data/permutations/roadmap_vrs_90.bed\"# this is a file containing the 90th% fragments from villar. \n",
    "\n",
    "name = (v_90th.split('/')[-1]).split('.')[0]\n",
    "print(name)"
   ]
  },
  {
   "cell_type": "code",
   "execution_count": 5,
   "metadata": {
    "collapsed": true
   },
   "outputs": [],
   "source": [
    "# gather all the roadmap datasets\n",
    "roadmap_path = \"/dors/capra_lab/users/fongsl/roadmap/stringent/\" # ACCRE\n",
    "\n",
    "roadmap_datasets= sorted(glob.glob(\"%sHsap_H3K27ac*.bed\" %roadmap_path))\n",
    "\n",
    "roadmap_datasets_dict= dict(((i.split(\"_\")[-1]).split(\".\")[0], i) for i in roadmap_datasets) # this is a dictionary of E00*.bed:2018-01-2*.bed"
   ]
  },
  {
   "cell_type": "code",
   "execution_count": 48,
   "metadata": {},
   "outputs": [
    {
     "name": "stdout",
     "output_type": "stream",
     "text": [
      "end roadmap_vrs_90-0.bed  2018-05-07 14:01:13.908018\n",
      "end roadmap_vrs_90-1.bed  2018-05-07 14:01:24.866789\n",
      "end roadmap_vrs_90-2.bed  2018-05-07 14:01:35.816729\n"
     ]
    }
   ],
   "source": [
    "random_results = pandas.DataFrame()\n",
    "shuffle_val = 0\n",
    "while shuffle_val < 3:\n",
    "    random = \"%s-%s.bed\" % (name, shuffle_val)\n",
    "    \n",
    "    #shuffle the length of the fragment, matched to each chromosome. \n",
    "    shuffle_cmd = \"shuffleBed -excl %s -i %s -g %s -chrom -noOverlapping > %s%s\" % (blacklist, v_90th, trim_chrom, test_path, random)\n",
    "\n",
    "    os.system(shuffle_cmd)   \n",
    "    shuffle_val = shuffle_val + 1\n",
    "    \n",
    "    #test overlap of shuffled chromosome in each roadmap samples.\n",
    "    v = pandas.read_table(random, names= [\"v-chr\", \"v-start\", \"v-end\"])\n",
    "    v_file = test_path+random\n",
    "    \n",
    "    for tissue, tissue_file in roadmap_datasets_dict.items():\n",
    "\n",
    "        outfile_u = \"%s%s_u_x_%s\" % (test_path, tissue, random) # make an output file name\n",
    "        bed_cmd_u = \"bedtools intersect -a %s -b %s -f 0.5 -e -u > %s\" % (v_file, tissue_file, outfile_u)\n",
    "        #print(bed_cmd_u)\n",
    "        os.system(bed_cmd_u) \n",
    "        \n",
    "    #gather the overlapping files, merge to find global overlap in all roadmap samples\n",
    "    x = (\"%s_u_x_%s\") % ( \"E*\", random)\n",
    "    any_tissue_enhancer=glob.glob(x)\n",
    "    results = v.copy()\n",
    "    \n",
    "    for tissue in any_tissue_enhancer:\n",
    "\n",
    "        df= pandas.read_table(tissue, names =[\"v-chr\", \"v-start\", \"v-end\"])\n",
    "        \n",
    "        # name a column with the tissue ID\n",
    "        tissue_id = (tissue.split(\"_\")[0])\n",
    "        \n",
    "        #mark overlapping random fragments w/ 1 if random fragment appears roadmap sample\n",
    "        df[\"%s\"%tissue_id] = 1\n",
    "\n",
    "        #left merge to count overlap of roadmap with the random_test\n",
    "        results = pandas.merge(results, df, how = \"left\")\n",
    "    \n",
    "    a = results.columns[3:]\n",
    "    results[\"sum\"] = results[a].sum(axis =1)\n",
    "    insert = [random.split(\".\")[0], results[\"sum\"].min(), results[\"sum\"].quantile(0.25), results[\"sum\"].quantile(0.50), results[\"sum\"].quantile(0.75), results[\"sum\"].max(), results[\"sum\"].median(), results[\"sum\"].mean()]\n",
    "    insert = pandas.Series(insert)\n",
    "    random_results=random_results.append(insert, ignore_index = True)\n",
    "    random_results.to_csv(\"%s_permutation_results.csv\" % (v_90th.split('/')[9]).split(\".\")[0] , sep = '\\t', index = False, header = True)\n",
    "    print(\"end %s \" %random ,datetime.datetime.now())\n",
    "\n",
    "    eraser = \"rm *%s*\" %random \n",
    "    os.system(eraser)"
   ]
  },
  {
   "cell_type": "code",
   "execution_count": 50,
   "metadata": {},
   "outputs": [
    {
     "name": "stdout",
     "output_type": "stream",
     "text": [
      "rm *roadmap_vrs_90-2.bed*\n"
     ]
    }
   ],
   "source": [
    "eraser = \"rm *%s*\" %random \n",
    "print(eraser)"
   ]
  },
  {
   "cell_type": "code",
   "execution_count": 44,
   "metadata": {
    "collapsed": true
   },
   "outputs": [],
   "source": [
    "random_results.columns =[\"random_itr\", \"min\", \"25th\", \"50th\", \"75th\", \"max\", \"median\", \"mean\"]\n",
    "random_results.to_csv(\"/dors/capra_lab/users/fongsl/broadly_active_enhancers/baes_data/villar_ref_data/permutations/%s_permutation_results.csv\" % (v_90th.split('/')[9]).split(\".\")[0] , sep = '\\t', index = False, header = True)"
   ]
  }
 ],
 "metadata": {
  "kernelspec": {
   "display_name": "Python 3",
   "language": "python",
   "name": "python3"
  },
  "language_info": {
   "codemirror_mode": {
    "name": "ipython",
    "version": 3
   },
   "file_extension": ".py",
   "mimetype": "text/x-python",
   "name": "python",
   "nbconvert_exporter": "python",
   "pygments_lexer": "ipython3",
   "version": "3.6.1"
  }
 },
 "nbformat": 4,
 "nbformat_minor": 2
}
