{
 "cells": [
  {
   "cell_type": "raw",
   "metadata": {},
   "source": [
    "<script>\n",
    "  function code_toggle() {\n",
    "    if (code_shown){\n",
    "      $('div.input').hide('500');\n",
    "      $('#toggleButton').val('Show Code')\n",
    "    } else {\n",
    "      $('div.input').show('500');\n",
    "      $('#toggleButton').val('Hide Code')\n",
    "    }\n",
    "    code_shown = !code_shown\n",
    "  }\n",
    "\n",
    "  $( document ).ready(function(){\n",
    "    code_shown=false;\n",
    "    $('div.input').hide()\n",
    "  });\n",
    "</script>\n",
    "<form action=\"javascript:code_toggle()\"><input type=\"submit\" id=\"toggleButton\" value=\"Show Code\"></form>"
   ]
  },
  {
   "cell_type": "code",
   "execution_count": 1,
   "metadata": {},
   "outputs": [
    {
     "ename": "ERROR",
     "evalue": "Error in library(ggplot2): there is no package called ‘ggplot2’\n",
     "output_type": "error",
     "traceback": [
      "Error in library(ggplot2): there is no package called ‘ggplot2’\nTraceback:\n",
      "1. library(ggplot2)",
      "2. stop(txt, domain = NA)"
     ]
    }
   ],
   "source": [
    "library(ggplot2)"
   ]
  },
  {
   "cell_type": "code",
   "execution_count": null,
   "metadata": {
    "collapsed": true
   },
   "outputs": [],
   "source": [
    "vrs <- read.csv(\"/dors/capra_lab/users/fongsl/broadly_active_enhancers/baes_data/villar_ref_data/vrs_for_R.csv\", sep ='\\t', h=T)\n",
    "per0<- read.csv(\"/dors/capra_lab/users/fongsl/broadly_active_enhancers/baes_data/villar_ref_data/permutations/roadmap_vrs_0-24_permutation_results.csv\", sep = '\\t', h=T)\n",
    "per25<- read.csv(\"/dors/capra_lab/users/fongsl/broadly_active_enhancers/baes_data/villar_ref_data/permutations/roadmap_vrs_25-49_permutation_results.csv\", sep = '\\t', h=T)\n",
    "per50<- read.csv(\"/dors/capra_lab/users/fongsl/broadly_active_enhancers/baes_data/villar_ref_data/permutations/roadmap_vrs_50-74_permutation_results.csv\", sep = '\\t', h=T)\n",
    "per75<- read.csv(\"/dors/capra_lab/users/fongsl/broadly_active_enhancers/baes_data/villar_ref_data/permutations/roadmap_vrs_75-90_permutation_results.csv\", sep = '\\t', h=T)\n",
    "per90<- read.csv(\"/dors/capra_lab/users/fongsl/broadly_active_enhancers/baes_data/villar_ref_data/permutations/2018-03-01_10k_random_results.csv\", sep = '\\t', h=F)"
   ]
  },
  {
   "cell_type": "code",
   "execution_count": null,
   "metadata": {
    "collapsed": true
   },
   "outputs": [],
   "source": [
    "colnames(per90) = c(\"random_itr\",\"min\", \"X25th\",\"X50th\", \"X75th\", \"max\", \"median\", \"mean\")\n",
    "colnames(per50) = c(\"random_itr\",\"min\", \"X25th\",\"X50th\", \"X75th\", \"max\", \"median\", \"mean\")"
   ]
  },
  {
   "cell_type": "code",
   "execution_count": null,
   "metadata": {},
   "outputs": [],
   "source": [
    "head(per50)"
   ]
  },
  {
   "cell_type": "code",
   "execution_count": null,
   "metadata": {
    "collapsed": true,
    "scrolled": false
   },
   "outputs": [],
   "source": [
    "vrs_90 <- subset(vrs, percentile>=0.9)\n",
    "vrs_75 <- subset(vrs, percentile<0.9& percentile>=0.75)\n",
    "vrs_50 <- subset(vrs, percentile<0.75& percentile>=0.50)\n",
    "vrs_25 <- subset(vrs, percentile<0.5& percentile>=0.25)\n",
    "vrs_0 <- subset(vrs,  percentile<0.25)\n"
   ]
  },
  {
   "cell_type": "code",
   "execution_count": null,
   "metadata": {},
   "outputs": [],
   "source": [
    "par(mar=c(10, 5, 5, 5))\n",
    "boxplot(vrs_90$sum, per90$mean, per90$median, vrs_75$sum, per75$mean, per75$median, vrs_50$sum, per50$mean, per50$median, vrs_25$sum, per25$mean, per25$median,vrs_0$sum, per0$mean, per0$median,\n",
    "        las =2 , \n",
    "        names = c(\"vr90\",\"per90_mean\", \"per90_med\", \"vr75\",\"per75_mean\", \"per75_med\", \"vr50\", \"per50_mean\", \"per50_med\",\"vr25\",\"per25_mean\", \"per25_med\", \"vr0\", \"per0_mean\", \"per0_med\"),\n",
    "        xlab = \"Villar x Roadmap percentile\",\n",
    "        ylab = \"Overlapping Roadmap samples\",\n",
    "        main =\"Broadly Active Enhancers v. Permutation Overlap in Roadmap\\nLength-matched, Chromosome-matched Peaks\\n 10,000 genome-shuffled permutations\")"
   ]
  }
 ],
 "metadata": {
  "kernelspec": {
   "display_name": "R 3.3",
   "language": "R",
   "name": "ir33"
  },
  "language_info": {
   "codemirror_mode": "r",
   "file_extension": ".r",
   "mimetype": "text/x-r-source",
   "name": "R",
   "pygments_lexer": "r",
   "version": "3.4.1"
  }
 },
 "nbformat": 4,
 "nbformat_minor": 2
}
