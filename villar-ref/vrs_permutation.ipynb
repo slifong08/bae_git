{
 "cells": [
  {
   "cell_type": "raw",
   "metadata": {},
   "source": [
    "<script>\n",
    "  function code_toggle() {\n",
    "    if (code_shown){\n",
    "      $('div.input').hide('500');\n",
    "      $('#toggleButton').val('Show Code')\n",
    "    } else {\n",
    "      $('div.input').show('500');\n",
    "      $('#toggleButton').val('Hide Code')\n",
    "    }\n",
    "    code_shown = !code_shown\n",
    "  }\n",
    "\n",
    "  $( document ).ready(function(){\n",
    "    code_shown=false;\n",
    "    $('div.input').hide()\n",
    "  });\n",
    "</script>\n",
    "<form action=\"javascript:code_toggle()\"><input type=\"submit\" id=\"toggleButton\" value=\"Show Code\"></form>"
   ]
  },
  {
   "cell_type": "code",
   "execution_count": 2,
   "metadata": {},
   "outputs": [
    {
     "ename": "ERROR",
     "evalue": "Error in library(ggplot2): there is no package called ‘ggplot2’\n",
     "output_type": "error",
     "traceback": [
      "Error in library(ggplot2): there is no package called ‘ggplot2’\nTraceback:\n",
      "1. library(ggplot2)",
      "2. stop(txt, domain = NA)"
     ]
    }
   ],
   "source": [
    "system(\"source activate sf_test\")"
   ]
  },
  {
   "cell_type": "code",
   "execution_count": 1,
   "metadata": {},
   "outputs": [],
   "source": [
    "library(ggplot2)"
   ]
  },
  {
   "cell_type": "code",
   "execution_count": 2,
   "metadata": {
    "collapsed": true
   },
   "outputs": [],
   "source": [
    "vrs <- read.csv(\"/dors/capra_lab/users/fongsl/broadly_active_enhancers/baes_data/villar_ref_data/vrs_for_R.csv\", sep ='\\t', h=T)\n",
    "per0<- read.csv(\"/dors/capra_lab/users/fongsl/broadly_active_enhancers/baes_data/villar_ref_data/permutations/roadmap_vrs_0-24_permutation_results.csv\", sep = '\\t', h=T)\n",
    "per25<- read.csv(\"/dors/capra_lab/users/fongsl/broadly_active_enhancers/baes_data/villar_ref_data/permutations/roadmap_vrs_25-49_permutation_results.csv\", sep = '\\t', h=T)\n",
    "per50<- read.csv(\"/dors/capra_lab/users/fongsl/broadly_active_enhancers/baes_data/villar_ref_data/permutations/roadmap_vrs_50-74_permutation_results.csv\", sep = '\\t', h=T)\n",
    "per75<- read.csv(\"/dors/capra_lab/users/fongsl/broadly_active_enhancers/baes_data/villar_ref_data/permutations/roadmap_vrs_75-90_permutation_results.csv\", sep = '\\t', h=T)\n",
    "per90<- read.csv(\"/dors/capra_lab/users/fongsl/broadly_active_enhancers/baes_data/villar_ref_data/permutations/2018-03-01_10k_random_results.csv\", sep = '\\t', h=F)"
   ]
  },
  {
   "cell_type": "code",
   "execution_count": 11,
   "metadata": {
    "collapsed": true
   },
   "outputs": [],
   "source": [
    "colnames(per90) = c(\"random_itr\",\"min\", \"X25th\",\"X50th\", \"X75th\", \"max\", \"median\", \"mean\")\n",
    "colnames(per50) = c(\"random_itr\",\"min\", \"X25th\",\"X50th\", \"X75th\", \"max\", \"median\", \"mean\")"
   ]
  },
  {
   "cell_type": "code",
   "execution_count": 12,
   "metadata": {},
   "outputs": [
    {
     "data": {
      "text/html": [
       "<table>\n",
       "<thead><tr><th scope=col>random_itr</th><th scope=col>min</th><th scope=col>X25th</th><th scope=col>X50th</th><th scope=col>X75th</th><th scope=col>max</th><th scope=col>median</th><th scope=col>mean</th></tr></thead>\n",
       "<tbody>\n",
       "\t<tr><td>0       </td><td>1       </td><td>2       </td><td>3       </td><td> 4      </td><td> 5      </td><td>6       </td><td>7.000000</td></tr>\n",
       "\t<tr><td>random-1</td><td>0       </td><td>1       </td><td>5       </td><td>13      </td><td>71      </td><td>5       </td><td>9.343052</td></tr>\n",
       "\t<tr><td>random-2</td><td>0       </td><td>1       </td><td>5       </td><td>12      </td><td>68      </td><td>5       </td><td>8.735990</td></tr>\n",
       "\t<tr><td>random-3</td><td>0       </td><td>1       </td><td>4       </td><td>12      </td><td>78      </td><td>4       </td><td>8.576936</td></tr>\n",
       "\t<tr><td>random-4</td><td>0       </td><td>1       </td><td>5       </td><td>13      </td><td>76      </td><td>5       </td><td>9.193392</td></tr>\n",
       "\t<tr><td>random-5</td><td>0       </td><td>1       </td><td>5       </td><td>12      </td><td>73      </td><td>5       </td><td>8.917396</td></tr>\n",
       "</tbody>\n",
       "</table>\n"
      ],
      "text/latex": [
       "\\begin{tabular}{r|llllllll}\n",
       " random\\_itr & min & X25th & X50th & X75th & max & median & mean\\\\\n",
       "\\hline\n",
       "\t 0        & 1        & 2        & 3        &  4       &  5       & 6        & 7.000000\\\\\n",
       "\t random-1 & 0        & 1        & 5        & 13       & 71       & 5        & 9.343052\\\\\n",
       "\t random-2 & 0        & 1        & 5        & 12       & 68       & 5        & 8.735990\\\\\n",
       "\t random-3 & 0        & 1        & 4        & 12       & 78       & 4        & 8.576936\\\\\n",
       "\t random-4 & 0        & 1        & 5        & 13       & 76       & 5        & 9.193392\\\\\n",
       "\t random-5 & 0        & 1        & 5        & 12       & 73       & 5        & 8.917396\\\\\n",
       "\\end{tabular}\n"
      ],
      "text/markdown": [
       "\n",
       "random_itr | min | X25th | X50th | X75th | max | median | mean | \n",
       "|---|---|---|---|---|---|\n",
       "| 0        | 1        | 2        | 3        |  4       |  5       | 6        | 7.000000 | \n",
       "| random-1 | 0        | 1        | 5        | 13       | 71       | 5        | 9.343052 | \n",
       "| random-2 | 0        | 1        | 5        | 12       | 68       | 5        | 8.735990 | \n",
       "| random-3 | 0        | 1        | 4        | 12       | 78       | 4        | 8.576936 | \n",
       "| random-4 | 0        | 1        | 5        | 13       | 76       | 5        | 9.193392 | \n",
       "| random-5 | 0        | 1        | 5        | 12       | 73       | 5        | 8.917396 | \n",
       "\n",
       "\n"
      ],
      "text/plain": [
       "  random_itr min X25th X50th X75th max median mean    \n",
       "1 0          1   2     3      4     5  6      7.000000\n",
       "2 random-1   0   1     5     13    71  5      9.343052\n",
       "3 random-2   0   1     5     12    68  5      8.735990\n",
       "4 random-3   0   1     4     12    78  4      8.576936\n",
       "5 random-4   0   1     5     13    76  5      9.193392\n",
       "6 random-5   0   1     5     12    73  5      8.917396"
      ]
     },
     "metadata": {},
     "output_type": "display_data"
    }
   ],
   "source": [
    "head(per90)"
   ]
  },
  {
   "cell_type": "code",
   "execution_count": 6,
   "metadata": {
    "collapsed": true,
    "scrolled": false
   },
   "outputs": [],
   "source": [
    "vrs_90 <- subset(vrs, percentile>=0.9)\n",
    "vrs_75 <- subset(vrs, percentile<0.9& percentile>=0.75)\n",
    "vrs_50 <- subset(vrs, percentile<0.75& percentile>=0.50)\n",
    "vrs_25 <- subset(vrs, percentile<0.5& percentile>=0.25)\n",
    "vrs_0 <- subset(vrs,  percentile<0.25)"
   ]
  },
  {
   "cell_type": "code",
   "execution_count": 8,
   "metadata": {},
   "outputs": [
    {
     "data": {
      "text/html": [
       "<table>\n",
       "<thead><tr><th scope=col>v.chr</th><th scope=col>v.start</th><th scope=col>v.end</th><th scope=col>IDs</th><th scope=col>sum</th><th scope=col>X90_percentile</th><th scope=col>act_sp</th><th scope=col>aln_sp</th><th scope=col>hq_act_sp</th><th scope=col>hq_aln_sp</th><th scope=col>aln_inact</th><th scope=col>hq_aln_inact</th><th scope=col>length</th><th scope=col>percentile</th></tr></thead>\n",
       "<tbody>\n",
       "\t<tr><td>chr20          </td><td>   270226      </td><td>   272388      </td><td>hsaH3K27Ac23366</td><td>0              </td><td>0              </td><td>2              </td><td> 9             </td><td>1              </td><td>7              </td><td> 7             </td><td>6              </td><td>2162           </td><td>0.02           </td></tr>\n",
       "\t<tr><td>chr10          </td><td>126076962      </td><td>126079574      </td><td>hsaH3K27Ac5900 </td><td>0              </td><td>0              </td><td>0              </td><td> 0             </td><td>0              </td><td>0              </td><td> 0             </td><td>0              </td><td>2612           </td><td>0.02           </td></tr>\n",
       "\t<tr><td>chr10          </td><td>123358043      </td><td>123358739      </td><td>hsaH3K27Ac5855 </td><td>0              </td><td>0              </td><td>5              </td><td>12             </td><td>2              </td><td>5              </td><td> 7             </td><td>3              </td><td> 696           </td><td>0.02           </td></tr>\n",
       "\t<tr><td>chr19          </td><td>  7981384      </td><td>  7983285      </td><td>hsaH3K27Ac18766</td><td>0              </td><td>0              </td><td>2              </td><td> 9             </td><td>2              </td><td>6              </td><td> 7             </td><td>4              </td><td>1901           </td><td>0.02           </td></tr>\n",
       "\t<tr><td>chr2           </td><td>200319976      </td><td>200321620      </td><td>hsaH3K27Ac22657</td><td>0              </td><td>0              </td><td>3              </td><td>15             </td><td>2              </td><td>8              </td><td>12             </td><td>6              </td><td>1644           </td><td>0.02           </td></tr>\n",
       "\t<tr><td>chr2           </td><td>200932286      </td><td>200934456      </td><td>hsaH3K27Ac22666</td><td>0              </td><td>0              </td><td>3              </td><td> 7             </td><td>2              </td><td>6              </td><td> 4             </td><td>4              </td><td>2170           </td><td>0.02           </td></tr>\n",
       "</tbody>\n",
       "</table>\n"
      ],
      "text/latex": [
       "\\begin{tabular}{r|llllllllllllll}\n",
       " v.chr & v.start & v.end & IDs & sum & X90\\_percentile & act\\_sp & aln\\_sp & hq\\_act\\_sp & hq\\_aln\\_sp & aln\\_inact & hq\\_aln\\_inact & length & percentile\\\\\n",
       "\\hline\n",
       "\t chr20           &    270226       &    272388       & hsaH3K27Ac23366 & 0               & 0               & 2               &  9              & 1               & 7               &  7              & 6               & 2162            & 0.02           \\\\\n",
       "\t chr10           & 126076962       & 126079574       & hsaH3K27Ac5900  & 0               & 0               & 0               &  0              & 0               & 0               &  0              & 0               & 2612            & 0.02           \\\\\n",
       "\t chr10           & 123358043       & 123358739       & hsaH3K27Ac5855  & 0               & 0               & 5               & 12              & 2               & 5               &  7              & 3               &  696            & 0.02           \\\\\n",
       "\t chr19           &   7981384       &   7983285       & hsaH3K27Ac18766 & 0               & 0               & 2               &  9              & 2               & 6               &  7              & 4               & 1901            & 0.02           \\\\\n",
       "\t chr2            & 200319976       & 200321620       & hsaH3K27Ac22657 & 0               & 0               & 3               & 15              & 2               & 8               & 12              & 6               & 1644            & 0.02           \\\\\n",
       "\t chr2            & 200932286       & 200934456       & hsaH3K27Ac22666 & 0               & 0               & 3               &  7              & 2               & 6               &  4              & 4               & 2170            & 0.02           \\\\\n",
       "\\end{tabular}\n"
      ],
      "text/markdown": [
       "\n",
       "v.chr | v.start | v.end | IDs | sum | X90_percentile | act_sp | aln_sp | hq_act_sp | hq_aln_sp | aln_inact | hq_aln_inact | length | percentile | \n",
       "|---|---|---|---|---|---|\n",
       "| chr20           |    270226       |    272388       | hsaH3K27Ac23366 | 0               | 0               | 2               |  9              | 1               | 7               |  7              | 6               | 2162            | 0.02            | \n",
       "| chr10           | 126076962       | 126079574       | hsaH3K27Ac5900  | 0               | 0               | 0               |  0              | 0               | 0               |  0              | 0               | 2612            | 0.02            | \n",
       "| chr10           | 123358043       | 123358739       | hsaH3K27Ac5855  | 0               | 0               | 5               | 12              | 2               | 5               |  7              | 3               |  696            | 0.02            | \n",
       "| chr19           |   7981384       |   7983285       | hsaH3K27Ac18766 | 0               | 0               | 2               |  9              | 2               | 6               |  7              | 4               | 1901            | 0.02            | \n",
       "| chr2            | 200319976       | 200321620       | hsaH3K27Ac22657 | 0               | 0               | 3               | 15              | 2               | 8               | 12              | 6               | 1644            | 0.02            | \n",
       "| chr2            | 200932286       | 200934456       | hsaH3K27Ac22666 | 0               | 0               | 3               |  7              | 2               | 6               |  4              | 4               | 2170            | 0.02            | \n",
       "\n",
       "\n"
      ],
      "text/plain": [
       "  v.chr v.start   v.end     IDs             sum X90_percentile act_sp aln_sp\n",
       "1 chr20    270226    272388 hsaH3K27Ac23366 0   0              2       9    \n",
       "2 chr10 126076962 126079574 hsaH3K27Ac5900  0   0              0       0    \n",
       "3 chr10 123358043 123358739 hsaH3K27Ac5855  0   0              5      12    \n",
       "4 chr19   7981384   7983285 hsaH3K27Ac18766 0   0              2       9    \n",
       "5 chr2  200319976 200321620 hsaH3K27Ac22657 0   0              3      15    \n",
       "6 chr2  200932286 200934456 hsaH3K27Ac22666 0   0              3       7    \n",
       "  hq_act_sp hq_aln_sp aln_inact hq_aln_inact length percentile\n",
       "1 1         7          7        6            2162   0.02      \n",
       "2 0         0          0        0            2612   0.02      \n",
       "3 2         5          7        3             696   0.02      \n",
       "4 2         6          7        4            1901   0.02      \n",
       "5 2         8         12        6            1644   0.02      \n",
       "6 2         6          4        4            2170   0.02      "
      ]
     },
     "metadata": {},
     "output_type": "display_data"
    }
   ],
   "source": [
    "head(vrs)"
   ]
  },
  {
   "cell_type": "code",
   "execution_count": 19,
   "metadata": {},
   "outputs": [
    {
     "ename": "ERROR",
     "evalue": "Error: Mapping must be created by `aes()` or `aes_()`\n",
     "output_type": "error",
     "traceback": [
      "Error: Mapping must be created by `aes()` or `aes_()`\nTraceback:\n",
      "1. geom_boxplot(data = per90, mean)",
      "2. layer(data = data, mapping = mapping, stat = stat, geom = GeomBoxplot, \n .     position = position, show.legend = show.legend, inherit.aes = inherit.aes, \n .     params = list(outlier.colour = outlier.color %||% outlier.colour, \n .         outlier.fill = outlier.fill, outlier.shape = outlier.shape, \n .         outlier.size = outlier.size, outlier.stroke = outlier.stroke, \n .         outlier.alpha = outlier.alpha, notch = notch, notchwidth = notchwidth, \n .         varwidth = varwidth, na.rm = na.rm, ...))",
      "3. stop(\"Mapping must be created by `aes()` or `aes_()`\", call. = FALSE)"
     ]
    }
   ],
   "source": [
    "ggplot(vrs, aes(x =percentile, y =sum, group = percentile)) +\n",
    "  geom_boxplot()+ geom_boxplot(data=per90, mean)\n",
    "    #scale_x_continuous(breaks=seq(0,10,1))+\n",
    "    #ggtitle(\"hVillar Enhancers Active Overlap in Other Species x Enhancer Length\\nFish - Conserved Enhancer Sequences Only\")"
   ]
  },
  {
   "cell_type": "code",
   "execution_count": 8,
   "metadata": {},
   "outputs": [
    {
     "data": {
      "image/png": "[encoded data removed]",
      "text/plain": [
       "Plot with title “Broadly Active Enhancers v. Permutation Overlap in Roadmap\n",
       "Length-matched, Chromosome-matched Peaks\n",
       " 10,000 genome-shuffled permutations”"
      ]
     },
     "metadata": {},
     "output_type": "display_data"
    }
   ],
   "source": [
    "par(mar=c(10, 5, 5, 5))\n",
    "boxplot(vrs_90$sum, per90$mean, per90$median, vrs_75$sum, per75$mean, per75$median, vrs_50$sum, per50$mean, per50$median, vrs_25$sum, per25$mean, per25$median,vrs_0$sum, per0$mean, per0$median,\n",
    "        las =2 , \n",
    "        names = c(\"vr90\",\"per90_mean\", \"per90_med\", \"vr75\",\"per75_mean\", \"per75_med\", \"vr50\", \"per50_mean\", \"per50_med\",\"vr25\",\"per25_mean\", \"per25_med\", \"vr0\", \"per0_mean\", \"per0_med\"),\n",
    "        xlab = \"Villar x Roadmap percentile\",\n",
    "        ylab = \"Overlapping Roadmap samples\",\n",
    "        main =\"Broadly Active Enhancers v. Permutation Overlap in Roadmap\\nLength-matched, Chromosome-matched Peaks\\n 10,000 genome-shuffled permutations\")"
   ]
  }
 ],
 "metadata": {
  "kernelspec": {
   "display_name": "R 3.3",
   "language": "R",
   "name": "ir33"
  },
  "language_info": {
   "codemirror_mode": "r",
   "file_extension": ".r",
   "mimetype": "text/x-r-source",
   "name": "R",
   "pygments_lexer": "r",
   "version": "3.4.1"
  }
 },
 "nbformat": 4,
 "nbformat_minor": 2
}
