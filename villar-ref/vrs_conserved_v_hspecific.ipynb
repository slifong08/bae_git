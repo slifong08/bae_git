{
 "cells": [
  {
   "cell_type": "code",
   "execution_count": 1,
   "metadata": {
    "collapsed": true
   },
   "outputs": [],
   "source": [
    "# this script is to evaluate all of the villar x roadmap x species sequence alignments without having to run the entire method2_v1,2,3 scripts\n",
    "\n",
    "import os, sys\n",
    "import pandas\n",
    "import glob\n",
    "import datetime\n",
    "import matplotlib.pyplot as plt\n",
    "import numpy as np\n",
    "from scipy import stats\n",
    "plt.style.use('seaborn-deep')\n",
    "today = datetime.date.today()"
   ]
  },
  {
   "cell_type": "code",
   "execution_count": 2,
   "metadata": {
    "collapsed": true
   },
   "outputs": [],
   "source": [
    "roadmap_path = \"/dors/capra_lab/users/fongsl/roadmap/stringent/\"\n",
    "result_path = \"/dors/capra_lab/users/fongsl/broadly_active_enhancers/data/villar_ref_data/\"\n",
    "os.chdir(result_path)"
   ]
  },
  {
   "cell_type": "code",
   "execution_count": 3,
   "metadata": {
    "collapsed": true
   },
   "outputs": [],
   "source": [
    "# This dataframe is called \"short_vrs\" in the method2_v3.py script\n",
    "\n",
    "vrs = pandas.read_csv('%sshort_villar_x_roadmap_x_species_overlap.csv'%result_path, sep = '\\t')"
   ]
  },
  {
   "cell_type": "code",
   "execution_count": 4,
   "metadata": {
    "collapsed": true
   },
   "outputs": [],
   "source": [
    "#Calculate the percentile of Villar overlap\n",
    "vrs[\"percentile\"]=(vrs[\"sum\"].rank(pct=True)).round(2)"
   ]
  },
  {
   "cell_type": "code",
   "execution_count": 5,
   "metadata": {},
   "outputs": [
    {
     "name": "stdout",
     "output_type": "stream",
     "text": [
      "This is the dataframe of Villar hLiver x Roadmap x Villar species liver activity and alignment peaks \n",
      "\n",
      " #COLUMN HEADERS\n",
      " sum = number of Roadmap samples Villar Overlaps\n",
      " 90_percentile binary. 0= peak not in 90th percentile roadmap peak overlap. 1= peak in 90th percentile roadmap peak overlap\n",
      " act_sp = the number of species with peak activity\n",
      " aln_sp = the number of species with alignable peak-sequences\n",
      " hq = 10 High Quality sequencing datasets\n",
      " inact = species with alignable peak sequences, but no active peaks. \n",
      " length = length of peak \n",
      " percentile = percentile overlap in other roadmap tissues.\n"
     ]
    },
    {
     "data": {
      "text/html": [
       "<div>\n",
       "<style>\n",
       "    .dataframe thead tr:only-child th {\n",
       "        text-align: right;\n",
       "    }\n",
       "\n",
       "    .dataframe thead th {\n",
       "        text-align: left;\n",
       "    }\n",
       "\n",
       "    .dataframe tbody tr th {\n",
       "        vertical-align: top;\n",
       "    }\n",
       "</style>\n",
       "<table border=\"1\" class=\"dataframe\">\n",
       "  <thead>\n",
       "    <tr style=\"text-align: right;\">\n",
       "      <th></th>\n",
       "      <th>v-chr</th>\n",
       "      <th>v-start</th>\n",
       "      <th>v-end</th>\n",
       "      <th>IDs</th>\n",
       "      <th>sum</th>\n",
       "      <th>90_percentile</th>\n",
       "      <th>act_sp</th>\n",
       "      <th>aln_sp</th>\n",
       "      <th>hq_act_sp</th>\n",
       "      <th>hq_aln_sp</th>\n",
       "      <th>aln_inact</th>\n",
       "      <th>hq_aln_inact</th>\n",
       "      <th>length</th>\n",
       "      <th>percentile</th>\n",
       "    </tr>\n",
       "  </thead>\n",
       "  <tbody>\n",
       "    <tr>\n",
       "      <th>0</th>\n",
       "      <td>chr20</td>\n",
       "      <td>270226</td>\n",
       "      <td>272388</td>\n",
       "      <td>hsaH3K27Ac23366</td>\n",
       "      <td>0.0</td>\n",
       "      <td>0.0</td>\n",
       "      <td>2</td>\n",
       "      <td>9</td>\n",
       "      <td>1</td>\n",
       "      <td>7</td>\n",
       "      <td>7</td>\n",
       "      <td>6</td>\n",
       "      <td>2162</td>\n",
       "      <td>0.02</td>\n",
       "    </tr>\n",
       "    <tr>\n",
       "      <th>1</th>\n",
       "      <td>chr10</td>\n",
       "      <td>126076962</td>\n",
       "      <td>126079574</td>\n",
       "      <td>hsaH3K27Ac5900</td>\n",
       "      <td>0.0</td>\n",
       "      <td>0.0</td>\n",
       "      <td>0</td>\n",
       "      <td>0</td>\n",
       "      <td>0</td>\n",
       "      <td>0</td>\n",
       "      <td>0</td>\n",
       "      <td>0</td>\n",
       "      <td>2612</td>\n",
       "      <td>0.02</td>\n",
       "    </tr>\n",
       "    <tr>\n",
       "      <th>2</th>\n",
       "      <td>chr10</td>\n",
       "      <td>123358043</td>\n",
       "      <td>123358739</td>\n",
       "      <td>hsaH3K27Ac5855</td>\n",
       "      <td>0.0</td>\n",
       "      <td>0.0</td>\n",
       "      <td>5</td>\n",
       "      <td>12</td>\n",
       "      <td>2</td>\n",
       "      <td>5</td>\n",
       "      <td>7</td>\n",
       "      <td>3</td>\n",
       "      <td>696</td>\n",
       "      <td>0.02</td>\n",
       "    </tr>\n",
       "    <tr>\n",
       "      <th>3</th>\n",
       "      <td>chr19</td>\n",
       "      <td>7981384</td>\n",
       "      <td>7983285</td>\n",
       "      <td>hsaH3K27Ac18766</td>\n",
       "      <td>0.0</td>\n",
       "      <td>0.0</td>\n",
       "      <td>2</td>\n",
       "      <td>9</td>\n",
       "      <td>2</td>\n",
       "      <td>6</td>\n",
       "      <td>7</td>\n",
       "      <td>4</td>\n",
       "      <td>1901</td>\n",
       "      <td>0.02</td>\n",
       "    </tr>\n",
       "    <tr>\n",
       "      <th>4</th>\n",
       "      <td>chr2</td>\n",
       "      <td>200319976</td>\n",
       "      <td>200321620</td>\n",
       "      <td>hsaH3K27Ac22657</td>\n",
       "      <td>0.0</td>\n",
       "      <td>0.0</td>\n",
       "      <td>3</td>\n",
       "      <td>15</td>\n",
       "      <td>2</td>\n",
       "      <td>8</td>\n",
       "      <td>12</td>\n",
       "      <td>6</td>\n",
       "      <td>1644</td>\n",
       "      <td>0.02</td>\n",
       "    </tr>\n",
       "  </tbody>\n",
       "</table>\n",
       "</div>"
      ],
      "text/plain": [
       "   v-chr    v-start      v-end              IDs  sum  90_percentile  act_sp  \\\n",
       "0  chr20     270226     272388  hsaH3K27Ac23366  0.0            0.0       2   \n",
       "1  chr10  126076962  126079574   hsaH3K27Ac5900  0.0            0.0       0   \n",
       "2  chr10  123358043  123358739   hsaH3K27Ac5855  0.0            0.0       5   \n",
       "3  chr19    7981384    7983285  hsaH3K27Ac18766  0.0            0.0       2   \n",
       "4   chr2  200319976  200321620  hsaH3K27Ac22657  0.0            0.0       3   \n",
       "\n",
       "   aln_sp  hq_act_sp  hq_aln_sp  aln_inact  hq_aln_inact  length  percentile  \n",
       "0       9          1          7          7             6    2162        0.02  \n",
       "1       0          0          0          0             0    2612        0.02  \n",
       "2      12          2          5          7             3     696        0.02  \n",
       "3       9          2          6          7             4    1901        0.02  \n",
       "4      15          2          8         12             6    1644        0.02  "
      ]
     },
     "execution_count": 5,
     "metadata": {},
     "output_type": "execute_result"
    }
   ],
   "source": [
    "print(\"This is the dataframe of Villar hLiver x Roadmap x Villar species liver activity and alignment peaks \\n\\n #COLUMN HEADERS\\n sum = number of Roadmap samples Villar Overlaps\\n 90_percentile binary. 0= peak not in 90th percentile roadmap peak overlap. 1= peak in 90th percentile roadmap peak overlap\")\n",
    "print(\" act_sp = the number of species with peak activity\\n aln_sp = the number of species with alignable peak-sequences\\n hq = 10 High Quality sequencing datasets\\n inact = species with alignable peak sequences, but no active peaks. \\n length = length of peak \\n percentile = percentile overlap in other roadmap tissues.\")\n",
    "vrs.head()\n",
    "#vrs.to_csv(\"%svrs_for_R.csv\" %result_path, index = False, sep = '\\t', header =True)"
   ]
  },
  {
   "cell_type": "code",
   "execution_count": 7,
   "metadata": {},
   "outputs": [
    {
     "name": "stdout",
     "output_type": "stream",
     "text": [
      "    v-chr    v-start      v-end\n",
      "1   chr10  126076962  126079574\n",
      "12   chr2  216876614  216878718\n",
      "19   chr2  220158896  220160527\n",
      "23   chr2  232476494  232480702\n",
      "62  chr19   14317030   14318173\n"
     ]
    }
   ],
   "source": [
    "#Fong analysis - Which peaks in villar are broadly active? In Humans? In all species?\n",
    "#Activity = Some species\n",
    "#Alignable = Some species, not all species?\n",
    "\n",
    "#Human specific peaks\n",
    "#Activity = human only\n",
    "#Alignable= human only\n",
    "aln_h = vrs.loc[vrs[\"hq_aln_sp\"]==vrs[\"hq_aln_sp\"].min()] \n",
    "#aln_h = vrs.loc[vrs[\"aln_sp\"]==vrs[\"aln_sp\"].min()] #this is ANY alignability to ANY species.\n",
    "\n",
    "# save the h-specific coordinates\n",
    "hspecific_out = aln_h[[\"v-chr\", \"v-start\", \"v-end\"]]\n",
    "print(hspecific_out.head())\n",
    "hspecific_out.to_csv(\"%shspecific_villar_bae_hq_aln.bed\"%result_path, index = False, sep = '\\t', header =True)\n",
    "act_h = vrs.loc[vrs[\"hq_act_sp\"]==vrs[\"hq_act_sp\"].min()] "
   ]
  },
  {
   "cell_type": "code",
   "execution_count": null,
   "metadata": {
    "collapsed": true
   },
   "outputs": [],
   "source": [
    "print(len(act_h), \"human-specific activity, +/- alignable to other HQ species. Below is the dataframe.\")\n",
    "act_h.head()"
   ]
  },
  {
   "cell_type": "code",
   "execution_count": null,
   "metadata": {
    "collapsed": true
   },
   "outputs": [],
   "source": [
    "print(len(aln_h), \"human-specific activity, peaks not alignable to other species\")\n",
    "\n",
    "aln_h.head()"
   ]
  },
  {
   "cell_type": "code",
   "execution_count": null,
   "metadata": {
    "collapsed": true
   },
   "outputs": [],
   "source": [
    "#Repeat Alex's results - HUMAN + 9 HQ species\n",
    "#Activity = Human or All species\n",
    "#Alignable = All species\n",
    "fish_df = vrs.loc[vrs[\"hq_aln_sp\"]==vrs[\"hq_aln_sp\"].max()] \n",
    "\n",
    "#Conserved activity\n",
    "#Activity = All species\n",
    "#Alignability = All species\n",
    "fish_c = fish_df.loc[fish_df[\"hq_act_sp\"]==fish_df[\"hq_act_sp\"].max()] \n",
    "\n",
    "#Human-specific\n",
    "#Activity = Human only\n",
    "#alignability = All species \n",
    "fish_h = fish_df.loc[fish_df[\"hq_act_sp\"]==fish_df[\"hq_act_sp\"].min()] # find only HQ species with active ChIP Peaks in humans only.\n",
    "\n",
    "print(\"Let's look at Alex's findings, which looked at enhancers where peaks were alignable in all HQ species\\n\")\n",
    "print(len(fish_df), \"FISH = all alignable peaks among HQ species, regardless of activity\") \n",
    "print(len(fish_c), \"= number of conserved activity in HQ species\")\n",
    "print(len(fish_h), \"= number of human-specific activity, alignable to all HQ species\")\n",
    "\n",
    "fish_df.head()\n",
    "#fish_h.head()"
   ]
  },
  {
   "cell_type": "code",
   "execution_count": null,
   "metadata": {
    "collapsed": true
   },
   "outputs": [],
   "source": [
    "###PIVOT TABLES FOR GRAPHING ###\n",
    "\n",
    "#Fong\n",
    "#Active = Humans + other species\n",
    "#Alignable = 0-9 species \n",
    "act=vrs.pivot(columns='hq_act_sp', values='length') \n",
    "\n",
    "#Active = humans only\n",
    "#Alignable = some species + All 10 species\n",
    "aln_inact=vrs.pivot(columns='hq_aln_inact', values='length')\n",
    "aln_act=vrs.pivot(columns='hq_aln_sp', values='length')\n",
    "\n",
    "#Fong\n",
    "#Sum x length\n",
    "vrs_p= vrs.pivot(columns = \"sum\", values = \"length\")\n",
    "aln_hp= aln_h.pivot(columns = \"sum\", values = \"length\")\n",
    "\n",
    "#Fish\n",
    "#Active = Humans + other species\n",
    "#Alignable = All 10 species\n",
    "fish = fish_df.pivot(columns='hq_act_sp', values='length')\n",
    "\n",
    "#Sum x length\n",
    "fish_p = fish_df.pivot(columns = \"sum\", values = \"length\")\n",
    "fish_hp = fish_h.pivot(columns = \"sum\", values = \"length\")\n",
    "fish_cp = fish_c.pivot(columns = \"sum\", values = \"length\")\n",
    "\n",
    "print(\"example of pivoted table\")\n",
    "vrs_p.head()"
   ]
  },
  {
   "cell_type": "code",
   "execution_count": null,
   "metadata": {
    "collapsed": true
   },
   "outputs": [],
   "source": [
    "#FISH PLOT\n",
    "#Activity = 0-9 species\n",
    "#Alignable = All species\n",
    "\n",
    "#Question - How long are species-specific/ broadly conserved active enhancers whose sequences is conserved across all species?\n",
    "# hypothesis - \n",
    "fig = plt.figure() # Create matplotlib figure\n",
    "\n",
    "ax = fig.add_subplot(111) # Create matplotlib axes\n",
    "\n",
    "width = 0.4\n",
    "\n",
    "fish.plot(kind='box', color='red', ax=ax)\n",
    "plt.yscale('log')\n",
    "\n",
    "ax.set_xlabel('No. Active Species ')\n",
    "ax.set_ylabel('Length of Active Enhancers')\n",
    "ax.set_title(\"Human enhancers\\n Active in all/some/none species\\nAlignable in ALL species\\n Fish results\")\n",
    "\n",
    "print(\"Fish's Results\")\n",
    "plt.show()\n"
   ]
  },
  {
   "cell_type": "code",
   "execution_count": null,
   "metadata": {
    "collapsed": true,
    "scrolled": false
   },
   "outputs": [],
   "source": [
    "#FONG plot\n",
    "#Acivity = 0-9 Species\n",
    "#Alignability = 0-9 species\n",
    "\n",
    "print(\"Question - How long are human active enhancers active also active in N other species?\")\n",
    "\n",
    "print(\"NOTE- THIS ANALYSIS != FISH ANALYSIS. Enhancer sequence does not have to be present in all species.\")\n",
    "\n",
    "#Question - what are is the length of active human enhancers also active in N other species?\n",
    "\n",
    "fig = plt.figure() # Create matplotlib figure\n",
    "\n",
    "ax = fig.add_subplot(221) # Create matplotlib axes\n",
    "\n",
    "width = 0.4\n",
    "\n",
    "bp = act.plot(kind='box', color='blue', ax=ax, figsize =(18,10))\n",
    "plt.yscale('log')\n",
    "ax.set_xlabel('No. Alignable Species +Activity')\n",
    "ax.set_ylabel('Length of Active-Enhancers')\n",
    "ax.set_title(\"Human enhancers \\n Active in N species\\n Alignable in all/some/none species\")\n",
    "\n",
    "plt.show()\n",
    "\n",
    "print(\"Results agree with Fish's results on conserved-alignability v. enhancer activity, but remember, it is not required that active peaks are alignable\")\n",
    "\n",
    "#Question - what are is the length of active human enhancers NOT active, but alignable in other species?\n",
    "fig = plt.figure() # Create matplotlib figure\n",
    "\n",
    "ax = fig.add_subplot(221) # Create matplotlib axes\n",
    "aln_inact.plot(kind='box', color='grey', ax=ax, figsize =(18,10))\n",
    "ax.set_xlabel('No. Alignable Species -Activity')\n",
    "ax.set_ylabel('Length of Enhancers')\n",
    "ax.set_title(\"Human enhancers \\n Active only in humans\\n Alignable in N species\")\n",
    "\n",
    "plt.yscale('log')\n",
    "plt.show()\n",
    "print(\"This plot shows active Human enhancers alignable in other species, but it is required those species do not have enhancer activity\")\n",
    "\n",
    "#Question - what are is the length of active human enhancers NOT active, but alignable in other species?\n",
    "fig = plt.figure() # Create matplotlib figure\n",
    "\n",
    "ax = fig.add_subplot(221) # Create matplotlib axes\n",
    "aln_act.plot(kind='box', color='green', ax=ax, figsize =(18,10))\n",
    "ax.set_xlabel('No. Alignable Species +/-Activity')\n",
    "ax.set_ylabel('Length of Enhancers')\n",
    "ax.set_title(\"Human enhancers \\n *May be* Active in species\\n Alignable in N species\")\n",
    "\n",
    "plt.yscale('log')\n",
    "plt.show()"
   ]
  },
  {
   "cell_type": "code",
   "execution_count": null,
   "metadata": {
    "collapsed": true,
    "scrolled": false
   },
   "outputs": [],
   "source": [
    "#plot sum of tissue overlap x length\n",
    "\n",
    "#PLOT 1 \n",
    "#Question: How long are human-liver villar enhancer peaks and how many roadmap samples are those found in?\n",
    "#hypothesis - these conserved-sequence peaks represent old DNA. The longer they are, the more tissues they overlap.\n",
    "\n",
    "fig = plt.figure() # Create matplotlib figure\n",
    "\n",
    "ax = fig.add_subplot(111) # Create matplotlib axes\n",
    "\n",
    "width = 0.4\n",
    "\n",
    "bp = vrs_p.plot(kind='box', color='black', ax=ax, figsize =(24,12), rot=45 )\n",
    "print(\"n=\", len(vrs_p),\"Human Villar enhancers\")\n",
    "print(\"n=\", len(vrs.loc[vrs[\"sum\"]>=40]),\" broadly active enhancers in Villar\")\n",
    "plt.yscale('log')\n",
    "ax.set_xlabel('No. Active Samples')\n",
    "\n",
    "ax.set_ylabel('Length of Active-Enhancers')\n",
    "ax.set_title(\"Villar all human enhancers \\n No. Roadmap Samples x Length\")\n",
    "#ax2.set_ylabel('Price')\n",
    "\n",
    "plt.show()\n",
    "\n",
    "#PLOT 2 \n",
    "#Question: How long are conserved-sequence peaks and how many roadmap samples are those found in?\n",
    "#hypothesis - these conserved-sequence peaks represent old DNA. The longer they are, the more tissues they overlap.\n",
    "\n",
    "fig = plt.figure()\n",
    "ax = fig.add_subplot(111) # Create matplotlib axes\n",
    "\n",
    "width = 0.4\n",
    "\n",
    "bp = fish_p.plot(kind='box', color='red', ax=ax, figsize =(24,12), rot=45 )\n",
    "\n",
    "print(\"n=\", len(fish_p),\" enhancers alignable in all 10 species\")\n",
    "print(\"n=\", len(fish_df.loc[fish_df[\"sum\"]>=40]),\" broadly active enhancers alignable in all 10 species\")\n",
    "plt.yscale('log')\n",
    "ax.set_xlabel('No. Active Samples')\n",
    "\n",
    "ax.set_ylabel('Length of Active-Enhancers')\n",
    "ax.set_title(\"Villar human enhancers in FISH-Analysis \\n No. Roadmap Samples x Length\")\n",
    "#ax2.set_ylabel('Price')\n",
    "\n",
    "plt.show()\n",
    "\n",
    "#PLOT 3 \n",
    "#Question: How long are Human-only alignable peaks and how many roadmap samples are those found in?\n",
    "#hypothesis - these human-only alignments represent young DNA. The longer they are, the more tissues they overlap.\n",
    "fig = plt.figure()\n",
    "ax = fig.add_subplot(111) # Create matplotlib axes\n",
    "\n",
    "width = 0.4\n",
    "\n",
    "bp = aln_hp.plot(kind='box', color='purple', ax=ax, figsize =(24,12), rot=45)\n",
    "\n",
    "print(\"n=\", len(aln_hp),\" enhancers not alignable in any 9 non-human species\")\n",
    "print(\"n=\", len(aln_h.loc[aln_h[\"sum\"]>=40]),\" broadly active enhancers not alignable in any 9 non-human species\")\n",
    "plt.yscale('log')\n",
    "ax.set_xlabel('No. Active Samples')\n",
    "\n",
    "ax.set_ylabel('Length of Active-Enhancers')\n",
    "ax.set_title(\"Villar human enhancers NOT alignable in other species \\n No. Roadmap Samples x Length\")\n",
    "#ax2.set_ylabel('Price')\n",
    "\n",
    "plt.show()\n",
    "print(\"enhancers active in more roadmap samples are longer fragments regardless of conservation status\")\n",
    "print(\"Next steps: sarah is running permutation tests in 0-25%, 25-50%, 50-75%, 75-90%, 90% to understand background length association\")\n",
    "\n"
   ]
  },
  {
   "cell_type": "code",
   "execution_count": null,
   "metadata": {
    "collapsed": true
   },
   "outputs": [],
   "source": [
    "# Question- what is the length of the longest/ shortest Broadly Active Enhancers\n",
    "sumdf = vrs[[\"sum\",\"hq_aln_sp\", \"hq_act_sp\", \"length\"]].loc[vrs[\"sum\"]>=40]\n",
    "print(sumdf[\"length\"].max(), \"length of max broadly active peak\")\n",
    "print(sumdf[\"length\"].min(),\"length of min broadly active peak\")\n",
    "sumdfp = sumdf.pivot(columns='hq_act_sp', values='length')\n",
    "sumdfpl = sumdf.pivot(columns='hq_aln_sp', values='length')"
   ]
  },
  {
   "cell_type": "code",
   "execution_count": 39,
   "metadata": {},
   "outputs": [
    {
     "data": {
      "text/plain": [
       "26088    4871\n",
       "26089    7943\n",
       "26090    6973\n",
       "26091    5046\n",
       "26092    7093\n",
       "Name: length, dtype: int64"
      ]
     },
     "execution_count": 39,
     "metadata": {},
     "output_type": "execute_result"
    }
   ],
   "source": [
    "# subset data into percentiles\n",
    "vrs_0 = vrs.loc[vrs[\"sum\"]<0.25] # sum = the number of overlapping roadmap tissues\n",
    "vrs_0a = vrs_0[\"length\"]\n",
    "\n",
    "\n",
    "vrs_25 = vrs.loc[vrs[\"percentile\"]>=0.25]\n",
    "vrs_25 = vrs_25.loc[vrs_25[\"percentile\"]<0.5]\n",
    "\n",
    "vrs_50 = vrs.loc[vrs[\"percentile\"]>=0.5]\n",
    "vrs_50 = vrs_50.loc[vrs_50[\"percentile\"]<0.75]\n",
    "\n",
    "vrs_75 = vrs.loc[vrs[\"percentile\"]>=0.75]\n",
    "vrs_75 = vrs_75.loc[vrs_75[\"percentile\"]<0.90]\n",
    "\n",
    "vrs_90 = vrs.loc[vrs[\"percentile\"]>=0.90]\n",
    "\n",
    "bins = [vrs_0[\"length\"], vrs_25[\"length\"], vrs_50[\"length\"], vrs_75[\"length\"], vrs_90[\"length\"]]\n",
    "vrs_90[\"length\"].head()"
   ]
  },
  {
   "cell_type": "code",
   "execution_count": 65,
   "metadata": {},
   "outputs": [
    {
     "name": "stdout",
     "output_type": "stream",
     "text": [
      "At this point. I'm abandoning ship and plotting my ship in R.\n"
     ]
    },
    {
     "data": {
      "image/png": "[encoded data removed]",
      "text/plain": [
       "<matplotlib.figure.Figure at 0x7f3922f122e8>"
      ]
     },
     "metadata": {},
     "output_type": "display_data"
    }
   ],
   "source": [
    "print(\"At this point. I'm abandoning ship and plotting my ship in R.\")\n",
    "fig = plt.figure()\n",
    "ax = plt.axes()\n",
    "\n",
    "A = vrs_90[\"sum\"]\n",
    "B = vrs_50[\"sum\"]\n",
    "A.plot(kind = 'box', layout = (2,1))\n",
    "B.plot(kind = 'box', layout = (2,1))\n",
    "data = [A,B]\n",
    "\n",
    "plt.show()\n",
    "\n",
    "#vrs[\"sum\"].boxplot(by = \"percentile\")\n",
    "plt.show()\n",
    "#ax = fig.add_subplot(2,2,1)\n",
    "#bp = boxplot(a, positions = [0], widths = 0.6)"
   ]
  },
  {
   "cell_type": "code",
   "execution_count": null,
   "metadata": {
    "collapsed": true
   },
   "outputs": [],
   "source": [
    "# Export peaks subsetted as percentiles\n",
    "#Make .bed files for permutation tests.\n",
    "dtype = ['act_sp', 'aln_sp', 'hq_act_sp', 'hq_aln_sp']\n",
    "dtype = ['hq_aln_sp']\n",
    "nd = {0:\"vrs_0-24\", 1:\"vrs_25-49\", 2:\"vrs_50-74\",3:\"vrs_75-90\", 4:\"vrs_90\"}\n",
    "\n",
    "for item in dtype:\n",
    "    val = 0 \n",
    "    for binn in bins: \n",
    "        name = nd[val]\n",
    "        roadmap = binn[[\"v-chr\", \"v-start\", \"v-end\"]]\n",
    "        roadmap.to_csv(\"%s/permutations/roadmap_%s.bed\" %(result_path, name), sep = '\\t', index = False, header = False)\n",
    "        hspec = binn[[\"v-chr\", \"v-start\", \"v-end\"]].loc[binn['%s' %item] == 0]\n",
    "        hspec.to_csv(\"%s/permutations/hspec_%s_%s.bed\" %(result_path, name, item), sep = '\\t', index = False, header = False)\n",
    "        consv = binn[[\"v-chr\", \"v-start\", \"v-end\"]].loc[binn['%s'%item] > 0]\n",
    "        consv.to_csv(\"%s/permutations/consv_%s_%s_species_overlap.bed\" %(result_path, name ,item), sep = '\\t', index = False, header = False)\n",
    "        val = val +1"
   ]
  }
 ],
 "metadata": {
  "kernelspec": {
   "display_name": "Python 3",
   "language": "python",
   "name": "python3"
  },
  "language_info": {
   "codemirror_mode": {
    "name": "ipython",
    "version": 3
   },
   "file_extension": ".py",
   "mimetype": "text/x-python",
   "name": "python",
   "nbconvert_exporter": "python",
   "pygments_lexer": "ipython3",
   "version": "3.6.1"
  }
 },
 "nbformat": 4,
 "nbformat_minor": 2
}
