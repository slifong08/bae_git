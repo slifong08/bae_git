{
 "cells": [
  {
   "cell_type": "code",
   "execution_count": null,
   "metadata": {
    "collapsed": true
   },
   "outputs": [],
   "source": [
    "#180716\n",
    "\n",
    "#!/usr/bin/python\n",
    "\n",
    "#sarahfong\n",
    "\n",
    "#biopython is loaded in the sf_test env with 'conda install -c bioconda biopython'\n",
    "\n",
    "# The purpose of this script is to splite each roadmap sample enhancer dataset into chromosomes \n",
    "#and intersect them against Hg38 100way MultiZ synteny blocks."
   ]
  },
  {
   "cell_type": "code",
   "execution_count": 61,
   "metadata": {
    "collapsed": true
   },
   "outputs": [],
   "source": [
    "import sys, os\n",
    "import subprocess\n",
    "import glob\n",
    "import timeit"
   ]
  },
  {
   "cell_type": "code",
   "execution_count": null,
   "metadata": {},
   "outputs": [],
   "source": [
    "# load the bedtools module\n",
    "#os.system(\"ml restore bedR_ml\")"
   ]
  },
  {
   "cell_type": "code",
   "execution_count": 2,
   "metadata": {
    "collapsed": true
   },
   "outputs": [],
   "source": [
    "# this directory contains the .bed files of all human-specific coordinates of the genome. \n",
    "hg38_dir = \"/dors/capra_lab/users/fongsl/broadly_active_enhancers/data/hg38_human_specific_coordinates/\""
   ]
  },
  {
   "cell_type": "code",
   "execution_count": 3,
   "metadata": {},
   "outputs": [
    {
     "name": "stdout",
     "output_type": "stream",
     "text": [
      "dict_keys(['chr16', 'chr22', 'chr5', 'chrM', 'chr2', 'chr21', 'chr18', 'chr3', 'chr6', 'chr13', 'chr4', 'chr19', 'chr9', 'chr10', 'chr14', 'chr8', 'chr12', 'chr15', 'chr7', 'chr17', 'chr1', 'chr11', 'chr20'])\n"
     ]
    }
   ],
   "source": [
    "# get hg19 human specific bed files\n",
    "hg38_list = glob.glob(\"%shg38_species*.bed\" % hg38_dir)\n",
    "hg38_dict = {(((i.split(\"/\")[-1])).split(\"_\")[-1]).split(\".\")[0]: i for i in hg38_list} # {chr:/file/path/chr.bed}\n",
    "print(hg38_dict.keys())"
   ]
  },
  {
   "cell_type": "code",
   "execution_count": 56,
   "metadata": {
    "collapsed": true
   },
   "outputs": [],
   "source": [
    "# get roadmap functional enhancers bed files\n",
    "bedpath = '/dors/capra_lab/users/fongsl/roadmap/hg38_2018-06-20/'\n",
    "os.chdir(bedpath)"
   ]
  },
  {
   "cell_type": "code",
   "execution_count": 57,
   "metadata": {},
   "outputs": [],
   "source": [
    "bed_list = glob.glob(\"%sHsap_H3K27ac_plus_H3K4me3_minus_*.bed\"% bedpath)\n",
    "\n",
    "bed_dict = {(i.split(\"/\")[-1]).split(\"_\")[-1]: i for i in bed_list} # {chr:/file/path/chr.bed}"
   ]
  },
  {
   "cell_type": "code",
   "execution_count": 62,
   "metadata": {},
   "outputs": [],
   "source": [
    "# make a function to split bedfiles by chromosome for intersection with synteny blocks.\n",
    "def synteny_query(sample, bedfile):\n",
    "\n",
    "    start = timeit.default_timer()\n",
    "    \n",
    "    # split up the bedfile by chromosome to intersect with synteny blocks.\n",
    "    awk_cmd='awk -F, \\'{print > $1\\\".bed\\\"}\\' FS=\"\\\\t\" %s' % bedfile#.split(\"/\")[-1]\n",
    "    subprocess.call(awk_cmd, shell=True)\n",
    "\n",
    "    #concatenate the chromosome files we just split up. \n",
    "    chr_files=glob.glob(\"%schr*\" %bedpath)\n",
    "    sample = sample.split(\".\")[0]\n",
    "    print(\"working on sample \", sample)\n",
    "    \n",
    "    for b_file in chr_files: \n",
    "        # prepare to cross the enhancer dataset with the 100way multiZ synteny block\n",
    "        b_chr = (b_file.split(\"/\")[-1]).split(\".\")[0]\n",
    "\n",
    "        if b_chr in hg38_dict.keys():\n",
    "\n",
    "            # find the synteny block BED file to compare. \n",
    "            hg38_file = hg38_dict[b_chr]\n",
    "\n",
    "            #make an intersection file\n",
    "            outfile = \"%s%s_%s_x_100way.bed\" %(bedpath, b_chr, sample)\n",
    "    \n",
    "            # BED intersect where every single base-pair overlap is accounted for.\n",
    "            bed_cmd = \"bedtools intersect -a %s -b %s -wao > %s\" %(b_file, hg38_file, outfile)\n",
    "            #print(bed_cmd)\n",
    "            os.system(bed_cmd)\n",
    "\n",
    "        # toss the alternative and unalignable regions of the human genome\n",
    "        clean_up = \"rm %s\" % b_file\n",
    "#        print(clean_up)\n",
    "        os.system(clean_up)\n",
    "\n",
    "    #concatenate all of the chromosomes back together. \n",
    "    concat_cmd = \"cat %schr*_%s_x_100way.bed > %senh_x_hg38_100way/%s_x_100way.bed\"% (bedpath, sample, bedpath, sample)\n",
    "    print(concat_cmd)\n",
    "    os.system(concat_cmd)\n",
    "\n",
    "    #remove the chromosome files for a single bedfile\n",
    "    rm_cmd = \"rm %schr*.bed\" % bedpath\n",
    "    print(rm_cmd)\n",
    "    os.system(rm_cmd)\n",
    "    \n",
    "    stop = timeit.default_timer()\n",
    "    print(\"it took this many seconds to process sample \", stop-start)"
   ]
  },
  {
   "cell_type": "code",
   "execution_count": 63,
   "metadata": {},
   "outputs": [
    {
     "name": "stdout",
     "output_type": "stream",
     "text": [
      "27979431.75895457\n",
      "rm /dors/capra_lab/users/fongsl/roadmap/hg38_2018-06-20/chr5.bed\n",
      "rm /dors/capra_lab/users/fongsl/roadmap/hg38_2018-06-20/chrX.bed\n",
      "rm /dors/capra_lab/users/fongsl/roadmap/hg38_2018-06-20/chr12.bed\n",
      "rm /dors/capra_lab/users/fongsl/roadmap/hg38_2018-06-20/chr6.bed\n",
      "rm /dors/capra_lab/users/fongsl/roadmap/hg38_2018-06-20/chrY.bed\n",
      "rm /dors/capra_lab/users/fongsl/roadmap/hg38_2018-06-20/chr11.bed\n",
      "rm /dors/capra_lab/users/fongsl/roadmap/hg38_2018-06-20/chr7.bed\n",
      "rm /dors/capra_lab/users/fongsl/roadmap/hg38_2018-06-20/chr22.bed\n",
      "rm /dors/capra_lab/users/fongsl/roadmap/hg38_2018-06-20/chr20.bed\n",
      "rm /dors/capra_lab/users/fongsl/roadmap/hg38_2018-06-20/chr17.bed\n",
      "rm /dors/capra_lab/users/fongsl/roadmap/hg38_2018-06-20/chr8.bed\n",
      "rm /dors/capra_lab/users/fongsl/roadmap/hg38_2018-06-20/chr19.bed\n",
      "rm /dors/capra_lab/users/fongsl/roadmap/hg38_2018-06-20/chr18.bed\n",
      "rm /dors/capra_lab/users/fongsl/roadmap/hg38_2018-06-20/chr15.bed\n",
      "rm /dors/capra_lab/users/fongsl/roadmap/hg38_2018-06-20/chr9.bed\n",
      "rm /dors/capra_lab/users/fongsl/roadmap/hg38_2018-06-20/chr1.bed\n",
      "rm /dors/capra_lab/users/fongsl/roadmap/hg38_2018-06-20/chr14.bed\n",
      "rm /dors/capra_lab/users/fongsl/roadmap/hg38_2018-06-20/chr16.bed\n",
      "rm /dors/capra_lab/users/fongsl/roadmap/hg38_2018-06-20/chr13.bed\n",
      "rm /dors/capra_lab/users/fongsl/roadmap/hg38_2018-06-20/chr2.bed\n",
      "rm /dors/capra_lab/users/fongsl/roadmap/hg38_2018-06-20/chr21.bed\n",
      "rm /dors/capra_lab/users/fongsl/roadmap/hg38_2018-06-20/chr3.bed\n",
      "rm /dors/capra_lab/users/fongsl/roadmap/hg38_2018-06-20/chr10.bed\n",
      "rm /dors/capra_lab/users/fongsl/roadmap/hg38_2018-06-20/chr4.bed\n",
      "cat /dors/capra_lab/users/fongsl/roadmap/hg38_2018-06-20/chr*_UBERON0002967_x_100way.bed > /dors/capra_lab/users/fongsl/roadmap/hg38_2018-06-20/enh_x_hg38_100way/UBERON0002967_x_100way.bed\n",
      "rm /dors/capra_lab/users/fongsl/roadmap/hg38_2018-06-20/chr*.bed\n",
      "578.2709831632674\n"
     ]
    }
   ],
   "source": [
    "for sample, bedfile in bed_dict.items():\n",
    "    synteny_query(sample, bedfile)\n"
   ]
  }
 ],
 "metadata": {
  "kernelspec": {
   "display_name": "Python 3",
   "language": "python",
   "name": "python3"
  },
  "language_info": {
   "codemirror_mode": {
    "name": "ipython",
    "version": 3
   },
   "file_extension": ".py",
   "mimetype": "text/x-python",
   "name": "python",
   "nbconvert_exporter": "python",
   "pygments_lexer": "ipython3",
   "version": "3.6.1"
  }
 },
 "nbformat": 4,
 "nbformat_minor": 2
}
