{
 "cells": [
  {
   "cell_type": "code",
   "execution_count": null,
   "metadata": {
    "collapsed": true
   },
   "outputs": [],
   "source": [
    "#180607\n",
    "\n",
    "#!/bin/python\n",
    "\n",
    "#sarahfong\n",
    "#biopython is loaded in the sf_test env with 'conda install -c bioconda biopython'"
   ]
  },
  {
   "cell_type": "code",
   "execution_count": 1,
   "metadata": {
    "collapsed": true
   },
   "outputs": [],
   "source": [
    "import sys, os\n",
    "import glob"
   ]
  },
  {
   "cell_type": "code",
   "execution_count": null,
   "metadata": {},
   "outputs": [],
   "source": [
    "# load the bedtools module\n",
    "os.system(\"ml restore bed_ml\")\n",
    "#os.system(\"ml load GCC/5.4.0-2.26\")\n",
    "#os.system(\"ml load Intel/2016.3.210-GCC-5.4.0-2.26\")\n",
    "#os.system(\"ml load BEDTools/2.26.0\")"
   ]
  },
  {
   "cell_type": "code",
   "execution_count": 2,
   "metadata": {
    "collapsed": true
   },
   "outputs": [],
   "source": [
    "# this directory contains the .bed files of all human-specific coordinates of the genome. \n",
    "hg19_dir = \"/dors/capra_lab/users/fongsl/broadly_active_enhancers/data/hg19_human_specific_coordinates/\""
   ]
  },
  {
   "cell_type": "code",
   "execution_count": 3,
   "metadata": {},
   "outputs": [
    {
     "name": "stdout",
     "output_type": "stream",
     "text": [
      "dict_keys(['chr4', 'chr15', 'chr1', 'chr18', 'chr7', 'chr13', 'chr17', 'chr21', 'chr11', 'chr5', 'chr12', 'chr22', 'chr16', 'chr19', 'chr14', 'chr10', 'chr8', 'chr20', 'chr6', 'chr2', 'chr9', 'chr3', 'chrX'])\n"
     ]
    }
   ],
   "source": [
    "# get 46-way hg19 human specific bed files\n",
    "hg19_46way_list = glob.glob(\"%shg19*.bed\" % hg19_dir)\n",
    "hg19_46way_dict = {(((i.split(\"/\")[-1])).split(\"_\")[-1]).split(\".\")[0]: i for i in hg19_46way_list} # {chr:/file/path/chr.bed}\n",
    "print(hg19_46way_dict.keys())"
   ]
  },
  {
   "cell_type": "code",
   "execution_count": 4,
   "metadata": {},
   "outputs": [
    {
     "name": "stdout",
     "output_type": "stream",
     "text": [
      "dict_keys(['chr19', 'chr4', 'chr21', 'chr14', 'chr10', 'chr18', 'chr1', 'chr13', 'chr11', 'chrX', 'chr6', 'chr9', 'chr15', 'chr12', 'chr3', 'chr8', 'chr16', 'chr20', 'chr22', 'chr2', 'chr7', 'chr5', 'chr17'])\n"
     ]
    }
   ],
   "source": [
    "# get villar human specific bed files\n",
    "hvillarpath = '/dors/capra_lab/users/fongsl/broadly_active_enhancers/data/villar_ref_data/'\n",
    "hvillar_list = glob.glob(\"%schr*.bed\"% hvillarpath)\n",
    "hvillar_dict = {(i.split(\"/\")[-1]).split(\"_\")[0]: i for i in hvillar_list} # {chr:/file/villarpath/chr.bed}\n",
    "print(hvillar_dict.keys())"
   ]
  },
  {
   "cell_type": "code",
   "execution_count": null,
   "metadata": {
    "scrolled": false
   },
   "outputs": [],
   "source": [
    "#villar x 46-way human-specific BEDtools intersection\n",
    "\n",
    "for v_chr, v_file in hvillar_dict.items():\n",
    "    print(v_chr)\n",
    "    if v_chr in hg19_46way_dict.keys():\n",
    "        hg19_file = hg19_46way_dict[v_chr]\n",
    "        outfile = \"%svillar_maf/%s_hspec_x_hg19-46way.bed\" %(hvillarpath, v_chr)\n",
    "        \n",
    "        bed_cmd = \"bedtools intersect -a %s -b %s > %s\" %(v_file, hg19_file, outfile)\n",
    "        print(bed_cmd)\n",
    "        os.system(bed_cmd)\n",
    "        "
   ]
  },
  {
   "cell_type": "code",
   "execution_count": 11,
   "metadata": {},
   "outputs": [
    {
     "name": "stdout",
     "output_type": "stream",
     "text": [
      "dict_keys(['chr20', 'chr5', 'chr22', 'chr11', 'chr16', 'chr10', 'chr13', 'chr21', 'chr17', 'chr7', 'chr1', 'chr3', 'chr8', 'chrX', 'chr19', 'chr2', 'chr18', 'chr6', 'chr14', 'chr12', 'chr9', 'chr4', 'chr15'])\n"
     ]
    }
   ],
   "source": [
    "#get 9-way bed-files has species counts # THIS IS NOT HUMAN-SPECIFIC. \n",
    "#NEED TO RUN THE analyze_hg19_villar_spec_overlap_r.ipynb TO PARSE THE OUTPUT FILES\n",
    "nineway_dir = \"/dors/capra_lab/users/fongsl/broadly_active_enhancers/data/hg19_villar/\"\n",
    "\n",
    "hg19_9way_list = glob.glob(\"%shg19_villar_species_v_human_chr*.bed\" % nineway_dir)\n",
    "hg19_9way_dict = {(((i.split(\"/\")[-1])).split(\"_\")[-1]).split(\".\")[0]: i for i in hg19_9way_list} # {chr:/file/path/chr.bed}\n",
    "\n",
    "print(hg19_9way_dict.keys())"
   ]
  },
  {
   "cell_type": "code",
   "execution_count": 12,
   "metadata": {
    "scrolled": false
   },
   "outputs": [
    {
     "name": "stdout",
     "output_type": "stream",
     "text": [
      "chr19\n",
      "bedtools intersect -a /dors/capra_lab/users/fongsl/broadly_active_enhancers/data/villar_ref_data/chr19_hspecific_villar_bae_hq_aln.bed -b /dors/capra_lab/users/fongsl/broadly_active_enhancers/data/hg19_villar/hg19_villar_species_v_human_chr19.bed -wao > /dors/capra_lab/users/fongsl/broadly_active_enhancers/data/villar_ref_data/villar_maf/chr19_hspec_x_hg19-9way.bed\n",
      "chr4\n",
      "bedtools intersect -a /dors/capra_lab/users/fongsl/broadly_active_enhancers/data/villar_ref_data/chr4_hspecific_villar_bae_hq_aln.bed -b /dors/capra_lab/users/fongsl/broadly_active_enhancers/data/hg19_villar/hg19_villar_species_v_human_chr4.bed -wao > /dors/capra_lab/users/fongsl/broadly_active_enhancers/data/villar_ref_data/villar_maf/chr4_hspec_x_hg19-9way.bed\n",
      "chr21\n",
      "bedtools intersect -a /dors/capra_lab/users/fongsl/broadly_active_enhancers/data/villar_ref_data/chr21_hspecific_villar_bae_hq_aln.bed -b /dors/capra_lab/users/fongsl/broadly_active_enhancers/data/hg19_villar/hg19_villar_species_v_human_chr21.bed -wao > /dors/capra_lab/users/fongsl/broadly_active_enhancers/data/villar_ref_data/villar_maf/chr21_hspec_x_hg19-9way.bed\n",
      "chr14\n",
      "bedtools intersect -a /dors/capra_lab/users/fongsl/broadly_active_enhancers/data/villar_ref_data/chr14_hspecific_villar_bae_hq_aln.bed -b /dors/capra_lab/users/fongsl/broadly_active_enhancers/data/hg19_villar/hg19_villar_species_v_human_chr14.bed -wao > /dors/capra_lab/users/fongsl/broadly_active_enhancers/data/villar_ref_data/villar_maf/chr14_hspec_x_hg19-9way.bed\n",
      "chr10\n",
      "bedtools intersect -a /dors/capra_lab/users/fongsl/broadly_active_enhancers/data/villar_ref_data/chr10_hspecific_villar_bae_hq_aln.bed -b /dors/capra_lab/users/fongsl/broadly_active_enhancers/data/hg19_villar/hg19_villar_species_v_human_chr10.bed -wao > /dors/capra_lab/users/fongsl/broadly_active_enhancers/data/villar_ref_data/villar_maf/chr10_hspec_x_hg19-9way.bed\n",
      "chr18\n",
      "bedtools intersect -a /dors/capra_lab/users/fongsl/broadly_active_enhancers/data/villar_ref_data/chr18_hspecific_villar_bae_hq_aln.bed -b /dors/capra_lab/users/fongsl/broadly_active_enhancers/data/hg19_villar/hg19_villar_species_v_human_chr18.bed -wao > /dors/capra_lab/users/fongsl/broadly_active_enhancers/data/villar_ref_data/villar_maf/chr18_hspec_x_hg19-9way.bed\n",
      "chr1\n",
      "bedtools intersect -a /dors/capra_lab/users/fongsl/broadly_active_enhancers/data/villar_ref_data/chr1_hspecific_villar_bae_hq_aln.bed -b /dors/capra_lab/users/fongsl/broadly_active_enhancers/data/hg19_villar/hg19_villar_species_v_human_chr1.bed -wao > /dors/capra_lab/users/fongsl/broadly_active_enhancers/data/villar_ref_data/villar_maf/chr1_hspec_x_hg19-9way.bed\n",
      "chr13\n",
      "bedtools intersect -a /dors/capra_lab/users/fongsl/broadly_active_enhancers/data/villar_ref_data/chr13_hspecific_villar_bae_hq_aln.bed -b /dors/capra_lab/users/fongsl/broadly_active_enhancers/data/hg19_villar/hg19_villar_species_v_human_chr13.bed -wao > /dors/capra_lab/users/fongsl/broadly_active_enhancers/data/villar_ref_data/villar_maf/chr13_hspec_x_hg19-9way.bed\n",
      "chr11\n",
      "bedtools intersect -a /dors/capra_lab/users/fongsl/broadly_active_enhancers/data/villar_ref_data/chr11_hspecific_villar_bae_hq_aln.bed -b /dors/capra_lab/users/fongsl/broadly_active_enhancers/data/hg19_villar/hg19_villar_species_v_human_chr11.bed -wao > /dors/capra_lab/users/fongsl/broadly_active_enhancers/data/villar_ref_data/villar_maf/chr11_hspec_x_hg19-9way.bed\n",
      "chrX\n",
      "bedtools intersect -a /dors/capra_lab/users/fongsl/broadly_active_enhancers/data/villar_ref_data/chrX_hspecific_villar_bae_hq_aln.bed -b /dors/capra_lab/users/fongsl/broadly_active_enhancers/data/hg19_villar/hg19_villar_species_v_human_chrX.bed -wao > /dors/capra_lab/users/fongsl/broadly_active_enhancers/data/villar_ref_data/villar_maf/chrX_hspec_x_hg19-9way.bed\n",
      "chr6\n",
      "bedtools intersect -a /dors/capra_lab/users/fongsl/broadly_active_enhancers/data/villar_ref_data/chr6_hspecific_villar_bae_hq_aln.bed -b /dors/capra_lab/users/fongsl/broadly_active_enhancers/data/hg19_villar/hg19_villar_species_v_human_chr6.bed -wao > /dors/capra_lab/users/fongsl/broadly_active_enhancers/data/villar_ref_data/villar_maf/chr6_hspec_x_hg19-9way.bed\n",
      "chr9\n",
      "bedtools intersect -a /dors/capra_lab/users/fongsl/broadly_active_enhancers/data/villar_ref_data/chr9_hspecific_villar_bae_hq_aln.bed -b /dors/capra_lab/users/fongsl/broadly_active_enhancers/data/hg19_villar/hg19_villar_species_v_human_chr9.bed -wao > /dors/capra_lab/users/fongsl/broadly_active_enhancers/data/villar_ref_data/villar_maf/chr9_hspec_x_hg19-9way.bed\n",
      "chr15\n",
      "bedtools intersect -a /dors/capra_lab/users/fongsl/broadly_active_enhancers/data/villar_ref_data/chr15_hspecific_villar_bae_hq_aln.bed -b /dors/capra_lab/users/fongsl/broadly_active_enhancers/data/hg19_villar/hg19_villar_species_v_human_chr15.bed -wao > /dors/capra_lab/users/fongsl/broadly_active_enhancers/data/villar_ref_data/villar_maf/chr15_hspec_x_hg19-9way.bed\n",
      "chr12\n",
      "bedtools intersect -a /dors/capra_lab/users/fongsl/broadly_active_enhancers/data/villar_ref_data/chr12_hspecific_villar_bae_hq_aln.bed -b /dors/capra_lab/users/fongsl/broadly_active_enhancers/data/hg19_villar/hg19_villar_species_v_human_chr12.bed -wao > /dors/capra_lab/users/fongsl/broadly_active_enhancers/data/villar_ref_data/villar_maf/chr12_hspec_x_hg19-9way.bed\n",
      "chr3\n",
      "bedtools intersect -a /dors/capra_lab/users/fongsl/broadly_active_enhancers/data/villar_ref_data/chr3_hspecific_villar_bae_hq_aln.bed -b /dors/capra_lab/users/fongsl/broadly_active_enhancers/data/hg19_villar/hg19_villar_species_v_human_chr3.bed -wao > /dors/capra_lab/users/fongsl/broadly_active_enhancers/data/villar_ref_data/villar_maf/chr3_hspec_x_hg19-9way.bed\n",
      "chr8\n",
      "bedtools intersect -a /dors/capra_lab/users/fongsl/broadly_active_enhancers/data/villar_ref_data/chr8_hspecific_villar_bae_hq_aln.bed -b /dors/capra_lab/users/fongsl/broadly_active_enhancers/data/hg19_villar/hg19_villar_species_v_human_chr8.bed -wao > /dors/capra_lab/users/fongsl/broadly_active_enhancers/data/villar_ref_data/villar_maf/chr8_hspec_x_hg19-9way.bed\n",
      "chr16\n",
      "bedtools intersect -a /dors/capra_lab/users/fongsl/broadly_active_enhancers/data/villar_ref_data/chr16_hspecific_villar_bae_hq_aln.bed -b /dors/capra_lab/users/fongsl/broadly_active_enhancers/data/hg19_villar/hg19_villar_species_v_human_chr16.bed -wao > /dors/capra_lab/users/fongsl/broadly_active_enhancers/data/villar_ref_data/villar_maf/chr16_hspec_x_hg19-9way.bed\n",
      "chr20\n",
      "bedtools intersect -a /dors/capra_lab/users/fongsl/broadly_active_enhancers/data/villar_ref_data/chr20_hspecific_villar_bae_hq_aln.bed -b /dors/capra_lab/users/fongsl/broadly_active_enhancers/data/hg19_villar/hg19_villar_species_v_human_chr20.bed -wao > /dors/capra_lab/users/fongsl/broadly_active_enhancers/data/villar_ref_data/villar_maf/chr20_hspec_x_hg19-9way.bed\n",
      "chr22\n",
      "bedtools intersect -a /dors/capra_lab/users/fongsl/broadly_active_enhancers/data/villar_ref_data/chr22_hspecific_villar_bae_hq_aln.bed -b /dors/capra_lab/users/fongsl/broadly_active_enhancers/data/hg19_villar/hg19_villar_species_v_human_chr22.bed -wao > /dors/capra_lab/users/fongsl/broadly_active_enhancers/data/villar_ref_data/villar_maf/chr22_hspec_x_hg19-9way.bed\n",
      "chr2\n",
      "bedtools intersect -a /dors/capra_lab/users/fongsl/broadly_active_enhancers/data/villar_ref_data/chr2_hspecific_villar_bae_hq_aln.bed -b /dors/capra_lab/users/fongsl/broadly_active_enhancers/data/hg19_villar/hg19_villar_species_v_human_chr2.bed -wao > /dors/capra_lab/users/fongsl/broadly_active_enhancers/data/villar_ref_data/villar_maf/chr2_hspec_x_hg19-9way.bed\n",
      "chr7\n",
      "bedtools intersect -a /dors/capra_lab/users/fongsl/broadly_active_enhancers/data/villar_ref_data/chr7_hspecific_villar_bae_hq_aln.bed -b /dors/capra_lab/users/fongsl/broadly_active_enhancers/data/hg19_villar/hg19_villar_species_v_human_chr7.bed -wao > /dors/capra_lab/users/fongsl/broadly_active_enhancers/data/villar_ref_data/villar_maf/chr7_hspec_x_hg19-9way.bed\n",
      "chr5\n",
      "bedtools intersect -a /dors/capra_lab/users/fongsl/broadly_active_enhancers/data/villar_ref_data/chr5_hspecific_villar_bae_hq_aln.bed -b /dors/capra_lab/users/fongsl/broadly_active_enhancers/data/hg19_villar/hg19_villar_species_v_human_chr5.bed -wao > /dors/capra_lab/users/fongsl/broadly_active_enhancers/data/villar_ref_data/villar_maf/chr5_hspec_x_hg19-9way.bed\n",
      "chr17\n",
      "bedtools intersect -a /dors/capra_lab/users/fongsl/broadly_active_enhancers/data/villar_ref_data/chr17_hspecific_villar_bae_hq_aln.bed -b /dors/capra_lab/users/fongsl/broadly_active_enhancers/data/hg19_villar/hg19_villar_species_v_human_chr17.bed -wao > /dors/capra_lab/users/fongsl/broadly_active_enhancers/data/villar_ref_data/villar_maf/chr17_hspec_x_hg19-9way.bed\n"
     ]
    }
   ],
   "source": [
    "#villar human-specific broadly active enhancers x 9-way human-specific BEDtools intersection\n",
    "\n",
    "for v_chr, v_file in hvillar_dict.items():\n",
    "    print(v_chr)\n",
    "    if v_chr in hg19_9way_dict.keys():\n",
    "        hg19_file = hg19_9way_dict[v_chr]\n",
    "        outfile = \"%svillar_maf/%s_hspec_x_hg19-9way.bed\" %(hvillarpath, v_chr)\n",
    "        \n",
    "        bed_cmd = \"bedtools intersect -a %s -b %s -wao > %s\" %(v_file, hg19_file, outfile)\n",
    "        print(bed_cmd)\n",
    "        os.system(bed_cmd)\n",
    "        "
   ]
  },
  {
   "cell_type": "code",
   "execution_count": 13,
   "metadata": {
    "collapsed": true
   },
   "outputs": [],
   "source": [
    "#all villar enhancers x 46-way - how many villar enhancers were actually human specific in UCSC?\n",
    "allvillarpath = \"/dors/capra_lab/users/fongsl/broadly_active_enhancers/data/villar_ref_data/villar_enh_x_chr/\"\n",
    "allvillar_list = glob.glob(\"%s*_HSap_H3K4me3.H3K27Ac_overlap_H3K27Aconly.bed\" %allvillarpath)\n",
    "allvillar_dict = {((i.split(\"/\")[-1])).split(\"_\")[0]: i for i in allvillar_list} "
   ]
  },
  {
   "cell_type": "code",
   "execution_count": 14,
   "metadata": {
    "scrolled": false
   },
   "outputs": [
    {
     "name": "stdout",
     "output_type": "stream",
     "text": [
      "chr17\n",
      "chr2\n",
      "chr11\n",
      "chr16\n",
      "chr9\n",
      "chr7\n",
      "chr12\n",
      "chr15\n",
      "chr22\n",
      "chr1\n",
      "chrY\n",
      "chr21\n",
      "chr19\n",
      "chr10\n",
      "chr6\n",
      "chr5\n",
      "chr18\n",
      "chrX\n",
      "chr20\n",
      "chr8\n",
      "chr14\n",
      "chr3\n",
      "chr13\n",
      "chr4\n"
     ]
    }
   ],
   "source": [
    "for v_chr, v_file in allvillar_dict.items():\n",
    "    print(v_chr)\n",
    "    if v_chr in hg19_46way_dict.keys():\n",
    "        hg19_file = hg19_46way_dict[v_chr]\n",
    "        outfile = \"%s%s_all_x_hg19-46way.bed\" %(allvillarpath, v_chr)\n",
    "        \n",
    "        bed_cmd = \"bedtools intersect -a %s -b %s > %s\" %(v_file, hg19_file, outfile)\n",
    "#        print(bed_cmd)\n",
    "        os.system(bed_cmd)\n",
    "        "
   ]
  },
  {
   "cell_type": "code",
   "execution_count": 15,
   "metadata": {},
   "outputs": [
    {
     "name": "stdout",
     "output_type": "stream",
     "text": [
      "chr17\n",
      "bedtools intersect -a /dors/capra_lab/users/fongsl/broadly_active_enhancers/data/villar_ref_data/villar_enh_x_chr/chr17_HSap_H3K4me3.H3K27Ac_overlap_H3K27Aconly.bed -b /dors/capra_lab/users/fongsl/broadly_active_enhancers/data/hg19_villar/hg19_villar_species_v_human_chr17.bed -wao> /dors/capra_lab/users/fongsl/broadly_active_enhancers/data/villar_ref_data/villar_enh_x_chr/chr17_all_x_hg19-9way.bed\n",
      "chr2\n",
      "bedtools intersect -a /dors/capra_lab/users/fongsl/broadly_active_enhancers/data/villar_ref_data/villar_enh_x_chr/chr2_HSap_H3K4me3.H3K27Ac_overlap_H3K27Aconly.bed -b /dors/capra_lab/users/fongsl/broadly_active_enhancers/data/hg19_villar/hg19_villar_species_v_human_chr2.bed -wao> /dors/capra_lab/users/fongsl/broadly_active_enhancers/data/villar_ref_data/villar_enh_x_chr/chr2_all_x_hg19-9way.bed\n",
      "chr11\n",
      "bedtools intersect -a /dors/capra_lab/users/fongsl/broadly_active_enhancers/data/villar_ref_data/villar_enh_x_chr/chr11_HSap_H3K4me3.H3K27Ac_overlap_H3K27Aconly.bed -b /dors/capra_lab/users/fongsl/broadly_active_enhancers/data/hg19_villar/hg19_villar_species_v_human_chr11.bed -wao> /dors/capra_lab/users/fongsl/broadly_active_enhancers/data/villar_ref_data/villar_enh_x_chr/chr11_all_x_hg19-9way.bed\n",
      "chr16\n",
      "bedtools intersect -a /dors/capra_lab/users/fongsl/broadly_active_enhancers/data/villar_ref_data/villar_enh_x_chr/chr16_HSap_H3K4me3.H3K27Ac_overlap_H3K27Aconly.bed -b /dors/capra_lab/users/fongsl/broadly_active_enhancers/data/hg19_villar/hg19_villar_species_v_human_chr16.bed -wao> /dors/capra_lab/users/fongsl/broadly_active_enhancers/data/villar_ref_data/villar_enh_x_chr/chr16_all_x_hg19-9way.bed\n",
      "chr9\n",
      "bedtools intersect -a /dors/capra_lab/users/fongsl/broadly_active_enhancers/data/villar_ref_data/villar_enh_x_chr/chr9_HSap_H3K4me3.H3K27Ac_overlap_H3K27Aconly.bed -b /dors/capra_lab/users/fongsl/broadly_active_enhancers/data/hg19_villar/hg19_villar_species_v_human_chr9.bed -wao> /dors/capra_lab/users/fongsl/broadly_active_enhancers/data/villar_ref_data/villar_enh_x_chr/chr9_all_x_hg19-9way.bed\n",
      "chr7\n",
      "bedtools intersect -a /dors/capra_lab/users/fongsl/broadly_active_enhancers/data/villar_ref_data/villar_enh_x_chr/chr7_HSap_H3K4me3.H3K27Ac_overlap_H3K27Aconly.bed -b /dors/capra_lab/users/fongsl/broadly_active_enhancers/data/hg19_villar/hg19_villar_species_v_human_chr7.bed -wao> /dors/capra_lab/users/fongsl/broadly_active_enhancers/data/villar_ref_data/villar_enh_x_chr/chr7_all_x_hg19-9way.bed\n",
      "chr12\n",
      "bedtools intersect -a /dors/capra_lab/users/fongsl/broadly_active_enhancers/data/villar_ref_data/villar_enh_x_chr/chr12_HSap_H3K4me3.H3K27Ac_overlap_H3K27Aconly.bed -b /dors/capra_lab/users/fongsl/broadly_active_enhancers/data/hg19_villar/hg19_villar_species_v_human_chr12.bed -wao> /dors/capra_lab/users/fongsl/broadly_active_enhancers/data/villar_ref_data/villar_enh_x_chr/chr12_all_x_hg19-9way.bed\n",
      "chr15\n",
      "bedtools intersect -a /dors/capra_lab/users/fongsl/broadly_active_enhancers/data/villar_ref_data/villar_enh_x_chr/chr15_HSap_H3K4me3.H3K27Ac_overlap_H3K27Aconly.bed -b /dors/capra_lab/users/fongsl/broadly_active_enhancers/data/hg19_villar/hg19_villar_species_v_human_chr15.bed -wao> /dors/capra_lab/users/fongsl/broadly_active_enhancers/data/villar_ref_data/villar_enh_x_chr/chr15_all_x_hg19-9way.bed\n",
      "chr22\n",
      "bedtools intersect -a /dors/capra_lab/users/fongsl/broadly_active_enhancers/data/villar_ref_data/villar_enh_x_chr/chr22_HSap_H3K4me3.H3K27Ac_overlap_H3K27Aconly.bed -b /dors/capra_lab/users/fongsl/broadly_active_enhancers/data/hg19_villar/hg19_villar_species_v_human_chr22.bed -wao> /dors/capra_lab/users/fongsl/broadly_active_enhancers/data/villar_ref_data/villar_enh_x_chr/chr22_all_x_hg19-9way.bed\n",
      "chr1\n",
      "bedtools intersect -a /dors/capra_lab/users/fongsl/broadly_active_enhancers/data/villar_ref_data/villar_enh_x_chr/chr1_HSap_H3K4me3.H3K27Ac_overlap_H3K27Aconly.bed -b /dors/capra_lab/users/fongsl/broadly_active_enhancers/data/hg19_villar/hg19_villar_species_v_human_chr1.bed -wao> /dors/capra_lab/users/fongsl/broadly_active_enhancers/data/villar_ref_data/villar_enh_x_chr/chr1_all_x_hg19-9way.bed\n",
      "chrY\n",
      "chr21\n",
      "bedtools intersect -a /dors/capra_lab/users/fongsl/broadly_active_enhancers/data/villar_ref_data/villar_enh_x_chr/chr21_HSap_H3K4me3.H3K27Ac_overlap_H3K27Aconly.bed -b /dors/capra_lab/users/fongsl/broadly_active_enhancers/data/hg19_villar/hg19_villar_species_v_human_chr21.bed -wao> /dors/capra_lab/users/fongsl/broadly_active_enhancers/data/villar_ref_data/villar_enh_x_chr/chr21_all_x_hg19-9way.bed\n",
      "chr19\n",
      "bedtools intersect -a /dors/capra_lab/users/fongsl/broadly_active_enhancers/data/villar_ref_data/villar_enh_x_chr/chr19_HSap_H3K4me3.H3K27Ac_overlap_H3K27Aconly.bed -b /dors/capra_lab/users/fongsl/broadly_active_enhancers/data/hg19_villar/hg19_villar_species_v_human_chr19.bed -wao> /dors/capra_lab/users/fongsl/broadly_active_enhancers/data/villar_ref_data/villar_enh_x_chr/chr19_all_x_hg19-9way.bed\n",
      "chr10\n",
      "bedtools intersect -a /dors/capra_lab/users/fongsl/broadly_active_enhancers/data/villar_ref_data/villar_enh_x_chr/chr10_HSap_H3K4me3.H3K27Ac_overlap_H3K27Aconly.bed -b /dors/capra_lab/users/fongsl/broadly_active_enhancers/data/hg19_villar/hg19_villar_species_v_human_chr10.bed -wao> /dors/capra_lab/users/fongsl/broadly_active_enhancers/data/villar_ref_data/villar_enh_x_chr/chr10_all_x_hg19-9way.bed\n",
      "chr6\n",
      "bedtools intersect -a /dors/capra_lab/users/fongsl/broadly_active_enhancers/data/villar_ref_data/villar_enh_x_chr/chr6_HSap_H3K4me3.H3K27Ac_overlap_H3K27Aconly.bed -b /dors/capra_lab/users/fongsl/broadly_active_enhancers/data/hg19_villar/hg19_villar_species_v_human_chr6.bed -wao> /dors/capra_lab/users/fongsl/broadly_active_enhancers/data/villar_ref_data/villar_enh_x_chr/chr6_all_x_hg19-9way.bed\n",
      "chr5\n",
      "bedtools intersect -a /dors/capra_lab/users/fongsl/broadly_active_enhancers/data/villar_ref_data/villar_enh_x_chr/chr5_HSap_H3K4me3.H3K27Ac_overlap_H3K27Aconly.bed -b /dors/capra_lab/users/fongsl/broadly_active_enhancers/data/hg19_villar/hg19_villar_species_v_human_chr5.bed -wao> /dors/capra_lab/users/fongsl/broadly_active_enhancers/data/villar_ref_data/villar_enh_x_chr/chr5_all_x_hg19-9way.bed\n",
      "chr18\n",
      "bedtools intersect -a /dors/capra_lab/users/fongsl/broadly_active_enhancers/data/villar_ref_data/villar_enh_x_chr/chr18_HSap_H3K4me3.H3K27Ac_overlap_H3K27Aconly.bed -b /dors/capra_lab/users/fongsl/broadly_active_enhancers/data/hg19_villar/hg19_villar_species_v_human_chr18.bed -wao> /dors/capra_lab/users/fongsl/broadly_active_enhancers/data/villar_ref_data/villar_enh_x_chr/chr18_all_x_hg19-9way.bed\n",
      "chrX\n",
      "bedtools intersect -a /dors/capra_lab/users/fongsl/broadly_active_enhancers/data/villar_ref_data/villar_enh_x_chr/chrX_HSap_H3K4me3.H3K27Ac_overlap_H3K27Aconly.bed -b /dors/capra_lab/users/fongsl/broadly_active_enhancers/data/hg19_villar/hg19_villar_species_v_human_chrX.bed -wao> /dors/capra_lab/users/fongsl/broadly_active_enhancers/data/villar_ref_data/villar_enh_x_chr/chrX_all_x_hg19-9way.bed\n",
      "chr20\n",
      "bedtools intersect -a /dors/capra_lab/users/fongsl/broadly_active_enhancers/data/villar_ref_data/villar_enh_x_chr/chr20_HSap_H3K4me3.H3K27Ac_overlap_H3K27Aconly.bed -b /dors/capra_lab/users/fongsl/broadly_active_enhancers/data/hg19_villar/hg19_villar_species_v_human_chr20.bed -wao> /dors/capra_lab/users/fongsl/broadly_active_enhancers/data/villar_ref_data/villar_enh_x_chr/chr20_all_x_hg19-9way.bed\n",
      "chr8\n",
      "bedtools intersect -a /dors/capra_lab/users/fongsl/broadly_active_enhancers/data/villar_ref_data/villar_enh_x_chr/chr8_HSap_H3K4me3.H3K27Ac_overlap_H3K27Aconly.bed -b /dors/capra_lab/users/fongsl/broadly_active_enhancers/data/hg19_villar/hg19_villar_species_v_human_chr8.bed -wao> /dors/capra_lab/users/fongsl/broadly_active_enhancers/data/villar_ref_data/villar_enh_x_chr/chr8_all_x_hg19-9way.bed\n",
      "chr14\n",
      "bedtools intersect -a /dors/capra_lab/users/fongsl/broadly_active_enhancers/data/villar_ref_data/villar_enh_x_chr/chr14_HSap_H3K4me3.H3K27Ac_overlap_H3K27Aconly.bed -b /dors/capra_lab/users/fongsl/broadly_active_enhancers/data/hg19_villar/hg19_villar_species_v_human_chr14.bed -wao> /dors/capra_lab/users/fongsl/broadly_active_enhancers/data/villar_ref_data/villar_enh_x_chr/chr14_all_x_hg19-9way.bed\n",
      "chr3\n",
      "bedtools intersect -a /dors/capra_lab/users/fongsl/broadly_active_enhancers/data/villar_ref_data/villar_enh_x_chr/chr3_HSap_H3K4me3.H3K27Ac_overlap_H3K27Aconly.bed -b /dors/capra_lab/users/fongsl/broadly_active_enhancers/data/hg19_villar/hg19_villar_species_v_human_chr3.bed -wao> /dors/capra_lab/users/fongsl/broadly_active_enhancers/data/villar_ref_data/villar_enh_x_chr/chr3_all_x_hg19-9way.bed\n"
     ]
    },
    {
     "name": "stdout",
     "output_type": "stream",
     "text": [
      "chr13\n",
      "bedtools intersect -a /dors/capra_lab/users/fongsl/broadly_active_enhancers/data/villar_ref_data/villar_enh_x_chr/chr13_HSap_H3K4me3.H3K27Ac_overlap_H3K27Aconly.bed -b /dors/capra_lab/users/fongsl/broadly_active_enhancers/data/hg19_villar/hg19_villar_species_v_human_chr13.bed -wao> /dors/capra_lab/users/fongsl/broadly_active_enhancers/data/villar_ref_data/villar_enh_x_chr/chr13_all_x_hg19-9way.bed\n",
      "chr4\n",
      "bedtools intersect -a /dors/capra_lab/users/fongsl/broadly_active_enhancers/data/villar_ref_data/villar_enh_x_chr/chr4_HSap_H3K4me3.H3K27Ac_overlap_H3K27Aconly.bed -b /dors/capra_lab/users/fongsl/broadly_active_enhancers/data/hg19_villar/hg19_villar_species_v_human_chr4.bed -wao> /dors/capra_lab/users/fongsl/broadly_active_enhancers/data/villar_ref_data/villar_enh_x_chr/chr4_all_x_hg19-9way.bed\n"
     ]
    }
   ],
   "source": [
    "for v_chr, v_file in allvillar_dict.items():\n",
    "    print(v_chr)\n",
    "    if v_chr in hg19_9way_dict.keys():\n",
    "        hg19_file = hg19_9way_dict[v_chr]\n",
    "        outfile = \"%s%s_all_x_hg19-9way.bed\" %(allvillarpath, v_chr)\n",
    "        \n",
    "        bed_cmd = \"bedtools intersect -a %s -b %s -wao> %s\" %(v_file, hg19_file, outfile)\n",
    "        print(bed_cmd)\n",
    "        os.system(bed_cmd)\n",
    "        "
   ]
  },
  {
   "cell_type": "code",
   "execution_count": null,
   "metadata": {},
   "outputs": [],
   "source": [
    "#This is a bed file of human-specific coordinates only in consideration to the 8 villar species (no pig) used to define human-specific\n",
    "hg19_v_hspec_file=\"/dors/capra_lab/users/fongsl/broadly_active_enhancers/data/hg19_villar/hg19_ucsc_villar_hu-specific.bed\"\n",
    "\n",
    "bae_file = \"/dors/capra_lab/users/fongsl/broadly_active_enhancers/data/villar_ref_data/hspecific_villar_bae_hq_aln2.bed\"\n",
    "\n",
    "outfile = \"/dors/capra_lab/users/fongsl/broadly_active_enhancers/data/hg19_villar/hspec_bae_x_hg19_villar_spec.bed\"\n",
    "\n",
    "bed_cmd = \"bedtools intersect -a %s -b %s > %s\" %(bae_file, hg19_v_hspec_file, outfile)\n",
    "\n",
    "print(bed_cmd)\n",
    "\n",
    "os.system(bed_cmd)"
   ]
  },
  {
   "cell_type": "code",
   "execution_count": null,
   "metadata": {
    "collapsed": true
   },
   "outputs": [],
   "source": [
    "# how many Villar human liver enhancers overlap human-specific coordinates in hg19?\n",
    "\n",
    "#8-way species count and alignments\n",
    "ucsc_8way = \"/dors/capra_lab/users/fongsl/broadly_active_enhancers/data/hg19_villar/hg19_ucsc_villar_hu-specific.bed\"\n",
    "\n",
    "#46-way species count and alignments\n",
    "ucsc_46way = \"/dors/capra_lab/users/fongsl/broadly_active_enhancers/data/hg19_human_specific_coordinates/all_hg19_human_specific_genome_coordinates.bed\"\n",
    "\n",
    "villar_hsp_hliver_enh = \"/dors/capra_lab/projects/enhancer_uniqueness/data2/villar15/Hsap_H3K27ac_humanspEnhancers.bed\"\n",
    "#10435 rows\n",
    "\n",
    "villar_all_hliver_enh =\"/dors/capra_lab/projects/enhancer_uniqueness/data2/villar15/combinedPeakCalls/HSap_H3K4me3.H3K27Ac_overlap_H3K27Aconly.bed\"\n",
    "# 29177 rows"
   ]
  },
  {
   "cell_type": "code",
   "execution_count": null,
   "metadata": {},
   "outputs": [],
   "source": [
    "# ucsc_8way v. villar_all_hliver_enh, regardless of species overlap. \n",
    "out_all_v_8way = \"ucsc_8way_v_all_villar_hliv.bed\"\n",
    "\n",
    "cmd_all_v_8way = \"bedtools intersect -a %s -b %s > %s%s\" %(villar_all_hliver_enh, ucsc_8way, villarpath, out_all_v_8way)\n",
    "print(cmd_all_v_8way)\n",
    "os.system(cmd_all_v_8way)"
   ]
  },
  {
   "cell_type": "code",
   "execution_count": null,
   "metadata": {
    "collapsed": true
   },
   "outputs": [],
   "source": [
    "# ucsc_46way v. villar_all_hliver_enh, regardless of species overlap. \n",
    "out_all_v_46way = \"ucsc_46way_v_all_villar_hliv.bed\"\n",
    "\n",
    "cmd_all_v_46way = \"bedtools intersect -a %s -b %s > %s%s\" %(villar_all_hliver_enh, ucsc_46way, villarpath, out_all_v_46way)\n",
    "print(cmd_all_v_46way)\n",
    "os.system(cmd_all_v_46way)"
   ]
  }
 ],
 "metadata": {
  "kernelspec": {
   "display_name": "Python 3",
   "language": "python",
   "name": "python3"
  },
  "language_info": {
   "codemirror_mode": {
    "name": "ipython",
    "version": 3
   },
   "file_extension": ".py",
   "mimetype": "text/x-python",
   "name": "python",
   "nbconvert_exporter": "python",
   "pygments_lexer": "ipython3",
   "version": "3.6.1"
  }
 },
 "nbformat": 4,
 "nbformat_minor": 2
}
