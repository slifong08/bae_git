{
 "cells": [
  {
   "cell_type": "code",
   "execution_count": 1,
   "metadata": {
    "collapsed": true
   },
   "outputs": [],
   "source": [
    "#!/bin/python\n",
    "#180531\n",
    "#sarahfong\n",
    "\n",
    "#The purpose of this script is to generate a way to query broadly active enhancer BED files \n",
    "#against multiple sequence alignments. \n",
    "\n",
    "#Multiple Sequence Alignment files: I will use 46-way UCSC hg19 MAFs from /dors/capra_lab/data_clean/ucsc/hg19/maf/"
   ]
  },
  {
   "cell_type": "code",
   "execution_count": 3,
   "metadata": {
    "collapsed": true
   },
   "outputs": [],
   "source": [
    "import os\n",
    "import glob\n",
    "import pandas"
   ]
  },
  {
   "cell_type": "code",
   "execution_count": null,
   "metadata": {
    "collapsed": true
   },
   "outputs": [],
   "source": [
    "# LOAD PHAST\n",
    "os.system(\"ml load  GCC/5.4.0-2.26\")                                                                                            \n",
    "os.system(\"ml load Intel/2016.3.210-GCC-5.4.0-2.26\")\n",
    "os.system(\"ml load PHAST/1.4\")"
   ]
  },
  {
   "cell_type": "code",
   "execution_count": 4,
   "metadata": {
    "collapsed": true
   },
   "outputs": [],
   "source": [
    "mafpath = \"/dors/capra_lab/data_clean/ucsc/hg19/maf/\"\n",
    "\n",
    "#human-specific villar reference by chr number \n",
    "#chr files generated with /dors/capra_lab/users/fongsl/broadly_active_enhancers/bae_git/roadmap_multi/separate_short_multi_intersect_by_chr.ipynb \n",
    "datapath = \"/dors/capra_lab/users/fongsl/broadly_active_enhancers/data/villar_ref_data/\""
   ]
  },
  {
   "cell_type": "code",
   "execution_count": 5,
   "metadata": {
    "collapsed": true
   },
   "outputs": [],
   "source": [
    "# make a list of the testbed files\n",
    "testbed_list = glob.glob(\"%schr*\"%datapath)"
   ]
  },
  {
   "cell_type": "code",
   "execution_count": 7,
   "metadata": {
    "collapsed": true
   },
   "outputs": [],
   "source": [
    "# gather the MAF files\n",
    "os.chdir(mafpath)\n",
    "maf_list = glob.glob(\"chr*.maf.gz\")"
   ]
  },
  {
   "cell_type": "code",
   "execution_count": 8,
   "metadata": {},
   "outputs": [
    {
     "name": "stdout",
     "output_type": "stream",
     "text": [
      "{'chr15': 'chr15.maf.gz', 'chr22': 'chr22.maf.gz', 'chr20': 'chr20.maf.gz', 'chr2': 'chr2.maf.gz', 'chrM': 'chrM.maf.gz', 'chr18': 'chr18.maf.gz', 'chr1': 'chr1.maf.gz', 'chr11': 'chr11.maf.gz', 'chr4': 'chr4.maf.gz', 'chr3': 'chr3.maf.gz', 'chr21': 'chr21.maf.gz', 'chr7': 'chr7.maf.gz', 'chr17': 'chr17.maf.gz', 'chr14': 'chr14.maf.gz', 'chr12': 'chr12.maf.gz', 'chr9': 'chr9.maf.gz', 'chrY': 'chrY.maf.gz', 'chr5': 'chr5.maf.gz', 'chr6': 'chr6.maf.gz', 'chr19': 'chr19.maf.gz', 'chrX': 'chrX.maf.gz', 'chr13': 'chr13.maf.gz', 'chr10': 'chr10.maf.gz', 'chr16': 'chr16.maf.gz', 'chr8': 'chr8.maf.gz'}\n"
     ]
    }
   ],
   "source": [
    "maf_list_short=list((i for i in maf_list if len(i)<13))\n",
    "maf_dict = {(i.split(\".\")[0]): i for i in maf_list_short}\n",
    "print(maf_dict)"
   ]
  },
  {
   "cell_type": "code",
   "execution_count": 9,
   "metadata": {
    "collapsed": true
   },
   "outputs": [],
   "source": [
    "#chr_number = 'chr1', 'chr11', etc.\n",
    "def unzipzip(testbed):\n",
    "    \n",
    "    #formatting strings and file names\n",
    "    chr_num = (testbed.split('/')[-1]).split('_')[0]\n",
    "    \n",
    "    unzip_maf = maf_dict[chr_num]\n",
    "    \n",
    "    zip_maf =unzip_maf.split('.')[:-1]\n",
    "    zip_maf=\"%s.%s\" %(zip_maf[0],zip_maf[1])\n",
    " \n",
    "    unzip_cmd = \"gunzip %s%s\"% (mafpath, unzip_maf)\n",
    "    print(unzip_cmd)\n",
    "    os.system(unzip_cmd)\n",
    "    \n",
    "    parse_cmd= \"maf_parse -g %s %s%s.maf > %sparsed_%s.maf\"%(testbed, mafpath, chr_num, datapath, chr_num)\n",
    "    os.system(parse_cmd)\n",
    "    \n",
    "    zip_cmd = \"gzip %s%s\"% (mafpath, zip_maf)\n",
    "    print(zip_cmd)\n",
    "    os.system(zip_cmd)"
   ]
  },
  {
   "cell_type": "code",
   "execution_count": 95,
   "metadata": {},
   "outputs": [
    {
     "name": "stdout",
     "output_type": "stream",
     "text": [
      "gunzip /dors/capra_lab/data_clean/ucsc/hg19/maf/chr19.maf.gz\n",
      "maf_parse -g /dors/capra_lab/users/fongsl/broadly_active_enhancers/data/villar_ref_data/chr19_hspecific_villar_bae_hq_aln.bed /dors/capra_lab/data_clean/ucsc/hg19/maf/chr19.maf > /dors/capra_lab/users/fongsl/broadly_active_enhancers/data/villar_ref_data/parsed_chr19.maf\n",
      "gzip /dors/capra_lab/data_clean/ucsc/hg19/maf/chr19.maf\n"
     ]
    }
   ],
   "source": [
    "unzipzip(a)"
   ]
  },
  {
   "cell_type": "code",
   "execution_count": null,
   "metadata": {},
   "outputs": [
    {
     "name": "stdout",
     "output_type": "stream",
     "text": [
      "gunzip /dors/capra_lab/data_clean/ucsc/hg19/maf/chr19.maf.gz\n",
      "gzip /dors/capra_lab/data_clean/ucsc/hg19/maf/chr19.maf\n",
      "gunzip /dors/capra_lab/data_clean/ucsc/hg19/maf/chr4.maf.gz\n",
      "gzip /dors/capra_lab/data_clean/ucsc/hg19/maf/chr4.maf\n",
      "gunzip /dors/capra_lab/data_clean/ucsc/hg19/maf/chr21.maf.gz\n",
      "gzip /dors/capra_lab/data_clean/ucsc/hg19/maf/chr21.maf\n",
      "gunzip /dors/capra_lab/data_clean/ucsc/hg19/maf/chr14.maf.gz\n",
      "gzip /dors/capra_lab/data_clean/ucsc/hg19/maf/chr14.maf\n",
      "gunzip /dors/capra_lab/data_clean/ucsc/hg19/maf/chr10.maf.gz\n",
      "gzip /dors/capra_lab/data_clean/ucsc/hg19/maf/chr10.maf\n",
      "gunzip /dors/capra_lab/data_clean/ucsc/hg19/maf/chr18.maf.gz\n",
      "gzip /dors/capra_lab/data_clean/ucsc/hg19/maf/chr18.maf\n",
      "gunzip /dors/capra_lab/data_clean/ucsc/hg19/maf/chr1.maf.gz\n",
      "gzip /dors/capra_lab/data_clean/ucsc/hg19/maf/chr1.maf\n",
      "gunzip /dors/capra_lab/data_clean/ucsc/hg19/maf/chr13.maf.gz\n",
      "gzip /dors/capra_lab/data_clean/ucsc/hg19/maf/chr13.maf\n",
      "gunzip /dors/capra_lab/data_clean/ucsc/hg19/maf/chr11.maf.gz\n",
      "gzip /dors/capra_lab/data_clean/ucsc/hg19/maf/chr11.maf\n",
      "gunzip /dors/capra_lab/data_clean/ucsc/hg19/maf/chrX.maf.gz\n",
      "gzip /dors/capra_lab/data_clean/ucsc/hg19/maf/chrX.maf\n"
     ]
    }
   ],
   "source": [
    "for testbed in testbed_list:\n",
    "    unzipzip(testbed)"
   ]
  }
 ],
 "metadata": {
  "kernelspec": {
   "display_name": "Python 3",
   "language": "python",
   "name": "python3"
  },
  "language_info": {
   "codemirror_mode": {
    "name": "ipython",
    "version": 3
   },
   "file_extension": ".py",
   "mimetype": "text/x-python",
   "name": "python",
   "nbconvert_exporter": "python",
   "pygments_lexer": "ipython3",
   "version": "3.6.1"
  }
 },
 "nbformat": 4,
 "nbformat_minor": 2
}
