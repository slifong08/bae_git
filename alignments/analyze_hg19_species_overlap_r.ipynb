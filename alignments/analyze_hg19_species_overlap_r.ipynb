{
 "cells": [
  {
   "cell_type": "code",
   "execution_count": 1,
   "metadata": {},
   "outputs": [
    {
     "name": "stderr",
     "output_type": "stream",
     "text": [
      "Warning message:\n",
      "“package ‘ggplot2’ was built under R version 3.4.3”"
     ]
    }
   ],
   "source": [
    "library(ggplot2)"
   ]
  },
  {
   "cell_type": "code",
   "execution_count": 2,
   "metadata": {
    "collapsed": true
   },
   "outputs": [],
   "source": [
    "#get 46-way human-specific bed-files\n",
    "dir_46way = \"/dors/capra_lab/users/fongsl/broadly_active_enhancers/data/hg19_villar/\"\n",
    "\n",
    "#dir_46way = '/Users/sarahfong/Desktop/CAPRA/broadly_active_enhancers/hg19_species/'\n",
    "setwd(dir_46way)"
   ]
  },
  {
   "cell_type": "code",
   "execution_count": 3,
   "metadata": {},
   "outputs": [
    {
     "data": {
      "text/html": [
       "<ol class=list-inline>\n",
       "\t<li>2723537</li>\n",
       "\t<li>7</li>\n",
       "</ol>\n"
      ],
      "text/latex": [
       "\\begin{enumerate*}\n",
       "\\item 2723537\n",
       "\\item 7\n",
       "\\end{enumerate*}\n"
      ],
      "text/markdown": [
       "1. 2723537\n",
       "2. 7\n",
       "\n",
       "\n"
      ],
      "text/plain": [
       "[1] 2723537       7"
      ]
     },
     "metadata": {},
     "output_type": "display_data"
    },
    {
     "data": {
      "text/html": [
       "<table>\n",
       "<thead><tr><th scope=col>V1</th><th scope=col>V2</th><th scope=col>V3</th><th scope=col>V4</th><th scope=col>V5</th><th scope=col>V6</th><th scope=col>V7</th></tr></thead>\n",
       "<tbody>\n",
       "\t<tr><td>chr1 </td><td>10917</td><td>11397</td><td>+    </td><td>hg19 </td><td>2    </td><td>0    </td></tr>\n",
       "\t<tr><td>chr1 </td><td>11396</td><td>11490</td><td>+    </td><td>hg19 </td><td>3    </td><td>1    </td></tr>\n",
       "\t<tr><td>chr1 </td><td>11489</td><td>11571</td><td>+    </td><td>hg19 </td><td>6    </td><td>3    </td></tr>\n",
       "\t<tr><td>chr1 </td><td>11570</td><td>11626</td><td>+    </td><td>hg19 </td><td>5    </td><td>2    </td></tr>\n",
       "\t<tr><td>chr1 </td><td>11625</td><td>11805</td><td>+    </td><td>hg19 </td><td>6    </td><td>2    </td></tr>\n",
       "\t<tr><td>chr1 </td><td>11804</td><td>11858</td><td>+    </td><td>hg19 </td><td>7    </td><td>2    </td></tr>\n",
       "</tbody>\n",
       "</table>\n"
      ],
      "text/latex": [
       "\\begin{tabular}{r|lllllll}\n",
       " V1 & V2 & V3 & V4 & V5 & V6 & V7\\\\\n",
       "\\hline\n",
       "\t chr1  & 10917 & 11397 & +     & hg19  & 2     & 0    \\\\\n",
       "\t chr1  & 11396 & 11490 & +     & hg19  & 3     & 1    \\\\\n",
       "\t chr1  & 11489 & 11571 & +     & hg19  & 6     & 3    \\\\\n",
       "\t chr1  & 11570 & 11626 & +     & hg19  & 5     & 2    \\\\\n",
       "\t chr1  & 11625 & 11805 & +     & hg19  & 6     & 2    \\\\\n",
       "\t chr1  & 11804 & 11858 & +     & hg19  & 7     & 2    \\\\\n",
       "\\end{tabular}\n"
      ],
      "text/markdown": [
       "\n",
       "V1 | V2 | V3 | V4 | V5 | V6 | V7 | \n",
       "|---|---|---|---|---|---|\n",
       "| chr1  | 10917 | 11397 | +     | hg19  | 2     | 0     | \n",
       "| chr1  | 11396 | 11490 | +     | hg19  | 3     | 1     | \n",
       "| chr1  | 11489 | 11571 | +     | hg19  | 6     | 3     | \n",
       "| chr1  | 11570 | 11626 | +     | hg19  | 5     | 2     | \n",
       "| chr1  | 11625 | 11805 | +     | hg19  | 6     | 2     | \n",
       "| chr1  | 11804 | 11858 | +     | hg19  | 7     | 2     | \n",
       "\n",
       "\n"
      ],
      "text/plain": [
       "  V1   V2    V3    V4 V5   V6 V7\n",
       "1 chr1 10917 11397 +  hg19 2  0 \n",
       "2 chr1 11396 11490 +  hg19 3  1 \n",
       "3 chr1 11489 11571 +  hg19 6  3 \n",
       "4 chr1 11570 11626 +  hg19 5  2 \n",
       "5 chr1 11625 11805 +  hg19 6  2 \n",
       "6 chr1 11804 11858 +  hg19 7  2 "
      ]
     },
     "metadata": {},
     "output_type": "display_data"
    }
   ],
   "source": [
    "a = list.files()\n",
    "# read in a 'seed' file to bind all the rest of the files to\n",
    "df46<- read.table(\"hg19_villar_species_v_human_chr1.bed\", sep = '\\t') \n",
    "dim(df46)\n",
    "head(df46)\n",
    "names(df46) = c(\"chr\", \"start\", \"end\", \"strand\",\"ref\", \"sp46\", \"sp8-villar\")\n",
    "a <- a[2:24]"
   ]
  },
  {
   "cell_type": "code",
   "execution_count": 4,
   "metadata": {},
   "outputs": [
    {
     "name": "stdout",
     "output_type": "stream",
     "text": [
      "[1] 1587355       7\n",
      "[1] 1540271       7\n",
      "[1] 1557802       7\n",
      "[1] 1146251       7\n",
      "[1] 1061674       7\n",
      "[1] 970650      7\n",
      "[1] 958564      7\n",
      "[1] 993537      7\n",
      "[1] 899706      7\n",
      "[1] 589914      7\n",
      "[1] 2877091       7\n",
      "[1] 734061      7\n",
      "[1] 400027      7\n",
      "[1] 407106      7\n",
      "[1] 2359305       7\n",
      "[1] 2151230       7\n",
      "[1] 2082369       7\n",
      "[1] 2030299       7\n",
      "[1] 1796647       7\n",
      "[1] 1671249       7\n",
      "[1] 1372955       7\n",
      "[1] 1422791       7\n"
     ]
    },
    {
     "ename": "ERROR",
     "evalue": "Error in names(table) <- c(\"chr\", \"start\", \"end\", \"strand\", \"ref\", \"sp46\", : 'names' attribute [7] must be the same length as the vector [1]\n",
     "output_type": "error",
     "traceback": [
      "Error in names(table) <- c(\"chr\", \"start\", \"end\", \"strand\", \"ref\", \"sp46\", : 'names' attribute [7] must be the same length as the vector [1]\nTraceback:\n"
     ]
    }
   ],
   "source": [
    "for (file in a) {\n",
    "  table <- read.table(file, sep = '\\t')\n",
    "  names(table) = c(\"chr\", \"start\", \"end\", \"strand\", \"ref\", \"sp46\", \"sp8-villar\")\n",
    "  print(dim(table))\n",
    "  df46<-rbind(df46, table)\n",
    "  }"
   ]
  },
  {
   "cell_type": "code",
   "execution_count": 5,
   "metadata": {},
   "outputs": [
    {
     "name": "stdout",
     "output_type": "stream",
     "text": [
      "[1] 1\n"
     ]
    }
   ],
   "source": [
    "#calculate the length of these regions. \n",
    "df46$length = df46$end - df46$start\n",
    "\n",
    "#log transform the length of the regions for plotting purposes. \n",
    "df46$log10_length = log(df46$length, 10)\n",
    "\n",
    "#when 46way == 1, this region is human-specific. \n",
    "print(min(df46$sp46))"
   ]
  },
  {
   "cell_type": "code",
   "execution_count": 13,
   "metadata": {},
   "outputs": [
    {
     "data": {
      "text/html": [
       "88470858"
      ],
      "text/latex": [
       "88470858"
      ],
      "text/markdown": [
       "88470858"
      ],
      "text/plain": [
       "[1] 88470858"
      ]
     },
     "metadata": {},
     "output_type": "display_data"
    },
    {
     "data": {
      "text/html": [
       "0.0303940130431061"
      ],
      "text/latex": [
       "0.0303940130431061"
      ],
      "text/markdown": [
       "0.0303940130431061"
      ],
      "text/plain": [
       "[1] 0.03039401"
      ]
     },
     "metadata": {},
     "output_type": "display_data"
    },
    {
     "data": {
      "text/html": [
       "<ol class=list-inline>\n",
       "\t<li>57195</li>\n",
       "\t<li>9</li>\n",
       "</ol>\n"
      ],
      "text/latex": [
       "\\begin{enumerate*}\n",
       "\\item 57195\n",
       "\\item 9\n",
       "\\end{enumerate*}\n"
      ],
      "text/markdown": [
       "1. 57195\n",
       "2. 9\n",
       "\n",
       "\n"
      ],
      "text/plain": [
       "[1] 57195     9"
      ]
     },
     "metadata": {},
     "output_type": "display_data"
    },
    {
     "data": {
      "text/plain": [
       "      chr            start                end            strand      ref       \n",
       " chrX   : 4701   Min.   :    15286   Min.   :    15296   +:57195   hg19:57195  \n",
       " chr1   : 4464   1st Qu.: 29422854   1st Qu.: 29422864                         \n",
       " chr7   : 4187   Median : 62128653   Median : 62140761                         \n",
       " chr2   : 3799   Mean   : 72187884   Mean   : 72189431                         \n",
       " chr5   : 3445   3rd Qu.:105696829   3rd Qu.:105696832                         \n",
       " chr4   : 2892   Max.   :249231895   Max.   :249232826                         \n",
       " (Other):33707                                                                 \n",
       "      sp46     sp9-villar     length          log10_length  \n",
       " Min.   :1   Min.   :0    Min.   :       2   Min.   :0.301  \n",
       " 1st Qu.:1   1st Qu.:0    1st Qu.:      16   1st Qu.:1.204  \n",
       " Median :1   Median :0    Median :     108   Median :2.033  \n",
       " Mean   :1   Mean   :0    Mean   :    1547   Mean   :1.964  \n",
       " 3rd Qu.:1   3rd Qu.:0    3rd Qu.:     371   3rd Qu.:2.569  \n",
       " Max.   :1   Max.   :0    Max.   :11303323   Max.   :7.053  \n",
       "                                                            "
      ]
     },
     "metadata": {},
     "output_type": "display_data"
    }
   ],
   "source": [
    "#look at the 46way hspecific data\n",
    "dfh = subset(df46, df46$sp46==1)\n",
    "\n",
    "#how many bases in the genome are unique to humans in hg19?\n",
    "sum(dfh$length)\n",
    "#[1] 88470858\n",
    "\n",
    "#what % of the human genome is not alignable to other species?\n",
    "sum(dfh$length)/sum(as.numeric(df46$length))\n",
    "#[1] 0.03039401\n",
    "\n",
    "write.table(dfh,\"/dors/capra_lab/users/fongsl/broadly_active_enhancers/data/hg19_human_specific_coordinates/all_hg19_human_specific_genome_coordinates.bed\", sep='\\t', quote =FALSE, row.names = FALSE)\n",
    "\n",
    "dim(dfh)\n",
    "summary(dfh)\n",
    "#     chr            start                end            strand      ref       \n",
    "# chrX   : 4701   Min.   :    15286   Min.   :    15296   +:57195   hg19:57195  \n",
    "# chr1   : 4464   1st Qu.: 29422854   1st Qu.: 29422864                         \n",
    "# chr7   : 4187   Median : 62128653   Median : 62140761                         \n",
    "# chr2   : 3799   Mean   : 72187884   Mean   : 72189431                         \n",
    "# chr5   : 3445   3rd Qu.:105696829   3rd Qu.:105696832                         \n",
    "# chr4   : 2892   Max.   :249231895   Max.   :249232826                         \n",
    "# (Other):33707                                                                 \n",
    "#      sp46     sp9-villar     length          log10_length  \n",
    "# Min.   :1   Min.   :0    Min.   :       2   Min.   :0.301  \n",
    "# 1st Qu.:1   1st Qu.:0    1st Qu.:      16   1st Qu.:1.204  \n",
    "# Median :1   Median :0    Median :     108   Median :2.033  \n",
    "# Mean   :1   Mean   :0    Mean   :    1547   Mean   :1.964  \n",
    "# 3rd Qu.:1   3rd Qu.:0    3rd Qu.:     371   3rd Qu.:2.569  \n",
    "# Max.   :1   Max.   :0    Max.   :11303323   Max.   :7.053  "
   ]
  },
  {
   "cell_type": "code",
   "execution_count": 7,
   "metadata": {},
   "outputs": [
    {
     "data": {},
     "metadata": {},
     "output_type": "display_data"
    },
    {
     "data": {
      "image/png": "[encoded data removed]",
      "text/plain": [
       "plot without title"
      ]
     },
     "metadata": {},
     "output_type": "display_data"
    }
   ],
   "source": [
    "#length of human-specific genome regions\n",
    "ggplot(dfh, aes(log10_length)) + \n",
    "  geom_histogram(aes(y=..density..),bins = 250) + \n",
    "  xlab(\"log10(length) bp\")  +\n",
    "  #xlim(0,10000) +\n",
    "  ggtitle(\"count of human-specific genome lengths\") + \n",
    "  theme(axis.text.x = element_text(angle = 90, hjust = 1))\n"
   ]
  },
  {
   "cell_type": "code",
   "execution_count": 8,
   "metadata": {},
   "outputs": [
    {
     "data": {},
     "metadata": {},
     "output_type": "display_data"
    },
    {
     "data": {
      "image/png": "[encoded data removed]",
      "text/plain": [
       "plot without title"
      ]
     },
     "metadata": {},
     "output_type": "display_data"
    }
   ],
   "source": [
    "# plot lengths of human-specific regions of the genome by chromosome.\n",
    "ggplot(dfh, aes(chr, log10_length), log10 ='y') + \n",
    "  geom_boxplot() + \n",
    "  #geom_jitter(width = 0.1)+ \n",
    "  xlab(\"chromosome\") +\n",
    "  ylab(\"log10(length) bp\") +\n",
    "  ggtitle(\"length of human-specific genome regions\") +\n",
    "  scale_y_continuous()+\n",
    "  theme(axis.text.x = element_text(angle = 90, hjust = 1))\n",
    "\n",
    "#ggplot(df46, aes(sp46, color = chr)) + geom_boxplot() + scale_x_continuous() + xlab(\"species\") + ggtitle(\"count of conserved regions\") "
   ]
  },
  {
   "cell_type": "code",
   "execution_count": 11,
   "metadata": {},
   "outputs": [
    {
     "data": {
      "text/html": [
       "<ol class=list-inline>\n",
       "\t<li>866199</li>\n",
       "\t<li>9</li>\n",
       "</ol>\n"
      ],
      "text/latex": [
       "\\begin{enumerate*}\n",
       "\\item 866199\n",
       "\\item 9\n",
       "\\end{enumerate*}\n"
      ],
      "text/markdown": [
       "1. 866199\n",
       "2. 9\n",
       "\n",
       "\n"
      ],
      "text/plain": [
       "[1] 866199      9"
      ]
     },
     "metadata": {},
     "output_type": "display_data"
    }
   ],
   "source": [
    "dfhv= dfh = subset(df46, df46$\"sp8-villar\"==0)\n",
    "dim(dfhv)\n",
    "write.table(dfhv,\"/dors/capra_lab/users/fongsl/broadly_active_enhancers/data/hg19_villar/hg19_ucsc_villar_hu-specific.bed\", sep='\\t', quote =FALSE, row.names = FALSE)"
   ]
  }
 ],
 "metadata": {
  "kernelspec": {
   "display_name": "R",
   "language": "R",
   "name": "ir"
  },
  "language_info": {
   "codemirror_mode": "r",
   "file_extension": ".r",
   "mimetype": "text/x-r-source",
   "name": "R",
   "pygments_lexer": "r",
   "version": "3.4.1"
  }
 },
 "nbformat": 4,
 "nbformat_minor": 2
}
