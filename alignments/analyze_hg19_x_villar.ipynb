{
 "cells": [
  {
   "cell_type": "code",
   "execution_count": null,
   "metadata": {
    "collapsed": true
   },
   "outputs": [],
   "source": [
    "#180607\n",
    "\n",
    "#!/bin/python\n",
    "\n",
    "#sarahfong\n",
    "#biopython is loaded in the sf_test env with 'conda install -c bioconda biopython'"
   ]
  },
  {
   "cell_type": "code",
   "execution_count": 6,
   "metadata": {
    "collapsed": true
   },
   "outputs": [],
   "source": [
    "import sys, os\n",
    "import glob"
   ]
  },
  {
   "cell_type": "code",
   "execution_count": null,
   "metadata": {
    "collapsed": true
   },
   "outputs": [],
   "source": [
    "# load the bedtools module\n",
    "os.system(\"ml restore bed_ml\")"
   ]
  },
  {
   "cell_type": "code",
   "execution_count": 7,
   "metadata": {
    "collapsed": true
   },
   "outputs": [],
   "source": [
    "# this directory contains the .bed files of all human-specific coordinates of the genome. \n",
    "hg19_dir = \"/dors/capra_lab/users/fongsl/broadly_active_enhancers/data/hg19_human_specific_coordinates/\""
   ]
  },
  {
   "cell_type": "code",
   "execution_count": 24,
   "metadata": {},
   "outputs": [
    {
     "name": "stdout",
     "output_type": "stream",
     "text": [
      "dict_keys(['chr4', 'chr15', 'chr1', 'chr18', 'chr7', 'chr13', 'chr17', 'chr21', 'chr11', 'chr5', 'chr12', 'chr22', 'chr16', 'chr19', 'chr14', 'chr10', 'chr8', 'chr20', 'chr6', 'chr2', 'chr9', 'chr3', 'chrX'])\n"
     ]
    }
   ],
   "source": [
    "# get hg19 human specific bed files\n",
    "hg19_list = glob.glob(\"%shg19*.bed\" % hg19_dir)\n",
    "hg19_dict = {(((i.split(\"/\")[-1])).split(\"_\")[-1]).split(\".\")[0]: i for i in hg19_list} # {chr:/file/path/chr.bed}\n",
    "print(hg19_dict.keys())"
   ]
  },
  {
   "cell_type": "code",
   "execution_count": 25,
   "metadata": {},
   "outputs": [
    {
     "name": "stdout",
     "output_type": "stream",
     "text": [
      "dict_keys(['chr19', 'chr4', 'chr21', 'chr14', 'chr10', 'chr18', 'chr1', 'chr13', 'chr11', 'chrX', 'chr6', 'chr9', 'chr15', 'chr12', 'chr3', 'chr8', 'chr16', 'chr20', 'chr22', 'chr2', 'chr7', 'chr5', 'chr17'])\n"
     ]
    }
   ],
   "source": [
    "# get villar human specific bed files\n",
    "villarpath = '/dors/capra_lab/users/fongsl/broadly_active_enhancers/data/villar_ref_data/'\n",
    "villar_list = glob.glob(\"%schr*.bed\"% villarpath)\n",
    "villar_dict = {(i.split(\"/\")[-1]).split(\"_\")[0]: i for i in villar_list} # {chr:/file/villarpath/chr.bed}\n",
    "print(villar_dict.keys())"
   ]
  },
  {
   "cell_type": "code",
   "execution_count": 35,
   "metadata": {
    "scrolled": false
   },
   "outputs": [
    {
     "name": "stdout",
     "output_type": "stream",
     "text": [
      "chr19\n",
      "bedtools intersect -a /dors/capra_lab/users/fongsl/broadly_active_enhancers/data/villar_ref_data/chr19_hspecific_villar_bae_hq_aln.bed -b /dors/capra_lab/users/fongsl/broadly_active_enhancers/data/hg19_human_specific_coordinates/hg19_human_specific_genome_coordinates_chr19.bed > /dors/capra_lab/users/fongsl/broadly_active_enhancers/data/villar_ref_data/villar_maf/chr19_hspec_x_hg19.bed\n",
      "chr4\n",
      "bedtools intersect -a /dors/capra_lab/users/fongsl/broadly_active_enhancers/data/villar_ref_data/chr4_hspecific_villar_bae_hq_aln.bed -b /dors/capra_lab/users/fongsl/broadly_active_enhancers/data/hg19_human_specific_coordinates/hg19_human_specific_genome_coordinates_chr4.bed > /dors/capra_lab/users/fongsl/broadly_active_enhancers/data/villar_ref_data/villar_maf/chr4_hspec_x_hg19.bed\n",
      "chr21\n",
      "bedtools intersect -a /dors/capra_lab/users/fongsl/broadly_active_enhancers/data/villar_ref_data/chr21_hspecific_villar_bae_hq_aln.bed -b /dors/capra_lab/users/fongsl/broadly_active_enhancers/data/hg19_human_specific_coordinates/hg19_human_specific_genome_coordinates_chr21.bed > /dors/capra_lab/users/fongsl/broadly_active_enhancers/data/villar_ref_data/villar_maf/chr21_hspec_x_hg19.bed\n",
      "chr14\n",
      "bedtools intersect -a /dors/capra_lab/users/fongsl/broadly_active_enhancers/data/villar_ref_data/chr14_hspecific_villar_bae_hq_aln.bed -b /dors/capra_lab/users/fongsl/broadly_active_enhancers/data/hg19_human_specific_coordinates/hg19_human_specific_genome_coordinates_chr14.bed > /dors/capra_lab/users/fongsl/broadly_active_enhancers/data/villar_ref_data/villar_maf/chr14_hspec_x_hg19.bed\n",
      "chr10\n",
      "bedtools intersect -a /dors/capra_lab/users/fongsl/broadly_active_enhancers/data/villar_ref_data/chr10_hspecific_villar_bae_hq_aln.bed -b /dors/capra_lab/users/fongsl/broadly_active_enhancers/data/hg19_human_specific_coordinates/hg19_human_specific_genome_coordinates_chr10.bed > /dors/capra_lab/users/fongsl/broadly_active_enhancers/data/villar_ref_data/villar_maf/chr10_hspec_x_hg19.bed\n",
      "chr18\n",
      "bedtools intersect -a /dors/capra_lab/users/fongsl/broadly_active_enhancers/data/villar_ref_data/chr18_hspecific_villar_bae_hq_aln.bed -b /dors/capra_lab/users/fongsl/broadly_active_enhancers/data/hg19_human_specific_coordinates/hg19_human_specific_genome_coordinates_chr18.bed > /dors/capra_lab/users/fongsl/broadly_active_enhancers/data/villar_ref_data/villar_maf/chr18_hspec_x_hg19.bed\n",
      "chr1\n",
      "bedtools intersect -a /dors/capra_lab/users/fongsl/broadly_active_enhancers/data/villar_ref_data/chr1_hspecific_villar_bae_hq_aln.bed -b /dors/capra_lab/users/fongsl/broadly_active_enhancers/data/hg19_human_specific_coordinates/hg19_human_specific_genome_coordinates_chr1.bed > /dors/capra_lab/users/fongsl/broadly_active_enhancers/data/villar_ref_data/villar_maf/chr1_hspec_x_hg19.bed\n",
      "chr13\n",
      "bedtools intersect -a /dors/capra_lab/users/fongsl/broadly_active_enhancers/data/villar_ref_data/chr13_hspecific_villar_bae_hq_aln.bed -b /dors/capra_lab/users/fongsl/broadly_active_enhancers/data/hg19_human_specific_coordinates/hg19_human_specific_genome_coordinates_chr13.bed > /dors/capra_lab/users/fongsl/broadly_active_enhancers/data/villar_ref_data/villar_maf/chr13_hspec_x_hg19.bed\n",
      "chr11\n",
      "bedtools intersect -a /dors/capra_lab/users/fongsl/broadly_active_enhancers/data/villar_ref_data/chr11_hspecific_villar_bae_hq_aln.bed -b /dors/capra_lab/users/fongsl/broadly_active_enhancers/data/hg19_human_specific_coordinates/hg19_human_specific_genome_coordinates_chr11.bed > /dors/capra_lab/users/fongsl/broadly_active_enhancers/data/villar_ref_data/villar_maf/chr11_hspec_x_hg19.bed\n",
      "chrX\n",
      "bedtools intersect -a /dors/capra_lab/users/fongsl/broadly_active_enhancers/data/villar_ref_data/chrX_hspecific_villar_bae_hq_aln.bed -b /dors/capra_lab/users/fongsl/broadly_active_enhancers/data/hg19_human_specific_coordinates/hg19_human_specific_genome_coordinates_chrX.bed > /dors/capra_lab/users/fongsl/broadly_active_enhancers/data/villar_ref_data/villar_maf/chrX_hspec_x_hg19.bed\n",
      "chr6\n",
      "bedtools intersect -a /dors/capra_lab/users/fongsl/broadly_active_enhancers/data/villar_ref_data/chr6_hspecific_villar_bae_hq_aln.bed -b /dors/capra_lab/users/fongsl/broadly_active_enhancers/data/hg19_human_specific_coordinates/hg19_human_specific_genome_coordinates_chr6.bed > /dors/capra_lab/users/fongsl/broadly_active_enhancers/data/villar_ref_data/villar_maf/chr6_hspec_x_hg19.bed\n",
      "chr9\n",
      "bedtools intersect -a /dors/capra_lab/users/fongsl/broadly_active_enhancers/data/villar_ref_data/chr9_hspecific_villar_bae_hq_aln.bed -b /dors/capra_lab/users/fongsl/broadly_active_enhancers/data/hg19_human_specific_coordinates/hg19_human_specific_genome_coordinates_chr9.bed > /dors/capra_lab/users/fongsl/broadly_active_enhancers/data/villar_ref_data/villar_maf/chr9_hspec_x_hg19.bed\n",
      "chr15\n",
      "bedtools intersect -a /dors/capra_lab/users/fongsl/broadly_active_enhancers/data/villar_ref_data/chr15_hspecific_villar_bae_hq_aln.bed -b /dors/capra_lab/users/fongsl/broadly_active_enhancers/data/hg19_human_specific_coordinates/hg19_human_specific_genome_coordinates_chr15.bed > /dors/capra_lab/users/fongsl/broadly_active_enhancers/data/villar_ref_data/villar_maf/chr15_hspec_x_hg19.bed\n",
      "chr12\n",
      "bedtools intersect -a /dors/capra_lab/users/fongsl/broadly_active_enhancers/data/villar_ref_data/chr12_hspecific_villar_bae_hq_aln.bed -b /dors/capra_lab/users/fongsl/broadly_active_enhancers/data/hg19_human_specific_coordinates/hg19_human_specific_genome_coordinates_chr12.bed > /dors/capra_lab/users/fongsl/broadly_active_enhancers/data/villar_ref_data/villar_maf/chr12_hspec_x_hg19.bed\n",
      "chr3\n",
      "bedtools intersect -a /dors/capra_lab/users/fongsl/broadly_active_enhancers/data/villar_ref_data/chr3_hspecific_villar_bae_hq_aln.bed -b /dors/capra_lab/users/fongsl/broadly_active_enhancers/data/hg19_human_specific_coordinates/hg19_human_specific_genome_coordinates_chr3.bed > /dors/capra_lab/users/fongsl/broadly_active_enhancers/data/villar_ref_data/villar_maf/chr3_hspec_x_hg19.bed\n",
      "chr8\n",
      "bedtools intersect -a /dors/capra_lab/users/fongsl/broadly_active_enhancers/data/villar_ref_data/chr8_hspecific_villar_bae_hq_aln.bed -b /dors/capra_lab/users/fongsl/broadly_active_enhancers/data/hg19_human_specific_coordinates/hg19_human_specific_genome_coordinates_chr8.bed > /dors/capra_lab/users/fongsl/broadly_active_enhancers/data/villar_ref_data/villar_maf/chr8_hspec_x_hg19.bed\n",
      "chr16\n",
      "bedtools intersect -a /dors/capra_lab/users/fongsl/broadly_active_enhancers/data/villar_ref_data/chr16_hspecific_villar_bae_hq_aln.bed -b /dors/capra_lab/users/fongsl/broadly_active_enhancers/data/hg19_human_specific_coordinates/hg19_human_specific_genome_coordinates_chr16.bed > /dors/capra_lab/users/fongsl/broadly_active_enhancers/data/villar_ref_data/villar_maf/chr16_hspec_x_hg19.bed\n",
      "chr20\n",
      "bedtools intersect -a /dors/capra_lab/users/fongsl/broadly_active_enhancers/data/villar_ref_data/chr20_hspecific_villar_bae_hq_aln.bed -b /dors/capra_lab/users/fongsl/broadly_active_enhancers/data/hg19_human_specific_coordinates/hg19_human_specific_genome_coordinates_chr20.bed > /dors/capra_lab/users/fongsl/broadly_active_enhancers/data/villar_ref_data/villar_maf/chr20_hspec_x_hg19.bed\n",
      "chr22\n",
      "bedtools intersect -a /dors/capra_lab/users/fongsl/broadly_active_enhancers/data/villar_ref_data/chr22_hspecific_villar_bae_hq_aln.bed -b /dors/capra_lab/users/fongsl/broadly_active_enhancers/data/hg19_human_specific_coordinates/hg19_human_specific_genome_coordinates_chr22.bed > /dors/capra_lab/users/fongsl/broadly_active_enhancers/data/villar_ref_data/villar_maf/chr22_hspec_x_hg19.bed\n",
      "chr2\n",
      "bedtools intersect -a /dors/capra_lab/users/fongsl/broadly_active_enhancers/data/villar_ref_data/chr2_hspecific_villar_bae_hq_aln.bed -b /dors/capra_lab/users/fongsl/broadly_active_enhancers/data/hg19_human_specific_coordinates/hg19_human_specific_genome_coordinates_chr2.bed > /dors/capra_lab/users/fongsl/broadly_active_enhancers/data/villar_ref_data/villar_maf/chr2_hspec_x_hg19.bed\n",
      "chr7\n",
      "bedtools intersect -a /dors/capra_lab/users/fongsl/broadly_active_enhancers/data/villar_ref_data/chr7_hspecific_villar_bae_hq_aln.bed -b /dors/capra_lab/users/fongsl/broadly_active_enhancers/data/hg19_human_specific_coordinates/hg19_human_specific_genome_coordinates_chr7.bed > /dors/capra_lab/users/fongsl/broadly_active_enhancers/data/villar_ref_data/villar_maf/chr7_hspec_x_hg19.bed\n",
      "chr5\n",
      "bedtools intersect -a /dors/capra_lab/users/fongsl/broadly_active_enhancers/data/villar_ref_data/chr5_hspecific_villar_bae_hq_aln.bed -b /dors/capra_lab/users/fongsl/broadly_active_enhancers/data/hg19_human_specific_coordinates/hg19_human_specific_genome_coordinates_chr5.bed > /dors/capra_lab/users/fongsl/broadly_active_enhancers/data/villar_ref_data/villar_maf/chr5_hspec_x_hg19.bed\n",
      "chr17\n",
      "bedtools intersect -a /dors/capra_lab/users/fongsl/broadly_active_enhancers/data/villar_ref_data/chr17_hspecific_villar_bae_hq_aln.bed -b /dors/capra_lab/users/fongsl/broadly_active_enhancers/data/hg19_human_specific_coordinates/hg19_human_specific_genome_coordinates_chr17.bed > /dors/capra_lab/users/fongsl/broadly_active_enhancers/data/villar_ref_data/villar_maf/chr17_hspec_x_hg19.bed\n"
     ]
    }
   ],
   "source": [
    "for v_chr, v_file in villar_dict.items():\n",
    "    print(v_chr)\n",
    "    if v_chr in hg19_dict.keys():\n",
    "        hg19_file = hg19_dict[v_chr]\n",
    "        outfile = \"%svillar_maf/%s_hspec_x_hg19.bed\" %(villarpath, v_chr)\n",
    "        \n",
    "        bed_cmd = \"bedtools intersect -a %s -b %s > %s\" %(v_file, hg19_file, outfile)\n",
    "        print(bed_cmd)\n",
    "        os.system(bed_cmd)\n",
    "        "
   ]
  }
 ],
 "metadata": {
  "kernelspec": {
   "display_name": "Python 3",
   "language": "python",
   "name": "python3"
  },
  "language_info": {
   "codemirror_mode": {
    "name": "ipython",
    "version": 3
   },
   "file_extension": ".py",
   "mimetype": "text/x-python",
   "name": "python",
   "nbconvert_exporter": "python",
   "pygments_lexer": "ipython3",
   "version": "3.6.1"
  }
 },
 "nbformat": 4,
 "nbformat_minor": 2
}
