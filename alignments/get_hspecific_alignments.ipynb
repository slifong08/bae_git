{
 "cells": [
  {
   "cell_type": "code",
   "execution_count": 1,
   "metadata": {
    "collapsed": true
   },
   "outputs": [],
   "source": [
    "#180601\n",
    "\n",
    "#sarahfong\n",
    "#biopython is loaded in the sf_test env with 'conda install -c bioconda biopython'"
   ]
  },
  {
   "cell_type": "code",
   "execution_count": 1,
   "metadata": {},
   "outputs": [
    {
     "data": {
      "text/plain": [
       "['',\n",
       " '/home/fongsl/.conda/envs/sf_test/lib/python36.zip',\n",
       " '/home/fongsl/.conda/envs/sf_test/lib/python3.6',\n",
       " '/home/fongsl/.conda/envs/sf_test/lib/python3.6/lib-dynload',\n",
       " '/home/fongsl/.conda/envs/sf_test/lib/python3.6/site-packages',\n",
       " '/home/fongsl/.conda/envs/sf_test/lib/python3.6/site-packages/IPython/extensions',\n",
       " '/gpfs22/home/fongsl/.ipython']"
      ]
     },
     "execution_count": 1,
     "metadata": {},
     "output_type": "execute_result"
    }
   ],
   "source": [
    "import sys, os\n",
    "import glob\n",
    "\n",
    "#SARAH- ADD THE PATH WITH BIOPYTHON\n",
    "bio_package = '/home/fongsl/.conda/envs/sf_test/lib/python3.6/site-packages'\n",
    "if bio_package not in sys.path:\n",
    "\n",
    "    sys.path.append('/home/fongsl/.conda/envs/sf_test/lib/python3.6/site-packages')\n",
    "sys.path"
   ]
  },
  {
   "cell_type": "code",
   "execution_count": 2,
   "metadata": {
    "collapsed": true
   },
   "outputs": [],
   "source": [
    "from Bio import AlignIO\n",
    "from Bio import SeqIO"
   ]
  },
  {
   "cell_type": "code",
   "execution_count": 3,
   "metadata": {
    "collapsed": true
   },
   "outputs": [],
   "source": [
    "# path to data\n",
    "\n",
    "datapath = '/dors/capra_lab/data/alignments/hg19/multiz46way/'\n",
    "\n",
    "outpath = '/dors/capra_lab/users/fongsl/broadly_active_enhancers/data/hg19_human_specific_coordinates/'"
   ]
  },
  {
   "cell_type": "code",
   "execution_count": 4,
   "metadata": {
    "collapsed": true
   },
   "outputs": [],
   "source": [
    "#make a list of the MAF files separated by chromosome\n",
    "\n",
    "maf_list = glob.glob(\"%schr*.maf\"%datapath)\n",
    "maf_dict = {(i.split(\"/\")[-1]).split(\".\")[0]: i for i in maf_list}"
   ]
  },
  {
   "cell_type": "code",
   "execution_count": 5,
   "metadata": {},
   "outputs": [
    {
     "name": "stdout",
     "output_type": "stream",
     "text": [
      "/dors/capra_lab/data/alignments/hg19/multiz46way/chr21.maf\n"
     ]
    }
   ],
   "source": [
    "maf_list = maf_list[0]\n",
    "print(maf_list)"
   ]
  },
  {
   "cell_type": "code",
   "execution_count": 14,
   "metadata": {},
   "outputs": [
    {
     "name": "stdout",
     "output_type": "stream",
     "text": [
      "touch /dors/capra_lab/users/fongsl/broadly_active_enhancers/data/hg19_human_specific_genome_coordinates_chr21.bed\n",
      "touch /dors/capra_lab/users/fongsl/broadly_active_enhancers/data/hg19_human_specific_genome_coordinates_chr14.bed\n",
      "touch /dors/capra_lab/users/fongsl/broadly_active_enhancers/data/hg19_human_specific_genome_coordinates_chr7.bed\n",
      "touch /dors/capra_lab/users/fongsl/broadly_active_enhancers/data/hg19_human_specific_genome_coordinates_chr15.bed\n",
      "touch /dors/capra_lab/users/fongsl/broadly_active_enhancers/data/hg19_human_specific_genome_coordinates_chr2.bed\n",
      "touch /dors/capra_lab/users/fongsl/broadly_active_enhancers/data/hg19_human_specific_genome_coordinates_chr6.bed\n",
      "touch /dors/capra_lab/users/fongsl/broadly_active_enhancers/data/hg19_human_specific_genome_coordinates_chr10.bed\n",
      "touch /dors/capra_lab/users/fongsl/broadly_active_enhancers/data/hg19_human_specific_genome_coordinates_chr1.bed\n",
      "touch /dors/capra_lab/users/fongsl/broadly_active_enhancers/data/hg19_human_specific_genome_coordinates_chr13.bed\n",
      "touch /dors/capra_lab/users/fongsl/broadly_active_enhancers/data/hg19_human_specific_genome_coordinates_chr5.bed\n",
      "touch /dors/capra_lab/users/fongsl/broadly_active_enhancers/data/hg19_human_specific_genome_coordinates_chr17.bed\n",
      "touch /dors/capra_lab/users/fongsl/broadly_active_enhancers/data/hg19_human_specific_genome_coordinates_chrX.bed\n",
      "touch /dors/capra_lab/users/fongsl/broadly_active_enhancers/data/hg19_human_specific_genome_coordinates_chr20.bed\n",
      "touch /dors/capra_lab/users/fongsl/broadly_active_enhancers/data/hg19_human_specific_genome_coordinates_chr11.bed\n",
      "touch /dors/capra_lab/users/fongsl/broadly_active_enhancers/data/hg19_human_specific_genome_coordinates_chr9.bed\n",
      "touch /dors/capra_lab/users/fongsl/broadly_active_enhancers/data/hg19_human_specific_genome_coordinates_chr4.bed\n",
      "touch /dors/capra_lab/users/fongsl/broadly_active_enhancers/data/hg19_human_specific_genome_coordinates_chr12.bed\n",
      "touch /dors/capra_lab/users/fongsl/broadly_active_enhancers/data/hg19_human_specific_genome_coordinates_chr19.bed\n",
      "touch /dors/capra_lab/users/fongsl/broadly_active_enhancers/data/hg19_human_specific_genome_coordinates_chr8.bed\n",
      "touch /dors/capra_lab/users/fongsl/broadly_active_enhancers/data/hg19_human_specific_genome_coordinates_chr18.bed\n",
      "touch /dors/capra_lab/users/fongsl/broadly_active_enhancers/data/hg19_human_specific_genome_coordinates_chr3.bed\n",
      "touch /dors/capra_lab/users/fongsl/broadly_active_enhancers/data/hg19_human_specific_genome_coordinates_chr22.bed\n",
      "touch /dors/capra_lab/users/fongsl/broadly_active_enhancers/data/hg19_human_specific_genome_coordinates_chr16.bed\n"
     ]
    }
   ],
   "source": [
    "for chr_num, MAF_FILE in maf_dict.items():\n",
    "# this grafted from Abin's script. Credits to him. \n",
    "    \n",
    "    # make a file for each chromosome\n",
    "    outfile = \"%shg19_human_specific_genome_coordinates_%s.bed\" %(outpath, chr_num)\n",
    "\n",
    "    touch = \"touch %s\" %outfile\n",
    "    print(touch)\n",
    "    os.system(touch)\n",
    "    out_file = open(outfile, 'w')\n",
    "    \n",
    "    maf = AlignIO.parse(MAF_FILE, \"maf\")\n",
    "    count = 0 \n",
    "    for block in maf: \n",
    "        count += 1\n",
    "        store_homolog_line = []\n",
    "        #print(this_paragraph)\n",
    "        s_count = 0\n",
    "\n",
    "        for row in block:             \n",
    "            ### this is where the parsing happens.... what is the .id part?\n",
    "            species = row.id.split('.')[0]\n",
    "        \n",
    "            blockchr = row.id.split('.')[1]\n",
    "            \n",
    "            start = row.annotations['start']\n",
    "            \n",
    "            end =  row.annotations['start'] + row.annotations['size'] + 1 \n",
    "            \n",
    "            if row.annotations['strand'] == 1:\n",
    "                strand = \"+\" \n",
    "            elif row.annotations['strand'] == -1: \n",
    "                    strand = \"-\"\n",
    "            else: \n",
    "                raise ValueError('strand parsing did not work')     \n",
    "            \n",
    "            store_homolog_line.append([blockchr, start, end, strand, species, str(s_count)])\n",
    "                \n",
    "            s_count +=1\n",
    "        \n",
    "        if s_count ==1:\n",
    "    \n",
    "            store_homolog_line = [value for v in store_homolog_line for value in v]\n",
    "            out_file.write('\\t'.join(map(str,store_homolog_line)) + '\\n')\n",
    "       \n",
    "    out_file.close()\n",
    "        "
   ]
  }
 ],
 "metadata": {
  "kernelspec": {
   "display_name": "Python 3",
   "language": "python",
   "name": "python3"
  },
  "language_info": {
   "codemirror_mode": {
    "name": "ipython",
    "version": 3
   },
   "file_extension": ".py",
   "mimetype": "text/x-python",
   "name": "python",
   "nbconvert_exporter": "python",
   "pygments_lexer": "ipython3",
   "version": "3.6.1"
  }
 },
 "nbformat": 4,
 "nbformat_minor": 2
}
