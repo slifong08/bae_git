{
 "cells": [
  {
   "cell_type": "code",
   "execution_count": null,
   "metadata": {
    "collapsed": true
   },
   "outputs": [],
   "source": [
    "#!/bin/python\n",
    "\n",
    "#sarahfong\n",
    "#20180614"
   ]
  },
  {
   "cell_type": "code",
   "execution_count": 1,
   "metadata": {
    "collapsed": true
   },
   "outputs": [],
   "source": [
    "import pandas\n",
    "import os"
   ]
  },
  {
   "cell_type": "code",
   "execution_count": 3,
   "metadata": {},
   "outputs": [
    {
     "data": {
      "text/plain": [
       "0"
      ]
     },
     "execution_count": 3,
     "metadata": {},
     "output_type": "execute_result"
    }
   ],
   "source": [
    "os.system(\"source activate sf_test\")"
   ]
  },
  {
   "cell_type": "code",
   "execution_count": 2,
   "metadata": {
    "collapsed": true
   },
   "outputs": [],
   "source": [
    "bedpath = \"/dors/capra_lab/projects/enhancer_uniqueness/data2/villar15/combinedPeakCalls/\""
   ]
  },
  {
   "cell_type": "code",
   "execution_count": 7,
   "metadata": {},
   "outputs": [],
   "source": [
    "#file of the multiintersected roadmap enhancer peaks\n",
    "\n",
    "bedfile =\"HSap_H3K4me3.H3K27Ac_overlap_H3K27Aconly.bed\" \n",
    "outpath = \"/dors/capra_lab/users/fongsl/broadly_active_enhancers/data/villar_ref_data/villar_enh_x_chr/\"\n",
    "df = pandas.read_table(\"%s%s\"%(bedpath, bedfile), sep = '\\t', header = -1)\n",
    "num = df[0].unique()\n",
    "for chr_num in num:\n",
    "    chr_df = df.loc[df[0]== chr_num]\n",
    "    chr_df = chr_df[[0,1,2]]\n",
    "    chr_df.to_csv(\"%s%s_%s\" %(outpath, chr_num, bedfile), index = False, header = False, sep = '\\t')"
   ]
  },
  {
   "cell_type": "code",
   "execution_count": 5,
   "metadata": {},
   "outputs": [
    {
     "data": {
      "text/html": [
       "<div>\n",
       "<style>\n",
       "    .dataframe thead tr:only-child th {\n",
       "        text-align: right;\n",
       "    }\n",
       "\n",
       "    .dataframe thead th {\n",
       "        text-align: left;\n",
       "    }\n",
       "\n",
       "    .dataframe tbody tr th {\n",
       "        vertical-align: top;\n",
       "    }\n",
       "</style>\n",
       "<table border=\"1\" class=\"dataframe\">\n",
       "  <thead>\n",
       "    <tr style=\"text-align: right;\">\n",
       "      <th></th>\n",
       "      <th>0</th>\n",
       "      <th>1</th>\n",
       "      <th>2</th>\n",
       "      <th>3</th>\n",
       "    </tr>\n",
       "  </thead>\n",
       "  <tbody>\n",
       "    <tr>\n",
       "      <th>0</th>\n",
       "      <td>chr20</td>\n",
       "      <td>270226</td>\n",
       "      <td>272388</td>\n",
       "      <td>hsaH3K27Ac23366</td>\n",
       "    </tr>\n",
       "    <tr>\n",
       "      <th>1</th>\n",
       "      <td>chr20</td>\n",
       "      <td>289482</td>\n",
       "      <td>291606</td>\n",
       "      <td>hsaH3K27Ac23368</td>\n",
       "    </tr>\n",
       "    <tr>\n",
       "      <th>2</th>\n",
       "      <td>chr20</td>\n",
       "      <td>342933</td>\n",
       "      <td>346519</td>\n",
       "      <td>hsaH3K27Ac23371</td>\n",
       "    </tr>\n",
       "    <tr>\n",
       "      <th>3</th>\n",
       "      <td>chr20</td>\n",
       "      <td>346432</td>\n",
       "      <td>347763</td>\n",
       "      <td>hsaH3K27Ac23372</td>\n",
       "    </tr>\n",
       "    <tr>\n",
       "      <th>4</th>\n",
       "      <td>chr20</td>\n",
       "      <td>350157</td>\n",
       "      <td>354996</td>\n",
       "      <td>hsaH3K27Ac23373</td>\n",
       "    </tr>\n",
       "  </tbody>\n",
       "</table>\n",
       "</div>"
      ],
      "text/plain": [
       "       0       1       2                3\n",
       "0  chr20  270226  272388  hsaH3K27Ac23366\n",
       "1  chr20  289482  291606  hsaH3K27Ac23368\n",
       "2  chr20  342933  346519  hsaH3K27Ac23371\n",
       "3  chr20  346432  347763  hsaH3K27Ac23372\n",
       "4  chr20  350157  354996  hsaH3K27Ac23373"
      ]
     },
     "execution_count": 5,
     "metadata": {},
     "output_type": "execute_result"
    }
   ],
   "source": [
    "bedfile =\"HSap_H3K4me3.H3K27Ac_overlap_H3K27Aconly.bed\" \n",
    "outpath = \"/dors/capra_lab/users/fongsl/broadly_active_enhancers/data/villar_ref_data/villar_enh_x_chr/\"\n",
    "df = pandas.read_table(\"%s%s\"%(bedpath, bedfile), sep = '\\t', header=-1)\n",
    "df.head()\n",
    "#num = df['0'].unique()"
   ]
  }
 ],
 "metadata": {
  "kernelspec": {
   "display_name": "Python 3",
   "language": "python",
   "name": "python3"
  },
  "language_info": {
   "codemirror_mode": {
    "name": "ipython",
    "version": 3
   },
   "file_extension": ".py",
   "mimetype": "text/x-python",
   "name": "python",
   "nbconvert_exporter": "python",
   "pygments_lexer": "ipython3",
   "version": "3.6.1"
  }
 },
 "nbformat": 4,
 "nbformat_minor": 2
}
