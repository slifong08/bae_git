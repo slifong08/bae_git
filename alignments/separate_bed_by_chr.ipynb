{
 "cells": [
  {
   "cell_type": "code",
   "execution_count": null,
   "metadata": {
    "collapsed": true
   },
   "outputs": [],
   "source": [
    "#!/bin/python\n",
    "\n",
    "#sarahfong\n",
    "#180530"
   ]
  },
  {
   "cell_type": "code",
   "execution_count": 1,
   "metadata": {
    "collapsed": true
   },
   "outputs": [],
   "source": [
    "import pandas\n",
    "import os"
   ]
  },
  {
   "cell_type": "code",
   "execution_count": 3,
   "metadata": {},
   "outputs": [
    {
     "data": {
      "text/plain": [
       "0"
      ]
     },
     "execution_count": 3,
     "metadata": {},
     "output_type": "execute_result"
    }
   ],
   "source": [
    "os.system(\"source activate sf_test\")"
   ]
  },
  {
   "cell_type": "code",
   "execution_count": 4,
   "metadata": {
    "collapsed": true
   },
   "outputs": [],
   "source": [
    "bedpath = \"/dors/capra_lab/users/fongsl/broadly_active_enhancers/data/roadmap_multi_data/\""
   ]
  },
  {
   "cell_type": "code",
   "execution_count": 5,
   "metadata": {},
   "outputs": [
    {
     "data": {
      "text/html": [
       "<div>\n",
       "<style>\n",
       "    .dataframe thead tr:only-child th {\n",
       "        text-align: right;\n",
       "    }\n",
       "\n",
       "    .dataframe thead th {\n",
       "        text-align: left;\n",
       "    }\n",
       "\n",
       "    .dataframe tbody tr th {\n",
       "        vertical-align: top;\n",
       "    }\n",
       "</style>\n",
       "<table border=\"1\" class=\"dataframe\">\n",
       "  <thead>\n",
       "    <tr style=\"text-align: right;\">\n",
       "      <th></th>\n",
       "      <th>0</th>\n",
       "      <th>1</th>\n",
       "      <th>2</th>\n",
       "      <th>3</th>\n",
       "      <th>4</th>\n",
       "      <th>5</th>\n",
       "    </tr>\n",
       "  </thead>\n",
       "  <tbody>\n",
       "    <tr>\n",
       "      <th>0</th>\n",
       "      <td>chr1</td>\n",
       "      <td>1440605</td>\n",
       "      <td>1440986</td>\n",
       "      <td>37</td>\n",
       "      <td>2,5,6,7,8,10,14,16,20,21,22,25,31,34,39,40,43,...</td>\n",
       "      <td>381</td>\n",
       "    </tr>\n",
       "    <tr>\n",
       "      <th>1</th>\n",
       "      <td>chr1</td>\n",
       "      <td>1757952</td>\n",
       "      <td>1757964</td>\n",
       "      <td>37</td>\n",
       "      <td>2,3,5,9,10,14,17,20,22,23,25,29,31,32,35,37,38...</td>\n",
       "      <td>12</td>\n",
       "    </tr>\n",
       "    <tr>\n",
       "      <th>2</th>\n",
       "      <td>chr1</td>\n",
       "      <td>1757964</td>\n",
       "      <td>1757995</td>\n",
       "      <td>38</td>\n",
       "      <td>2,3,5,9,10,13,14,17,20,22,23,25,29,31,32,35,37...</td>\n",
       "      <td>31</td>\n",
       "    </tr>\n",
       "    <tr>\n",
       "      <th>3</th>\n",
       "      <td>chr1</td>\n",
       "      <td>1757995</td>\n",
       "      <td>1758058</td>\n",
       "      <td>39</td>\n",
       "      <td>2,3,5,9,10,13,14,17,20,22,23,25,29,31,32,35,37...</td>\n",
       "      <td>63</td>\n",
       "    </tr>\n",
       "    <tr>\n",
       "      <th>4</th>\n",
       "      <td>chr1</td>\n",
       "      <td>1758058</td>\n",
       "      <td>1758065</td>\n",
       "      <td>40</td>\n",
       "      <td>2,3,5,9,10,13,14,17,20,22,23,25,29,31,32,35,37...</td>\n",
       "      <td>7</td>\n",
       "    </tr>\n",
       "  </tbody>\n",
       "</table>\n",
       "</div>"
      ],
      "text/plain": [
       "      0        1        2   3  \\\n",
       "0  chr1  1440605  1440986  37   \n",
       "1  chr1  1757952  1757964  37   \n",
       "2  chr1  1757964  1757995  38   \n",
       "3  chr1  1757995  1758058  39   \n",
       "4  chr1  1758058  1758065  40   \n",
       "\n",
       "                                                   4    5  \n",
       "0  2,5,6,7,8,10,14,16,20,21,22,25,31,34,39,40,43,...  381  \n",
       "1  2,3,5,9,10,14,17,20,22,23,25,29,31,32,35,37,38...   12  \n",
       "2  2,3,5,9,10,13,14,17,20,22,23,25,29,31,32,35,37...   31  \n",
       "3  2,3,5,9,10,13,14,17,20,22,23,25,29,31,32,35,37...   63  \n",
       "4  2,3,5,9,10,13,14,17,20,22,23,25,29,31,32,35,37...    7  "
      ]
     },
     "execution_count": 5,
     "metadata": {},
     "output_type": "execute_result"
    }
   ],
   "source": [
    "#file of the multiintersected roadmap enhancer peaks\n",
    "\n",
    "bedfile =\"short_multiintersect_roadmap.bed\" \n",
    "\n",
    "df = pandas.read_table(\"%s%s\"%(bedpath, bedfile), sep = '\\t')\n",
    "num = df['0'].unique()\n",
    "for chr_num in num:\n",
    "    chr_df = df.loc[df[\"0\"]== chr_num]\n",
    "    chr_df = chr_df[[\"0\",\"1\",\"2\"]]\n",
    "    chr_df.to_csv(\"%s%s_%s\" %(bedpath, chr_num, bedfile), index = False, header = False, sep = '\\t')"
   ]
  },
  {
   "cell_type": "code",
   "execution_count": 10,
   "metadata": {
    "collapsed": true
   },
   "outputs": [],
   "source": [
    "#the 99th percentile of overlapping roadmap multi-intersect enhancer peaks\n",
    "\n",
    "bedfile99 = \"99_short_multiintersect_roadmap.bed\"\n",
    "df99 = pandas.read_table(\"%s%s\"%(bedpath, bedfile99), sep = '\\t', header=-1)\n",
    "num99 = df99[0].unique()\n",
    "for chr_num in num99:\n",
    "    chr_df = df99.loc[df99[0]== chr_num]\n",
    "    chr_df = chr_df[[0,1,2]]\n",
    "    chr_df.to_csv(\"%s%s_%s\" %(bedpath, chr_num, bedfile99), index = False, header = False, sep = '\\t')"
   ]
  },
  {
   "cell_type": "code",
   "execution_count": null,
   "metadata": {
    "collapsed": true
   },
   "outputs": [],
   "source": [
    "#the 90th percentile of villar overlapping roadmap enhancer peaks\n",
    "datapath = \"/dors/capra_lab/users/fongsl/broadly_active_enhancers/data/villar_ref_data/\"\n",
    "bedfile = \"hspecific_villar_bae_hq_aln.bed\"\n",
    "\n",
    "df = pandas.read_table(\"%s%s\"%(datapath, bedfile), sep = '\\t')\n",
    "num = df['v-chr'].unique()\n",
    "for chr_num in num:\n",
    "    chr_df = df.loc[df[\"v-chr\"]== chr_num]\n",
    "    chr_df.to_csv(\"%s%s_%s\" %(datapath, chr_num, bedfile), index = False, header = False, sep = '\\t')"
   ]
  }
 ],
 "metadata": {
  "kernelspec": {
   "display_name": "Python [default]",
   "language": "python",
   "name": "python3"
  },
  "language_info": {
   "codemirror_mode": {
    "name": "ipython",
    "version": 3
   },
   "file_extension": ".py",
   "mimetype": "text/x-python",
   "name": "python",
   "nbconvert_exporter": "python",
   "pygments_lexer": "ipython3",
   "version": "3.6.2"
  }
 },
 "nbformat": 4,
 "nbformat_minor": 2
}
