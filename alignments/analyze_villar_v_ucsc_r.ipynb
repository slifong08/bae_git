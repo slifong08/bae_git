{
 "cells": [
  {
   "cell_type": "code",
   "execution_count": null,
   "metadata": {
    "collapsed": true
   },
   "outputs": [],
   "source": [
    "#20180614\n",
    "#sarahfong\n",
    "\n",
    "#thepurpose of this script is to analyze the overlap of villar enhancers with ucsc multiple sequence alignment files \n",
    "#in the context of the 8-species we've used to identify broadly active enhancers. "
   ]
  },
  {
   "cell_type": "code",
   "execution_count": 1,
   "metadata": {},
   "outputs": [
    {
     "name": "stderr",
     "output_type": "stream",
     "text": [
      "Warning message:\n",
      "“package ‘ggplot2’ was built under R version 3.4.3”"
     ]
    }
   ],
   "source": [
    "library(ggplot2)"
   ]
  },
  {
   "cell_type": "code",
   "execution_count": 13,
   "metadata": {},
   "outputs": [
    {
     "data": {
      "text/html": [
       "<ol class=list-inline>\n",
       "\t<li>140528</li>\n",
       "\t<li>11</li>\n",
       "</ol>\n"
      ],
      "text/latex": [
       "\\begin{enumerate*}\n",
       "\\item 140528\n",
       "\\item 11\n",
       "\\end{enumerate*}\n"
      ],
      "text/markdown": [
       "1. 140528\n",
       "2. 11\n",
       "\n",
       "\n"
      ],
      "text/plain": [
       "[1] 140528     11"
      ]
     },
     "metadata": {},
     "output_type": "display_data"
    },
    {
     "data": {
      "text/html": [
       "<table>\n",
       "<thead><tr><th scope=col>v_chr</th><th scope=col>v_start</th><th scope=col>v_end</th><th scope=col>hg19_chr</th><th scope=col>hg19_start</th><th scope=col>hg19_end</th><th scope=col>strand</th><th scope=col>ref</th><th scope=col>sp46</th><th scope=col>sp8_villar</th><th scope=col>overlap_bp</th></tr></thead>\n",
       "<tbody>\n",
       "\t<tr><td>chr1  </td><td>753206</td><td>753857</td><td>chr1  </td><td>753174</td><td>753298</td><td>+     </td><td>hg19  </td><td>5     </td><td>1     </td><td> 92   </td></tr>\n",
       "\t<tr><td>chr1  </td><td>753206</td><td>753857</td><td>chr1  </td><td>753297</td><td>753349</td><td>+     </td><td>hg19  </td><td>6     </td><td>1     </td><td> 52   </td></tr>\n",
       "\t<tr><td>chr1  </td><td>753206</td><td>753857</td><td>chr1  </td><td>753348</td><td>753989</td><td>+     </td><td>hg19  </td><td>6     </td><td>1     </td><td>509   </td></tr>\n",
       "\t<tr><td>chr1  </td><td>764441</td><td>766297</td><td>chr1  </td><td>764085</td><td>764555</td><td>+     </td><td>hg19  </td><td>4     </td><td>1     </td><td>114   </td></tr>\n",
       "\t<tr><td>chr1  </td><td>764441</td><td>766297</td><td>chr1  </td><td>764554</td><td>764647</td><td>+     </td><td>hg19  </td><td>5     </td><td>1     </td><td> 93   </td></tr>\n",
       "\t<tr><td>chr1  </td><td>764441</td><td>766297</td><td>chr1  </td><td>764646</td><td>764667</td><td>+     </td><td>hg19  </td><td>6     </td><td>1     </td><td> 21   </td></tr>\n",
       "</tbody>\n",
       "</table>\n"
      ],
      "text/latex": [
       "\\begin{tabular}{r|lllllllllll}\n",
       " v\\_chr & v\\_start & v\\_end & hg19\\_chr & hg19\\_start & hg19\\_end & strand & ref & sp46 & sp8\\_villar & overlap\\_bp\\\\\n",
       "\\hline\n",
       "\t chr1   & 753206 & 753857 & chr1   & 753174 & 753298 & +      & hg19   & 5      & 1      &  92   \\\\\n",
       "\t chr1   & 753206 & 753857 & chr1   & 753297 & 753349 & +      & hg19   & 6      & 1      &  52   \\\\\n",
       "\t chr1   & 753206 & 753857 & chr1   & 753348 & 753989 & +      & hg19   & 6      & 1      & 509   \\\\\n",
       "\t chr1   & 764441 & 766297 & chr1   & 764085 & 764555 & +      & hg19   & 4      & 1      & 114   \\\\\n",
       "\t chr1   & 764441 & 766297 & chr1   & 764554 & 764647 & +      & hg19   & 5      & 1      &  93   \\\\\n",
       "\t chr1   & 764441 & 766297 & chr1   & 764646 & 764667 & +      & hg19   & 6      & 1      &  21   \\\\\n",
       "\\end{tabular}\n"
      ],
      "text/markdown": [
       "\n",
       "v_chr | v_start | v_end | hg19_chr | hg19_start | hg19_end | strand | ref | sp46 | sp8_villar | overlap_bp | \n",
       "|---|---|---|---|---|---|\n",
       "| chr1   | 753206 | 753857 | chr1   | 753174 | 753298 | +      | hg19   | 5      | 1      |  92    | \n",
       "| chr1   | 753206 | 753857 | chr1   | 753297 | 753349 | +      | hg19   | 6      | 1      |  52    | \n",
       "| chr1   | 753206 | 753857 | chr1   | 753348 | 753989 | +      | hg19   | 6      | 1      | 509    | \n",
       "| chr1   | 764441 | 766297 | chr1   | 764085 | 764555 | +      | hg19   | 4      | 1      | 114    | \n",
       "| chr1   | 764441 | 766297 | chr1   | 764554 | 764647 | +      | hg19   | 5      | 1      |  93    | \n",
       "| chr1   | 764441 | 766297 | chr1   | 764646 | 764667 | +      | hg19   | 6      | 1      |  21    | \n",
       "\n",
       "\n"
      ],
      "text/plain": [
       "  v_chr v_start v_end  hg19_chr hg19_start hg19_end strand ref  sp46 sp8_villar\n",
       "1 chr1  753206  753857 chr1     753174     753298   +      hg19 5    1         \n",
       "2 chr1  753206  753857 chr1     753297     753349   +      hg19 6    1         \n",
       "3 chr1  753206  753857 chr1     753348     753989   +      hg19 6    1         \n",
       "4 chr1  764441  766297 chr1     764085     764555   +      hg19 4    1         \n",
       "5 chr1  764441  766297 chr1     764554     764647   +      hg19 5    1         \n",
       "6 chr1  764441  766297 chr1     764646     764667   +      hg19 6    1         \n",
       "  overlap_bp\n",
       "1  92       \n",
       "2  52       \n",
       "3 509       \n",
       "4 114       \n",
       "5  93       \n",
       "6  21       "
      ]
     },
     "metadata": {},
     "output_type": "display_data"
    }
   ],
   "source": [
    "#get 9-way bed-files\n",
    "\n",
    "dir = '/dors/capra_lab/users/fongsl/broadly_active_enhancers/data/villar_ref_data/villar_enh_x_chr'\n",
    "setwd(dir)\n",
    "\n",
    "df<- read.table(\"chr1_all_x_hg19-9way.bed\", sep = '\\t') \n",
    "dim(df)\n",
    "\n",
    "names(df) = c(\"v_chr\", \"v_start\", \"v_end\", \"hg19_chr\", \"hg19_start\", \"hg19_end\", \"strand\",\"ref\", \"sp46\", \"sp8_villar\", \"overlap_bp\")\n",
    "head(df)"
   ]
  },
  {
   "cell_type": "code",
   "execution_count": null,
   "metadata": {},
   "outputs": [],
   "source": [
    "ggplot(df, aes(df$sp8_villar)) + geom_histogram() + ggtitle(\"number of villar enhancers overlapping ucsc 8-way species, chr1\")"
   ]
  },
  {
   "cell_type": "code",
   "execution_count": 10,
   "metadata": {},
   "outputs": [
    {
     "name": "stdout",
     "output_type": "stream",
     "text": [
      " [1] \"chr10_all_x_hg19-9way.bed\" \"chr11_all_x_hg19-9way.bed\"\n",
      " [3] \"chr12_all_x_hg19-9way.bed\" \"chr13_all_x_hg19-9way.bed\"\n",
      " [5] \"chr14_all_x_hg19-9way.bed\" \"chr15_all_x_hg19-9way.bed\"\n",
      " [7] \"chr16_all_x_hg19-9way.bed\" \"chr17_all_x_hg19-9way.bed\"\n",
      " [9] \"chr18_all_x_hg19-9way.bed\" \"chr19_all_x_hg19-9way.bed\"\n",
      "[11] \"chr2_all_x_hg19-9way.bed\"  \"chr20_all_x_hg19-9way.bed\"\n",
      "[13] \"chr21_all_x_hg19-9way.bed\" \"chr22_all_x_hg19-9way.bed\"\n",
      "[15] \"chr3_all_x_hg19-9way.bed\"  \"chr4_all_x_hg19-9way.bed\" \n",
      "[17] \"chr5_all_x_hg19-9way.bed\"  \"chr6_all_x_hg19-9way.bed\" \n",
      "[19] \"chr7_all_x_hg19-9way.bed\"  \"chr8_all_x_hg19-9way.bed\" \n",
      "[21] \"chr9_all_x_hg19-9way.bed\"  \"chrX_all_x_hg19-9way.bed\" \n"
     ]
    }
   ],
   "source": [
    "a = list.files(pattern='\\\\hg19-9way.bed$')\n",
    "# read in a 'seed' file to bind all the rest of the files to\n",
    "\n",
    "a <- a[2:23]\n",
    "print(a)"
   ]
  },
  {
   "cell_type": "code",
   "execution_count": null,
   "metadata": {},
   "outputs": [],
   "source": [
    "for (file in a) {\n",
    "  table <- read.table(file, sep = '\\t')\n",
    "  names(table) = c(\"v_chr\", \"v_start\", \"v_end\", \"hg19_chr\", \"hg19_start\", \"hg19_end\", \"strand\",\"ref\", \"sp46\", \"sp8_villar\", \"overlap_bp\")\n",
    "  print(dim(table))\n",
    "  df<-rbind(df, table)\n",
    "}"
   ]
  },
  {
   "cell_type": "code",
   "execution_count": null,
   "metadata": {},
   "outputs": [],
   "source": [
    "ggplot(df, aes(df$sp8_villar, color = v_chr)) +\n",
    "  geom_histogram() + \n",
    "  ggtitle(\"Villar human liver enhancer overlap with villar-specific species in UCSC\")\n"
   ]
  },
  {
   "cell_type": "code",
   "execution_count": 22,
   "metadata": {},
   "outputs": [
    {
     "data": {
      "text/html": [
       "<ol class=list-inline>\n",
       "\t<li>6205</li>\n",
       "\t<li>1</li>\n",
       "</ol>\n"
      ],
      "text/latex": [
       "\\begin{enumerate*}\n",
       "\\item 6205\n",
       "\\item 1\n",
       "\\end{enumerate*}\n"
      ],
      "text/markdown": [
       "1. 6205\n",
       "2. 1\n",
       "\n",
       "\n"
      ],
      "text/plain": [
       "[1] 6205    1"
      ]
     },
     "metadata": {},
     "output_type": "display_data"
    },
    {
     "data": {
      "text/html": [
       "<table>\n",
       "<thead><tr><th></th><th scope=col>v_chr</th><th scope=col>v_start</th><th scope=col>v_end</th><th scope=col>hg19_chr</th><th scope=col>hg19_start</th><th scope=col>hg19_end</th><th scope=col>strand</th><th scope=col>ref</th><th scope=col>sp46</th><th scope=col>sp8_villar</th><th scope=col>overlap_bp</th><th scope=col>v_coor</th></tr></thead>\n",
       "<tbody>\n",
       "\t<tr><th scope=row>17</th><td>chr1              </td><td>839844            </td><td>840941            </td><td>chr1              </td><td>839815            </td><td>839865            </td><td>+                 </td><td>hg19              </td><td>4                 </td><td>0                 </td><td> 21               </td><td>chr1-839844-840941</td></tr>\n",
       "\t<tr><th scope=row>18</th><td>chr1              </td><td>839844            </td><td>840941            </td><td>chr1              </td><td>839864            </td><td>839945            </td><td>+                 </td><td>hg19              </td><td>3                 </td><td>0                 </td><td> 81               </td><td>chr1-839844-840941</td></tr>\n",
       "\t<tr><th scope=row>19</th><td>chr1              </td><td>839844            </td><td>840941            </td><td>chr1              </td><td>839944            </td><td>840055            </td><td>+                 </td><td>hg19              </td><td>2                 </td><td>0                 </td><td>111               </td><td>chr1-839844-840941</td></tr>\n",
       "\t<tr><th scope=row>20</th><td>chr1              </td><td>839844            </td><td>840941            </td><td>chr1              </td><td>840054            </td><td>840097            </td><td>+                 </td><td>hg19              </td><td>3                 </td><td>0                 </td><td> 43               </td><td>chr1-839844-840941</td></tr>\n",
       "\t<tr><th scope=row>21</th><td>chr1              </td><td>839844            </td><td>840941            </td><td>chr1              </td><td>840096            </td><td>840146            </td><td>+                 </td><td>hg19              </td><td>3                 </td><td>0                 </td><td> 50               </td><td>chr1-839844-840941</td></tr>\n",
       "\t<tr><th scope=row>24</th><td>chr1              </td><td>839844            </td><td>840941            </td><td>chr1              </td><td>840339            </td><td>840396            </td><td>+                 </td><td>hg19              </td><td>5                 </td><td>0                 </td><td> 57               </td><td>chr1-839844-840941</td></tr>\n",
       "</tbody>\n",
       "</table>\n"
      ],
      "text/latex": [
       "\\begin{tabular}{r|llllllllllll}\n",
       "  & v\\_chr & v\\_start & v\\_end & hg19\\_chr & hg19\\_start & hg19\\_end & strand & ref & sp46 & sp8\\_villar & overlap\\_bp & v\\_coor\\\\\n",
       "\\hline\n",
       "\t17 & chr1               & 839844             & 840941             & chr1               & 839815             & 839865             & +                  & hg19               & 4                  & 0                  &  21                & chr1-839844-840941\\\\\n",
       "\t18 & chr1               & 839844             & 840941             & chr1               & 839864             & 839945             & +                  & hg19               & 3                  & 0                  &  81                & chr1-839844-840941\\\\\n",
       "\t19 & chr1               & 839844             & 840941             & chr1               & 839944             & 840055             & +                  & hg19               & 2                  & 0                  & 111                & chr1-839844-840941\\\\\n",
       "\t20 & chr1               & 839844             & 840941             & chr1               & 840054             & 840097             & +                  & hg19               & 3                  & 0                  &  43                & chr1-839844-840941\\\\\n",
       "\t21 & chr1               & 839844             & 840941             & chr1               & 840096             & 840146             & +                  & hg19               & 3                  & 0                  &  50                & chr1-839844-840941\\\\\n",
       "\t24 & chr1               & 839844             & 840941             & chr1               & 840339             & 840396             & +                  & hg19               & 5                  & 0                  &  57                & chr1-839844-840941\\\\\n",
       "\\end{tabular}\n"
      ],
      "text/markdown": [
       "\n",
       "| <!--/--> | v_chr | v_start | v_end | hg19_chr | hg19_start | hg19_end | strand | ref | sp46 | sp8_villar | overlap_bp | v_coor | \n",
       "|---|---|---|---|---|---|\n",
       "| 17 | chr1               | 839844             | 840941             | chr1               | 839815             | 839865             | +                  | hg19               | 4                  | 0                  |  21                | chr1-839844-840941 | \n",
       "| 18 | chr1               | 839844             | 840941             | chr1               | 839864             | 839945             | +                  | hg19               | 3                  | 0                  |  81                | chr1-839844-840941 | \n",
       "| 19 | chr1               | 839844             | 840941             | chr1               | 839944             | 840055             | +                  | hg19               | 2                  | 0                  | 111                | chr1-839844-840941 | \n",
       "| 20 | chr1               | 839844             | 840941             | chr1               | 840054             | 840097             | +                  | hg19               | 3                  | 0                  |  43                | chr1-839844-840941 | \n",
       "| 21 | chr1               | 839844             | 840941             | chr1               | 840096             | 840146             | +                  | hg19               | 3                  | 0                  |  50                | chr1-839844-840941 | \n",
       "| 24 | chr1               | 839844             | 840941             | chr1               | 840339             | 840396             | +                  | hg19               | 5                  | 0                  |  57                | chr1-839844-840941 | \n",
       "\n",
       "\n"
      ],
      "text/plain": [
       "   v_chr v_start v_end  hg19_chr hg19_start hg19_end strand ref  sp46\n",
       "17 chr1  839844  840941 chr1     839815     839865   +      hg19 4   \n",
       "18 chr1  839844  840941 chr1     839864     839945   +      hg19 3   \n",
       "19 chr1  839844  840941 chr1     839944     840055   +      hg19 2   \n",
       "20 chr1  839844  840941 chr1     840054     840097   +      hg19 3   \n",
       "21 chr1  839844  840941 chr1     840096     840146   +      hg19 3   \n",
       "24 chr1  839844  840941 chr1     840339     840396   +      hg19 5   \n",
       "   sp8_villar overlap_bp v_coor            \n",
       "17 0           21        chr1-839844-840941\n",
       "18 0           81        chr1-839844-840941\n",
       "19 0          111        chr1-839844-840941\n",
       "20 0           43        chr1-839844-840941\n",
       "21 0           50        chr1-839844-840941\n",
       "24 0           57        chr1-839844-840941"
      ]
     },
     "metadata": {},
     "output_type": "display_data"
    },
    {
     "data": {
      "text/html": [
       "<ol class=list-inline>\n",
       "\t<li>29157</li>\n",
       "\t<li>1</li>\n",
       "</ol>\n"
      ],
      "text/latex": [
       "\\begin{enumerate*}\n",
       "\\item 29157\n",
       "\\item 1\n",
       "\\end{enumerate*}\n"
      ],
      "text/markdown": [
       "1. 29157\n",
       "2. 1\n",
       "\n",
       "\n"
      ],
      "text/plain": [
       "[1] 29157     1"
      ]
     },
     "metadata": {},
     "output_type": "display_data"
    }
   ],
   "source": [
    "#make a unique identifier for villar human-specific, broadly active enhancers\n",
    "df$v_coor = paste0(df$v_chr,\"-\", df$v_start,\"-\", df$v_end)\n",
    "\n",
    "\n",
    "# a data frame of human-specific villar enhancers\n",
    "\n",
    "df_hspecific<-subset(df, df$sp8_villar ==0)\n",
    "df_hspecific_unique<-data.frame(unique(df_hspecific$v_coor))\n",
    "dim(df_hspecific_unique)\n",
    "head(df_hspecific)\n",
    "\n",
    "\n",
    "df_unique<-data.frame(unique(df$v_coor))\n",
    "dim(df_unique)\n",
    "#[1] 481   1"
   ]
  },
  {
   "cell_type": "code",
   "execution_count": null,
   "metadata": {},
   "outputs": [],
   "source": [
    "# what is the average number of other 8-overlapping species in UCSC for humann-specific broadly active enhancers?\n",
    "\n",
    "#make an indexed list\n",
    "avg = c()\n",
    "i<-1\n",
    "\n",
    "for (unique in df_unique$unique.df.v_coor.){\n",
    "  print(unique)\n",
    "    b = subset(df, df$v_coor == unique)\n",
    "    avg_species <- mean(b$sp8_villar)\n",
    "    print(avg_species)\n",
    "    avg[[i]]<- avg_species\n",
    "    i<-i+1\n",
    "}\n"
   ]
  },
  {
   "cell_type": "code",
   "execution_count": null,
   "metadata": {
    "collapsed": true
   },
   "outputs": [],
   "source": [
    "cbind(df_unique, avg)\n",
    "ggplot(df_unique, aes(avg)) + \n",
    "  geom_histogram(bins=100) + \n",
    "  xlab(\"avg. UCSC species\") +\n",
    "  ggtitle(\"avg. UCSC species overlapping human-specific baes\")\n"
   ]
  },
  {
   "cell_type": "code",
   "execution_count": null,
   "metadata": {
    "collapsed": true
   },
   "outputs": [],
   "source": []
  },
  {
   "cell_type": "code",
   "execution_count": null,
   "metadata": {
    "collapsed": true
   },
   "outputs": [],
   "source": []
  },
  {
   "cell_type": "code",
   "execution_count": null,
   "metadata": {
    "collapsed": true
   },
   "outputs": [],
   "source": []
  }
 ],
 "metadata": {
  "kernelspec": {
   "display_name": "R",
   "language": "R",
   "name": "ir"
  },
  "language_info": {
   "codemirror_mode": "r",
   "file_extension": ".r",
   "mimetype": "text/x-r-source",
   "name": "R",
   "pygments_lexer": "r",
   "version": "3.4.1"
  }
 },
 "nbformat": 4,
 "nbformat_minor": 2
}
