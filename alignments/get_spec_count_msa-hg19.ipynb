{
 "cells": [
  {
   "cell_type": "code",
   "execution_count": 1,
   "metadata": {
    "collapsed": true
   },
   "outputs": [],
   "source": [
    "#180601\n",
    "\n",
    "#sarahfong\n",
    "#biopython is loaded in the sf_test env with 'conda install -c bioconda biopython'"
   ]
  },
  {
   "cell_type": "code",
   "execution_count": 1,
   "metadata": {},
   "outputs": [
    {
     "data": {
      "text/plain": [
       "['',\n",
       " '/opt/easybuild/software/MPI/GCC/5.4.0-2.26/OpenMPI/1.10.3/GDAL/2.1.3-Python-2.7.12/lib/python2.7/site-packages',\n",
       " '/opt/easybuild/software/Compiler/GCC/5.4.0-2.26/GEOS/3.6.1-Python-2.7.12/lib/python2.7/site-packages',\n",
       " '/opt/easybuild/software/Core/Anaconda3/4.4.0/lib/python36.zip',\n",
       " '/opt/easybuild/software/Core/Anaconda3/4.4.0/lib/python3.6',\n",
       " '/opt/easybuild/software/Core/Anaconda3/4.4.0/lib/python3.6/lib-dynload',\n",
       " '/opt/easybuild/software/Core/Anaconda3/4.4.0/lib/python3.6/site-packages',\n",
       " '/opt/easybuild/software/Core/Anaconda3/4.4.0/lib/python3.6/site-packages/Sphinx-1.5.6-py3.6.egg',\n",
       " '/opt/easybuild/software/Core/Anaconda3/4.4.0/lib/python3.6/site-packages/setuptools-27.2.0-py3.6.egg',\n",
       " '/opt/easybuild/software/Core/Anaconda3/4.4.0/lib/python3.6/site-packages/IPython/extensions',\n",
       " '/gpfs22/home/fongsl/.ipython',\n",
       " '/home/fongsl/.conda/envs/sf_test/lib/python3.6/site-packages']"
      ]
     },
     "execution_count": 1,
     "metadata": {},
     "output_type": "execute_result"
    }
   ],
   "source": [
    "import sys, os\n",
    "import glob\n",
    "\n",
    "#SARAH- ADD THE PATH WITH BIOPYTHON\n",
    "bio_package = '/home/fongsl/.conda/envs/sf_test/lib/python3.6/site-packages'\n",
    "if bio_package not in sys.path:\n",
    "\n",
    "    sys.path.append('/home/fongsl/.conda/envs/sf_test/lib/python3.6/site-packages')\n",
    "sys.path"
   ]
  },
  {
   "cell_type": "code",
   "execution_count": 2,
   "metadata": {
    "collapsed": true
   },
   "outputs": [],
   "source": [
    "from Bio import AlignIO\n",
    "from Bio import SeqIO"
   ]
  },
  {
   "cell_type": "code",
   "execution_count": 3,
   "metadata": {
    "collapsed": true
   },
   "outputs": [],
   "source": [
    "# path to data\n",
    "\n",
    "datapath = '/dors/capra_lab/data/alignments/hg19/multiz46way/'\n",
    "\n",
    "outpath = '/dors/capra_lab/users/fongsl/broadly_active_enhancers/data/hg19_villar/'"
   ]
  },
  {
   "cell_type": "code",
   "execution_count": 4,
   "metadata": {
    "collapsed": true
   },
   "outputs": [],
   "source": [
    "#make a list of the MAF files separated by chromosome\n",
    "\n",
    "maf_list = glob.glob(\"%schr*.maf\"%datapath)\n",
    "maf_dict = {(i.split(\"/\")[-1]).split(\".\")[0]: i for i in maf_list}"
   ]
  },
  {
   "cell_type": "code",
   "execution_count": 5,
   "metadata": {
    "collapsed": true
   },
   "outputs": [],
   "source": [
    "# make a list of villar species. Pull out any alignments where hg19 matches any of these species\n",
    "#hq_species =['Mmul', 'Cjac', 'Mmus', 'Rnor', 'Ocun', 'Btau', 'Sscr', 'Cfam', 'Fcat'] #rhesus, marmoset, mouse, rat, rabbit, cow\n",
    "hq_species = ['hg19', 'rheMac2', 'calJac1', 'mm9', 'rn4', 'oryCun2', 'bosTau4', 'canFam2', 'felCat3']"
   ]
  },
  {
   "cell_type": "code",
   "execution_count": 8,
   "metadata": {},
   "outputs": [
    {
     "name": "stdout",
     "output_type": "stream",
     "text": [
      "touch /dors/capra_lab/users/fongsl/broadly_active_enhancers/data/hg19_villar/hg19_villar_species_v_human_chr21.bed\n",
      "['chr21', 9448727, 9448879, '+', 'hg19', '0', '0', []]\n",
      "touch /dors/capra_lab/users/fongsl/broadly_active_enhancers/data/hg19_villar/hg19_villar_species_v_human_chr14.bed\n",
      "['chr14', 19060278, 19066322, '+', 'hg19', '0', '0', []]\n",
      "touch /dors/capra_lab/users/fongsl/broadly_active_enhancers/data/hg19_villar/hg19_villar_species_v_human_chr7.bed\n",
      "['chr7', 16391, 16409, '+', 'hg19', '0', '0', []]\n",
      "touch /dors/capra_lab/users/fongsl/broadly_active_enhancers/data/hg19_villar/hg19_villar_species_v_human_chr15.bed\n",
      "['chr15', 20095601, 20099637, '+', 'hg19', '0', '0', []]\n",
      "touch /dors/capra_lab/users/fongsl/broadly_active_enhancers/data/hg19_villar/hg19_villar_species_v_human_chr2.bed\n",
      "['chr2', 59904, 60685, '+', 'hg19', '0', '0', []]\n",
      "touch /dors/capra_lab/users/fongsl/broadly_active_enhancers/data/hg19_villar/hg19_villar_species_v_human_chr6.bed\n",
      "['chr6', 64986, 66568, '+', 'hg19', '0', '0', []]\n",
      "touch /dors/capra_lab/users/fongsl/broadly_active_enhancers/data/hg19_villar/hg19_villar_species_v_human_chr10.bed\n",
      "['chr10', 73925, 74510, '+', 'hg19', '0', '0', []]\n",
      "touch /dors/capra_lab/users/fongsl/broadly_active_enhancers/data/hg19_villar/hg19_villar_species_v_human_chr1.bed\n",
      "['chr1', 34041, 34045, '+', 'hg19', '0', '0', []]\n",
      "touch /dors/capra_lab/users/fongsl/broadly_active_enhancers/data/hg19_villar/hg19_villar_species_v_human_chr13.bed\n",
      "['chr13', 19031184, 19031991, '+', 'hg19', '0', '0', []]\n",
      "touch /dors/capra_lab/users/fongsl/broadly_active_enhancers/data/hg19_villar/hg19_villar_species_v_human_chr5.bed\n",
      "['chr5', 15286, 15296, '+', 'hg19', '0', '0', []]\n",
      "touch /dors/capra_lab/users/fongsl/broadly_active_enhancers/data/hg19_villar/hg19_villar_species_v_human_chr17.bed\n",
      "['chr17', 66983, 68185, '+', 'hg19', '0', '0', []]\n",
      "touch /dors/capra_lab/users/fongsl/broadly_active_enhancers/data/hg19_villar/hg19_villar_species_v_human_chrX.bed\n",
      "['chrX', 60715, 60776, '+', 'hg19', '0', '0', []]\n",
      "touch /dors/capra_lab/users/fongsl/broadly_active_enhancers/data/hg19_villar/hg19_villar_species_v_human_chr20.bed\n",
      "['chr20', 110598, 116652, '+', 'hg19', '0', '0', []]\n",
      "touch /dors/capra_lab/users/fongsl/broadly_active_enhancers/data/hg19_villar/hg19_villar_species_v_human_chr11.bed\n",
      "['chr11', 93620, 93761, '+', 'hg19', '0', '0', []]\n",
      "touch /dors/capra_lab/users/fongsl/broadly_active_enhancers/data/hg19_villar/hg19_villar_species_v_human_chr9.bed\n",
      "['chr9', 33824, 33828, '+', 'hg19', '0', '0', []]\n",
      "touch /dors/capra_lab/users/fongsl/broadly_active_enhancers/data/hg19_villar/hg19_villar_species_v_human_chr4.bed\n",
      "['chr4', 16385, 16457, '+', 'hg19', '0', '0', []]\n",
      "touch /dors/capra_lab/users/fongsl/broadly_active_enhancers/data/hg19_villar/hg19_villar_species_v_human_chr12.bed\n",
      "['chr12', 62440, 64520, '+', 'hg19', '0', '0', []]\n",
      "touch /dors/capra_lab/users/fongsl/broadly_active_enhancers/data/hg19_villar/hg19_villar_species_v_human_chr19.bed\n",
      "['chr19', 75650, 75654, '+', 'hg19', '0', '0', []]\n",
      "touch /dors/capra_lab/users/fongsl/broadly_active_enhancers/data/hg19_villar/hg19_villar_species_v_human_chr8.bed\n",
      "['chr8', 15989, 16959, '+', 'hg19', '0', '0', []]\n",
      "touch /dors/capra_lab/users/fongsl/broadly_active_enhancers/data/hg19_villar/hg19_villar_species_v_human_chr18.bed\n",
      "['chr18', 25342, 25367, '+', 'hg19', '0', '0', []]\n",
      "touch /dors/capra_lab/users/fongsl/broadly_active_enhancers/data/hg19_villar/hg19_villar_species_v_human_chr3.bed\n",
      "['chr3', 481722, 481988, '+', 'hg19', '0', '0', []]\n",
      "touch /dors/capra_lab/users/fongsl/broadly_active_enhancers/data/hg19_villar/hg19_villar_species_v_human_chr22.bed\n",
      "['chr22', 16057023, 16057040, '+', 'hg19', '0', '0', []]\n",
      "touch /dors/capra_lab/users/fongsl/broadly_active_enhancers/data/hg19_villar/hg19_villar_species_v_human_chr16.bed\n",
      "['chr16', 71275, 71277, '+', 'hg19', '0', '0', []]\n"
     ]
    }
   ],
   "source": [
    "for chr_num, MAF_FILE in maf_dict.items():\n",
    "# this grafted from Abin's script. Credits to him. \n",
    "    \n",
    "    # make a file for each chromosome\n",
    "    outfile = \"%shg19_villar_species_v_human_%s.bed\" %(outpath, chr_num)\n",
    "\n",
    "    touch = \"touch %s\" %outfile\n",
    "    print(touch)\n",
    "    os.system(touch)\n",
    "    out_file = open(outfile, 'w')\n",
    "    \n",
    "    maf = AlignIO.parse(MAF_FILE, \"maf\")\n",
    "    count = 0 \n",
    "    \n",
    "    for block in maf: \n",
    "        count += 1\n",
    "        store_homolog_line = []\n",
    "\n",
    "        s_count = 0\n",
    "        v_count = 0\n",
    "        s_list = []\n",
    "        for row in block:             \n",
    "            ### this is where the parsing happens.... what is the .id part?\n",
    "            species = row.id.split('.')[0]\n",
    "        \n",
    "            blockchr = row.id.split('.')[1]\n",
    "            \n",
    "            start = row.annotations['start']\n",
    "            \n",
    "            end =  row.annotations['start'] + row.annotations['size'] + 1 \n",
    "            \n",
    "            if row.annotations['strand'] == 1:\n",
    "                strand = \"+\" \n",
    "            elif row.annotations['strand'] == -1: \n",
    "                    strand = \"-\"\n",
    "            else: \n",
    "                raise ValueError('strand parsing did not work')     \n",
    "            \n",
    "            if species != \"hg19\":\n",
    "                s_count +=1\n",
    "                s_list.append(species)\n",
    "                if species in hq_species:\n",
    "                    v_count +=1\n",
    "            else:\n",
    "                store_homolog_line.append([blockchr, start, end, strand, species]) # only write the row with the h19 information. Not all the species information.\n",
    "            \n",
    "        store_homolog_line.append([str(s_count), str(v_count)])\n",
    "        store_homolog_line = [value for v in store_homolog_line for value in v]\n",
    "        store_homolog_line.append(s_list)\n",
    "    \n",
    "        out_file.write('\\t'.join(map(str,store_homolog_line)) + '\\n')\n",
    "       \n",
    "    out_file.close()  "
   ]
  }
 ],
 "metadata": {
  "kernelspec": {
   "display_name": "Python 3",
   "language": "python",
   "name": "python3"
  },
  "language_info": {
   "codemirror_mode": {
    "name": "ipython",
    "version": 3
   },
   "file_extension": ".py",
   "mimetype": "text/x-python",
   "name": "python",
   "nbconvert_exporter": "python",
   "pygments_lexer": "ipython3",
   "version": "3.6.5"
  }
 },
 "nbformat": 4,
 "nbformat_minor": 2
}
