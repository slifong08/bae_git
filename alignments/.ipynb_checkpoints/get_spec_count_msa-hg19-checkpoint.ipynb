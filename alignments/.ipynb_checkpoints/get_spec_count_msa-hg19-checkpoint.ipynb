{
 "cells": [
  {
   "cell_type": "code",
   "execution_count": 1,
   "metadata": {
    "collapsed": true
   },
   "outputs": [],
   "source": [
    "#180601\n",
    "\n",
    "#sarahfong\n",
    "#biopython is loaded in the sf_test env with 'conda install -c bioconda biopython'"
   ]
  },
  {
   "cell_type": "code",
   "execution_count": 1,
   "metadata": {},
   "outputs": [
    {
     "data": {
      "text/plain": [
       "['',\n",
       " '/opt/easybuild/software/MPI/GCC/5.4.0-2.26/OpenMPI/1.10.3/GDAL/2.1.3-Python-2.7.12/lib/python2.7/site-packages',\n",
       " '/opt/easybuild/software/Compiler/GCC/5.4.0-2.26/GEOS/3.6.1-Python-2.7.12/lib/python2.7/site-packages',\n",
       " '/opt/easybuild/software/Core/Anaconda3/4.4.0/lib/python36.zip',\n",
       " '/opt/easybuild/software/Core/Anaconda3/4.4.0/lib/python3.6',\n",
       " '/opt/easybuild/software/Core/Anaconda3/4.4.0/lib/python3.6/lib-dynload',\n",
       " '/opt/easybuild/software/Core/Anaconda3/4.4.0/lib/python3.6/site-packages',\n",
       " '/opt/easybuild/software/Core/Anaconda3/4.4.0/lib/python3.6/site-packages/Sphinx-1.5.6-py3.6.egg',\n",
       " '/opt/easybuild/software/Core/Anaconda3/4.4.0/lib/python3.6/site-packages/setuptools-27.2.0-py3.6.egg',\n",
       " '/opt/easybuild/software/Core/Anaconda3/4.4.0/lib/python3.6/site-packages/IPython/extensions',\n",
       " '/gpfs22/home/fongsl/.ipython',\n",
       " '/home/fongsl/.conda/envs/sf_test/lib/python3.6/site-packages']"
      ]
     },
     "execution_count": 1,
     "metadata": {},
     "output_type": "execute_result"
    }
   ],
   "source": [
    "import sys, os\n",
    "import glob\n",
    "\n",
    "#SARAH- ADD THE PATH WITH BIOPYTHON\n",
    "bio_package = '/home/fongsl/.conda/envs/sf_test/lib/python3.6/site-packages'\n",
    "if bio_package not in sys.path:\n",
    "\n",
    "    sys.path.append('/home/fongsl/.conda/envs/sf_test/lib/python3.6/site-packages')\n",
    "sys.path"
   ]
  },
  {
   "cell_type": "code",
   "execution_count": 2,
   "metadata": {
    "collapsed": true
   },
   "outputs": [],
   "source": [
    "from Bio import AlignIO\n",
    "from Bio import SeqIO"
   ]
  },
  {
   "cell_type": "code",
   "execution_count": 3,
   "metadata": {
    "collapsed": true
   },
   "outputs": [],
   "source": [
    "# path to data\n",
    "\n",
    "datapath = '/dors/capra_lab/data/alignments/hg19/multiz46way/'\n",
    "\n",
    "outpath = '/dors/capra_lab/users/fongsl/broadly_active_enhancers/data/hg19_villar/'"
   ]
  },
  {
   "cell_type": "code",
   "execution_count": 4,
   "metadata": {
    "collapsed": true
   },
   "outputs": [],
   "source": [
    "#make a list of the MAF files separated by chromosome\n",
    "\n",
    "maf_list = glob.glob(\"%schr*.maf\"%datapath)\n",
    "maf_dict = {(i.split(\"/\")[-1]).split(\".\")[0]: i for i in maf_list}"
   ]
  },
  {
   "cell_type": "code",
   "execution_count": 5,
   "metadata": {
    "collapsed": true
   },
   "outputs": [],
   "source": [
    "# make a list of villar species. Pull out any alignments where hg19 matches any of these species\n",
    "#hq_species =['Mmul', 'Cjac', 'Mmus', 'Rnor', 'Ocun', 'Btau', 'Sscr', 'Cfam', 'Fcat'] #rhesus, marmoset, mouse, rat, rabbit, cow\n",
    "hq_species = ['hg19', 'rheMac2', 'calJac1', 'mm9', 'rn4', 'oryCun2', 'bosTau4', 'canFam2', 'felCat3']"
   ]
  },
  {
   "cell_type": "code",
   "execution_count": 6,
   "metadata": {},
   "outputs": [
    {
     "name": "stdout",
     "output_type": "stream",
     "text": [
      "touch /dors/capra_lab/users/fongsl/broadly_active_enhancers/data/hg19_villar/hg19_villar_species_v_human_chr21.bed\n",
      "['chr21', 9411193, 9411347, '+', 'hg19', '5', '2', ['ponAbe2', 'panTro2', 'equCab2', 'rheMac2', 'oryCun2']]\n",
      "touch /dors/capra_lab/users/fongsl/broadly_active_enhancers/data/hg19_villar/hg19_villar_species_v_human_chr14.bed\n",
      "['chr14', 19050791, 19052213, '+', 'hg19', '1', '0', ['panTro2']]\n",
      "touch /dors/capra_lab/users/fongsl/broadly_active_enhancers/data/hg19_villar/hg19_villar_species_v_human_chr7.bed\n",
      "['chr7', 10238, 10647, '+', 'hg19', '2', '0', ['gorGor1', 'panTro2']]\n",
      "touch /dors/capra_lab/users/fongsl/broadly_active_enhancers/data/hg19_villar/hg19_villar_species_v_human_chr15.bed\n",
      "['chr15', 20035788, 20039351, '+', 'hg19', '1', '0', ['panTro2']]\n",
      "touch /dors/capra_lab/users/fongsl/broadly_active_enhancers/data/hg19_villar/hg19_villar_species_v_human_chr2.bed\n",
      "['chr2', 11516, 12336, '+', 'hg19', '1', '0', ['panTro2']]\n",
      "touch /dors/capra_lab/users/fongsl/broadly_active_enhancers/data/hg19_villar/hg19_villar_species_v_human_chr6.bed\n",
      "['chr6', 60000, 60365, '+', 'hg19', '6', '1', ['micMur1', 'rheMac2', 'panTro2', 'ponAbe2', 'equCab2', 'choHof1']]\n",
      "touch /dors/capra_lab/users/fongsl/broadly_active_enhancers/data/hg19_villar/hg19_villar_species_v_human_chr10.bed\n",
      "['chr10', 60000, 60046, '+', 'hg19', '2', '0', ['ponAbe2', 'panTro2']]\n",
      "touch /dors/capra_lab/users/fongsl/broadly_active_enhancers/data/hg19_villar/hg19_villar_species_v_human_chr1.bed\n",
      "['chr1', 10917, 11397, '+', 'hg19', '1', '0', ['panTro2']]\n",
      "touch /dors/capra_lab/users/fongsl/broadly_active_enhancers/data/hg19_villar/hg19_villar_species_v_human_chr13.bed\n",
      "['chr13', 19020000, 19021897, '+', 'hg19', '2', '0', ['panTro2', 'ponAbe2']]\n",
      "touch /dors/capra_lab/users/fongsl/broadly_active_enhancers/data/hg19_villar/hg19_villar_species_v_human_chr5.bed\n",
      "['chr5', 13939, 14012, '+', 'hg19', '1', '0', ['gorGor1']]\n",
      "touch /dors/capra_lab/users/fongsl/broadly_active_enhancers/data/hg19_villar/hg19_villar_species_v_human_chr17.bed\n",
      "['chr17', 0, 106, '+', 'hg19', '13', '3', ['panTro2', 'gorGor1', 'ponAbe2', 'pteVam1', 'equCab2', 'otoGar1', 'micMur1', 'papHam1', 'rheMac2', 'calJac1', 'dipOrd1', 'mm9', 'cavPor3']]\n",
      "touch /dors/capra_lab/users/fongsl/broadly_active_enhancers/data/hg19_villar/hg19_villar_species_v_human_chrX.bed\n",
      "['chrX', 60545, 60716, '+', 'hg19', '1', '0', ['papHam1']]\n",
      "touch /dors/capra_lab/users/fongsl/broadly_active_enhancers/data/hg19_villar/hg19_villar_species_v_human_chr20.bed\n",
      "['chr20', 60000, 61509, '+', 'hg19', '2', '0', ['ponAbe2', 'gorGor1']]\n",
      "touch /dors/capra_lab/users/fongsl/broadly_active_enhancers/data/hg19_villar/hg19_villar_species_v_human_chr11.bed\n",
      "['chr11', 60000, 60391, '+', 'hg19', '3', '1', ['panTro2', 'rheMac2', 'dasNov2']]\n",
      "touch /dors/capra_lab/users/fongsl/broadly_active_enhancers/data/hg19_villar/hg19_villar_species_v_human_chr9.bed\n",
      "['chr9', 10473, 11603, '+', 'hg19', '1', '0', ['panTro2']]\n",
      "touch /dors/capra_lab/users/fongsl/broadly_active_enhancers/data/hg19_villar/hg19_villar_species_v_human_chr4.bed\n",
      "['chr4', 16384, 16386, '+', 'hg19', '1', '0', ['otoGar1']]\n",
      "touch /dors/capra_lab/users/fongsl/broadly_active_enhancers/data/hg19_villar/hg19_villar_species_v_human_chr12.bed\n",
      "['chr12', 60084, 60120, '+', 'hg19', '3', '1', ['rheMac2', 'panTro2', 'ponAbe2']]\n",
      "touch /dors/capra_lab/users/fongsl/broadly_active_enhancers/data/hg19_villar/hg19_villar_species_v_human_chr19.bed\n",
      "['chr19', 60000, 60015, '+', 'hg19', '8', '1', ['ponAbe2', 'panTro2', 'papHam1', 'otoGar1', 'micMur1', 'canFam2', 'equCab2', 'loxAfr3']]\n",
      "touch /dors/capra_lab/users/fongsl/broadly_active_enhancers/data/hg19_villar/hg19_villar_species_v_human_chr8.bed\n",
      "['chr8', 10004, 10154, '+', 'hg19', '3', '1', ['ponAbe2', 'rheMac2', 'choHof1']]\n",
      "touch /dors/capra_lab/users/fongsl/broadly_active_enhancers/data/hg19_villar/hg19_villar_species_v_human_chr18.bed\n",
      "['chr18', 10148, 11157, '+', 'hg19', '1', '0', ['ornAna1']]\n",
      "touch /dors/capra_lab/users/fongsl/broadly_active_enhancers/data/hg19_villar/hg19_villar_species_v_human_chr3.bed\n",
      "['chr3', 60000, 60142, '+', 'hg19', '12', '5', ['rheMac2', 'ponAbe2', 'panTro2', 'calJac1', 'rn4', 'speTri1', 'vicPac1', 'turTru1', 'bosTau4', 'equCab2', 'canFam2', 'loxAfr3']]\n",
      "touch /dors/capra_lab/users/fongsl/broadly_active_enhancers/data/hg19_villar/hg19_villar_species_v_human_chr22.bed\n",
      "['chr22', 16050000, 16050009, '+', 'hg19', '3', '0', ['panTro2', 'choHof1', 'dasNov2']]\n",
      "touch /dors/capra_lab/users/fongsl/broadly_active_enhancers/data/hg19_villar/hg19_villar_species_v_human_chr16.bed\n",
      "['chr16', 60045, 61171, '+', 'hg19', '1', '0', ['panTro2']]\n"
     ]
    }
   ],
   "source": [
    "for chr_num, MAF_FILE in maf_dict.items():\n",
    "# this grafted from Abin's script. Credits to him. \n",
    "    \n",
    "    # make a file for each chromosome\n",
    "    outfile = \"%shg19_villar_species_v_human_%s.bed\" %(outpath, chr_num)\n",
    "\n",
    "    touch = \"touch %s\" %outfile\n",
    "    print(touch)\n",
    "    os.system(touch)\n",
    "    out_file = open(outfile, 'w')\n",
    "    \n",
    "    maf = AlignIO.parse(MAF_FILE, \"maf\")\n",
    "    count = 0 \n",
    "    \n",
    "    for block in maf: \n",
    "        count += 1\n",
    "        store_homolog_line = []\n",
    "\n",
    "        s_count = 0\n",
    "        v_count = 0\n",
    "        s_list = []\n",
    "        for row in block:             \n",
    "            ### this is where the parsing happens.... what is the .id part?\n",
    "            species = row.id.split('.')[0]\n",
    "        \n",
    "            blockchr = row.id.split('.')[1]\n",
    "            \n",
    "            start = row.annotations['start']\n",
    "            \n",
    "            end =  row.annotations['start'] + row.annotations['size'] + 1 \n",
    "            \n",
    "            if row.annotations['strand'] == 1:\n",
    "                strand = \"+\" \n",
    "            elif row.annotations['strand'] == -1: \n",
    "                    strand = \"-\"\n",
    "            else: \n",
    "                raise ValueError('strand parsing did not work')     \n",
    "            \n",
    "            if species != \"hg19\":\n",
    "                s_count +=1\n",
    "                s_list.append(species)\n",
    "                if species in hq_species:\n",
    "                    v_count +=1\n",
    "            else:\n",
    "                store_homolog_line.append([blockchr, start, end, strand, species]) # only write the row with the h19 information. Not all the species information.\n",
    "            \n",
    "        store_homolog_line.append([str(s_count), str(v_count)])\n",
    "        store_homolog_line = [value for v in store_homolog_line for value in v]\n",
    "        store_homolog_line.append(s_list)\n",
    "        \n",
    "        out_file.write('\\t'.join(map(str,store_homolog_line)) + '\\n')\n",
    "       \n",
    "    out_file.close()  "
   ]
  }
 ],
 "metadata": {
  "kernelspec": {
   "display_name": "Python 3",
   "language": "python",
   "name": "python3"
  },
  "language_info": {
   "codemirror_mode": {
    "name": "ipython",
    "version": 3
   },
   "file_extension": ".py",
   "mimetype": "text/x-python",
   "name": "python",
   "nbconvert_exporter": "python",
   "pygments_lexer": "ipython3",
   "version": "3.6.1"
  }
 },
 "nbformat": 4,
 "nbformat_minor": 2
}
