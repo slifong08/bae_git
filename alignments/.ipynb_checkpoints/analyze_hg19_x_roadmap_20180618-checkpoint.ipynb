{
 "cells": [
  {
   "cell_type": "code",
   "execution_count": 1,
   "metadata": {
    "collapsed": true
   },
   "outputs": [],
   "source": [
    "#180607\n",
    "\n",
    "#!/bin/python\n",
    "\n",
    "#sarahfong\n",
    "#biopython is loaded in the sf_test env with 'conda install -c bioconda biopython'"
   ]
  },
  {
   "cell_type": "code",
   "execution_count": 2,
   "metadata": {
    "collapsed": true
   },
   "outputs": [],
   "source": [
    "import sys, os\n",
    "import glob"
   ]
  },
  {
   "cell_type": "code",
   "execution_count": 3,
   "metadata": {},
   "outputs": [
    {
     "data": {
      "text/plain": [
       "0"
      ]
     },
     "execution_count": 3,
     "metadata": {},
     "output_type": "execute_result"
    }
   ],
   "source": [
    "# load the bedtools module\n",
    "os.system(\"ml restore bed_ml\")"
   ]
  },
  {
   "cell_type": "code",
   "execution_count": 4,
   "metadata": {
    "collapsed": true
   },
   "outputs": [],
   "source": [
    "# this directory contains the .bed files of all human-specific coordinates of the genome. \n",
    "hg19_dir = \"/dors/capra_lab/users/fongsl/broadly_active_enhancers/data/hg19_human_specific_coordinates/\""
   ]
  },
  {
   "cell_type": "code",
   "execution_count": 10,
   "metadata": {},
   "outputs": [
    {
     "name": "stdout",
     "output_type": "stream",
     "text": [
      "dict_keys(['chr4', 'chr15', 'chr1', 'chr18', 'chr7', 'chr13', 'chr17', 'chr21', 'chr11', 'chr5', 'chr12', 'chr22', 'chr16', 'chr19', 'chr14', 'chr10', 'chr8', 'chr20', 'chr6', 'chr2', 'chr9', 'chr3', 'chrX'])\n"
     ]
    }
   ],
   "source": [
    "# get hg19 human specific bed files\n",
    "hg19_list = glob.glob(\"%shg19*.bed\" % hg19_dir)\n",
    "hg19_dict = {(((i.split(\"/\")[-1])).split(\"_\")[-1]).split(\".\")[0]: i for i in hg19_list} # {chr:/file/path/chr.bed}\n",
    "print(hg19_dict.keys())"
   ]
  },
  {
   "cell_type": "code",
   "execution_count": 11,
   "metadata": {},
   "outputs": [
    {
     "name": "stdout",
     "output_type": "stream",
     "text": [
      "dict_keys(['chr7', 'chr1', 'chr3', 'chr15', 'chr4', 'chr12', 'chr20', 'chr9', 'chr21', 'chr19', 'chr17', 'chr13', 'chr10', 'chr8', 'chr2', 'chr5', 'chr18', 'chr6', 'chr16', 'chr11', 'chr14', 'chrX', 'chr22'])\n"
     ]
    }
   ],
   "source": [
    "# get villar human specific bed files\n",
    "bedpath = '/dors/capra_lab/users/fongsl/broadly_active_enhancers/data/roadmap_multi_data/'\n",
    "bed_list = glob.glob(\"%schr*_short_multiintersect_roadmap.bed\"% bedpath)\n",
    "bed_list99 = glob.glob(\"%schr*_99_short_multiintersect_roadmap.bed\"% bedpath)\n",
    "bed_dict = {(i.split(\"/\")[-1]).split(\"_\")[0]: i for i in bed_list} # {chr:/file/villarpath/chr.bed}\n",
    "print(bed_dict.keys())"
   ]
  },
  {
   "cell_type": "code",
   "execution_count": 12,
   "metadata": {
    "scrolled": false
   },
   "outputs": [
    {
     "name": "stdout",
     "output_type": "stream",
     "text": [
      "chr7\n",
      "bedtools intersect -a /dors/capra_lab/users/fongsl/broadly_active_enhancers/data/roadmap_multi_data/chr7_99_short_multiintersect_roadmap.bed -b /dors/capra_lab/users/fongsl/broadly_active_enhancers/data/hg19_human_specific_coordinates/hg19_human_specific_genome_coordinates_chr7.bed -wa -wb > /dors/capra_lab/users/fongsl/broadly_active_enhancers/data/roadmap_multi_data/human_specific/chr7_99_hspec_x_hg19.bed\n",
      "chr1\n",
      "bedtools intersect -a /dors/capra_lab/users/fongsl/broadly_active_enhancers/data/roadmap_multi_data/chr1_99_short_multiintersect_roadmap.bed -b /dors/capra_lab/users/fongsl/broadly_active_enhancers/data/hg19_human_specific_coordinates/hg19_human_specific_genome_coordinates_chr1.bed -wa -wb > /dors/capra_lab/users/fongsl/broadly_active_enhancers/data/roadmap_multi_data/human_specific/chr1_99_hspec_x_hg19.bed\n",
      "chr3\n",
      "bedtools intersect -a /dors/capra_lab/users/fongsl/broadly_active_enhancers/data/roadmap_multi_data/chr3_99_short_multiintersect_roadmap.bed -b /dors/capra_lab/users/fongsl/broadly_active_enhancers/data/hg19_human_specific_coordinates/hg19_human_specific_genome_coordinates_chr3.bed -wa -wb > /dors/capra_lab/users/fongsl/broadly_active_enhancers/data/roadmap_multi_data/human_specific/chr3_99_hspec_x_hg19.bed\n",
      "chr15\n",
      "bedtools intersect -a /dors/capra_lab/users/fongsl/broadly_active_enhancers/data/roadmap_multi_data/chr15_99_short_multiintersect_roadmap.bed -b /dors/capra_lab/users/fongsl/broadly_active_enhancers/data/hg19_human_specific_coordinates/hg19_human_specific_genome_coordinates_chr15.bed -wa -wb > /dors/capra_lab/users/fongsl/broadly_active_enhancers/data/roadmap_multi_data/human_specific/chr15_99_hspec_x_hg19.bed\n",
      "chr4\n",
      "bedtools intersect -a /dors/capra_lab/users/fongsl/broadly_active_enhancers/data/roadmap_multi_data/chr4_99_short_multiintersect_roadmap.bed -b /dors/capra_lab/users/fongsl/broadly_active_enhancers/data/hg19_human_specific_coordinates/hg19_human_specific_genome_coordinates_chr4.bed -wa -wb > /dors/capra_lab/users/fongsl/broadly_active_enhancers/data/roadmap_multi_data/human_specific/chr4_99_hspec_x_hg19.bed\n",
      "chr12\n",
      "bedtools intersect -a /dors/capra_lab/users/fongsl/broadly_active_enhancers/data/roadmap_multi_data/chr12_99_short_multiintersect_roadmap.bed -b /dors/capra_lab/users/fongsl/broadly_active_enhancers/data/hg19_human_specific_coordinates/hg19_human_specific_genome_coordinates_chr12.bed -wa -wb > /dors/capra_lab/users/fongsl/broadly_active_enhancers/data/roadmap_multi_data/human_specific/chr12_99_hspec_x_hg19.bed\n",
      "chr20\n",
      "bedtools intersect -a /dors/capra_lab/users/fongsl/broadly_active_enhancers/data/roadmap_multi_data/chr20_99_short_multiintersect_roadmap.bed -b /dors/capra_lab/users/fongsl/broadly_active_enhancers/data/hg19_human_specific_coordinates/hg19_human_specific_genome_coordinates_chr20.bed -wa -wb > /dors/capra_lab/users/fongsl/broadly_active_enhancers/data/roadmap_multi_data/human_specific/chr20_99_hspec_x_hg19.bed\n",
      "chr9\n",
      "bedtools intersect -a /dors/capra_lab/users/fongsl/broadly_active_enhancers/data/roadmap_multi_data/chr9_99_short_multiintersect_roadmap.bed -b /dors/capra_lab/users/fongsl/broadly_active_enhancers/data/hg19_human_specific_coordinates/hg19_human_specific_genome_coordinates_chr9.bed -wa -wb > /dors/capra_lab/users/fongsl/broadly_active_enhancers/data/roadmap_multi_data/human_specific/chr9_99_hspec_x_hg19.bed\n",
      "chr21\n",
      "bedtools intersect -a /dors/capra_lab/users/fongsl/broadly_active_enhancers/data/roadmap_multi_data/chr21_99_short_multiintersect_roadmap.bed -b /dors/capra_lab/users/fongsl/broadly_active_enhancers/data/hg19_human_specific_coordinates/hg19_human_specific_genome_coordinates_chr21.bed -wa -wb > /dors/capra_lab/users/fongsl/broadly_active_enhancers/data/roadmap_multi_data/human_specific/chr21_99_hspec_x_hg19.bed\n",
      "chr19\n",
      "bedtools intersect -a /dors/capra_lab/users/fongsl/broadly_active_enhancers/data/roadmap_multi_data/chr19_99_short_multiintersect_roadmap.bed -b /dors/capra_lab/users/fongsl/broadly_active_enhancers/data/hg19_human_specific_coordinates/hg19_human_specific_genome_coordinates_chr19.bed -wa -wb > /dors/capra_lab/users/fongsl/broadly_active_enhancers/data/roadmap_multi_data/human_specific/chr19_99_hspec_x_hg19.bed\n",
      "chr17\n",
      "bedtools intersect -a /dors/capra_lab/users/fongsl/broadly_active_enhancers/data/roadmap_multi_data/chr17_99_short_multiintersect_roadmap.bed -b /dors/capra_lab/users/fongsl/broadly_active_enhancers/data/hg19_human_specific_coordinates/hg19_human_specific_genome_coordinates_chr17.bed -wa -wb > /dors/capra_lab/users/fongsl/broadly_active_enhancers/data/roadmap_multi_data/human_specific/chr17_99_hspec_x_hg19.bed\n",
      "chr13\n",
      "bedtools intersect -a /dors/capra_lab/users/fongsl/broadly_active_enhancers/data/roadmap_multi_data/chr13_99_short_multiintersect_roadmap.bed -b /dors/capra_lab/users/fongsl/broadly_active_enhancers/data/hg19_human_specific_coordinates/hg19_human_specific_genome_coordinates_chr13.bed -wa -wb > /dors/capra_lab/users/fongsl/broadly_active_enhancers/data/roadmap_multi_data/human_specific/chr13_99_hspec_x_hg19.bed\n",
      "chr10\n",
      "bedtools intersect -a /dors/capra_lab/users/fongsl/broadly_active_enhancers/data/roadmap_multi_data/chr10_99_short_multiintersect_roadmap.bed -b /dors/capra_lab/users/fongsl/broadly_active_enhancers/data/hg19_human_specific_coordinates/hg19_human_specific_genome_coordinates_chr10.bed -wa -wb > /dors/capra_lab/users/fongsl/broadly_active_enhancers/data/roadmap_multi_data/human_specific/chr10_99_hspec_x_hg19.bed\n",
      "chr8\n",
      "bedtools intersect -a /dors/capra_lab/users/fongsl/broadly_active_enhancers/data/roadmap_multi_data/chr8_99_short_multiintersect_roadmap.bed -b /dors/capra_lab/users/fongsl/broadly_active_enhancers/data/hg19_human_specific_coordinates/hg19_human_specific_genome_coordinates_chr8.bed -wa -wb > /dors/capra_lab/users/fongsl/broadly_active_enhancers/data/roadmap_multi_data/human_specific/chr8_99_hspec_x_hg19.bed\n",
      "chr2\n",
      "bedtools intersect -a /dors/capra_lab/users/fongsl/broadly_active_enhancers/data/roadmap_multi_data/chr2_99_short_multiintersect_roadmap.bed -b /dors/capra_lab/users/fongsl/broadly_active_enhancers/data/hg19_human_specific_coordinates/hg19_human_specific_genome_coordinates_chr2.bed -wa -wb > /dors/capra_lab/users/fongsl/broadly_active_enhancers/data/roadmap_multi_data/human_specific/chr2_99_hspec_x_hg19.bed\n",
      "chr5\n",
      "bedtools intersect -a /dors/capra_lab/users/fongsl/broadly_active_enhancers/data/roadmap_multi_data/chr5_99_short_multiintersect_roadmap.bed -b /dors/capra_lab/users/fongsl/broadly_active_enhancers/data/hg19_human_specific_coordinates/hg19_human_specific_genome_coordinates_chr5.bed -wa -wb > /dors/capra_lab/users/fongsl/broadly_active_enhancers/data/roadmap_multi_data/human_specific/chr5_99_hspec_x_hg19.bed\n",
      "chr18\n",
      "bedtools intersect -a /dors/capra_lab/users/fongsl/broadly_active_enhancers/data/roadmap_multi_data/chr18_99_short_multiintersect_roadmap.bed -b /dors/capra_lab/users/fongsl/broadly_active_enhancers/data/hg19_human_specific_coordinates/hg19_human_specific_genome_coordinates_chr18.bed -wa -wb > /dors/capra_lab/users/fongsl/broadly_active_enhancers/data/roadmap_multi_data/human_specific/chr18_99_hspec_x_hg19.bed\n",
      "chr6\n",
      "bedtools intersect -a /dors/capra_lab/users/fongsl/broadly_active_enhancers/data/roadmap_multi_data/chr6_99_short_multiintersect_roadmap.bed -b /dors/capra_lab/users/fongsl/broadly_active_enhancers/data/hg19_human_specific_coordinates/hg19_human_specific_genome_coordinates_chr6.bed -wa -wb > /dors/capra_lab/users/fongsl/broadly_active_enhancers/data/roadmap_multi_data/human_specific/chr6_99_hspec_x_hg19.bed\n",
      "chr16\n",
      "bedtools intersect -a /dors/capra_lab/users/fongsl/broadly_active_enhancers/data/roadmap_multi_data/chr16_99_short_multiintersect_roadmap.bed -b /dors/capra_lab/users/fongsl/broadly_active_enhancers/data/hg19_human_specific_coordinates/hg19_human_specific_genome_coordinates_chr16.bed -wa -wb > /dors/capra_lab/users/fongsl/broadly_active_enhancers/data/roadmap_multi_data/human_specific/chr16_99_hspec_x_hg19.bed\n",
      "chr11\n",
      "bedtools intersect -a /dors/capra_lab/users/fongsl/broadly_active_enhancers/data/roadmap_multi_data/chr11_99_short_multiintersect_roadmap.bed -b /dors/capra_lab/users/fongsl/broadly_active_enhancers/data/hg19_human_specific_coordinates/hg19_human_specific_genome_coordinates_chr11.bed -wa -wb > /dors/capra_lab/users/fongsl/broadly_active_enhancers/data/roadmap_multi_data/human_specific/chr11_99_hspec_x_hg19.bed\n"
     ]
    },
    {
     "name": "stdout",
     "output_type": "stream",
     "text": [
      "chr14\n",
      "bedtools intersect -a /dors/capra_lab/users/fongsl/broadly_active_enhancers/data/roadmap_multi_data/chr14_99_short_multiintersect_roadmap.bed -b /dors/capra_lab/users/fongsl/broadly_active_enhancers/data/hg19_human_specific_coordinates/hg19_human_specific_genome_coordinates_chr14.bed -wa -wb > /dors/capra_lab/users/fongsl/broadly_active_enhancers/data/roadmap_multi_data/human_specific/chr14_99_hspec_x_hg19.bed\n",
      "chrX\n",
      "bedtools intersect -a /dors/capra_lab/users/fongsl/broadly_active_enhancers/data/roadmap_multi_data/chrX_99_short_multiintersect_roadmap.bed -b /dors/capra_lab/users/fongsl/broadly_active_enhancers/data/hg19_human_specific_coordinates/hg19_human_specific_genome_coordinates_chrX.bed -wa -wb > /dors/capra_lab/users/fongsl/broadly_active_enhancers/data/roadmap_multi_data/human_specific/chrX_99_hspec_x_hg19.bed\n",
      "chr22\n",
      "bedtools intersect -a /dors/capra_lab/users/fongsl/broadly_active_enhancers/data/roadmap_multi_data/chr22_99_short_multiintersect_roadmap.bed -b /dors/capra_lab/users/fongsl/broadly_active_enhancers/data/hg19_human_specific_coordinates/hg19_human_specific_genome_coordinates_chr22.bed -wa -wb > /dors/capra_lab/users/fongsl/broadly_active_enhancers/data/roadmap_multi_data/human_specific/chr22_99_hspec_x_hg19.bed\n"
     ]
    }
   ],
   "source": [
    "for b_chr, b_file in bed_dict.items():\n",
    "    print(b_chr)\n",
    "    if b_chr in hg19_dict.keys():\n",
    "        hg19_file = hg19_dict[b_chr]\n",
    "        outfile = \"%shuman_specific/%s_hspec_x_hg19.bed\" %(bedpath, b_chr)\n",
    "        \n",
    "        bed_cmd = \"bedtools intersect -a %s -b %s -wa -wb > %s\" %(b_file, hg19_file, outfile)\n",
    "        print(bed_cmd)\n",
    "        os.system(bed_cmd)\n",
    "        "
   ]
  }
 ],
 "metadata": {
  "kernelspec": {
   "display_name": "Python 3",
   "language": "python",
   "name": "python3"
  },
  "language_info": {
   "codemirror_mode": {
    "name": "ipython",
    "version": 3
   },
   "file_extension": ".py",
   "mimetype": "text/x-python",
   "name": "python",
   "nbconvert_exporter": "python",
   "pygments_lexer": "ipython3",
   "version": "3.6.1"
  }
 },
 "nbformat": 4,
 "nbformat_minor": 2
}
