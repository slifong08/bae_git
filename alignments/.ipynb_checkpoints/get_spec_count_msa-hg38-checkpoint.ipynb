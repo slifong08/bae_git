{
 "cells": [
  {
   "cell_type": "code",
   "execution_count": 1,
   "metadata": {
    "collapsed": true
   },
   "outputs": [],
   "source": [
    "#20180610\n",
    "\n",
    "#sarahfong\n",
    "#biopython is loaded in the sf_test env with 'conda install -c bioconda biopython'"
   ]
  },
  {
   "cell_type": "code",
   "execution_count": 1,
   "metadata": {},
   "outputs": [
    {
     "data": {
      "text/plain": [
       "['',\n",
       " '/opt/easybuild/software/Core/Anaconda3/4.4.0/lib/python36.zip',\n",
       " '/opt/easybuild/software/Core/Anaconda3/4.4.0/lib/python3.6',\n",
       " '/opt/easybuild/software/Core/Anaconda3/4.4.0/lib/python3.6/lib-dynload',\n",
       " '/opt/easybuild/software/Core/Anaconda3/4.4.0/lib/python3.6/site-packages',\n",
       " '/opt/easybuild/software/Core/Anaconda3/4.4.0/lib/python3.6/site-packages/Sphinx-1.5.6-py3.6.egg',\n",
       " '/opt/easybuild/software/Core/Anaconda3/4.4.0/lib/python3.6/site-packages/setuptools-27.2.0-py3.6.egg',\n",
       " '/opt/easybuild/software/Core/Anaconda3/4.4.0/lib/python3.6/site-packages/IPython/extensions',\n",
       " '/gpfs22/home/fongsl/.ipython',\n",
       " '/home/fongsl/.conda/envs/sf_test/lib/python3.6/site-packages']"
      ]
     },
     "execution_count": 1,
     "metadata": {},
     "output_type": "execute_result"
    }
   ],
   "source": [
    "import sys, os\n",
    "import glob\n",
    "\n",
    "#SARAH- ADD THE PATH WITH BIOPYTHON\n",
    "bio_package = '/home/fongsl/.conda/envs/sf_test/lib/python3.6/site-packages'\n",
    "if bio_package not in sys.path:\n",
    "\n",
    "    sys.path.append('/home/fongsl/.conda/envs/sf_test/lib/python3.6/site-packages')\n",
    "sys.path"
   ]
  },
  {
   "cell_type": "code",
   "execution_count": 2,
   "metadata": {
    "collapsed": true
   },
   "outputs": [],
   "source": [
    "from Bio import AlignIO\n",
    "from Bio import SeqIO"
   ]
  },
  {
   "cell_type": "code",
   "execution_count": 3,
   "metadata": {
    "collapsed": true
   },
   "outputs": [],
   "source": [
    "# path to data hg19\n",
    "\n",
    "datapath = '/dors/capra_lab/data/alignments/hg19/multiz46way/'\n",
    "\n",
    "outpath = '/dors/capra_lab/users/fongsl/broadly_active_enhancers/data/hg19_human_specific_coordinates/'"
   ]
  },
  {
   "cell_type": "code",
   "execution_count": 6,
   "metadata": {
    "collapsed": true
   },
   "outputs": [],
   "source": [
    "# path to data hg38\n",
    "\n",
    "datapath = '/dors/capra_lab/data_clean/ucsc/hg38/multiz100way/maf/'\n",
    "\n",
    "outpath = '/dors/capra_lab/users/fongsl/broadly_active_enhancers/data/hg38_human_specific_coordinates/'"
   ]
  },
  {
   "cell_type": "code",
   "execution_count": 20,
   "metadata": {},
   "outputs": [
    {
     "name": "stdout",
     "output_type": "stream",
     "text": [
      "['chr15.maf.gz', 'chr12_GL383549v1_alt.maf.gz', 'chr19_KI270932v1_alt.maf.gz', 'chr17_GL000205v2_random.maf.gz', 'chrUn_KI270744v1.maf.gz', 'chr6_KI270800v1_alt.maf.gz', 'chrUn_KI270751v1.maf.gz', 'chr22_KI270734v1_random.maf.gz', 'chr19_KI270891v1_alt.maf.gz', 'chr1_KI270766v1_alt.maf.gz', 'chr8_KI270818v1_alt.maf.gz', 'chr22.maf.gz', 'chr14_KI270725v1_random.maf.gz', 'chr15_KI270727v1_random.maf.gz', 'chr12_GL383553v2_alt.maf.gz', 'chr5_GL339449v2_alt.maf.gz', 'chr20.maf.gz', 'chr15_KI270849v1_alt.maf.gz', 'chr2_KI270893v1_alt.maf.gz', 'chr17_KI270857v1_alt.maf.gz', 'chr7_KI270809v1_alt.maf.gz', 'chr15_KI270852v1_alt.maf.gz', 'chr2.maf.gz', 'chr1_KI270760v1_alt.maf.gz', 'chr16_KI270855v1_alt.maf.gz', 'chr5_KI270791v1_alt.maf.gz', 'chr5_GL383532v1_alt.maf.gz', 'chr9_KI270719v1_random.maf.gz', 'chrUn_KI270753v1.maf.gz', 'chr22_KI270875v1_alt.maf.gz', 'chr4_KI270925v1_alt.maf.gz', 'chrUn_KI270583v1.maf.gz', 'chr22_KI270731v1_random.maf.gz', 'chr3_KI270936v1_alt.maf.gz', 'chr8_KI270819v1_alt.maf.gz', 'chr18_GL383571v1_alt.maf.gz', 'chr7_KI270807v1_alt.maf.gz', 'chr19_KI270921v1_alt.maf.gz', 'chr4_KI270790v1_alt.maf.gz', 'chrUn_KI270755v1.maf.gz', 'chr3_KI270937v1_alt.maf.gz', 'chr1_KI270712v1_random.maf.gz', 'chr16_KI270853v1_alt.maf.gz', 'chr12_GL877875v1_alt.maf.gz', 'chr21_KI270874v1_alt.maf.gz', 'chrUn_KI270741v1.maf.gz', 'chr19_GL383575v2_alt.maf.gz', 'chr9_GL383541v1_alt.maf.gz', 'chr5_KI270792v1_alt.maf.gz', 'chr14_KI270844v1_alt.maf.gz', 'chr9_KI270720v1_random.maf.gz', 'chr8_KI270816v1_alt.maf.gz', 'chr12_KI270836v1_alt.maf.gz', 'chr11_KI270902v1_alt.maf.gz', 'chr17_KI270860v1_alt.maf.gz', 'chr1_GL383520v2_alt.maf.gz', 'chr22_GL383582v2_alt.maf.gz', 'chrM.maf.gz', 'chr1_KI270713v1_random.maf.gz', 'chr1_KI270892v1_alt.maf.gz', 'chr15_KI270851v1_alt.maf.gz', 'chr6_KI270758v1_alt.maf.gz', 'chr8_KI270811v1_alt.maf.gz', 'chr2_KI270770v1_alt.maf.gz', 'chr19_GL949751v2_alt.maf.gz', 'chr6_KI270801v1_alt.maf.gz', 'chr18_GL383568v1_alt.maf.gz', 'chr8_KI270815v1_alt.maf.gz', 'chr10_KI270824v1_alt.maf.gz', 'chr6_KI270799v1_alt.maf.gz', 'chr17_KI270861v1_alt.maf.gz', 'chr8_KI270821v1_alt.maf.gz', 'chr5_KI270796v1_alt.maf.gz', 'chr3_KI270782v1_alt.maf.gz', 'chr14_KI270723v1_random.maf.gz', 'chr9_GL383542v1_alt.maf.gz', 'chr19_KI270915v1_alt.maf.gz', 'chr3_KI270781v1_alt.maf.gz', 'chr21_GL383581v2_alt.maf.gz', 'chr17_JH159146v1_alt.maf.gz', 'chr4_KI270789v1_alt.maf.gz', 'chr22_KI270733v1_random.maf.gz', 'chrUn_KI270747v1.maf.gz', 'chr8_KI270822v1_alt.maf.gz', 'chrUn_KI270742v1.maf.gz', 'chr9_GL383539v1_alt.maf.gz', 'chr14_GL000009v2_random.maf.gz', 'chr13_KI270842v1_alt.maf.gz', 'chr4_KI270787v1_alt.maf.gz', 'chr19_KI270930v1_alt.maf.gz', 'chr19_KI270867v1_alt.maf.gz', 'chr2_KI270894v1_alt.maf.gz', 'chr13_KI270841v1_alt.maf.gz', 'chr18.maf.gz', 'chrUn_KI270581v1.maf.gz', 'chr16_GL383556v1_alt.maf.gz', 'chrUn_KI270752v1.maf.gz', 'chr15_KI270850v1_alt.maf.gz', 'chr16_KI270728v1_random.maf.gz', 'chr17_JH159147v1_alt.maf.gz', 'chr17_KI270910v1_alt.maf.gz', 'chr20_KI270870v1_alt.maf.gz', 'chrUn_KI270582v1.maf.gz', 'chr9_GL383540v1_alt.maf.gz', 'chr22_KI270878v1_alt.maf.gz', 'chr17_GL383566v1_alt.maf.gz', 'chr3_GL000221v1_random.maf.gz', 'chr14_KI270845v1_alt.maf.gz', 'chr15_GL383555v2_alt.maf.gz', 'chr22_KI270738v1_random.maf.gz', 'chr3_JH636055v2_alt.maf.gz', 'chr19_KI270938v1_alt.maf.gz', 'chr12_KI270904v1_alt.maf.gz', 'chr2_GL582966v2_alt.maf.gz', 'chr19_GL383576v1_alt.maf.gz', 'chr1.maf.gz', 'chr21_KI270872v1_alt.maf.gz', 'chr19_KI270885v1_alt.maf.gz', 'chr10_GL383545v1_alt.maf.gz', 'chr6_KI270798v1_alt.maf.gz', 'chr17_KI270858v1_alt.maf.gz', 'chr17_GL383563v3_alt.maf.gz', 'chr22_KI270876v1_alt.maf.gz', 'chr21_GL383578v2_alt.maf.gz', 'chr22_KI270877v1_alt.maf.gz', 'chr11_JH159137v1_alt.maf.gz', 'chr11.maf.gz', 'chr6_GL000250v2_alt.maf.gz', 'chr18_GL383572v1_alt.maf.gz', 'chr22_KI270928v1_alt.maf.gz', 'chr6_GL000252v2_alt.maf.gz', 'chr19_KI270866v1_alt.maf.gz', 'chr3_KI270783v1_alt.maf.gz', 'chrUn_KI270330v1.maf.gz', 'chr2_GL383522v1_alt.maf.gz', 'chr3_KI270935v1_alt.maf.gz', 'chrUn_GL000219v1.maf.gz', 'chr17_KI270859v1_alt.maf.gz', 'chr19_GL949753v2_alt.maf.gz', 'chr22_GL383583v2_alt.maf.gz', 'chr15_KI270905v1_alt.maf.gz', 'chr19_GL949747v2_alt.maf.gz', 'chr2_KI270772v1_alt.maf.gz', 'chr6_GL000256v2_alt.maf.gz', 'chr11_KI270827v1_alt.maf.gz', 'chrUn_GL000214v1.maf.gz', 'chr14_KI270724v1_random.maf.gz', 'chr20_KI270871v1_alt.maf.gz', 'chr15_KI270906v1_alt.maf.gz', 'chr4.maf.gz', 'chr19_KI270922v1_alt.maf.gz', 'chr2_KI270767v1_alt.maf.gz', 'chr4_GL000257v2_alt.maf.gz', 'chr17_KI270730v1_random.maf.gz', 'chr22_KI270736v1_random.maf.gz', 'chr19_KI270868v1_alt.maf.gz', 'chr18_GL383569v1_alt.maf.gz', 'chr3.maf.gz', 'chr7_KI270804v1_alt.maf.gz', 'chr1_KI270759v1_alt.maf.gz', 'chr3_KI270924v1_alt.maf.gz', 'chr14_GL000225v1_random.maf.gz', 'chr20_KI270869v1_alt.maf.gz', 'chr19_GL949752v1_alt.maf.gz', 'chr14_KI270722v1_random.maf.gz', 'chr13_KI270840v1_alt.maf.gz', 'chr8_KI270814v1_alt.maf.gz', 'chr21.maf.gz', 'chr22_KB663609v1_alt.maf.gz', 'chr20_GL383577v2_alt.maf.gz', 'chr9_KI270718v1_random.maf.gz', 'chrUn_KI270743v1.maf.gz', 'chrUn_GL000195v1.maf.gz', 'chr5_KI270898v1_alt.maf.gz', 'chr17_GL383565v1_alt.maf.gz', 'chr3_KI270784v1_alt.maf.gz', 'chr15_GL383554v1_alt.maf.gz', 'chr2_KI270768v1_alt.maf.gz', 'chr19_KI270887v1_alt.maf.gz', 'chr21_KI270873v1_alt.maf.gz', 'chr8_KI270900v1_alt.maf.gz', 'chr3_GL383526v1_alt.maf.gz', 'chr16_GL383557v1_alt.maf.gz', 'chr14_KI270726v1_random.maf.gz', 'chr19_GL949746v1_alt.maf.gz', 'chr14_KI270846v1_alt.maf.gz', 'chr6_KI270797v1_alt.maf.gz', 'chrUn_KI270754v1.maf.gz', 'chr8_KI270926v1_alt.maf.gz', 'chrUn_KI270438v1.maf.gz', 'chr12_GL383551v1_alt.maf.gz', 'chr4_KI270788v1_alt.maf.gz', 'chr3_KI270777v1_alt.maf.gz', 'chr13_KI270843v1_alt.maf.gz', 'chr7.maf.gz', 'chr10_KI270825v1_alt.maf.gz', 'chr11_KI270831v1_alt.maf.gz', 'chr17.maf.gz', 'chr3_KI270778v1_alt.maf.gz', 'chr7_KI270805v1_alt.maf.gz', 'chr4_GL000008v2_random.maf.gz', 'chr12_KI270834v1_alt.maf.gz', 'chr19_GL949750v2_alt.maf.gz', 'chr19_KI270882v1_alt.maf.gz', 'chr2_KI270774v1_alt.maf.gz', 'chr19_KI270931v1_alt.maf.gz', 'chr19_KI270883v1_alt.maf.gz', 'chr14.maf.gz', 'chr21_GL383579v2_alt.maf.gz', 'chr11_KI270829v1_alt.maf.gz', 'chr22_KI270879v1_alt.maf.gz', 'chr12_GL383552v1_alt.maf.gz', 'chr1_KI270761v1_alt.maf.gz', 'chr19_KI270929v1_alt.maf.gz', 'chr12.maf.gz', 'chr9.maf.gz', 'chrUn_GL000224v1.maf.gz', 'chr7_KI270806v1_alt.maf.gz', 'chr19_KI270918v1_alt.maf.gz', 'chr17_KI270908v1_alt.maf.gz', 'chr6_GL383533v1_alt.maf.gz', 'chr19_KI270923v1_alt.maf.gz', 'chr1_KI270763v1_alt.maf.gz', 'chr18_KI270911v1_alt.maf.gz', 'chr15_KI270848v1_alt.maf.gz', 'chr8_KI270901v1_alt.maf.gz', 'chr3_KI270780v1_alt.maf.gz', 'chr11_KI270832v1_alt.maf.gz', 'chr1_KI270762v1_alt.maf.gz', 'chr12_GL383550v2_alt.maf.gz', 'chr2_GL383521v1_alt.maf.gz', 'chr7_GL383534v2_alt.maf.gz', 'chr19_GL949749v2_alt.maf.gz', 'chr12_GL877876v1_alt.maf.gz', 'chrUn_GL000220v1.maf.gz', 'chr14_GL000194v1_random.maf.gz', 'chr6_GL000254v2_alt.maf.gz', 'chr17_JH159148v1_alt.maf.gz', 'chrUn_KI270748v1.maf.gz', 'chr4_GL383527v1_alt.maf.gz', 'chr5_GL949742v1_alt.maf.gz', 'chr16_KI270856v1_alt.maf.gz', 'chr5_KI270897v1_alt.maf.gz', 'chrUn_KI270745v1.maf.gz', 'chr8_KI270812v1_alt.maf.gz', 'chr6_KB021644v2_alt.maf.gz', 'chr11_KI270826v1_alt.maf.gz', 'chr19_KI270889v1_alt.maf.gz', 'chr6_KI270802v1_alt.maf.gz', 'chr4_KI270896v1_alt.maf.gz', 'chr11_KI270830v1_alt.maf.gz', 'chrUn_GL000216v2.maf.gz', 'chr5_KI270794v1_alt.maf.gz', 'chr19_KI270865v1_alt.maf.gz', 'chr17_KI270729v1_random.maf.gz', 'chr2_KI270776v1_alt.maf.gz', 'chr19_KI270886v1_alt.maf.gz', 'chr5_KI270795v1_alt.maf.gz', 'chr6_GL000251v2_alt.maf.gz', 'chr17_KI270862v1_alt.maf.gz', 'chr5.maf.gz', 'chr13_KI270839v1_alt.maf.gz', 'chr19_KI270916v1_alt.maf.gz', 'chr19_GL383574v1_alt.maf.gz', 'chr6.maf.gz', 'chrUn_GL000213v1.maf.gz', 'chr11_KI270721v1_random.maf.gz', 'chr1_KI270709v1_random.maf.gz', 'chr19.maf.gz', 'chr1_KI270710v1_random.maf.gz', 'chr21_GL383580v2_alt.maf.gz', 'chr19_GL383573v1_alt.maf.gz', 'chrUn_KI270528v1.maf.gz', 'chr19_GL000209v2_alt.maf.gz', 'chr16_KI270854v1_alt.maf.gz', 'chrUn_KI270521v1.maf.gz', 'chr14_KI270847v1_alt.maf.gz', 'chr22_KI270735v1_random.maf.gz', 'chr19_KI270888v1_alt.maf.gz', 'chr8_KI270810v1_alt.maf.gz', 'chr2_KI270771v1_alt.maf.gz', 'chr5_GL383531v1_alt.maf.gz', 'chr7_KI270808v1_alt.maf.gz', 'chr11_KI270903v1_alt.maf.gz', 'chr19_KI270933v1_alt.maf.gz', 'chr3_KI270779v1_alt.maf.gz', 'chr8_KI270813v1_alt.maf.gz', 'chrUn_GL000218v1.maf.gz', 'chr2_KI270716v1_random.maf.gz', 'chr4_KI270785v1_alt.maf.gz', 'chr1_GL383519v1_alt.maf.gz', 'chr7_KI270899v1_alt.maf.gz', 'chrUn_KI270579v1.maf.gz', 'chr4_GL383528v1_alt.maf.gz', 'chr5_GL000208v1_random.maf.gz', 'chr19_KI270890v1_alt.maf.gz', 'chr18_KI270864v1_alt.maf.gz', 'chr8_KI270820v1_alt.maf.gz', 'chr17_KI270909v1_alt.maf.gz', 'chr7_KI270803v1_alt.maf.gz', 'chr12_KI270835v1_alt.maf.gz', 'chr19_GL949748v2_alt.maf.gz', 'chr1_KI270708v1_random.maf.gz', 'chr11_JH159136v1_alt.maf.gz', 'chr2_KI270775v1_alt.maf.gz', 'chr1_KI270765v1_alt.maf.gz', 'chr1_KI270706v1_random.maf.gz', 'chr3_KI270934v1_alt.maf.gz', 'chr9_KI270717v1_random.maf.gz', 'chr6_GL000253v2_alt.maf.gz', 'chr2_KI270773v1_alt.maf.gz', 'chr3_KI270895v1_alt.maf.gz', 'chrUn_KI270448v1.maf.gz', 'chr2_KI270769v1_alt.maf.gz', 'chr13.maf.gz', 'chr11_GL383547v1_alt.maf.gz', 'chr5_KI270793v1_alt.maf.gz', 'chr19_KI270917v1_alt.maf.gz', 'chr10.maf.gz', 'chrUn_KI270442v1.maf.gz', 'chr18_KI270863v1_alt.maf.gz', 'chr19_KI270919v1_alt.maf.gz', 'chr8_KI270817v1_alt.maf.gz', 'chrUn_KI270746v1.maf.gz', 'chr1_GL383518v1_alt.maf.gz', 'chr11_KI270927v1_alt.maf.gz', 'chr17_KI270907v1_alt.maf.gz', 'chr19_KI270920v1_alt.maf.gz', 'chr18_GL383570v1_alt.maf.gz', 'chr18_GL383567v1_alt.maf.gz', 'chr1_KI270714v1_random.maf.gz', 'chrUn_KI270750v1.maf.gz', 'chr17_GL383564v2_alt.maf.gz', 'chr1_KI270711v1_random.maf.gz', 'chr16.maf.gz', 'chr13_KI270838v1_alt.maf.gz', 'chr12_KI270833v1_alt.maf.gz', 'chr12_KI270837v1_alt.maf.gz', 'chr17_GL000258v2_alt.maf.gz', 'chr18_KI270912v1_alt.maf.gz', 'chr19_KI270914v1_alt.maf.gz', 'chr1_KI270707v1_random.maf.gz', 'chr19_KI270884v1_alt.maf.gz', 'chr9_KI270823v1_alt.maf.gz', 'chr8.maf.gz', 'chr10_GL383546v1_alt.maf.gz', 'chr22_KI270732v1_random.maf.gz', 'chr6_GL000255v2_alt.maf.gz', 'chr22_KI270737v1_random.maf.gz', 'chrUn_KI270749v1.maf.gz', 'chr1_KI270764v1_alt.maf.gz', 'chr4_KI270786v1_alt.maf.gz', 'chr5_GL383530v1_alt.maf.gz']\n"
     ]
    }
   ],
   "source": [
    "#make a list of the MAF files separated by chromosome\n",
    "os.chdir(datapath)\n",
    "maf_list = glob.glob(\"chr*.maf*\")\n",
    "#maf_dict = {(i.split(\"/\")[-1]).split(\".\")[0]: i for i in maf_list}\n",
    "print(maf_list)"
   ]
  },
  {
   "cell_type": "code",
   "execution_count": 21,
   "metadata": {},
   "outputs": [
    {
     "name": "stdout",
     "output_type": "stream",
     "text": [
      "{'chr15': 'chr15.maf.gz', 'chr22': 'chr22.maf.gz', 'chr20': 'chr20.maf.gz', 'chr2': 'chr2.maf.gz', 'chrM': 'chrM.maf.gz', 'chr18': 'chr18.maf.gz', 'chr1': 'chr1.maf.gz', 'chr11': 'chr11.maf.gz', 'chr4': 'chr4.maf.gz', 'chr3': 'chr3.maf.gz', 'chr21': 'chr21.maf.gz', 'chr7': 'chr7.maf.gz', 'chr17': 'chr17.maf.gz', 'chr14': 'chr14.maf.gz', 'chr12': 'chr12.maf.gz', 'chr9': 'chr9.maf.gz', 'chr5': 'chr5.maf.gz', 'chr6': 'chr6.maf.gz', 'chr19': 'chr19.maf.gz', 'chr13': 'chr13.maf.gz', 'chr10': 'chr10.maf.gz', 'chr16': 'chr16.maf.gz', 'chr8': 'chr8.maf.gz'}\n"
     ]
    }
   ],
   "source": [
    "maf_list_short=list((i for i in maf_list if len(i)<13))\n",
    "maf_dict = {(i.split(\".\")[0]): i for i in maf_list_short}\n",
    "print(maf_dict)\n",
    "#print(maf_list)"
   ]
  },
  {
   "cell_type": "code",
   "execution_count": 14,
   "metadata": {},
   "outputs": [
    {
     "name": "stdout",
     "output_type": "stream",
     "text": [
      "touch /dors/capra_lab/users/fongsl/broadly_active_enhancers/data/hg19_human_specific_genome_coordinates_chr21.bed\n",
      "touch /dors/capra_lab/users/fongsl/broadly_active_enhancers/data/hg19_human_specific_genome_coordinates_chr14.bed\n",
      "touch /dors/capra_lab/users/fongsl/broadly_active_enhancers/data/hg19_human_specific_genome_coordinates_chr7.bed\n",
      "touch /dors/capra_lab/users/fongsl/broadly_active_enhancers/data/hg19_human_specific_genome_coordinates_chr15.bed\n",
      "touch /dors/capra_lab/users/fongsl/broadly_active_enhancers/data/hg19_human_specific_genome_coordinates_chr2.bed\n",
      "touch /dors/capra_lab/users/fongsl/broadly_active_enhancers/data/hg19_human_specific_genome_coordinates_chr6.bed\n",
      "touch /dors/capra_lab/users/fongsl/broadly_active_enhancers/data/hg19_human_specific_genome_coordinates_chr10.bed\n",
      "touch /dors/capra_lab/users/fongsl/broadly_active_enhancers/data/hg19_human_specific_genome_coordinates_chr1.bed\n",
      "touch /dors/capra_lab/users/fongsl/broadly_active_enhancers/data/hg19_human_specific_genome_coordinates_chr13.bed\n",
      "touch /dors/capra_lab/users/fongsl/broadly_active_enhancers/data/hg19_human_specific_genome_coordinates_chr5.bed\n",
      "touch /dors/capra_lab/users/fongsl/broadly_active_enhancers/data/hg19_human_specific_genome_coordinates_chr17.bed\n",
      "touch /dors/capra_lab/users/fongsl/broadly_active_enhancers/data/hg19_human_specific_genome_coordinates_chrX.bed\n",
      "touch /dors/capra_lab/users/fongsl/broadly_active_enhancers/data/hg19_human_specific_genome_coordinates_chr20.bed\n",
      "touch /dors/capra_lab/users/fongsl/broadly_active_enhancers/data/hg19_human_specific_genome_coordinates_chr11.bed\n",
      "touch /dors/capra_lab/users/fongsl/broadly_active_enhancers/data/hg19_human_specific_genome_coordinates_chr9.bed\n",
      "touch /dors/capra_lab/users/fongsl/broadly_active_enhancers/data/hg19_human_specific_genome_coordinates_chr4.bed\n",
      "touch /dors/capra_lab/users/fongsl/broadly_active_enhancers/data/hg19_human_specific_genome_coordinates_chr12.bed\n",
      "touch /dors/capra_lab/users/fongsl/broadly_active_enhancers/data/hg19_human_specific_genome_coordinates_chr19.bed\n",
      "touch /dors/capra_lab/users/fongsl/broadly_active_enhancers/data/hg19_human_specific_genome_coordinates_chr8.bed\n",
      "touch /dors/capra_lab/users/fongsl/broadly_active_enhancers/data/hg19_human_specific_genome_coordinates_chr18.bed\n",
      "touch /dors/capra_lab/users/fongsl/broadly_active_enhancers/data/hg19_human_specific_genome_coordinates_chr3.bed\n",
      "touch /dors/capra_lab/users/fongsl/broadly_active_enhancers/data/hg19_human_specific_genome_coordinates_chr22.bed\n",
      "touch /dors/capra_lab/users/fongsl/broadly_active_enhancers/data/hg19_human_specific_genome_coordinates_chr16.bed\n"
     ]
    }
   ],
   "source": [
    "for chr_num, MAF_FILE in maf_dict.items():\n",
    "# this grafted from Abin's script. Credits to him. \n",
    "    \n",
    "    # make a file for each chromosome\n",
    "    outfile = \"%shg38_human_specific_genome_coordinates_%s.bed\" %(outpath, chr_num)\n",
    "\n",
    "    touch = \"touch %s\" %outfile\n",
    "    print(touch)\n",
    "    os.system(touch)\n",
    "    out_file = open(outfile, 'w')\n",
    "    \n",
    "    #unzip the maf file\n",
    "    unzip_cmd = \"gunzip %s\"% (MAF_FILE)\n",
    "    print(unzip_cmd)\n",
    "    os.system(unzip_cmd)\n",
    "    \n",
    "    # parse the unzipped maf file\n",
    "    unzipped_maf = chr_num + \".maf\"\n",
    "    maf = AlignIO.parse(unzipped_maf, \"maf\")\n",
    "    count = 0 \n",
    "    \n",
    "    for block in maf: \n",
    "        count += 1\n",
    "        store_homolog_line = []\n",
    "        #print(this_paragraph)\n",
    "        s_count = 0\n",
    "\n",
    "        for row in block:             \n",
    "            ### this is where the parsing happens.... what is the .id part?\n",
    "            species = row.id.split('.')[0]\n",
    "        \n",
    "            blockchr = row.id.split('.')[1]\n",
    "            \n",
    "            start = row.annotations['start']\n",
    "            \n",
    "            end =  row.annotations['start'] + row.annotations['size'] + 1 \n",
    "            \n",
    "            if row.annotations['strand'] == 1:\n",
    "                strand = \"+\" \n",
    "            elif row.annotations['strand'] == -1: \n",
    "                    strand = \"-\"\n",
    "            else: \n",
    "                raise ValueError('strand parsing did not work')     \n",
    "            \n",
    "            s_count +=1\n",
    "            store_homolog_line.append([blockchr, start, end, strand, species, str(s_count)])\n",
    "                    \n",
    "        if s_count ==1:\n",
    "    \n",
    "            store_homolog_line = [value for v in store_homolog_line for value in v]\n",
    "            out_file.write('\\t'.join(map(str,store_homolog_line)) + '\\n')\n",
    "       \n",
    "    out_file.close()\n",
    "    \n",
    "    #rezip the maf file\n",
    "    zip_cmd = \"gzip %s\"% (unzipped_maf)\n",
    "    print(zip_cmd)\n",
    "    os.system(zip_cmd)"
   ]
  }
 ],
 "metadata": {
  "kernelspec": {
   "display_name": "Python 3",
   "language": "python",
   "name": "python3"
  },
  "language_info": {
   "codemirror_mode": {
    "name": "ipython",
    "version": 3
   },
   "file_extension": ".py",
   "mimetype": "text/x-python",
   "name": "python",
   "nbconvert_exporter": "python",
   "pygments_lexer": "ipython3",
   "version": "3.6.1"
  }
 },
 "nbformat": 4,
 "nbformat_minor": 2
}
