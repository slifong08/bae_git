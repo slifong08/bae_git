{
 "cells": [
  {
   "cell_type": "code",
   "execution_count": 1,
   "metadata": {
    "collapsed": true
   },
   "outputs": [],
   "source": [
    "#!/bin/python\n",
    "#180601\n",
    "#sarahfong\n",
    "\n",
    "#The purpose of this script is to generate a way to query broadly active enhancer BED files \n",
    "#against multiple sequence alignments. \n",
    "\n",
    "#Multiple Sequence Alignment files: I will use 46-way UCSC hg19 MAFs from /dors/capra_lab/data_clean/ucsc/hg19/maf/"
   ]
  },
  {
   "cell_type": "code",
   "execution_count": 2,
   "metadata": {
    "collapsed": true
   },
   "outputs": [],
   "source": [
    "import os\n",
    "import glob\n",
    "import pandas"
   ]
  },
  {
   "cell_type": "code",
   "execution_count": 4,
   "metadata": {},
   "outputs": [
    {
     "data": {
      "text/plain": [
       "0"
      ]
     },
     "execution_count": 4,
     "metadata": {},
     "output_type": "execute_result"
    }
   ],
   "source": [
    "# LOAD PHAST\n",
    "os.system(\"ml restore phast_ml\")"
   ]
  },
  {
   "cell_type": "code",
   "execution_count": 5,
   "metadata": {
    "collapsed": true
   },
   "outputs": [],
   "source": [
    "mafpath ='/dors/capra_lab/data/alignments/hg19/multiz46way/'\n",
    "\n",
    "#human-specific villar reference by chr number \n",
    "#chr files generated with /dors/capra_lab/users/fongsl/broadly_active_enhancers/bae_git/roadmap_multi/separate_short_multi_intersect_by_chr.ipynb \n",
    "datapath = \"/dors/capra_lab/users/fongsl/broadly_active_enhancers/data/villar_ref_data/\""
   ]
  },
  {
   "cell_type": "code",
   "execution_count": 6,
   "metadata": {},
   "outputs": [
    {
     "name": "stdout",
     "output_type": "stream",
     "text": [
      "['/dors/capra_lab/users/fongsl/broadly_active_enhancers/data/villar_ref_data/chr19_hspecific_villar_bae_hq_aln.bed', '/dors/capra_lab/users/fongsl/broadly_active_enhancers/data/villar_ref_data/chr4_hspecific_villar_bae_hq_aln.bed', '/dors/capra_lab/users/fongsl/broadly_active_enhancers/data/villar_ref_data/chr21_hspecific_villar_bae_hq_aln.bed', '/dors/capra_lab/users/fongsl/broadly_active_enhancers/data/villar_ref_data/chr14_hspecific_villar_bae_hq_aln.bed', '/dors/capra_lab/users/fongsl/broadly_active_enhancers/data/villar_ref_data/chr10_hspecific_villar_bae_hq_aln.bed', '/dors/capra_lab/users/fongsl/broadly_active_enhancers/data/villar_ref_data/chr18_hspecific_villar_bae_hq_aln.bed', '/dors/capra_lab/users/fongsl/broadly_active_enhancers/data/villar_ref_data/chr1_hspecific_villar_bae_hq_aln.bed', '/dors/capra_lab/users/fongsl/broadly_active_enhancers/data/villar_ref_data/chr13_hspecific_villar_bae_hq_aln.bed', '/dors/capra_lab/users/fongsl/broadly_active_enhancers/data/villar_ref_data/chr11_hspecific_villar_bae_hq_aln.bed', '/dors/capra_lab/users/fongsl/broadly_active_enhancers/data/villar_ref_data/chr6_hspecific_villar_bae_hq_aln.bed', '/dors/capra_lab/users/fongsl/broadly_active_enhancers/data/villar_ref_data/chr9_hspecific_villar_bae_hq_aln.bed', '/dors/capra_lab/users/fongsl/broadly_active_enhancers/data/villar_ref_data/chr15_hspecific_villar_bae_hq_aln.bed', '/dors/capra_lab/users/fongsl/broadly_active_enhancers/data/villar_ref_data/chr12_hspecific_villar_bae_hq_aln.bed', '/dors/capra_lab/users/fongsl/broadly_active_enhancers/data/villar_ref_data/chr3_hspecific_villar_bae_hq_aln.bed', '/dors/capra_lab/users/fongsl/broadly_active_enhancers/data/villar_ref_data/chr8_hspecific_villar_bae_hq_aln.bed', '/dors/capra_lab/users/fongsl/broadly_active_enhancers/data/villar_ref_data/chr16_hspecific_villar_bae_hq_aln.bed', '/dors/capra_lab/users/fongsl/broadly_active_enhancers/data/villar_ref_data/chr20_hspecific_villar_bae_hq_aln.bed', '/dors/capra_lab/users/fongsl/broadly_active_enhancers/data/villar_ref_data/chr22_hspecific_villar_bae_hq_aln.bed', '/dors/capra_lab/users/fongsl/broadly_active_enhancers/data/villar_ref_data/chr2_hspecific_villar_bae_hq_aln.bed', '/dors/capra_lab/users/fongsl/broadly_active_enhancers/data/villar_ref_data/chr7_hspecific_villar_bae_hq_aln.bed', '/dors/capra_lab/users/fongsl/broadly_active_enhancers/data/villar_ref_data/chr5_hspecific_villar_bae_hq_aln.bed', '/dors/capra_lab/users/fongsl/broadly_active_enhancers/data/villar_ref_data/chr17_hspecific_villar_bae_hq_aln.bed']\n"
     ]
    }
   ],
   "source": [
    "# make a list of the testbed files\n",
    "testbed_list = glob.glob(\"%schr*\"%datapath)\n",
    "testbed_list.remove(\"/dors/capra_lab/users/fongsl/broadly_active_enhancers/data/villar_ref_data/chrX_hspecific_villar_bae_hq_aln.bed\")\n",
    "print((testbed_list))"
   ]
  },
  {
   "cell_type": "code",
   "execution_count": 7,
   "metadata": {},
   "outputs": [
    {
     "name": "stdout",
     "output_type": "stream",
     "text": [
      "['/dors/capra_lab/data/alignments/hg19/multiz46way/chr21.maf', '/dors/capra_lab/data/alignments/hg19/multiz46way/chr14.maf', '/dors/capra_lab/data/alignments/hg19/multiz46way/chr7.maf', '/dors/capra_lab/data/alignments/hg19/multiz46way/chr15.maf', '/dors/capra_lab/data/alignments/hg19/multiz46way/chr2.maf', '/dors/capra_lab/data/alignments/hg19/multiz46way/chr6.maf', '/dors/capra_lab/data/alignments/hg19/multiz46way/chr10.maf', '/dors/capra_lab/data/alignments/hg19/multiz46way/chr1.maf', '/dors/capra_lab/data/alignments/hg19/multiz46way/chr13.maf', '/dors/capra_lab/data/alignments/hg19/multiz46way/chr5.maf', '/dors/capra_lab/data/alignments/hg19/multiz46way/chr17.maf', '/dors/capra_lab/data/alignments/hg19/multiz46way/chrX.maf', '/dors/capra_lab/data/alignments/hg19/multiz46way/chr20.maf', '/dors/capra_lab/data/alignments/hg19/multiz46way/chr11.maf', '/dors/capra_lab/data/alignments/hg19/multiz46way/chr9.maf', '/dors/capra_lab/data/alignments/hg19/multiz46way/chr4.maf', '/dors/capra_lab/data/alignments/hg19/multiz46way/chr12.maf', '/dors/capra_lab/data/alignments/hg19/multiz46way/chr19.maf', '/dors/capra_lab/data/alignments/hg19/multiz46way/chr8.maf', '/dors/capra_lab/data/alignments/hg19/multiz46way/chr18.maf', '/dors/capra_lab/data/alignments/hg19/multiz46way/chr3.maf', '/dors/capra_lab/data/alignments/hg19/multiz46way/chr22.maf', '/dors/capra_lab/data/alignments/hg19/multiz46way/chr16.maf']\n"
     ]
    }
   ],
   "source": [
    "# gather the MAF files\n",
    "maf_list = glob.glob(\"%schr*.maf\"%mafpath)\n",
    "print(maf_list)"
   ]
  },
  {
   "cell_type": "code",
   "execution_count": 8,
   "metadata": {},
   "outputs": [
    {
     "name": "stdout",
     "output_type": "stream",
     "text": [
      "{'chr21': '/dors/capra_lab/data/alignments/hg19/multiz46way/chr21.maf', 'chr14': '/dors/capra_lab/data/alignments/hg19/multiz46way/chr14.maf', 'chr7': '/dors/capra_lab/data/alignments/hg19/multiz46way/chr7.maf', 'chr15': '/dors/capra_lab/data/alignments/hg19/multiz46way/chr15.maf', 'chr2': '/dors/capra_lab/data/alignments/hg19/multiz46way/chr2.maf', 'chr6': '/dors/capra_lab/data/alignments/hg19/multiz46way/chr6.maf', 'chr10': '/dors/capra_lab/data/alignments/hg19/multiz46way/chr10.maf', 'chr1': '/dors/capra_lab/data/alignments/hg19/multiz46way/chr1.maf', 'chr13': '/dors/capra_lab/data/alignments/hg19/multiz46way/chr13.maf', 'chr5': '/dors/capra_lab/data/alignments/hg19/multiz46way/chr5.maf', 'chr17': '/dors/capra_lab/data/alignments/hg19/multiz46way/chr17.maf', 'chrX': '/dors/capra_lab/data/alignments/hg19/multiz46way/chrX.maf', 'chr20': '/dors/capra_lab/data/alignments/hg19/multiz46way/chr20.maf', 'chr11': '/dors/capra_lab/data/alignments/hg19/multiz46way/chr11.maf', 'chr9': '/dors/capra_lab/data/alignments/hg19/multiz46way/chr9.maf', 'chr4': '/dors/capra_lab/data/alignments/hg19/multiz46way/chr4.maf', 'chr12': '/dors/capra_lab/data/alignments/hg19/multiz46way/chr12.maf', 'chr19': '/dors/capra_lab/data/alignments/hg19/multiz46way/chr19.maf', 'chr8': '/dors/capra_lab/data/alignments/hg19/multiz46way/chr8.maf', 'chr18': '/dors/capra_lab/data/alignments/hg19/multiz46way/chr18.maf', 'chr3': '/dors/capra_lab/data/alignments/hg19/multiz46way/chr3.maf', 'chr22': '/dors/capra_lab/data/alignments/hg19/multiz46way/chr22.maf', 'chr16': '/dors/capra_lab/data/alignments/hg19/multiz46way/chr16.maf'}\n"
     ]
    }
   ],
   "source": [
    "maf_dict = {(i.split(\"/\")[-1]).split(\".\")[0]: i for i in maf_list}\n",
    "print(maf_dict)"
   ]
  },
  {
   "cell_type": "code",
   "execution_count": 15,
   "metadata": {
    "collapsed": true
   },
   "outputs": [],
   "source": [
    "#chr_number = 'chr1', 'chr11', etc.\n",
    "def unzipzip(chr_num, filename):\n",
    "    \n",
    "    parse_cmd= \"maf_parse -g %s %s > %svillar_maf/parsed_%s.maf\"%(testbed, filename , datapath, chr_num)\n",
    "    print(parse_cmd)\n",
    "    os.system(parse_cmd)"
   ]
  },
  {
   "cell_type": "code",
   "execution_count": 16,
   "metadata": {},
   "outputs": [
    {
     "name": "stdout",
     "output_type": "stream",
     "text": [
      "chr19\n",
      "maf_parse -g /dors/capra_lab/users/fongsl/broadly_active_enhancers/data/villar_ref_data/chr19_hspecific_villar_bae_hq_aln.bed /dors/capra_lab/data/alignments/hg19/multiz46way/chr19.maf > /dors/capra_lab/users/fongsl/broadly_active_enhancers/data/villar_ref_data/villar_maf/parsed_chr19.maf\n",
      "chr4\n",
      "maf_parse -g /dors/capra_lab/users/fongsl/broadly_active_enhancers/data/villar_ref_data/chr4_hspecific_villar_bae_hq_aln.bed /dors/capra_lab/data/alignments/hg19/multiz46way/chr4.maf > /dors/capra_lab/users/fongsl/broadly_active_enhancers/data/villar_ref_data/villar_maf/parsed_chr4.maf\n",
      "chr21\n",
      "maf_parse -g /dors/capra_lab/users/fongsl/broadly_active_enhancers/data/villar_ref_data/chr21_hspecific_villar_bae_hq_aln.bed /dors/capra_lab/data/alignments/hg19/multiz46way/chr21.maf > /dors/capra_lab/users/fongsl/broadly_active_enhancers/data/villar_ref_data/villar_maf/parsed_chr21.maf\n",
      "chr14\n",
      "maf_parse -g /dors/capra_lab/users/fongsl/broadly_active_enhancers/data/villar_ref_data/chr14_hspecific_villar_bae_hq_aln.bed /dors/capra_lab/data/alignments/hg19/multiz46way/chr14.maf > /dors/capra_lab/users/fongsl/broadly_active_enhancers/data/villar_ref_data/villar_maf/parsed_chr14.maf\n",
      "chr10\n",
      "maf_parse -g /dors/capra_lab/users/fongsl/broadly_active_enhancers/data/villar_ref_data/chr10_hspecific_villar_bae_hq_aln.bed /dors/capra_lab/data/alignments/hg19/multiz46way/chr10.maf > /dors/capra_lab/users/fongsl/broadly_active_enhancers/data/villar_ref_data/villar_maf/parsed_chr10.maf\n",
      "chr18\n",
      "maf_parse -g /dors/capra_lab/users/fongsl/broadly_active_enhancers/data/villar_ref_data/chr18_hspecific_villar_bae_hq_aln.bed /dors/capra_lab/data/alignments/hg19/multiz46way/chr18.maf > /dors/capra_lab/users/fongsl/broadly_active_enhancers/data/villar_ref_data/villar_maf/parsed_chr18.maf\n",
      "chr1\n",
      "maf_parse -g /dors/capra_lab/users/fongsl/broadly_active_enhancers/data/villar_ref_data/chr1_hspecific_villar_bae_hq_aln.bed /dors/capra_lab/data/alignments/hg19/multiz46way/chr1.maf > /dors/capra_lab/users/fongsl/broadly_active_enhancers/data/villar_ref_data/villar_maf/parsed_chr1.maf\n",
      "chr13\n",
      "maf_parse -g /dors/capra_lab/users/fongsl/broadly_active_enhancers/data/villar_ref_data/chr13_hspecific_villar_bae_hq_aln.bed /dors/capra_lab/data/alignments/hg19/multiz46way/chr13.maf > /dors/capra_lab/users/fongsl/broadly_active_enhancers/data/villar_ref_data/villar_maf/parsed_chr13.maf\n",
      "chr11\n",
      "maf_parse -g /dors/capra_lab/users/fongsl/broadly_active_enhancers/data/villar_ref_data/chr11_hspecific_villar_bae_hq_aln.bed /dors/capra_lab/data/alignments/hg19/multiz46way/chr11.maf > /dors/capra_lab/users/fongsl/broadly_active_enhancers/data/villar_ref_data/villar_maf/parsed_chr11.maf\n",
      "chr6\n",
      "maf_parse -g /dors/capra_lab/users/fongsl/broadly_active_enhancers/data/villar_ref_data/chr6_hspecific_villar_bae_hq_aln.bed /dors/capra_lab/data/alignments/hg19/multiz46way/chr6.maf > /dors/capra_lab/users/fongsl/broadly_active_enhancers/data/villar_ref_data/villar_maf/parsed_chr6.maf\n",
      "chr9\n",
      "maf_parse -g /dors/capra_lab/users/fongsl/broadly_active_enhancers/data/villar_ref_data/chr9_hspecific_villar_bae_hq_aln.bed /dors/capra_lab/data/alignments/hg19/multiz46way/chr9.maf > /dors/capra_lab/users/fongsl/broadly_active_enhancers/data/villar_ref_data/villar_maf/parsed_chr9.maf\n",
      "chr15\n",
      "maf_parse -g /dors/capra_lab/users/fongsl/broadly_active_enhancers/data/villar_ref_data/chr15_hspecific_villar_bae_hq_aln.bed /dors/capra_lab/data/alignments/hg19/multiz46way/chr15.maf > /dors/capra_lab/users/fongsl/broadly_active_enhancers/data/villar_ref_data/villar_maf/parsed_chr15.maf\n",
      "chr12\n",
      "maf_parse -g /dors/capra_lab/users/fongsl/broadly_active_enhancers/data/villar_ref_data/chr12_hspecific_villar_bae_hq_aln.bed /dors/capra_lab/data/alignments/hg19/multiz46way/chr12.maf > /dors/capra_lab/users/fongsl/broadly_active_enhancers/data/villar_ref_data/villar_maf/parsed_chr12.maf\n",
      "chr3\n",
      "maf_parse -g /dors/capra_lab/users/fongsl/broadly_active_enhancers/data/villar_ref_data/chr3_hspecific_villar_bae_hq_aln.bed /dors/capra_lab/data/alignments/hg19/multiz46way/chr3.maf > /dors/capra_lab/users/fongsl/broadly_active_enhancers/data/villar_ref_data/villar_maf/parsed_chr3.maf\n",
      "chr8\n",
      "maf_parse -g /dors/capra_lab/users/fongsl/broadly_active_enhancers/data/villar_ref_data/chr8_hspecific_villar_bae_hq_aln.bed /dors/capra_lab/data/alignments/hg19/multiz46way/chr8.maf > /dors/capra_lab/users/fongsl/broadly_active_enhancers/data/villar_ref_data/villar_maf/parsed_chr8.maf\n",
      "chr16\n",
      "maf_parse -g /dors/capra_lab/users/fongsl/broadly_active_enhancers/data/villar_ref_data/chr16_hspecific_villar_bae_hq_aln.bed /dors/capra_lab/data/alignments/hg19/multiz46way/chr16.maf > /dors/capra_lab/users/fongsl/broadly_active_enhancers/data/villar_ref_data/villar_maf/parsed_chr16.maf\n",
      "chr20\n",
      "maf_parse -g /dors/capra_lab/users/fongsl/broadly_active_enhancers/data/villar_ref_data/chr20_hspecific_villar_bae_hq_aln.bed /dors/capra_lab/data/alignments/hg19/multiz46way/chr20.maf > /dors/capra_lab/users/fongsl/broadly_active_enhancers/data/villar_ref_data/villar_maf/parsed_chr20.maf\n",
      "chr22\n",
      "maf_parse -g /dors/capra_lab/users/fongsl/broadly_active_enhancers/data/villar_ref_data/chr22_hspecific_villar_bae_hq_aln.bed /dors/capra_lab/data/alignments/hg19/multiz46way/chr22.maf > /dors/capra_lab/users/fongsl/broadly_active_enhancers/data/villar_ref_data/villar_maf/parsed_chr22.maf\n",
      "chr2\n",
      "maf_parse -g /dors/capra_lab/users/fongsl/broadly_active_enhancers/data/villar_ref_data/chr2_hspecific_villar_bae_hq_aln.bed /dors/capra_lab/data/alignments/hg19/multiz46way/chr2.maf > /dors/capra_lab/users/fongsl/broadly_active_enhancers/data/villar_ref_data/villar_maf/parsed_chr2.maf\n",
      "chr7\n",
      "maf_parse -g /dors/capra_lab/users/fongsl/broadly_active_enhancers/data/villar_ref_data/chr7_hspecific_villar_bae_hq_aln.bed /dors/capra_lab/data/alignments/hg19/multiz46way/chr7.maf > /dors/capra_lab/users/fongsl/broadly_active_enhancers/data/villar_ref_data/villar_maf/parsed_chr7.maf\n",
      "chr5\n",
      "maf_parse -g /dors/capra_lab/users/fongsl/broadly_active_enhancers/data/villar_ref_data/chr5_hspecific_villar_bae_hq_aln.bed /dors/capra_lab/data/alignments/hg19/multiz46way/chr5.maf > /dors/capra_lab/users/fongsl/broadly_active_enhancers/data/villar_ref_data/villar_maf/parsed_chr5.maf\n",
      "chr17\n",
      "maf_parse -g /dors/capra_lab/users/fongsl/broadly_active_enhancers/data/villar_ref_data/chr17_hspecific_villar_bae_hq_aln.bed /dors/capra_lab/data/alignments/hg19/multiz46way/chr17.maf > /dors/capra_lab/users/fongsl/broadly_active_enhancers/data/villar_ref_data/villar_maf/parsed_chr17.maf\n"
     ]
    }
   ],
   "source": [
    "for testbed in testbed_list:\n",
    "    chr_num= (testbed.split('/')[-1]).split('_')[0]\n",
    "    filename = maf_dict[chr_num]\n",
    "    print(chr_num)\n",
    "    unzipzip(chr_num, filename)"
   ]
  }
 ],
 "metadata": {
  "kernelspec": {
   "display_name": "Python 3",
   "language": "python",
   "name": "python3"
  },
  "language_info": {
   "codemirror_mode": {
    "name": "ipython",
    "version": 3
   },
   "file_extension": ".py",
   "mimetype": "text/x-python",
   "name": "python",
   "nbconvert_exporter": "python",
   "pygments_lexer": "ipython3",
   "version": "3.6.1"
  }
 },
 "nbformat": 4,
 "nbformat_minor": 2
}
