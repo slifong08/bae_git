{
 "cells": [
  {
   "cell_type": "code",
   "execution_count": null,
   "metadata": {
    "collapsed": true
   },
   "outputs": [],
   "source": [
    "#180601\n",
    "\n",
    "#sarahfong\n",
    "#biopython is loaded in the sf_test env with 'conda install -c bioconda biopython'"
   ]
  },
  {
   "cell_type": "code",
   "execution_count": 1,
   "metadata": {},
   "outputs": [
    {
     "data": {
      "text/plain": [
       "['',\n",
       " '/home/fongsl/.conda/envs/sf_test/lib/python36.zip',\n",
       " '/home/fongsl/.conda/envs/sf_test/lib/python3.6',\n",
       " '/home/fongsl/.conda/envs/sf_test/lib/python3.6/lib-dynload',\n",
       " '/home/fongsl/.conda/envs/sf_test/lib/python3.6/site-packages',\n",
       " '/home/fongsl/.conda/envs/sf_test/lib/python3.6/site-packages/IPython/extensions',\n",
       " '/gpfs22/home/fongsl/.ipython']"
      ]
     },
     "execution_count": 1,
     "metadata": {},
     "output_type": "execute_result"
    }
   ],
   "source": [
    "import sys\n",
    "import glob\n",
    "#import pandas\n",
    "\n",
    "#SARAH- ADD THE PATH WITH BIOPYTHON\n",
    "bio_package = '/home/fongsl/.conda/envs/sf_test/lib/python3.6/site-packages'\n",
    "if bio_package not in sys.path:\n",
    "\n",
    "    sys.path.append('/home/fongsl/.conda/envs/sf_test/lib/python3.6/site-packages')\n",
    "sys.path"
   ]
  },
  {
   "cell_type": "code",
   "execution_count": 3,
   "metadata": {
    "collapsed": true
   },
   "outputs": [],
   "source": [
    "from Bio import AlignIO\n",
    "from Bio import SeqIO"
   ]
  },
  {
   "cell_type": "code",
   "execution_count": 4,
   "metadata": {
    "collapsed": true
   },
   "outputs": [],
   "source": [
    "# path to data\n",
    "\n",
    "datapath = \"/dors/capra_lab/users/fongsl/broadly_active_enhancers/data/villar_ref_data/villar_maf/\""
   ]
  },
  {
   "cell_type": "code",
   "execution_count": 5,
   "metadata": {
    "collapsed": true
   },
   "outputs": [],
   "source": [
    "#make a list of the MAF files separated by chromosome\n",
    "\n",
    "maf_list = glob.glob(\"%sparsed*.maf\" % datapath)"
   ]
  },
  {
   "cell_type": "code",
   "execution_count": 6,
   "metadata": {},
   "outputs": [
    {
     "name": "stdout",
     "output_type": "stream",
     "text": [
      "working on  chr2\n",
      "working on  chr8\n",
      "working on  chr14\n",
      "working on  chr15\n",
      "working on  chr4\n",
      "working on  chr17\n",
      "working on  chr3\n",
      "working on  chr6\n",
      "working on  chrX\n",
      "working on  chr1\n",
      "working on  chr22\n",
      "working on  chr21\n",
      "working on  chr9\n",
      "working on  chr5\n",
      "working on  chr12\n",
      "working on  chr18\n",
      "working on  chr19\n",
      "working on  chr7\n",
      "working on  chr11\n",
      "working on  chr16\n",
      "working on  chr13\n",
      "working on  chr10\n",
      "working on  chr20\n"
     ]
    }
   ],
   "source": [
    "for MAF_FILE in maf_list:\n",
    "# this grafted from Abin's script. Credits to him. \n",
    "\n",
    "    chr_num = ((MAF_FILE.split('/')[-1]).split('_')[1]).split('.')[0]\n",
    "    print(\"working on \", chr_num)\n",
    "    out_file = open(\"%shg19_villar_bae_hspec_%s.bed\" %(datapath, chr_num), 'w')\n",
    "    out_file_con = open(\"%shg19_villar_bae_con_%s.bed\" %(datapath, chr_num), 'w')\n",
    "    maf = AlignIO.parse(MAF_FILE, \"maf\")\n",
    "    count = 0 \n",
    "    for block in maf: \n",
    "        count += 1\n",
    "        \n",
    "        store_homolog_line = []\n",
    "        s_count = 0\n",
    "        for row in block: \n",
    "            \n",
    "            ### this is where the parsing happens.... what is the .id part?\n",
    "            #print(row)\n",
    "            species = row.id.split('.')[0]\n",
    "        \n",
    "            blockchr = row.id.split('.')[1]\n",
    "        \n",
    "            start = row.annotations['start']\n",
    "            \n",
    "            end =  row.annotations['start'] + row.annotations['size'] + 1 \n",
    "            \n",
    "            if row.annotations['strand'] == 1:\n",
    "                strand = \"+\" \n",
    "            elif row.annotations['strand'] == -1: \n",
    "                strand = \"-\"\n",
    "            else: \n",
    "                raise ValueError('strand parsing did not work')     \n",
    "            \n",
    "            store_homolog_line.append([blockchr, start, end, strand, species, str(s_count)])\n",
    "        store_homolog_line = [value for v in store_homolog_line for value in v]\n",
    "        if s_count ==1:\n",
    "            out_file.write('\\t'.join(map(str,store_homolog_line)) + '\\n')\n",
    "        else:\n",
    "            out_file_con.write('\\t'.join(map(str,store_homolog_line)) + '\\n')   \n",
    "    out_file.close()"
   ]
  }
 ],
 "metadata": {
  "kernelspec": {
   "display_name": "Python 3",
   "language": "python",
   "name": "python3"
  },
  "language_info": {
   "codemirror_mode": {
    "name": "ipython",
    "version": 3
   },
   "file_extension": ".py",
   "mimetype": "text/x-python",
   "name": "python",
   "nbconvert_exporter": "python",
   "pygments_lexer": "ipython3",
   "version": "3.6.1"
  }
 },
 "nbformat": 4,
 "nbformat_minor": 2
}
