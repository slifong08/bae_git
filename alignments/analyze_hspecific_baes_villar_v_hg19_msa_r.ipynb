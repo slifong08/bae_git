{
 "cells": [
  {
   "cell_type": "code",
   "execution_count": 1,
   "metadata": {
    "collapsed": true
   },
   "outputs": [],
   "source": [
    "#180612\n",
    "#sarahfong\n",
    "#this is a script to compare the number of species alignments in UCSC hg19 46-way and 8-way with villar's alignment calls for their peaks generated from EPO"
   ]
  },
  {
   "cell_type": "code",
   "execution_count": 2,
   "metadata": {},
   "outputs": [
    {
     "name": "stderr",
     "output_type": "stream",
     "text": [
      "Warning message:\n",
      "“package ‘ggplot2’ was built under R version 3.4.3”"
     ]
    }
   ],
   "source": [
    "library(ggplot2)"
   ]
  },
  {
   "cell_type": "code",
   "execution_count": 6,
   "metadata": {},
   "outputs": [],
   "source": [
    "#get 46-way human-specific bed-files\n",
    "dir = \"/dors/capra_lab/users/fongsl/broadly_active_enhancers/data/villar_ref_data/villar_maf/\"\n",
    "#dir = '/Users/sarahfong/Desktop/CAPRA/broadly_active_enhancers/villar_maf/villar_intersect_9-way/'\n",
    "setwd(dir)"
   ]
  },
  {
   "cell_type": "code",
   "execution_count": 13,
   "metadata": {},
   "outputs": [
    {
     "data": {
      "text/html": [
       "<ol class=list-inline>\n",
       "\t<li>4839</li>\n",
       "\t<li>11</li>\n",
       "</ol>\n"
      ],
      "text/latex": [
       "\\begin{enumerate*}\n",
       "\\item 4839\n",
       "\\item 11\n",
       "\\end{enumerate*}\n"
      ],
      "text/markdown": [
       "1. 4839\n",
       "2. 11\n",
       "\n",
       "\n"
      ],
      "text/plain": [
       "[1] 4839   11"
      ]
     },
     "metadata": {},
     "output_type": "display_data"
    },
    {
     "data": {
      "text/html": [
       "<table>\n",
       "<thead><tr><th scope=col>v_chr</th><th scope=col>v_start</th><th scope=col>v_end</th><th scope=col>hg19_chr</th><th scope=col>hg19_start</th><th scope=col>hg19_end</th><th scope=col>strand</th><th scope=col>ref</th><th scope=col>sp46</th><th scope=col>sp8_villar</th><th scope=col>bp_overlap</th></tr></thead>\n",
       "<tbody>\n",
       "\t<tr><td>chr1    </td><td>40731346</td><td>40740422</td><td>chr1    </td><td>40731254</td><td>40731378</td><td>+       </td><td>hg19    </td><td> 8      </td><td>2       </td><td>32      </td></tr>\n",
       "\t<tr><td>chr1    </td><td>40731346</td><td>40740422</td><td>chr1    </td><td>40731377</td><td>40731441</td><td>+       </td><td>hg19    </td><td>17      </td><td>6       </td><td>64      </td></tr>\n",
       "\t<tr><td>chr1    </td><td>40731346</td><td>40740422</td><td>chr1    </td><td>40731440</td><td>40731519</td><td>+       </td><td>hg19    </td><td>18      </td><td>6       </td><td>79      </td></tr>\n",
       "\t<tr><td>chr1    </td><td>40731346</td><td>40740422</td><td>chr1    </td><td>40731518</td><td>40731543</td><td>+       </td><td>hg19    </td><td>20      </td><td>7       </td><td>25      </td></tr>\n",
       "\t<tr><td>chr1    </td><td>40731346</td><td>40740422</td><td>chr1    </td><td>40731542</td><td>40731592</td><td>+       </td><td>hg19    </td><td>20      </td><td>7       </td><td>50      </td></tr>\n",
       "\t<tr><td>chr1    </td><td>40731346</td><td>40740422</td><td>chr1    </td><td>40731591</td><td>40731643</td><td>+       </td><td>hg19    </td><td>19      </td><td>7       </td><td>52      </td></tr>\n",
       "</tbody>\n",
       "</table>\n"
      ],
      "text/latex": [
       "\\begin{tabular}{r|lllllllllll}\n",
       " v\\_chr & v\\_start & v\\_end & hg19\\_chr & hg19\\_start & hg19\\_end & strand & ref & sp46 & sp8\\_villar & bp\\_overlap\\\\\n",
       "\\hline\n",
       "\t chr1     & 40731346 & 40740422 & chr1     & 40731254 & 40731378 & +        & hg19     &  8       & 2        & 32      \\\\\n",
       "\t chr1     & 40731346 & 40740422 & chr1     & 40731377 & 40731441 & +        & hg19     & 17       & 6        & 64      \\\\\n",
       "\t chr1     & 40731346 & 40740422 & chr1     & 40731440 & 40731519 & +        & hg19     & 18       & 6        & 79      \\\\\n",
       "\t chr1     & 40731346 & 40740422 & chr1     & 40731518 & 40731543 & +        & hg19     & 20       & 7        & 25      \\\\\n",
       "\t chr1     & 40731346 & 40740422 & chr1     & 40731542 & 40731592 & +        & hg19     & 20       & 7        & 50      \\\\\n",
       "\t chr1     & 40731346 & 40740422 & chr1     & 40731591 & 40731643 & +        & hg19     & 19       & 7        & 52      \\\\\n",
       "\\end{tabular}\n"
      ],
      "text/markdown": [
       "\n",
       "v_chr | v_start | v_end | hg19_chr | hg19_start | hg19_end | strand | ref | sp46 | sp8_villar | bp_overlap | \n",
       "|---|---|---|---|---|---|\n",
       "| chr1     | 40731346 | 40740422 | chr1     | 40731254 | 40731378 | +        | hg19     |  8       | 2        | 32       | \n",
       "| chr1     | 40731346 | 40740422 | chr1     | 40731377 | 40731441 | +        | hg19     | 17       | 6        | 64       | \n",
       "| chr1     | 40731346 | 40740422 | chr1     | 40731440 | 40731519 | +        | hg19     | 18       | 6        | 79       | \n",
       "| chr1     | 40731346 | 40740422 | chr1     | 40731518 | 40731543 | +        | hg19     | 20       | 7        | 25       | \n",
       "| chr1     | 40731346 | 40740422 | chr1     | 40731542 | 40731592 | +        | hg19     | 20       | 7        | 50       | \n",
       "| chr1     | 40731346 | 40740422 | chr1     | 40731591 | 40731643 | +        | hg19     | 19       | 7        | 52       | \n",
       "\n",
       "\n"
      ],
      "text/plain": [
       "  v_chr v_start  v_end    hg19_chr hg19_start hg19_end strand ref  sp46\n",
       "1 chr1  40731346 40740422 chr1     40731254   40731378 +      hg19  8  \n",
       "2 chr1  40731346 40740422 chr1     40731377   40731441 +      hg19 17  \n",
       "3 chr1  40731346 40740422 chr1     40731440   40731519 +      hg19 18  \n",
       "4 chr1  40731346 40740422 chr1     40731518   40731543 +      hg19 20  \n",
       "5 chr1  40731346 40740422 chr1     40731542   40731592 +      hg19 20  \n",
       "6 chr1  40731346 40740422 chr1     40731591   40731643 +      hg19 19  \n",
       "  sp8_villar bp_overlap\n",
       "1 2          32        \n",
       "2 6          64        \n",
       "3 6          79        \n",
       "4 7          25        \n",
       "5 7          50        \n",
       "6 7          52        "
      ]
     },
     "metadata": {},
     "output_type": "display_data"
    }
   ],
   "source": [
    "#load in the first chromosome as a seed dataframe.\n",
    "df<- read.table(\"chr1_hspec_x_hg19-9way.bed\", sep = '\\t') \n",
    "\n",
    "names(df) = c(\"v_chr\", \"v_start\", \"v_end\", \"hg19_chr\", \"hg19_start\", \"hg19_end\", \"strand\",\"ref\", \"sp46\", \"sp8_villar\", \"bp_overlap\")\n",
    "dim(df)\n",
    "head(df)"
   ]
  },
  {
   "cell_type": "code",
   "execution_count": 38,
   "metadata": {},
   "outputs": [
    {
     "name": "stderr",
     "output_type": "stream",
     "text": [
      "`stat_bin()` using `bins = 30`. Pick better value with `binwidth`.\n"
     ]
    },
    {
     "data": {},
     "metadata": {},
     "output_type": "display_data"
    },
    {
     "data": {
      "image/png": "[encoded data removed]",
      "text/plain": [
       "plot without title"
      ]
     },
     "metadata": {},
     "output_type": "display_data"
    }
   ],
   "source": [
    "ggplot(df, aes(df$sp8_villar)) + geom_histogram() + ggtitle(\"Villar human-specific broadly active enhancers aligned to UCSC, chr1\")"
   ]
  },
  {
   "cell_type": "code",
   "execution_count": null,
   "metadata": {},
   "outputs": [],
   "source": [
    "a = list.files(pattern = \"\\\\-9way.bed$\")\n",
    "# get rid of the chr1 file we used to build the DataFrame.\n",
    "\n",
    "a <- a[2:23]\n",
    "print(a)\n",
    "\n",
    "#rbind the other chromosomes \n",
    "for (file in a) {\n",
    "  table <- read.table(file, sep = '\\t')\n",
    "  names(table) = c(\"v_chr\", \"v_start\", \"v_end\", \"hg19_chr\", \"hg19_start\", \"hg19_end\", \"strand\",\"ref\", \"sp46\", \"sp8_villar\", \"bp_overlap\")\n",
    "  print(dim(table))\n",
    "  df<-rbind(df, table)\n",
    "}"
   ]
  },
  {
   "cell_type": "code",
   "execution_count": 27,
   "metadata": {},
   "outputs": [
    {
     "data": {
      "text/html": [
       "<ol class=list-inline>\n",
       "\t<li>57710</li>\n",
       "\t<li>11</li>\n",
       "</ol>\n"
      ],
      "text/latex": [
       "\\begin{enumerate*}\n",
       "\\item 57710\n",
       "\\item 11\n",
       "\\end{enumerate*}\n"
      ],
      "text/markdown": [
       "1. 57710\n",
       "2. 11\n",
       "\n",
       "\n"
      ],
      "text/plain": [
       "[1] 57710    11"
      ]
     },
     "metadata": {},
     "output_type": "display_data"
    }
   ],
   "source": [
    "dim(df)"
   ]
  },
  {
   "cell_type": "code",
   "execution_count": 39,
   "metadata": {},
   "outputs": [
    {
     "name": "stderr",
     "output_type": "stream",
     "text": [
      "`stat_bin()` using `bins = 30`. Pick better value with `binwidth`.\n"
     ]
    },
    {
     "data": {},
     "metadata": {},
     "output_type": "display_data"
    },
    {
     "data": {
      "image/png": "[encoded data removed]",
      "text/plain": [
       "plot without title"
      ]
     },
     "metadata": {},
     "output_type": "display_data"
    }
   ],
   "source": [
    "ggplot(df, aes(df$sp8_villar, color = v_chr)) +\n",
    "  geom_histogram() + \n",
    "  ggtitle(\"Villar human-specific broadly active enhancers aligned to UCSC\")"
   ]
  },
  {
   "cell_type": "code",
   "execution_count": 32,
   "metadata": {},
   "outputs": [
    {
     "data": {
      "text/html": [
       "<ol class=list-inline>\n",
       "\t<li>481</li>\n",
       "\t<li>1</li>\n",
       "</ol>\n"
      ],
      "text/latex": [
       "\\begin{enumerate*}\n",
       "\\item 481\n",
       "\\item 1\n",
       "\\end{enumerate*}\n"
      ],
      "text/markdown": [
       "1. 481\n",
       "2. 1\n",
       "\n",
       "\n"
      ],
      "text/plain": [
       "[1] 481   1"
      ]
     },
     "metadata": {},
     "output_type": "display_data"
    },
    {
     "data": {
      "text/html": [
       "<table>\n",
       "<thead><tr><th scope=col>unique.df.v_coor.</th></tr></thead>\n",
       "<tbody>\n",
       "\t<tr><td>chr1:40731346-40740422  </td></tr>\n",
       "\t<tr><td>chr1:236146352-236148421</td></tr>\n",
       "\t<tr><td>chr1:145112116-145118945</td></tr>\n",
       "\t<tr><td>chr1:232712660-232716881</td></tr>\n",
       "\t<tr><td>chr1:66835556-66841410  </td></tr>\n",
       "\t<tr><td>chr1:65894362-65898193  </td></tr>\n",
       "</tbody>\n",
       "</table>\n"
      ],
      "text/latex": [
       "\\begin{tabular}{r|l}\n",
       " unique.df.v\\_coor.\\\\\n",
       "\\hline\n",
       "\t chr1:40731346-40740422  \\\\\n",
       "\t chr1:236146352-236148421\\\\\n",
       "\t chr1:145112116-145118945\\\\\n",
       "\t chr1:232712660-232716881\\\\\n",
       "\t chr1:66835556-66841410  \\\\\n",
       "\t chr1:65894362-65898193  \\\\\n",
       "\\end{tabular}\n"
      ],
      "text/markdown": [
       "\n",
       "unique.df.v_coor. | \n",
       "|---|---|---|---|---|---|\n",
       "| chr1:40731346-40740422   | \n",
       "| chr1:236146352-236148421 | \n",
       "| chr1:145112116-145118945 | \n",
       "| chr1:232712660-232716881 | \n",
       "| chr1:66835556-66841410   | \n",
       "| chr1:65894362-65898193   | \n",
       "\n",
       "\n"
      ],
      "text/plain": [
       "  unique.df.v_coor.       \n",
       "1 chr1:40731346-40740422  \n",
       "2 chr1:236146352-236148421\n",
       "3 chr1:145112116-145118945\n",
       "4 chr1:232712660-232716881\n",
       "5 chr1:66835556-66841410  \n",
       "6 chr1:65894362-65898193  "
      ]
     },
     "metadata": {},
     "output_type": "display_data"
    }
   ],
   "source": [
    "# because 1 villar enhancer can have different species conservations across different stretches, \n",
    "#I will make a unique identifier for villar human-specific, broadly active enhancers\n",
    "df$v_coor = paste0(df$v_chr,\":\", df$v_start,\"-\", df$v_end)\n",
    "\n",
    "df_unique<-data.frame(unique(df$v_coor))\n",
    "dim(df_unique)\n",
    "head(df_unique)\n",
    "#[1] 481   1\n"
   ]
  },
  {
   "cell_type": "code",
   "execution_count": 36,
   "metadata": {
    "scrolled": false
   },
   "outputs": [
    {
     "data": {
      "text/html": [
       "<table>\n",
       "<thead><tr><th scope=col>unique.df.v_coor.</th><th scope=col>avg</th></tr></thead>\n",
       "<tbody>\n",
       "\t<tr><td>chr1:40731346-40740422  </td><td>6.012739                </td></tr>\n",
       "\t<tr><td>chr1:236146352-236148421</td><td>5.452381                </td></tr>\n",
       "\t<tr><td>chr1:145112116-145118945</td><td>7.170543                </td></tr>\n",
       "\t<tr><td>chr1:232712660-232716881</td><td>5.285714                </td></tr>\n",
       "\t<tr><td>chr1:66835556-66841410  </td><td>6.666667                </td></tr>\n",
       "\t<tr><td>chr1:65894362-65898193  </td><td>7.528571                </td></tr>\n",
       "\t<tr><td>chr1:12582234-12592239  </td><td>3.629921                </td></tr>\n",
       "\t<tr><td>chr1:174932694-174940283</td><td>6.890625                </td></tr>\n",
       "\t<tr><td>chr1:178023566-178031011</td><td>6.543689                </td></tr>\n",
       "\t<tr><td>chr1:151917031-151919102</td><td>7.266667                </td></tr>\n",
       "\t<tr><td>chr1:144707845-144710166</td><td>6.173913                </td></tr>\n",
       "\t<tr><td>chr1:27122897-27128391  </td><td>6.350515                </td></tr>\n",
       "\t<tr><td>chr1:22238589-22240781  </td><td>6.600000                </td></tr>\n",
       "\t<tr><td>chr1:205252738-205258596</td><td>5.943182                </td></tr>\n",
       "\t<tr><td>chr1:144706196-144707601</td><td>5.500000                </td></tr>\n",
       "\t<tr><td>chr1:6859897-6862730    </td><td>6.170213                </td></tr>\n",
       "\t<tr><td>chr1:8152342-8159902    </td><td>6.008475                </td></tr>\n",
       "\t<tr><td>chr1:144985789-144995230</td><td>6.039216                </td></tr>\n",
       "\t<tr><td>chr1:211775040-211787311</td><td>5.985714                </td></tr>\n",
       "\t<tr><td>chr1:204217975-204234508</td><td>7.558233                </td></tr>\n",
       "\t<tr><td>chr1:234818987-234820929</td><td>5.810811                </td></tr>\n",
       "\t<tr><td>chr1:183838312-183844396</td><td>6.349057                </td></tr>\n",
       "\t<tr><td>chr1:8142118-8146029    </td><td>5.786885                </td></tr>\n",
       "\t<tr><td>chr1:235059511-235063539</td><td>5.120690                </td></tr>\n",
       "\t<tr><td>chr1:236172077-236178097</td><td>5.269231                </td></tr>\n",
       "\t<tr><td>chr1:41573182-41577538  </td><td>6.611940                </td></tr>\n",
       "\t<tr><td>chr1:151592002-151594423</td><td>6.000000                </td></tr>\n",
       "\t<tr><td>chr1:33445702-33448895  </td><td>4.755102                </td></tr>\n",
       "\t<tr><td>chr1:221878934-221894309</td><td>6.381743                </td></tr>\n",
       "\t<tr><td>chr1:8429825-8435398    </td><td>6.226804                </td></tr>\n",
       "\t<tr><td>⋮</td><td>⋮</td></tr>\n",
       "\t<tr><td>chr9:80591999-80593317  </td><td>8.000000                </td></tr>\n",
       "\t<tr><td>chr9:123939809-123948015</td><td>7.206667                </td></tr>\n",
       "\t<tr><td>chr9:118703124-118710356</td><td>6.490566                </td></tr>\n",
       "\t<tr><td>chr9:112787644-112793854</td><td>5.438596                </td></tr>\n",
       "\t<tr><td>chr9:100836000-100840572</td><td>5.120482                </td></tr>\n",
       "\t<tr><td>chr9:33106008-33108509  </td><td>4.263158                </td></tr>\n",
       "\t<tr><td>chr9:124318378-124321636</td><td>4.952381                </td></tr>\n",
       "\t<tr><td>chr9:110511197-110515781</td><td>7.281250                </td></tr>\n",
       "\t<tr><td>chr9:136743243-136756441</td><td>3.581197                </td></tr>\n",
       "\t<tr><td>chr9:19158847-19164735  </td><td>2.423729                </td></tr>\n",
       "\t<tr><td>chr9:36207456-36209553  </td><td>7.677419                </td></tr>\n",
       "\t<tr><td>chr9:111797455-111800216</td><td>6.321429                </td></tr>\n",
       "\t<tr><td>chr9:95871341-95879858  </td><td>5.362069                </td></tr>\n",
       "\t<tr><td>chr9:137243478-137285543</td><td>4.388889                </td></tr>\n",
       "\t<tr><td>chr9:97619526-97634090  </td><td>6.595960                </td></tr>\n",
       "\t<tr><td>chr9:137322744-137336262</td><td>5.692982                </td></tr>\n",
       "\t<tr><td>chr9:123144419-123159779</td><td>5.865672                </td></tr>\n",
       "\t<tr><td>chr9:4571701-4602890    </td><td>6.444444                </td></tr>\n",
       "\t<tr><td>chr9:73081836-73102326  </td><td>5.481481                </td></tr>\n",
       "\t<tr><td>chr9:74288479-74310845  </td><td>5.747748                </td></tr>\n",
       "\t<tr><td>chr9:19179926-19187302  </td><td>3.164706                </td></tr>\n",
       "\t<tr><td>chrX:64862070-64866049  </td><td>5.253968                </td></tr>\n",
       "\t<tr><td>chrX:23820548-23823039  </td><td>4.708333                </td></tr>\n",
       "\t<tr><td>chrX:15767164-15771046  </td><td>6.568966                </td></tr>\n",
       "\t<tr><td>chrX:106942328-106945951</td><td>5.254237                </td></tr>\n",
       "\t<tr><td>chrX:41238510-41244701  </td><td>4.675325                </td></tr>\n",
       "\t<tr><td>chrX:153762402-153763330</td><td>6.892857                </td></tr>\n",
       "\t<tr><td>chrX:55032611-55036136  </td><td>6.086207                </td></tr>\n",
       "\t<tr><td>chrX:41418023-41421464  </td><td>6.875000                </td></tr>\n",
       "\t<tr><td>chrX:13504675-13507009  </td><td>5.515152                </td></tr>\n",
       "</tbody>\n",
       "</table>\n"
      ],
      "text/latex": [
       "\\begin{tabular}{r|ll}\n",
       " unique.df.v\\_coor. & avg\\\\\n",
       "\\hline\n",
       "\t chr1:40731346-40740422   & 6.012739                \\\\\n",
       "\t chr1:236146352-236148421 & 5.452381                \\\\\n",
       "\t chr1:145112116-145118945 & 7.170543                \\\\\n",
       "\t chr1:232712660-232716881 & 5.285714                \\\\\n",
       "\t chr1:66835556-66841410   & 6.666667                \\\\\n",
       "\t chr1:65894362-65898193   & 7.528571                \\\\\n",
       "\t chr1:12582234-12592239   & 3.629921                \\\\\n",
       "\t chr1:174932694-174940283 & 6.890625                \\\\\n",
       "\t chr1:178023566-178031011 & 6.543689                \\\\\n",
       "\t chr1:151917031-151919102 & 7.266667                \\\\\n",
       "\t chr1:144707845-144710166 & 6.173913                \\\\\n",
       "\t chr1:27122897-27128391   & 6.350515                \\\\\n",
       "\t chr1:22238589-22240781   & 6.600000                \\\\\n",
       "\t chr1:205252738-205258596 & 5.943182                \\\\\n",
       "\t chr1:144706196-144707601 & 5.500000                \\\\\n",
       "\t chr1:6859897-6862730     & 6.170213                \\\\\n",
       "\t chr1:8152342-8159902     & 6.008475                \\\\\n",
       "\t chr1:144985789-144995230 & 6.039216                \\\\\n",
       "\t chr1:211775040-211787311 & 5.985714                \\\\\n",
       "\t chr1:204217975-204234508 & 7.558233                \\\\\n",
       "\t chr1:234818987-234820929 & 5.810811                \\\\\n",
       "\t chr1:183838312-183844396 & 6.349057                \\\\\n",
       "\t chr1:8142118-8146029     & 5.786885                \\\\\n",
       "\t chr1:235059511-235063539 & 5.120690                \\\\\n",
       "\t chr1:236172077-236178097 & 5.269231                \\\\\n",
       "\t chr1:41573182-41577538   & 6.611940                \\\\\n",
       "\t chr1:151592002-151594423 & 6.000000                \\\\\n",
       "\t chr1:33445702-33448895   & 4.755102                \\\\\n",
       "\t chr1:221878934-221894309 & 6.381743                \\\\\n",
       "\t chr1:8429825-8435398     & 6.226804                \\\\\n",
       "\t ⋮ & ⋮\\\\\n",
       "\t chr9:80591999-80593317   & 8.000000                \\\\\n",
       "\t chr9:123939809-123948015 & 7.206667                \\\\\n",
       "\t chr9:118703124-118710356 & 6.490566                \\\\\n",
       "\t chr9:112787644-112793854 & 5.438596                \\\\\n",
       "\t chr9:100836000-100840572 & 5.120482                \\\\\n",
       "\t chr9:33106008-33108509   & 4.263158                \\\\\n",
       "\t chr9:124318378-124321636 & 4.952381                \\\\\n",
       "\t chr9:110511197-110515781 & 7.281250                \\\\\n",
       "\t chr9:136743243-136756441 & 3.581197                \\\\\n",
       "\t chr9:19158847-19164735   & 2.423729                \\\\\n",
       "\t chr9:36207456-36209553   & 7.677419                \\\\\n",
       "\t chr9:111797455-111800216 & 6.321429                \\\\\n",
       "\t chr9:95871341-95879858   & 5.362069                \\\\\n",
       "\t chr9:137243478-137285543 & 4.388889                \\\\\n",
       "\t chr9:97619526-97634090   & 6.595960                \\\\\n",
       "\t chr9:137322744-137336262 & 5.692982                \\\\\n",
       "\t chr9:123144419-123159779 & 5.865672                \\\\\n",
       "\t chr9:4571701-4602890     & 6.444444                \\\\\n",
       "\t chr9:73081836-73102326   & 5.481481                \\\\\n",
       "\t chr9:74288479-74310845   & 5.747748                \\\\\n",
       "\t chr9:19179926-19187302   & 3.164706                \\\\\n",
       "\t chrX:64862070-64866049   & 5.253968                \\\\\n",
       "\t chrX:23820548-23823039   & 4.708333                \\\\\n",
       "\t chrX:15767164-15771046   & 6.568966                \\\\\n",
       "\t chrX:106942328-106945951 & 5.254237                \\\\\n",
       "\t chrX:41238510-41244701   & 4.675325                \\\\\n",
       "\t chrX:153762402-153763330 & 6.892857                \\\\\n",
       "\t chrX:55032611-55036136   & 6.086207                \\\\\n",
       "\t chrX:41418023-41421464   & 6.875000                \\\\\n",
       "\t chrX:13504675-13507009   & 5.515152                \\\\\n",
       "\\end{tabular}\n"
      ],
      "text/markdown": [
       "\n",
       "unique.df.v_coor. | avg | \n",
       "|---|---|---|---|---|---|---|---|---|---|---|---|---|---|---|---|---|---|---|---|---|---|---|---|---|---|---|---|---|---|---|---|---|---|---|---|---|---|---|---|---|---|---|---|---|---|---|---|---|---|---|---|---|---|---|---|---|---|---|---|---|\n",
       "| chr1:40731346-40740422   | 6.012739                 | \n",
       "| chr1:236146352-236148421 | 5.452381                 | \n",
       "| chr1:145112116-145118945 | 7.170543                 | \n",
       "| chr1:232712660-232716881 | 5.285714                 | \n",
       "| chr1:66835556-66841410   | 6.666667                 | \n",
       "| chr1:65894362-65898193   | 7.528571                 | \n",
       "| chr1:12582234-12592239   | 3.629921                 | \n",
       "| chr1:174932694-174940283 | 6.890625                 | \n",
       "| chr1:178023566-178031011 | 6.543689                 | \n",
       "| chr1:151917031-151919102 | 7.266667                 | \n",
       "| chr1:144707845-144710166 | 6.173913                 | \n",
       "| chr1:27122897-27128391   | 6.350515                 | \n",
       "| chr1:22238589-22240781   | 6.600000                 | \n",
       "| chr1:205252738-205258596 | 5.943182                 | \n",
       "| chr1:144706196-144707601 | 5.500000                 | \n",
       "| chr1:6859897-6862730     | 6.170213                 | \n",
       "| chr1:8152342-8159902     | 6.008475                 | \n",
       "| chr1:144985789-144995230 | 6.039216                 | \n",
       "| chr1:211775040-211787311 | 5.985714                 | \n",
       "| chr1:204217975-204234508 | 7.558233                 | \n",
       "| chr1:234818987-234820929 | 5.810811                 | \n",
       "| chr1:183838312-183844396 | 6.349057                 | \n",
       "| chr1:8142118-8146029     | 5.786885                 | \n",
       "| chr1:235059511-235063539 | 5.120690                 | \n",
       "| chr1:236172077-236178097 | 5.269231                 | \n",
       "| chr1:41573182-41577538   | 6.611940                 | \n",
       "| chr1:151592002-151594423 | 6.000000                 | \n",
       "| chr1:33445702-33448895   | 4.755102                 | \n",
       "| chr1:221878934-221894309 | 6.381743                 | \n",
       "| chr1:8429825-8435398     | 6.226804                 | \n",
       "| ⋮ | ⋮ | \n",
       "| chr9:80591999-80593317   | 8.000000                 | \n",
       "| chr9:123939809-123948015 | 7.206667                 | \n",
       "| chr9:118703124-118710356 | 6.490566                 | \n",
       "| chr9:112787644-112793854 | 5.438596                 | \n",
       "| chr9:100836000-100840572 | 5.120482                 | \n",
       "| chr9:33106008-33108509   | 4.263158                 | \n",
       "| chr9:124318378-124321636 | 4.952381                 | \n",
       "| chr9:110511197-110515781 | 7.281250                 | \n",
       "| chr9:136743243-136756441 | 3.581197                 | \n",
       "| chr9:19158847-19164735   | 2.423729                 | \n",
       "| chr9:36207456-36209553   | 7.677419                 | \n",
       "| chr9:111797455-111800216 | 6.321429                 | \n",
       "| chr9:95871341-95879858   | 5.362069                 | \n",
       "| chr9:137243478-137285543 | 4.388889                 | \n",
       "| chr9:97619526-97634090   | 6.595960                 | \n",
       "| chr9:137322744-137336262 | 5.692982                 | \n",
       "| chr9:123144419-123159779 | 5.865672                 | \n",
       "| chr9:4571701-4602890     | 6.444444                 | \n",
       "| chr9:73081836-73102326   | 5.481481                 | \n",
       "| chr9:74288479-74310845   | 5.747748                 | \n",
       "| chr9:19179926-19187302   | 3.164706                 | \n",
       "| chrX:64862070-64866049   | 5.253968                 | \n",
       "| chrX:23820548-23823039   | 4.708333                 | \n",
       "| chrX:15767164-15771046   | 6.568966                 | \n",
       "| chrX:106942328-106945951 | 5.254237                 | \n",
       "| chrX:41238510-41244701   | 4.675325                 | \n",
       "| chrX:153762402-153763330 | 6.892857                 | \n",
       "| chrX:55032611-55036136   | 6.086207                 | \n",
       "| chrX:41418023-41421464   | 6.875000                 | \n",
       "| chrX:13504675-13507009   | 5.515152                 | \n",
       "\n",
       "\n"
      ],
      "text/plain": [
       "    unique.df.v_coor.        avg     \n",
       "1   chr1:40731346-40740422   6.012739\n",
       "2   chr1:236146352-236148421 5.452381\n",
       "3   chr1:145112116-145118945 7.170543\n",
       "4   chr1:232712660-232716881 5.285714\n",
       "5   chr1:66835556-66841410   6.666667\n",
       "6   chr1:65894362-65898193   7.528571\n",
       "7   chr1:12582234-12592239   3.629921\n",
       "8   chr1:174932694-174940283 6.890625\n",
       "9   chr1:178023566-178031011 6.543689\n",
       "10  chr1:151917031-151919102 7.266667\n",
       "11  chr1:144707845-144710166 6.173913\n",
       "12  chr1:27122897-27128391   6.350515\n",
       "13  chr1:22238589-22240781   6.600000\n",
       "14  chr1:205252738-205258596 5.943182\n",
       "15  chr1:144706196-144707601 5.500000\n",
       "16  chr1:6859897-6862730     6.170213\n",
       "17  chr1:8152342-8159902     6.008475\n",
       "18  chr1:144985789-144995230 6.039216\n",
       "19  chr1:211775040-211787311 5.985714\n",
       "20  chr1:204217975-204234508 7.558233\n",
       "21  chr1:234818987-234820929 5.810811\n",
       "22  chr1:183838312-183844396 6.349057\n",
       "23  chr1:8142118-8146029     5.786885\n",
       "24  chr1:235059511-235063539 5.120690\n",
       "25  chr1:236172077-236178097 5.269231\n",
       "26  chr1:41573182-41577538   6.611940\n",
       "27  chr1:151592002-151594423 6.000000\n",
       "28  chr1:33445702-33448895   4.755102\n",
       "29  chr1:221878934-221894309 6.381743\n",
       "30  chr1:8429825-8435398     6.226804\n",
       "⋮   ⋮                        ⋮       \n",
       "452 chr9:80591999-80593317   8.000000\n",
       "453 chr9:123939809-123948015 7.206667\n",
       "454 chr9:118703124-118710356 6.490566\n",
       "455 chr9:112787644-112793854 5.438596\n",
       "456 chr9:100836000-100840572 5.120482\n",
       "457 chr9:33106008-33108509   4.263158\n",
       "458 chr9:124318378-124321636 4.952381\n",
       "459 chr9:110511197-110515781 7.281250\n",
       "460 chr9:136743243-136756441 3.581197\n",
       "461 chr9:19158847-19164735   2.423729\n",
       "462 chr9:36207456-36209553   7.677419\n",
       "463 chr9:111797455-111800216 6.321429\n",
       "464 chr9:95871341-95879858   5.362069\n",
       "465 chr9:137243478-137285543 4.388889\n",
       "466 chr9:97619526-97634090   6.595960\n",
       "467 chr9:137322744-137336262 5.692982\n",
       "468 chr9:123144419-123159779 5.865672\n",
       "469 chr9:4571701-4602890     6.444444\n",
       "470 chr9:73081836-73102326   5.481481\n",
       "471 chr9:74288479-74310845   5.747748\n",
       "472 chr9:19179926-19187302   3.164706\n",
       "473 chrX:64862070-64866049   5.253968\n",
       "474 chrX:23820548-23823039   4.708333\n",
       "475 chrX:15767164-15771046   6.568966\n",
       "476 chrX:106942328-106945951 5.254237\n",
       "477 chrX:41238510-41244701   4.675325\n",
       "478 chrX:153762402-153763330 6.892857\n",
       "479 chrX:55032611-55036136   6.086207\n",
       "480 chrX:41418023-41421464   6.875000\n",
       "481 chrX:13504675-13507009   5.515152"
      ]
     },
     "metadata": {},
     "output_type": "display_data"
    },
    {
     "data": {},
     "metadata": {},
     "output_type": "display_data"
    },
    {
     "data": {
      "image/png": "[encoded data removed]",
      "text/plain": [
       "plot without title"
      ]
     },
     "metadata": {},
     "output_type": "display_data"
    }
   ],
   "source": [
    "# what is the average number of other 8-overlapping species in UCSC for villar's human-specific broadly active enhancers?\n",
    "\n",
    "#make an indexed list\n",
    "avg = c()\n",
    "i<-1\n",
    "\n",
    "for (unique in df_unique$unique.df.v_coor.){\n",
    "    b = subset(df, df$v_coor == unique)\n",
    "    avg_species <- mean(b$sp8_villar)\n",
    "    avg[[i]]<- avg_species\n",
    "    i<-i+1\n",
    "}\n",
    "\n",
    "cbind(df_unique, avg)\n",
    "ggplot(df_unique, aes(avg)) + \n",
    "  geom_histogram(bins=100) + \n",
    "  xlab(\"avg. UCSC species\") +\n",
    "  ggtitle(\"avg. UCSC alignments overlapping Villar human-specific baes\")\n",
    "\n"
   ]
  }
 ],
 "metadata": {
  "kernelspec": {
   "display_name": "R",
   "language": "R",
   "name": "ir"
  },
  "language_info": {
   "codemirror_mode": "r",
   "file_extension": ".r",
   "mimetype": "text/x-r-source",
   "name": "R",
   "pygments_lexer": "r",
   "version": "3.4.1"
  }
 },
 "nbformat": 4,
 "nbformat_minor": 2
}
