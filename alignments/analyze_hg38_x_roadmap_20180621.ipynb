{
 "cells": [
  {
   "cell_type": "code",
   "execution_count": 1,
   "metadata": {
    "collapsed": true
   },
   "outputs": [],
   "source": [
    "#180621\n",
    "\n",
    "#!/usr/bin/python\n",
    "\n",
    "#sarahfong\n",
    "#biopython is loaded in the sf_test env with 'conda install -c bioconda biopython'"
   ]
  },
  {
   "cell_type": "code",
   "execution_count": 2,
   "metadata": {
    "collapsed": true
   },
   "outputs": [],
   "source": [
    "import sys, os\n",
    "import glob"
   ]
  },
  {
   "cell_type": "code",
   "execution_count": 3,
   "metadata": {},
   "outputs": [
    {
     "data": {
      "text/plain": [
       "0"
      ]
     },
     "execution_count": 3,
     "metadata": {},
     "output_type": "execute_result"
    }
   ],
   "source": [
    "# load the bedtools module\n",
    "os.system(\"ml restore bedR_ml\")"
   ]
  },
  {
   "cell_type": "code",
   "execution_count": 8,
   "metadata": {
    "collapsed": true
   },
   "outputs": [],
   "source": [
    "# this directory contains the .bed files of all human-specific coordinates of the genome. \n",
    "hg38_dir = \"/dors/capra_lab/users/fongsl/broadly_active_enhancers/data/hg38_human_specific_coordinates/\""
   ]
  },
  {
   "cell_type": "code",
   "execution_count": 9,
   "metadata": {},
   "outputs": [
    {
     "name": "stdout",
     "output_type": "stream",
     "text": [
      "dict_keys(['chr16', 'chr22', 'chr5', 'chrM', 'chr2', 'chr21', 'chr18', 'chr3', 'chr6', 'chr13', 'chr4', 'chr19', 'chr9', 'chr10', 'chr14', 'chr8', 'chr12', 'chr15', 'chr7', 'chr17', 'chr1', 'chr11', 'chr20'])\n"
     ]
    }
   ],
   "source": [
    "# get hg19 human specific bed files\n",
    "hg38_list = glob.glob(\"%shg38_species*.bed\" % hg38_dir)\n",
    "hg38_dict = {(((i.split(\"/\")[-1])).split(\"_\")[-1]).split(\".\")[0]: i for i in hg38_list} # {chr:/file/path/chr.bed}\n",
    "print(hg38_dict.keys())"
   ]
  },
  {
   "cell_type": "code",
   "execution_count": 10,
   "metadata": {},
   "outputs": [
    {
     "data": {
      "text/plain": [
       "'/dors/capra_lab/users/fongsl/broadly_active_enhancers/data/hg38_human_specific_coordinates/'"
      ]
     },
     "execution_count": 10,
     "metadata": {},
     "output_type": "execute_result"
    }
   ],
   "source": [
    "hg38_dir"
   ]
  },
  {
   "cell_type": "code",
   "execution_count": 15,
   "metadata": {},
   "outputs": [
    {
     "name": "stdout",
     "output_type": "stream",
     "text": [
      "dict_keys(['chr5', 'chr17', 'chr4', 'chr15', 'chr6', 'chr7', 'chr1', 'chr10', 'chr18', 'chr8', 'chr13', 'chr20', 'chr16', 'chr11', 'chrX', 'chr12', 'chr9', 'chr21', 'chr19', 'chr22', 'chr3', 'chr2', 'chr14'])\n"
     ]
    }
   ],
   "source": [
    "# get roadmap functional enhancers bed files\n",
    "bedpath = '/dors/capra_lab/users/fongsl/broadly_active_enhancers/data/roadmap_multi_data/hg38/'\n",
    "bed_list = glob.glob(\"%schr*_short_hg38_multiintersect.bed\"% bedpath)\n",
    "\n",
    "#bed_list99 = glob.glob(\"%schr*_99_short_multiintersect_roadmap.bed\"% bedpath)\n",
    "\n",
    "bed_dict = {(i.split(\"/\")[-1]).split(\"_\")[0]: i for i in bed_list} # {chr:/file/villarpath/chr.bed}\n",
    "\n",
    "del bed_dict['chrY']\n",
    "del bed_dict['chrM']\n",
    "print(bed_dict.keys())"
   ]
  },
  {
   "cell_type": "code",
   "execution_count": 16,
   "metadata": {
    "scrolled": false
   },
   "outputs": [
    {
     "name": "stdout",
     "output_type": "stream",
     "text": [
      "chr5\n",
      "chr17\n",
      "chr4\n",
      "chr15\n",
      "chr6\n",
      "chr7\n",
      "chr1\n",
      "chr10\n",
      "chr18\n",
      "chr8\n",
      "chr13\n",
      "chr20\n",
      "chr16\n",
      "chr11\n",
      "chrX\n",
      "chr12\n",
      "chr9\n",
      "chr21\n",
      "chr19\n",
      "chr22\n",
      "chr3\n",
      "chr2\n",
      "chr14\n"
     ]
    }
   ],
   "source": [
    "for b_chr, b_file in bed_dict.items():\n",
    "    print(b_chr)\n",
    "    if b_chr in hg38_dict.keys():\n",
    "        hg38_file = hg38_dict[b_chr]\n",
    "        outfile = \"%shuman_specific/%s_hspec_x_hg38.bed\" %(bedpath, b_chr)\n",
    "        \n",
    "        bed_cmd = \"bedtools intersect -a %s -b %s -wao > %s\" %(b_file, hg38_file, outfile)\n",
    "        #print(bed_cmd)\n",
    "        os.system(bed_cmd)"
   ]
  },
  {
   "cell_type": "code",
   "execution_count": 15,
   "metadata": {},
   "outputs": [
    {
     "data": {
      "text/plain": [
       "0"
      ]
     },
     "execution_count": 15,
     "metadata": {},
     "output_type": "execute_result"
    }
   ],
   "source": [
    "# concatenate the resultant .BED files\n",
    "\n",
    "#On second thought, do not do this. The resultant file is MASSIVE. \n",
    "\n",
    "cmd = \"cat /dors/capra_lab/users/fongsl/broadly_active_enhancers/data/roadmap_multi_data/human_specific/chr*_hspec_x_hg19.bed > /dors/capra_lab/users/fongsl/broadly_active_enhancers/data/roadmap_multi_data/human_specific/all_chr_hspec_x_hg19.bed\"\n",
    "\n",
    "os.system(cmd)\n"
   ]
  }
 ],
 "metadata": {
  "kernelspec": {
   "display_name": "Python 3",
   "language": "python",
   "name": "python3"
  },
  "language_info": {
   "codemirror_mode": {
    "name": "ipython",
    "version": 3
   },
   "file_extension": ".py",
   "mimetype": "text/x-python",
   "name": "python",
   "nbconvert_exporter": "python",
   "pygments_lexer": "ipython3",
   "version": "3.6.1"
  }
 },
 "nbformat": 4,
 "nbformat_minor": 2
}
