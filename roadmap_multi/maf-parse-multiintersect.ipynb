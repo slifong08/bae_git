{
 "cells": [
  {
   "cell_type": "code",
   "execution_count": 10,
   "metadata": {
    "collapsed": true
   },
   "outputs": [],
   "source": [
    "import glob\n",
    "import os"
   ]
  },
  {
   "cell_type": "code",
   "execution_count": 2,
   "metadata": {
    "collapsed": true
   },
   "outputs": [],
   "source": [
    "datapath = \"/dors/capra_lab/users/fongsl/broadly_active_enhancers/data/roadmap_multi_data/\""
   ]
  },
  {
   "cell_type": "code",
   "execution_count": 3,
   "metadata": {
    "collapsed": true
   },
   "outputs": [],
   "source": [
    "chr_list = glob.glob(\"%s%s\" %(datapath, \"chr_99*\"))"
   ]
  },
  {
   "cell_type": "code",
   "execution_count": null,
   "metadata": {},
   "outputs": [],
   "source": [
    "print(chr_list)"
   ]
  },
  {
   "cell_type": "code",
   "execution_count": 6,
   "metadata": {
    "collapsed": true
   },
   "outputs": [],
   "source": [
    "chr22= '/dors/capra_lab/users/fongsl/broadly_active_enhancers/data/roadmap_multi_data/chr22_99_short_multiintersect_roadmap.bed'"
   ]
  },
  {
   "cell_type": "code",
   "execution_count": 12,
   "metadata": {},
   "outputs": [
    {
     "name": "stdout",
     "output_type": "stream",
     "text": [
      "maf_parse -g /dors/capra_lab/users/fongsl/broadly_active_enhancers/data/roadmap_multi_data/chr22_99_short_multiintersect_roadmap.bed /dors/capra_lab/data_clean/ucsc/hg19/maf/chr22.maf > /dors/capra_lab/users/fongsl/broadly_active_enhancers/data/roadmap_multi_data/parsed_chr22_99.maf\n"
     ]
    }
   ],
   "source": [
    "cmd= \"maf_parse -g %s /dors/capra_lab/data_clean/ucsc/hg19/maf/chr22.maf > %sparsed_chr22_99.maf\"%(chr22, datapath)\n",
    "print(cmd)"
   ]
  },
  {
   "cell_type": "code",
   "execution_count": 13,
   "metadata": {},
   "outputs": [
    {
     "data": {
      "text/plain": [
       "256"
      ]
     },
     "execution_count": 13,
     "metadata": {},
     "output_type": "execute_result"
    }
   ],
   "source": [
    "os.system(cmd)"
   ]
  }
 ],
 "metadata": {
  "kernelspec": {
   "display_name": "Python 3",
   "language": "python",
   "name": "python3"
  },
  "language_info": {
   "codemirror_mode": {
    "name": "ipython",
    "version": 3
   },
   "file_extension": ".py",
   "mimetype": "text/x-python",
   "name": "python",
   "nbconvert_exporter": "python",
   "pygments_lexer": "ipython3",
   "version": "3.6.1"
  }
 },
 "nbformat": 4,
 "nbformat_minor": 2
}
