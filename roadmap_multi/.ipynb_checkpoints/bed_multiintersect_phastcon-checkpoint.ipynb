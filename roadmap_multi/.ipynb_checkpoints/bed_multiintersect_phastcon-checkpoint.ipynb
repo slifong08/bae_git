{
 "cells": [
  {
   "cell_type": "code",
   "execution_count": 2,
   "metadata": {
    "collapsed": true
   },
   "outputs": [],
   "source": [
    "import pandas\n",
    "import os\n",
    "import matplotlib.pyplot as plt"
   ]
  },
  {
   "cell_type": "code",
   "execution_count": 3,
   "metadata": {
    "collapsed": true
   },
   "outputs": [],
   "source": [
    "output_path = \"/dors/capra_lab/users/fongsl/broadly_active_enhancers/baes_data/roadmap_multi_data/\"\n",
    "data = \"short_multiintersect_roadmap.bed\""
   ]
  },
  {
   "cell_type": "code",
   "execution_count": 4,
   "metadata": {
    "collapsed": true
   },
   "outputs": [],
   "source": [
    "df = pandas.read_table(\"%s%s\"% (output_path,data) , sep = '\\t')"
   ]
  },
  {
   "cell_type": "code",
   "execution_count": 5,
   "metadata": {
    "collapsed": true
   },
   "outputs": [],
   "source": [
    "df.columns = [[\"chr\", \"start\", \"end\", \"num\", \"sample_ids\"]]\n",
    "\n",
    "df[\"len\"]=df[\"end\"]-df[\"start\"]"
   ]
  },
  {
   "cell_type": "code",
   "execution_count": 6,
   "metadata": {},
   "outputs": [
    {
     "data": {
      "text/plain": [
       "(6563754, 6)"
      ]
     },
     "execution_count": 6,
     "metadata": {},
     "output_type": "execute_result"
    }
   ],
   "source": [
    "df.shape"
   ]
  },
  {
   "cell_type": "code",
   "execution_count": null,
   "metadata": {},
   "outputs": [],
   "source": [
    "hist = df[\"len\"]\n",
    "\n",
    "plt.figure()\n",
    "ax = hist.plot.hist(bins = 1000)\n",
    "ax.set_xlabel = (\"peak length\")\n",
    "plt.show()"
   ]
  },
  {
   "cell_type": "code",
   "execution_count": null,
   "metadata": {
    "collapsed": true
   },
   "outputs": [],
   "source": [
    "df.to_csv(\"%s/short_multiintersect_roadmap.bed\" %output_path, sep = '\\t', index = False, header =False)"
   ]
  },
  {
   "cell_type": "code",
   "execution_count": null,
   "metadata": {
    "collapsed": true
   },
   "outputs": [],
   "source": [
    "df.head()"
   ]
  },
  {
   "cell_type": "code",
   "execution_count": 8,
   "metadata": {
    "collapsed": true
   },
   "outputs": [],
   "source": [
    "#phastCon Datasets\n",
    "\n",
    "pc_path = \"/dors/capra_lab/data_clean/evolutionary_conservation/phastcons/hg19/\"\n",
    "\n",
    "pc_data_pl = \"phastConsElements46wayPlacental.bed\"  \n",
    "pc_data_pr = \"phastConsElements46wayPrimates.bed\" \n",
    "pc_data_ve = \"phastConsElements46wayVertebrate.bed\""
   ]
  },
  {
   "cell_type": "code",
   "execution_count": 4,
   "metadata": {
    "collapsed": true
   },
   "outputs": [],
   "source": [
    "cmd = \"bedtools genomecov -i %s%s -g %s%s -bg > %s%s\" %(output_path, \"a.bed\", output_path, \"b.bed\", output_path,\"gencov_test.bed\")\n",
    "#cmd = \"bedtools genomecov -i %s%s -g %s%s -d -bga> %s%s\" %(output_path, \"a.bed\", output_path, \"b.bed\", output_path,\"gencov_test.bed\")"
   ]
  },
  {
   "cell_type": "code",
   "execution_count": 9,
   "metadata": {},
   "outputs": [
    {
     "name": "stdout",
     "output_type": "stream",
     "text": [
      "bedtools intersect -a /dors/capra_lab/users/fongsl/broadly_active_enhancers/baes_data/roadmap_multi_data/short_multiintersect_roadmap.bed -b /dors/capra_lab/data_clean/evolutionary_conservation/phastcons/hg19/phastConsElements46wayPlacental.bed -v > /dors/capra_lab/users/fongsl/broadly_active_enhancers/baes_data/roadmap_multi_data/intersection_pcpl.bed\n",
      "bedtools intersect -a /dors/capra_lab/users/fongsl/broadly_active_enhancers/baes_data/roadmap_multi_data/short_multiintersect_roadmap.bed -b /dors/capra_lab/data_clean/evolutionary_conservation/phastcons/hg19/phastConsElements46wayPrimates.bed -v > /dors/capra_lab/users/fongsl/broadly_active_enhancers/baes_data/roadmap_multi_data/intersection_pcpr.bed\n",
      "bedtools intersect -a /dors/capra_lab/users/fongsl/broadly_active_enhancers/baes_data/roadmap_multi_data/short_multiintersect_roadmap.bed -b /dors/capra_lab/data_clean/evolutionary_conservation/phastcons/hg19/phastConsElements46wayVertebrate.bed -v > /dors/capra_lab/users/fongsl/broadly_active_enhancers/baes_data/roadmap_multi_data/intersection_pcve.bed\n"
     ]
    },
    {
     "data": {
      "text/plain": [
       "0"
      ]
     },
     "execution_count": 9,
     "metadata": {},
     "output_type": "execute_result"
    }
   ],
   "source": [
    "# Intersection to remove fragments in conserved genome coordinates.\n",
    "cmd_pl = \"bedtools intersect -a %s%s -b %s%s -v > %s%s\" %(output_path, \"short_multiintersect_roadmap.bed\", pc_path, pc_data_pl, output_path, \"intersection_pcpl.bed\")\n",
    "print(cmd_pl)\n",
    "os.system(cmd_pl)\n",
    "\n",
    "cmd_pr = \"bedtools intersect -a %s%s -b %s%s -v > %s%s\" %(output_path, \"short_multiintersect_roadmap.bed\", pc_path, pc_data_pr, output_path, \"intersection_pcpr.bed\")\n",
    "print(cmd_pr)\n",
    "os.system(cmd_pr)\n",
    "\n",
    "cmd_ve = \"bedtools intersect -a %s%s -b %s%s -v > %s%s\" %(output_path, \"short_multiintersect_roadmap.bed\", pc_path, pc_data_ve, output_path, \"intersection_pcve.bed\")\n",
    "print(cmd_ve)\n",
    "os.system(cmd_ve)"
   ]
  },
  {
   "cell_type": "code",
   "execution_count": 10,
   "metadata": {},
   "outputs": [
    {
     "ename": "NameError",
     "evalue": "name 'a' is not defined",
     "output_type": "error",
     "traceback": [
      "\u001b[0;31m---------------------------------------------------------------------------\u001b[0m",
      "\u001b[0;31mNameError\u001b[0m                                 Traceback (most recent call last)",
      "\u001b[0;32m<ipython-input-10-48165b95c6f7>\u001b[0m in \u001b[0;36m<module>\u001b[0;34m()\u001b[0m\n\u001b[0;32m----> 1\u001b[0;31m \u001b[0mprint\u001b[0m\u001b[0;34m(\u001b[0m\u001b[0ma\u001b[0m\u001b[0;34m,\u001b[0m\u001b[0;34m'\\n'\u001b[0m\u001b[0;34m)\u001b[0m\u001b[0;34m\u001b[0m\u001b[0m\n\u001b[0m\u001b[1;32m      2\u001b[0m \u001b[0mprint\u001b[0m\u001b[0;34m(\u001b[0m\u001b[0mb\u001b[0m\u001b[0;34m,\u001b[0m\u001b[0;34m'\\n'\u001b[0m\u001b[0;34m)\u001b[0m\u001b[0;34m\u001b[0m\u001b[0m\n\u001b[1;32m      3\u001b[0m \u001b[0mprint\u001b[0m\u001b[0;34m(\u001b[0m\u001b[0mpandas\u001b[0m\u001b[0;34m.\u001b[0m\u001b[0mread_table\u001b[0m\u001b[0;34m(\u001b[0m\u001b[0;34m\"/dors/capra_lab/users/fongsl/broadly_active_enhancers/baes_data/roadmap_multi_data/gencov_test.bed\"\u001b[0m\u001b[0;34m,\u001b[0m \u001b[0msep\u001b[0m\u001b[0;34m=\u001b[0m\u001b[0;34m'\\t'\u001b[0m\u001b[0;34m,\u001b[0m \u001b[0mheader\u001b[0m \u001b[0;34m=\u001b[0m \u001b[0;34m-\u001b[0m\u001b[0;36m1\u001b[0m\u001b[0;34m)\u001b[0m\u001b[0;34m)\u001b[0m\u001b[0;34m\u001b[0m\u001b[0m\n",
      "\u001b[0;31mNameError\u001b[0m: name 'a' is not defined"
     ]
    }
   ],
   "source": [
    "print(a,'\\n')\n",
    "print(b,'\\n')\n",
    "print(pandas.read_table(\"/dors/capra_lab/users/fongsl/broadly_active_enhancers/baes_data/roadmap_multi_data/gencov_test.bed\", sep='\\t', header = -1))"
   ]
  },
  {
   "cell_type": "code",
   "execution_count": 11,
   "metadata": {
    "collapsed": true
   },
   "outputs": [],
   "source": [
    "pcpl = pandas.read_table(\"/dors/capra_lab/users/fongsl/broadly_active_enhancers/baes_data/roadmap_multi_data/intersection_pcpl.bed\", sep ='\\t', header = -1)\n",
    "pcpr = pandas.read_table(\"/dors/capra_lab/users/fongsl/broadly_active_enhancers/baes_data/roadmap_multi_data/intersection_pcpr.bed\", sep ='\\t', header = -1)\n",
    "pcve = pandas.read_table(\"/dors/capra_lab/users/fongsl/broadly_active_enhancers/baes_data/roadmap_multi_data/intersection_pcve.bed\", sep ='\\t', header = -1)"
   ]
  },
  {
   "cell_type": "code",
   "execution_count": 12,
   "metadata": {},
   "outputs": [
    {
     "name": "stdout",
     "output_type": "stream",
     "text": [
      "placental subtraction  (5396976, 5)\n",
      "primate subtraction  (5853607, 5)\n",
      "vertebrate subtraction  (5200371, 5)\n"
     ]
    }
   ],
   "source": [
    "print(\"placental subtraction \", pcpl.shape)\n",
    "print(\"primate subtraction \", pcpr.shape)\n",
    "print(\"vertebrate subtraction \", pcve.shape)"
   ]
  },
  {
   "cell_type": "code",
   "execution_count": 29,
   "metadata": {},
   "outputs": [
    {
     "data": {
      "text/html": [
       "<div>\n",
       "<style>\n",
       "    .dataframe thead tr:only-child th {\n",
       "        text-align: right;\n",
       "    }\n",
       "\n",
       "    .dataframe thead th {\n",
       "        text-align: left;\n",
       "    }\n",
       "\n",
       "    .dataframe tbody tr th {\n",
       "        vertical-align: top;\n",
       "    }\n",
       "</style>\n",
       "<table border=\"1\" class=\"dataframe\">\n",
       "  <thead>\n",
       "    <tr style=\"text-align: right;\">\n",
       "      <th></th>\n",
       "      <th>0</th>\n",
       "      <th>1</th>\n",
       "      <th>2</th>\n",
       "      <th>3</th>\n",
       "      <th>4</th>\n",
       "      <th>5</th>\n",
       "    </tr>\n",
       "  </thead>\n",
       "  <tbody>\n",
       "    <tr>\n",
       "      <th>0</th>\n",
       "      <td>chr1</td>\n",
       "      <td>9998</td>\n",
       "      <td>10016</td>\n",
       "      <td>1</td>\n",
       "      <td>E073</td>\n",
       "      <td>18</td>\n",
       "    </tr>\n",
       "    <tr>\n",
       "      <th>1</th>\n",
       "      <td>chr1</td>\n",
       "      <td>10016</td>\n",
       "      <td>10024</td>\n",
       "      <td>2</td>\n",
       "      <td>E073,E046</td>\n",
       "      <td>8</td>\n",
       "    </tr>\n",
       "    <tr>\n",
       "      <th>2</th>\n",
       "      <td>chr1</td>\n",
       "      <td>10024</td>\n",
       "      <td>10032</td>\n",
       "      <td>3</td>\n",
       "      <td>E073,E055,E046</td>\n",
       "      <td>8</td>\n",
       "    </tr>\n",
       "    <tr>\n",
       "      <th>3</th>\n",
       "      <td>chr1</td>\n",
       "      <td>10032</td>\n",
       "      <td>10079</td>\n",
       "      <td>4</td>\n",
       "      <td>E073,E055,E046,E056</td>\n",
       "      <td>47</td>\n",
       "    </tr>\n",
       "    <tr>\n",
       "      <th>4</th>\n",
       "      <td>chr1</td>\n",
       "      <td>10079</td>\n",
       "      <td>10086</td>\n",
       "      <td>5</td>\n",
       "      <td>E073,E055,E091,E046,E056</td>\n",
       "      <td>7</td>\n",
       "    </tr>\n",
       "  </tbody>\n",
       "</table>\n",
       "</div>"
      ],
      "text/plain": [
       "      0      1      2  3                         4   5\n",
       "0  chr1   9998  10016  1                      E073  18\n",
       "1  chr1  10016  10024  2                 E073,E046   8\n",
       "2  chr1  10024  10032  3            E073,E055,E046   8\n",
       "3  chr1  10032  10079  4       E073,E055,E046,E056  47\n",
       "4  chr1  10079  10086  5  E073,E055,E091,E046,E056   7"
      ]
     },
     "execution_count": 29,
     "metadata": {},
     "output_type": "execute_result"
    }
   ],
   "source": [
    "pcpl.head()"
   ]
  }
 ],
 "metadata": {
  "kernelspec": {
   "display_name": "Python 3",
   "language": "python",
   "name": "python3"
  },
  "language_info": {
   "codemirror_mode": {
    "name": "ipython",
    "version": 3
   },
   "file_extension": ".py",
   "mimetype": "text/x-python",
   "name": "python",
   "nbconvert_exporter": "python",
   "pygments_lexer": "ipython3",
   "version": "3.6.1"
  }
 },
 "nbformat": 4,
 "nbformat_minor": 2
}
