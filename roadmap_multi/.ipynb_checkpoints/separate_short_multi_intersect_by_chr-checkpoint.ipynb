{
 "cells": [
  {
   "cell_type": "code",
   "execution_count": null,
   "metadata": {
    "collapsed": true
   },
   "outputs": [],
   "source": [
    "#!/bin/python\n",
    "\n",
    "#sarahfong\n",
    "#180530"
   ]
  },
  {
   "cell_type": "code",
   "execution_count": 1,
   "metadata": {
    "collapsed": true
   },
   "outputs": [],
   "source": [
    "import pandas\n",
    "import os"
   ]
  },
  {
   "cell_type": "code",
   "execution_count": 3,
   "metadata": {},
   "outputs": [
    {
     "data": {
      "text/plain": [
       "0"
      ]
     },
     "execution_count": 3,
     "metadata": {},
     "output_type": "execute_result"
    }
   ],
   "source": [
    "os.system(\"source activate sf_test\")"
   ]
  },
  {
   "cell_type": "code",
   "execution_count": 2,
   "metadata": {
    "collapsed": true
   },
   "outputs": [],
   "source": [
    "bedpath = \"/dors/capra_lab/users/fongsl/broadly_active_enhancers/data/roadmap_multi_data/\""
   ]
  },
  {
   "cell_type": "code",
   "execution_count": 3,
   "metadata": {},
   "outputs": [],
   "source": [
    "#file of the multiintersected roadmap enhancer peaks\n",
    "\n",
    "bedfile =\"short_multiintersect_roadmap.bed\" \n",
    "\n",
    "df = pandas.read_table(\"%s%s\"%(bedpath, bedfile), sep = '\\t')\n",
    "num = df['0'].unique()\n",
    "for chr_num in num:\n",
    "    \n",
    "    chr_df = df.loc[df[\"0\"]== chr_num]\n",
    "    \n",
    "    chr_df = chr_df[[\"0\",\"1\",\"2\", \"3\"]] # this will write \"chr\", \"start\", \"end\" and \"no. overlapping samples into .BED file\n",
    "\n",
    "    chr_df.to_csv(\"%s%s_%s\" %(bedpath, chr_num, bedfile), index = False, header = False, sep = '\\t')"
   ]
  },
  {
   "cell_type": "code",
   "execution_count": 10,
   "metadata": {
    "collapsed": true
   },
   "outputs": [],
   "source": [
    "#the 99th percentile of overlapping roadmap multi-intersect enhancer peaks\n",
    "\n",
    "bedfile99 = \"99_short_multiintersect_roadmap.bed\"\n",
    "df99 = pandas.read_table(\"%s%s\"%(bedpath, bedfile99), sep = '\\t', header=-1)\n",
    "num99 = df99[0].unique()\n",
    "for chr_num in num99:\n",
    "    chr_df = df99.loc[df99[0]== chr_num]\n",
    "    chr_df = chr_df[[0,1,2]]\n",
    "    chr_df.to_csv(\"%s%s_%s\" %(bedpath, chr_num, bedfile99), index = False, header = False, sep = '\\t')"
   ]
  },
  {
   "cell_type": "code",
   "execution_count": null,
   "metadata": {
    "collapsed": true
   },
   "outputs": [],
   "source": [
    "#the 90th percentile of villar overlapping roadmap enhancer peaks\n",
    "datapath = \"/dors/capra_lab/users/fongsl/broadly_active_enhancers/data/villar_ref_data/\"\n",
    "bedfile = \"hspecific_villar_bae_hq_aln.bed\"\n",
    "\n",
    "df = pandas.read_table(\"%s%s\"%(datapath, bedfile), sep = '\\t')\n",
    "num = df['v-chr'].unique()\n",
    "for chr_num in num:\n",
    "    chr_df = df.loc[df[\"v-chr\"]== chr_num]\n",
    "    chr_df.to_csv(\"%s%s_%s\" %(datapath, chr_num, bedfile), index = False, header = False, sep = '\\t')"
   ]
  }
 ],
 "metadata": {
  "kernelspec": {
   "display_name": "Python 3",
   "language": "python",
   "name": "python3"
  },
  "language_info": {
   "codemirror_mode": {
    "name": "ipython",
    "version": 3
   },
   "file_extension": ".py",
   "mimetype": "text/x-python",
   "name": "python",
   "nbconvert_exporter": "python",
   "pygments_lexer": "ipython3",
   "version": "3.6.1"
  }
 },
 "nbformat": 4,
 "nbformat_minor": 2
}
