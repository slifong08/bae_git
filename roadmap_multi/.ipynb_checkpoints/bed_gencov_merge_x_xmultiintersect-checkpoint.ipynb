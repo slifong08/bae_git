{
 "cells": [
  {
   "cell_type": "code",
   "execution_count": 11,
   "metadata": {
    "collapsed": true
   },
   "outputs": [],
   "source": [
    "#180509\n",
    "#SarahFong\n",
    "\n",
    "#The purpose of this script is to merge back together.\n",
    "#.Bed files cannot have headers to perform a merge. \n",
    "#Then, to find meaningful enhancer signal among the fragments generated.\n",
    "\n",
    "import os\n",
    "import pandas"
   ]
  },
  {
   "cell_type": "code",
   "execution_count": 19,
   "metadata": {
    "collapsed": true
   },
   "outputs": [],
   "source": [
    "path = '/dors/capra_lab/users/fongsl/broadly_active_enhancers/data/roadmap_multi_data/'\n",
    "\n",
    "# The resultant multiintersect_roadmap_enhancer.bed file\n",
    "# Enhancers for each roadmap sample were stringently defined as H3K27AC with no overlapping H3K4me3 peaks \n",
    "input_bed = 'short_multiintersect_roadmap.bed'"
   ]
  },
  {
   "cell_type": "code",
   "execution_count": 6,
   "metadata": {},
   "outputs": [
    {
     "name": "stdout",
     "output_type": "stream",
     "text": [
      "mergeBed -i /dors/capra_lab/users/fongsl/broadly_active_enhancers/data/roadmap_multi_data/short_multiintersect_roadmap.bed -d 100 -c 4 -o collapse -delim ','> /dors/capra_lab/users/fongsl/broadly_active_enhancers/data/roadmap_multi_data/merged_short_multiintersect_roadmap.bed\n"
     ]
    }
   ],
   "source": [
    "#Merge fragments that are within 100 bases of one another\n",
    "#Collect a string of the samples the fragments come from, separated with a comma delimiter\n",
    "\n",
    "cmd= \"mergeBed -i %s/%s -d 100 -c 4 -o collapse -delim ','> %s/merged_%s\"% (path, input_bed, path, input_bed)\n",
    "print(cmd)\n"
   ]
  },
  {
   "cell_type": "code",
   "execution_count": 7,
   "metadata": {},
   "outputs": [
    {
     "data": {
      "text/plain": [
       "0"
      ]
     },
     "execution_count": 7,
     "metadata": {},
     "output_type": "execute_result"
    }
   ],
   "source": [
    "os.system(cmd)"
   ]
  },
  {
   "cell_type": "code",
   "execution_count": 10,
   "metadata": {},
   "outputs": [],
   "source": [
    "# this merged file will serve as the genome reference\n",
    "\n",
    "merged = \"%smerged_%s\"% (path, input_bed)\n",
    "multi = \"%s%s\" % (path, input_bed)"
   ]
  },
  {
   "cell_type": "code",
   "execution_count": 15,
   "metadata": {
    "collapsed": true
   },
   "outputs": [],
   "source": [
    "dfm = pandas.read_table(merged, sep = '\\t')"
   ]
  },
  {
   "cell_type": "code",
   "execution_count": 18,
   "metadata": {},
   "outputs": [],
   "source": [
    "c = dfm[:3]\n",
    "c.head()\n",
    "c.to_csv(\"%sc.bed\" %path, index = False, header = False, sep = '\\t')"
   ]
  },
  {
   "cell_type": "code",
   "execution_count": 20,
   "metadata": {},
   "outputs": [
    {
     "name": "stdout",
     "output_type": "stream",
     "text": [
      "bedtools genomecov -i /dors/capra_lab/users/fongsl/broadly_active_enhancers/data/roadmap_multi_data/a.bed -g /dors/capra_lab/users/fongsl/broadly_active_enhancers/data/roadmap_multi_data/c.bed > /dors/capra_lab/users/fongsl/broadly_active_enhancers/data/roadmap_multi_data/d.bed\n"
     ]
    }
   ],
   "source": [
    "cmd = \"bedtools genomecov -i %sa.bed -g %sc.bed > %sd.bed\"% (path, path, path)\n",
    "print(cmd)"
   ]
  },
  {
   "cell_type": "code",
   "execution_count": null,
   "metadata": {},
   "outputs": [],
   "source": []
  }
 ],
 "metadata": {
  "kernelspec": {
   "display_name": "Python 3",
   "language": "python",
   "name": "python3"
  },
  "language_info": {
   "codemirror_mode": {
    "name": "ipython",
    "version": 3
   },
   "file_extension": ".py",
   "mimetype": "text/x-python",
   "name": "python",
   "nbconvert_exporter": "python",
   "pygments_lexer": "ipython3",
   "version": "3.6.1"
  }
 },
 "nbformat": 4,
 "nbformat_minor": 2
}
