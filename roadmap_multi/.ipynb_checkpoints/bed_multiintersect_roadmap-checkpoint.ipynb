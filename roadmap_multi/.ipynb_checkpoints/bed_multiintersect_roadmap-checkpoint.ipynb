{
 "cells": [
  {
   "cell_type": "code",
   "execution_count": null,
   "metadata": {
    "collapsed": true
   },
   "outputs": [],
   "source": [
    "# The purpose of this script is to identify broadly active enhancers independent of using the Villar dataset as a reference.\n",
    "\n",
    "# This script was originally drafted as an alternative way to identify broadly active enhancers.\n",
    "#/dors/capra_lab/users/fongsl/capra_rotation/method1_roadmap_find_common_enhancer.py "
   ]
  },
  {
   "cell_type": "code",
   "execution_count": null,
   "metadata": {
    "collapsed": true
   },
   "outputs": [],
   "source": [
    "#!/usr/bin/python                                                                                                                                                                                         \n",
    "\n",
    "#sarahfong                                                                                                                                                                                                \n",
    "\n",
    "#180207 - The MultiIntersect command in step 3 has been relaxed. \n",
    "#Originally, we evaluated only reciprocal overlapping peak fragments, which resulted in very few and small peaks calling among all fragments. \n",
    "#To relax this, I will change the command from multiIntersectBed -i <<files>> -f 0.5 -r to multiIntersectBed -i <<files>> -f 0.5 -e, \n",
    "#This will include the fragment if there is 50% overlap of either fragment. \n",
    "#This accomodates overlapping very large peaks with very small peaks.                                                                                                                          \n",
    "\n",
    "#180123 - There are two methods in step 2 for subtracting overlapping H3K27ac and H3K4me3 ChIP-SEQ fragments.                                                                                             \n",
    "\n",
    "#Stringent requirements for calling an enhancer include (1) only non-overlapping H3K27ac+ H3K4me3- fragments.                                                                                             \n",
    "\n",
    "#Relaxed requirements for calling an enhancer include:\n",
    "#(1) non-overlapping H3K27ac+ H3K4me3- fragments (-A command) or \n",
    "#(2) fragments with 50% overlap of -a and -b in order to subtract one region from another.                                                                                                                                                                                                    \n",
    "\n",
    "#note about Relaxed requirements - \n",
    "#This method of using bedtools is based off Mary Lauren's analysis of the roadmap encode dataset looking for histone modifications of enhancer regions that do not contain promoter histone modifications. \n",
    "#This is also the method used in Villar 2015 to call enhancers.                                                                                                       \n",
    "\n",
    "#180118 - the purpose of this script is to iterate through each ENCODE tissue (e.g. E034, E035, etc.) to find any human enhancers. \n",
    "#I  define an enhancer as H3K27ac+ and H3K4me3-. H3K4me3- also marks active promoters.                                                                                                                                                                                           \n",
    "\n",
    "\n",
    "#step 1-  I will glob histone modification files needed to define active enhancers                                                                                                                        \n",
    "\n",
    "#step 2-  I will iterate through each tissue ID file using  bedtools to find non-overlapping ChIP-seq regions                                                                                             \n",
    "#         I will write a bed file for                                                                                                                                                                     \n",
    "#             Active enhancers: All H3k27ac marks non-overlapping w/ H3k4me3 found in that tissue. I.e. H3k27ac+/H3k4me3-                                                                                 \n",
    "\n",
    "#step 3-  I will then multiintersect the resultant enhancer files for all tissues. This will be run with the script \"roadmap_find_common_enhancer.py   "
   ]
  },
  {
   "cell_type": "code",
   "execution_count": 2,
   "metadata": {
    "collapsed": true
   },
   "outputs": [],
   "source": [
    "import os\n",
    "import sys\n",
    "import glob\n",
    "import datetime\n",
    "import pandas\n",
    "\n",
    "now = str(datetime.date.today())"
   ]
  },
  {
   "cell_type": "code",
   "execution_count": null,
   "metadata": {
    "collapsed": true
   },
   "outputs": [],
   "source": [
    "# generate H3K27ac+ H3K4me3- peaks using script /home/fongsl/broadly_active_enhancers/Make_roadmap_bedfiles.ipynb                                                                                                                                                                                  "
   ]
  },
  {
   "cell_type": "code",
   "execution_count": 3,
   "metadata": {
    "collapsed": true
   },
   "outputs": [],
   "source": [
    "# Multiintersect command\n",
    "data_path = \"/dors/capra_lab/users/fongsl/roadmap/stringent/\"\n",
    "x = \"Hsap*.bed\"\n",
    "any_tissue_enhancer = glob.glob(\"%s%s\"%(data_path, x)) # glob together all the tissues                                                                                                                                        \n",
    "\n",
    "a = ' '.join(str(i) for i in any_tissue_enhancer)\n",
    "b = ' '.join((str(i).split(\"_\")[6]).split(\".\")[0] for i in any_tissue_enhancer)# a string of the tissue ids                                                                                                               "
   ]
  },
  {
   "cell_type": "code",
   "execution_count": 4,
   "metadata": {},
   "outputs": [
    {
     "data": {
      "text/plain": [
       "'E005 E080 E073 E007 E112 E076 E089 E092 E004 E042 E098 E124 E093 E084 E079 E100 E120 E122 E103 E012 E011 E040 E044 E034 E067 E055 E065 E074 E058 E062 E126 E049 E019 E104 E129 E108 E008 E050 E113 E048 E022 E123 E119 E114 E085 E021 E015 E020 E087 E063 E109 E096 E128 E026 E095 E125 E102 E101 E121 E016 E066 E105 E039 E117 E127 E071 E041 E029 E013 E099 E115 E014 E072 E061 E094 E059 E032 E106 E078 E017 E116 E091 E037 E003 E006 E111 E047 E043 E118 E045 E069 E090 E097 E046 E038 E056 E075 E068'"
      ]
     },
     "execution_count": 4,
     "metadata": {},
     "output_type": "execute_result"
    }
   ],
   "source": [
    "b"
   ]
  },
  {
   "cell_type": "code",
   "execution_count": 5,
   "metadata": {},
   "outputs": [
    {
     "data": {
      "text/plain": [
       "'/dors/capra_lab/users/fongsl/roadmap/stringent/Hsap_H3K27ac_plus_H3K4me3_minus_E005.bed /dors/capra_lab/users/fongsl/roadmap/stringent/Hsap_H3K27ac_plus_H3K4me3_minus_E080.bed /dors/capra_lab/users/fongsl/roadmap/stringent/Hsap_H3K27ac_plus_H3K4me3_minus_E073.bed /dors/capra_lab/users/fongsl/roadmap/stringent/Hsap_H3K27ac_plus_H3K4me3_minus_E007.bed /dors/capra_lab/users/fongsl/roadmap/stringent/Hsap_H3K27ac_plus_H3K4me3_minus_E112.bed /dors/capra_lab/users/fongsl/roadmap/stringent/Hsap_H3K27ac_plus_H3K4me3_minus_E076.bed /dors/capra_lab/users/fongsl/roadmap/stringent/Hsap_H3K27ac_plus_H3K4me3_minus_E089.bed /dors/capra_lab/users/fongsl/roadmap/stringent/Hsap_H3K27ac_plus_H3K4me3_minus_E092.bed /dors/capra_lab/users/fongsl/roadmap/stringent/Hsap_H3K27ac_plus_H3K4me3_minus_E004.bed /dors/capra_lab/users/fongsl/roadmap/stringent/Hsap_H3K27ac_plus_H3K4me3_minus_E042.bed /dors/capra_lab/users/fongsl/roadmap/stringent/Hsap_H3K27ac_plus_H3K4me3_minus_E098.bed /dors/capra_lab/users/fongsl/roadmap/stringent/Hsap_H3K27ac_plus_H3K4me3_minus_E124.bed /dors/capra_lab/users/fongsl/roadmap/stringent/Hsap_H3K27ac_plus_H3K4me3_minus_E093.bed /dors/capra_lab/users/fongsl/roadmap/stringent/Hsap_H3K27ac_plus_H3K4me3_minus_E084.bed /dors/capra_lab/users/fongsl/roadmap/stringent/Hsap_H3K27ac_plus_H3K4me3_minus_E079.bed /dors/capra_lab/users/fongsl/roadmap/stringent/Hsap_H3K27ac_plus_H3K4me3_minus_E100.bed /dors/capra_lab/users/fongsl/roadmap/stringent/Hsap_H3K27ac_plus_H3K4me3_minus_E120.bed /dors/capra_lab/users/fongsl/roadmap/stringent/Hsap_H3K27ac_plus_H3K4me3_minus_E122.bed /dors/capra_lab/users/fongsl/roadmap/stringent/Hsap_H3K27ac_plus_H3K4me3_minus_E103.bed /dors/capra_lab/users/fongsl/roadmap/stringent/Hsap_H3K27ac_plus_H3K4me3_minus_E012.bed /dors/capra_lab/users/fongsl/roadmap/stringent/Hsap_H3K27ac_plus_H3K4me3_minus_E011.bed /dors/capra_lab/users/fongsl/roadmap/stringent/Hsap_H3K27ac_plus_H3K4me3_minus_E040.bed /dors/capra_lab/users/fongsl/roadmap/stringent/Hsap_H3K27ac_plus_H3K4me3_minus_E044.bed /dors/capra_lab/users/fongsl/roadmap/stringent/Hsap_H3K27ac_plus_H3K4me3_minus_E034.bed /dors/capra_lab/users/fongsl/roadmap/stringent/Hsap_H3K27ac_plus_H3K4me3_minus_E067.bed /dors/capra_lab/users/fongsl/roadmap/stringent/Hsap_H3K27ac_plus_H3K4me3_minus_E055.bed /dors/capra_lab/users/fongsl/roadmap/stringent/Hsap_H3K27ac_plus_H3K4me3_minus_E065.bed /dors/capra_lab/users/fongsl/roadmap/stringent/Hsap_H3K27ac_plus_H3K4me3_minus_E074.bed /dors/capra_lab/users/fongsl/roadmap/stringent/Hsap_H3K27ac_plus_H3K4me3_minus_E058.bed /dors/capra_lab/users/fongsl/roadmap/stringent/Hsap_H3K27ac_plus_H3K4me3_minus_E062.bed /dors/capra_lab/users/fongsl/roadmap/stringent/Hsap_H3K27ac_plus_H3K4me3_minus_E126.bed /dors/capra_lab/users/fongsl/roadmap/stringent/Hsap_H3K27ac_plus_H3K4me3_minus_E049.bed /dors/capra_lab/users/fongsl/roadmap/stringent/Hsap_H3K27ac_plus_H3K4me3_minus_E019.bed /dors/capra_lab/users/fongsl/roadmap/stringent/Hsap_H3K27ac_plus_H3K4me3_minus_E104.bed /dors/capra_lab/users/fongsl/roadmap/stringent/Hsap_H3K27ac_plus_H3K4me3_minus_E129.bed /dors/capra_lab/users/fongsl/roadmap/stringent/Hsap_H3K27ac_plus_H3K4me3_minus_E108.bed /dors/capra_lab/users/fongsl/roadmap/stringent/Hsap_H3K27ac_plus_H3K4me3_minus_E008.bed /dors/capra_lab/users/fongsl/roadmap/stringent/Hsap_H3K27ac_plus_H3K4me3_minus_E050.bed /dors/capra_lab/users/fongsl/roadmap/stringent/Hsap_H3K27ac_plus_H3K4me3_minus_E113.bed /dors/capra_lab/users/fongsl/roadmap/stringent/Hsap_H3K27ac_plus_H3K4me3_minus_E048.bed /dors/capra_lab/users/fongsl/roadmap/stringent/Hsap_H3K27ac_plus_H3K4me3_minus_E022.bed /dors/capra_lab/users/fongsl/roadmap/stringent/Hsap_H3K27ac_plus_H3K4me3_minus_E123.bed /dors/capra_lab/users/fongsl/roadmap/stringent/Hsap_H3K27ac_plus_H3K4me3_minus_E119.bed /dors/capra_lab/users/fongsl/roadmap/stringent/Hsap_H3K27ac_plus_H3K4me3_minus_E114.bed /dors/capra_lab/users/fongsl/roadmap/stringent/Hsap_H3K27ac_plus_H3K4me3_minus_E085.bed /dors/capra_lab/users/fongsl/roadmap/stringent/Hsap_H3K27ac_plus_H3K4me3_minus_E021.bed /dors/capra_lab/users/fongsl/roadmap/stringent/Hsap_H3K27ac_plus_H3K4me3_minus_E015.bed /dors/capra_lab/users/fongsl/roadmap/stringent/Hsap_H3K27ac_plus_H3K4me3_minus_E020.bed /dors/capra_lab/users/fongsl/roadmap/stringent/Hsap_H3K27ac_plus_H3K4me3_minus_E087.bed /dors/capra_lab/users/fongsl/roadmap/stringent/Hsap_H3K27ac_plus_H3K4me3_minus_E063.bed /dors/capra_lab/users/fongsl/roadmap/stringent/Hsap_H3K27ac_plus_H3K4me3_minus_E109.bed /dors/capra_lab/users/fongsl/roadmap/stringent/Hsap_H3K27ac_plus_H3K4me3_minus_E096.bed /dors/capra_lab/users/fongsl/roadmap/stringent/Hsap_H3K27ac_plus_H3K4me3_minus_E128.bed /dors/capra_lab/users/fongsl/roadmap/stringent/Hsap_H3K27ac_plus_H3K4me3_minus_E026.bed /dors/capra_lab/users/fongsl/roadmap/stringent/Hsap_H3K27ac_plus_H3K4me3_minus_E095.bed /dors/capra_lab/users/fongsl/roadmap/stringent/Hsap_H3K27ac_plus_H3K4me3_minus_E125.bed /dors/capra_lab/users/fongsl/roadmap/stringent/Hsap_H3K27ac_plus_H3K4me3_minus_E102.bed /dors/capra_lab/users/fongsl/roadmap/stringent/Hsap_H3K27ac_plus_H3K4me3_minus_E101.bed /dors/capra_lab/users/fongsl/roadmap/stringent/Hsap_H3K27ac_plus_H3K4me3_minus_E121.bed /dors/capra_lab/users/fongsl/roadmap/stringent/Hsap_H3K27ac_plus_H3K4me3_minus_E016.bed /dors/capra_lab/users/fongsl/roadmap/stringent/Hsap_H3K27ac_plus_H3K4me3_minus_E066.bed /dors/capra_lab/users/fongsl/roadmap/stringent/Hsap_H3K27ac_plus_H3K4me3_minus_E105.bed /dors/capra_lab/users/fongsl/roadmap/stringent/Hsap_H3K27ac_plus_H3K4me3_minus_E039.bed /dors/capra_lab/users/fongsl/roadmap/stringent/Hsap_H3K27ac_plus_H3K4me3_minus_E117.bed /dors/capra_lab/users/fongsl/roadmap/stringent/Hsap_H3K27ac_plus_H3K4me3_minus_E127.bed /dors/capra_lab/users/fongsl/roadmap/stringent/Hsap_H3K27ac_plus_H3K4me3_minus_E071.bed /dors/capra_lab/users/fongsl/roadmap/stringent/Hsap_H3K27ac_plus_H3K4me3_minus_E041.bed /dors/capra_lab/users/fongsl/roadmap/stringent/Hsap_H3K27ac_plus_H3K4me3_minus_E029.bed /dors/capra_lab/users/fongsl/roadmap/stringent/Hsap_H3K27ac_plus_H3K4me3_minus_E013.bed /dors/capra_lab/users/fongsl/roadmap/stringent/Hsap_H3K27ac_plus_H3K4me3_minus_E099.bed /dors/capra_lab/users/fongsl/roadmap/stringent/Hsap_H3K27ac_plus_H3K4me3_minus_E115.bed /dors/capra_lab/users/fongsl/roadmap/stringent/Hsap_H3K27ac_plus_H3K4me3_minus_E014.bed /dors/capra_lab/users/fongsl/roadmap/stringent/Hsap_H3K27ac_plus_H3K4me3_minus_E072.bed /dors/capra_lab/users/fongsl/roadmap/stringent/Hsap_H3K27ac_plus_H3K4me3_minus_E061.bed /dors/capra_lab/users/fongsl/roadmap/stringent/Hsap_H3K27ac_plus_H3K4me3_minus_E094.bed /dors/capra_lab/users/fongsl/roadmap/stringent/Hsap_H3K27ac_plus_H3K4me3_minus_E059.bed /dors/capra_lab/users/fongsl/roadmap/stringent/Hsap_H3K27ac_plus_H3K4me3_minus_E032.bed /dors/capra_lab/users/fongsl/roadmap/stringent/Hsap_H3K27ac_plus_H3K4me3_minus_E106.bed /dors/capra_lab/users/fongsl/roadmap/stringent/Hsap_H3K27ac_plus_H3K4me3_minus_E078.bed /dors/capra_lab/users/fongsl/roadmap/stringent/Hsap_H3K27ac_plus_H3K4me3_minus_E017.bed /dors/capra_lab/users/fongsl/roadmap/stringent/Hsap_H3K27ac_plus_H3K4me3_minus_E116.bed /dors/capra_lab/users/fongsl/roadmap/stringent/Hsap_H3K27ac_plus_H3K4me3_minus_E091.bed /dors/capra_lab/users/fongsl/roadmap/stringent/Hsap_H3K27ac_plus_H3K4me3_minus_E037.bed /dors/capra_lab/users/fongsl/roadmap/stringent/Hsap_H3K27ac_plus_H3K4me3_minus_E003.bed /dors/capra_lab/users/fongsl/roadmap/stringent/Hsap_H3K27ac_plus_H3K4me3_minus_E006.bed /dors/capra_lab/users/fongsl/roadmap/stringent/Hsap_H3K27ac_plus_H3K4me3_minus_E111.bed /dors/capra_lab/users/fongsl/roadmap/stringent/Hsap_H3K27ac_plus_H3K4me3_minus_E047.bed /dors/capra_lab/users/fongsl/roadmap/stringent/Hsap_H3K27ac_plus_H3K4me3_minus_E043.bed /dors/capra_lab/users/fongsl/roadmap/stringent/Hsap_H3K27ac_plus_H3K4me3_minus_E118.bed /dors/capra_lab/users/fongsl/roadmap/stringent/Hsap_H3K27ac_plus_H3K4me3_minus_E045.bed /dors/capra_lab/users/fongsl/roadmap/stringent/Hsap_H3K27ac_plus_H3K4me3_minus_E069.bed /dors/capra_lab/users/fongsl/roadmap/stringent/Hsap_H3K27ac_plus_H3K4me3_minus_E090.bed /dors/capra_lab/users/fongsl/roadmap/stringent/Hsap_H3K27ac_plus_H3K4me3_minus_E097.bed /dors/capra_lab/users/fongsl/roadmap/stringent/Hsap_H3K27ac_plus_H3K4me3_minus_E046.bed /dors/capra_lab/users/fongsl/roadmap/stringent/Hsap_H3K27ac_plus_H3K4me3_minus_E038.bed /dors/capra_lab/users/fongsl/roadmap/stringent/Hsap_H3K27ac_plus_H3K4me3_minus_E056.bed /dors/capra_lab/users/fongsl/roadmap/stringent/Hsap_H3K27ac_plus_H3K4me3_minus_E075.bed /dors/capra_lab/users/fongsl/roadmap/stringent/Hsap_H3K27ac_plus_H3K4me3_minus_E068.bed'"
      ]
     },
     "execution_count": 5,
     "metadata": {},
     "output_type": "execute_result"
    }
   ],
   "source": [
    "a"
   ]
  },
  {
   "cell_type": "code",
   "execution_count": 19,
   "metadata": {},
   "outputs": [
    {
     "name": "stdout",
     "output_type": "stream",
     "text": [
      "multiIntersectBed -i /dors/capra_lab/users/fongsl/roadmap/stringent/Hsap_H3K27ac_plus_H3K4me3_minus_E005.bed /dors/capra_lab/users/fongsl/roadmap/stringent/Hsap_H3K27ac_plus_H3K4me3_minus_E080.bed /dors/capra_lab/users/fongsl/roadmap/stringent/Hsap_H3K27ac_plus_H3K4me3_minus_E073.bed /dors/capra_lab/users/fongsl/roadmap/stringent/Hsap_H3K27ac_plus_H3K4me3_minus_E007.bed /dors/capra_lab/users/fongsl/roadmap/stringent/Hsap_H3K27ac_plus_H3K4me3_minus_E112.bed /dors/capra_lab/users/fongsl/roadmap/stringent/Hsap_H3K27ac_plus_H3K4me3_minus_E076.bed /dors/capra_lab/users/fongsl/roadmap/stringent/Hsap_H3K27ac_plus_H3K4me3_minus_E089.bed /dors/capra_lab/users/fongsl/roadmap/stringent/Hsap_H3K27ac_plus_H3K4me3_minus_E092.bed /dors/capra_lab/users/fongsl/roadmap/stringent/Hsap_H3K27ac_plus_H3K4me3_minus_E004.bed /dors/capra_lab/users/fongsl/roadmap/stringent/Hsap_H3K27ac_plus_H3K4me3_minus_E042.bed /dors/capra_lab/users/fongsl/roadmap/stringent/Hsap_H3K27ac_plus_H3K4me3_minus_E098.bed /dors/capra_lab/users/fongsl/roadmap/stringent/Hsap_H3K27ac_plus_H3K4me3_minus_E124.bed /dors/capra_lab/users/fongsl/roadmap/stringent/Hsap_H3K27ac_plus_H3K4me3_minus_E093.bed /dors/capra_lab/users/fongsl/roadmap/stringent/Hsap_H3K27ac_plus_H3K4me3_minus_E084.bed /dors/capra_lab/users/fongsl/roadmap/stringent/Hsap_H3K27ac_plus_H3K4me3_minus_E079.bed /dors/capra_lab/users/fongsl/roadmap/stringent/Hsap_H3K27ac_plus_H3K4me3_minus_E100.bed /dors/capra_lab/users/fongsl/roadmap/stringent/Hsap_H3K27ac_plus_H3K4me3_minus_E120.bed /dors/capra_lab/users/fongsl/roadmap/stringent/Hsap_H3K27ac_plus_H3K4me3_minus_E122.bed /dors/capra_lab/users/fongsl/roadmap/stringent/Hsap_H3K27ac_plus_H3K4me3_minus_E103.bed /dors/capra_lab/users/fongsl/roadmap/stringent/Hsap_H3K27ac_plus_H3K4me3_minus_E012.bed /dors/capra_lab/users/fongsl/roadmap/stringent/Hsap_H3K27ac_plus_H3K4me3_minus_E011.bed /dors/capra_lab/users/fongsl/roadmap/stringent/Hsap_H3K27ac_plus_H3K4me3_minus_E040.bed /dors/capra_lab/users/fongsl/roadmap/stringent/Hsap_H3K27ac_plus_H3K4me3_minus_E044.bed /dors/capra_lab/users/fongsl/roadmap/stringent/Hsap_H3K27ac_plus_H3K4me3_minus_E034.bed /dors/capra_lab/users/fongsl/roadmap/stringent/Hsap_H3K27ac_plus_H3K4me3_minus_E067.bed /dors/capra_lab/users/fongsl/roadmap/stringent/Hsap_H3K27ac_plus_H3K4me3_minus_E055.bed /dors/capra_lab/users/fongsl/roadmap/stringent/Hsap_H3K27ac_plus_H3K4me3_minus_E065.bed /dors/capra_lab/users/fongsl/roadmap/stringent/Hsap_H3K27ac_plus_H3K4me3_minus_E074.bed /dors/capra_lab/users/fongsl/roadmap/stringent/Hsap_H3K27ac_plus_H3K4me3_minus_E058.bed /dors/capra_lab/users/fongsl/roadmap/stringent/Hsap_H3K27ac_plus_H3K4me3_minus_E062.bed /dors/capra_lab/users/fongsl/roadmap/stringent/Hsap_H3K27ac_plus_H3K4me3_minus_E126.bed /dors/capra_lab/users/fongsl/roadmap/stringent/Hsap_H3K27ac_plus_H3K4me3_minus_E049.bed /dors/capra_lab/users/fongsl/roadmap/stringent/Hsap_H3K27ac_plus_H3K4me3_minus_E019.bed /dors/capra_lab/users/fongsl/roadmap/stringent/Hsap_H3K27ac_plus_H3K4me3_minus_E104.bed /dors/capra_lab/users/fongsl/roadmap/stringent/Hsap_H3K27ac_plus_H3K4me3_minus_E129.bed /dors/capra_lab/users/fongsl/roadmap/stringent/Hsap_H3K27ac_plus_H3K4me3_minus_E108.bed /dors/capra_lab/users/fongsl/roadmap/stringent/Hsap_H3K27ac_plus_H3K4me3_minus_E008.bed /dors/capra_lab/users/fongsl/roadmap/stringent/Hsap_H3K27ac_plus_H3K4me3_minus_E050.bed /dors/capra_lab/users/fongsl/roadmap/stringent/Hsap_H3K27ac_plus_H3K4me3_minus_E113.bed /dors/capra_lab/users/fongsl/roadmap/stringent/Hsap_H3K27ac_plus_H3K4me3_minus_E048.bed /dors/capra_lab/users/fongsl/roadmap/stringent/Hsap_H3K27ac_plus_H3K4me3_minus_E022.bed /dors/capra_lab/users/fongsl/roadmap/stringent/Hsap_H3K27ac_plus_H3K4me3_minus_E123.bed /dors/capra_lab/users/fongsl/roadmap/stringent/Hsap_H3K27ac_plus_H3K4me3_minus_E119.bed /dors/capra_lab/users/fongsl/roadmap/stringent/Hsap_H3K27ac_plus_H3K4me3_minus_E114.bed /dors/capra_lab/users/fongsl/roadmap/stringent/Hsap_H3K27ac_plus_H3K4me3_minus_E085.bed /dors/capra_lab/users/fongsl/roadmap/stringent/Hsap_H3K27ac_plus_H3K4me3_minus_E021.bed /dors/capra_lab/users/fongsl/roadmap/stringent/Hsap_H3K27ac_plus_H3K4me3_minus_E015.bed /dors/capra_lab/users/fongsl/roadmap/stringent/Hsap_H3K27ac_plus_H3K4me3_minus_E020.bed /dors/capra_lab/users/fongsl/roadmap/stringent/Hsap_H3K27ac_plus_H3K4me3_minus_E087.bed /dors/capra_lab/users/fongsl/roadmap/stringent/Hsap_H3K27ac_plus_H3K4me3_minus_E063.bed /dors/capra_lab/users/fongsl/roadmap/stringent/Hsap_H3K27ac_plus_H3K4me3_minus_E109.bed /dors/capra_lab/users/fongsl/roadmap/stringent/Hsap_H3K27ac_plus_H3K4me3_minus_E096.bed /dors/capra_lab/users/fongsl/roadmap/stringent/Hsap_H3K27ac_plus_H3K4me3_minus_E128.bed /dors/capra_lab/users/fongsl/roadmap/stringent/Hsap_H3K27ac_plus_H3K4me3_minus_E026.bed /dors/capra_lab/users/fongsl/roadmap/stringent/Hsap_H3K27ac_plus_H3K4me3_minus_E095.bed /dors/capra_lab/users/fongsl/roadmap/stringent/Hsap_H3K27ac_plus_H3K4me3_minus_E125.bed /dors/capra_lab/users/fongsl/roadmap/stringent/Hsap_H3K27ac_plus_H3K4me3_minus_E102.bed /dors/capra_lab/users/fongsl/roadmap/stringent/Hsap_H3K27ac_plus_H3K4me3_minus_E101.bed /dors/capra_lab/users/fongsl/roadmap/stringent/Hsap_H3K27ac_plus_H3K4me3_minus_E121.bed /dors/capra_lab/users/fongsl/roadmap/stringent/Hsap_H3K27ac_plus_H3K4me3_minus_E016.bed /dors/capra_lab/users/fongsl/roadmap/stringent/Hsap_H3K27ac_plus_H3K4me3_minus_E066.bed /dors/capra_lab/users/fongsl/roadmap/stringent/Hsap_H3K27ac_plus_H3K4me3_minus_E105.bed /dors/capra_lab/users/fongsl/roadmap/stringent/Hsap_H3K27ac_plus_H3K4me3_minus_E039.bed /dors/capra_lab/users/fongsl/roadmap/stringent/Hsap_H3K27ac_plus_H3K4me3_minus_E117.bed /dors/capra_lab/users/fongsl/roadmap/stringent/Hsap_H3K27ac_plus_H3K4me3_minus_E127.bed /dors/capra_lab/users/fongsl/roadmap/stringent/Hsap_H3K27ac_plus_H3K4me3_minus_E071.bed /dors/capra_lab/users/fongsl/roadmap/stringent/Hsap_H3K27ac_plus_H3K4me3_minus_E041.bed /dors/capra_lab/users/fongsl/roadmap/stringent/Hsap_H3K27ac_plus_H3K4me3_minus_E029.bed /dors/capra_lab/users/fongsl/roadmap/stringent/Hsap_H3K27ac_plus_H3K4me3_minus_E013.bed /dors/capra_lab/users/fongsl/roadmap/stringent/Hsap_H3K27ac_plus_H3K4me3_minus_E099.bed /dors/capra_lab/users/fongsl/roadmap/stringent/Hsap_H3K27ac_plus_H3K4me3_minus_E115.bed /dors/capra_lab/users/fongsl/roadmap/stringent/Hsap_H3K27ac_plus_H3K4me3_minus_E014.bed /dors/capra_lab/users/fongsl/roadmap/stringent/Hsap_H3K27ac_plus_H3K4me3_minus_E072.bed /dors/capra_lab/users/fongsl/roadmap/stringent/Hsap_H3K27ac_plus_H3K4me3_minus_E061.bed /dors/capra_lab/users/fongsl/roadmap/stringent/Hsap_H3K27ac_plus_H3K4me3_minus_E094.bed /dors/capra_lab/users/fongsl/roadmap/stringent/Hsap_H3K27ac_plus_H3K4me3_minus_E059.bed /dors/capra_lab/users/fongsl/roadmap/stringent/Hsap_H3K27ac_plus_H3K4me3_minus_E032.bed /dors/capra_lab/users/fongsl/roadmap/stringent/Hsap_H3K27ac_plus_H3K4me3_minus_E106.bed /dors/capra_lab/users/fongsl/roadmap/stringent/Hsap_H3K27ac_plus_H3K4me3_minus_E078.bed /dors/capra_lab/users/fongsl/roadmap/stringent/Hsap_H3K27ac_plus_H3K4me3_minus_E017.bed /dors/capra_lab/users/fongsl/roadmap/stringent/Hsap_H3K27ac_plus_H3K4me3_minus_E116.bed /dors/capra_lab/users/fongsl/roadmap/stringent/Hsap_H3K27ac_plus_H3K4me3_minus_E091.bed /dors/capra_lab/users/fongsl/roadmap/stringent/Hsap_H3K27ac_plus_H3K4me3_minus_E037.bed /dors/capra_lab/users/fongsl/roadmap/stringent/Hsap_H3K27ac_plus_H3K4me3_minus_E003.bed /dors/capra_lab/users/fongsl/roadmap/stringent/Hsap_H3K27ac_plus_H3K4me3_minus_E006.bed /dors/capra_lab/users/fongsl/roadmap/stringent/Hsap_H3K27ac_plus_H3K4me3_minus_E111.bed /dors/capra_lab/users/fongsl/roadmap/stringent/Hsap_H3K27ac_plus_H3K4me3_minus_E047.bed /dors/capra_lab/users/fongsl/roadmap/stringent/Hsap_H3K27ac_plus_H3K4me3_minus_E043.bed /dors/capra_lab/users/fongsl/roadmap/stringent/Hsap_H3K27ac_plus_H3K4me3_minus_E118.bed /dors/capra_lab/users/fongsl/roadmap/stringent/Hsap_H3K27ac_plus_H3K4me3_minus_E045.bed /dors/capra_lab/users/fongsl/roadmap/stringent/Hsap_H3K27ac_plus_H3K4me3_minus_E069.bed /dors/capra_lab/users/fongsl/roadmap/stringent/Hsap_H3K27ac_plus_H3K4me3_minus_E090.bed /dors/capra_lab/users/fongsl/roadmap/stringent/Hsap_H3K27ac_plus_H3K4me3_minus_E097.bed /dors/capra_lab/users/fongsl/roadmap/stringent/Hsap_H3K27ac_plus_H3K4me3_minus_E046.bed /dors/capra_lab/users/fongsl/roadmap/stringent/Hsap_H3K27ac_plus_H3K4me3_minus_E038.bed /dors/capra_lab/users/fongsl/roadmap/stringent/Hsap_H3K27ac_plus_H3K4me3_minus_E056.bed /dors/capra_lab/users/fongsl/roadmap/stringent/Hsap_H3K27ac_plus_H3K4me3_minus_E075.bed /dors/capra_lab/users/fongsl/roadmap/stringent/Hsap_H3K27ac_plus_H3K4me3_minus_E068.bed -f 0.5 -e -sorted -header -names E005 E080 E073 E007 E112 E076 E089 E092 E004 E042 E098 E124 E093 E084 E079 E100 E120 E122 E103 E012 E011 E040 E044 E034 E067 E055 E065 E074 E058 E062 E126 E049 E019 E104 E129 E108 E008 E050 E113 E048 E022 E123 E119 E114 E085 E021 E015 E020 E087 E063 E109 E096 E128 E026 E095 E125 E102 E101 E121 E016 E066 E105 E039 E117 E127 E071 E041 E029 E013 E099 E115 E014 E072 E061 E094 E059 E032 E106 E078 E017 E116 E091 E037 E003 E006 E111 E047 E043 E118 E045 E069 E090 E097 E046 E038 E056 E075 E068 > Multiintersect_roadmap_enh.bed\n"
     ]
    },
    {
     "data": {
      "text/plain": [
       "0"
      ]
     },
     "execution_count": 19,
     "metadata": {},
     "output_type": "execute_result"
    }
   ],
   "source": [
    "output = \"/dors/capra_lab/users/fongsl/broadly_active_enhancers/data/roadmap_multi_data/multiintersect_roadmap_enh.bed\"\n",
    "\n",
    "os_cmd = \"multiIntersectBed -i %s -f 0.5 -e -sorted -header -names %s > %s\" % (a,b, output)\n",
    "print(os_cmd)                                                                                                                                                                                            \n",
    "os.system(os_cmd)"
   ]
  },
  {
   "cell_type": "code",
   "execution_count": 6,
   "metadata": {},
   "outputs": [
    {
     "name": "stdout",
     "output_type": "stream",
     "text": [
      "multiIntersectBed -i /dors/capra_lab/users/fongsl/roadmap/stringent/Hsap_H3K27ac_plus_H3K4me3_minus_E005.bed /dors/capra_lab/users/fongsl/roadmap/stringent/Hsap_H3K27ac_plus_H3K4me3_minus_E080.bed /dors/capra_lab/users/fongsl/roadmap/stringent/Hsap_H3K27ac_plus_H3K4me3_minus_E073.bed /dors/capra_lab/users/fongsl/roadmap/stringent/Hsap_H3K27ac_plus_H3K4me3_minus_E007.bed /dors/capra_lab/users/fongsl/roadmap/stringent/Hsap_H3K27ac_plus_H3K4me3_minus_E112.bed /dors/capra_lab/users/fongsl/roadmap/stringent/Hsap_H3K27ac_plus_H3K4me3_minus_E076.bed /dors/capra_lab/users/fongsl/roadmap/stringent/Hsap_H3K27ac_plus_H3K4me3_minus_E089.bed /dors/capra_lab/users/fongsl/roadmap/stringent/Hsap_H3K27ac_plus_H3K4me3_minus_E092.bed /dors/capra_lab/users/fongsl/roadmap/stringent/Hsap_H3K27ac_plus_H3K4me3_minus_E004.bed /dors/capra_lab/users/fongsl/roadmap/stringent/Hsap_H3K27ac_plus_H3K4me3_minus_E042.bed /dors/capra_lab/users/fongsl/roadmap/stringent/Hsap_H3K27ac_plus_H3K4me3_minus_E098.bed /dors/capra_lab/users/fongsl/roadmap/stringent/Hsap_H3K27ac_plus_H3K4me3_minus_E124.bed /dors/capra_lab/users/fongsl/roadmap/stringent/Hsap_H3K27ac_plus_H3K4me3_minus_E093.bed /dors/capra_lab/users/fongsl/roadmap/stringent/Hsap_H3K27ac_plus_H3K4me3_minus_E084.bed /dors/capra_lab/users/fongsl/roadmap/stringent/Hsap_H3K27ac_plus_H3K4me3_minus_E079.bed /dors/capra_lab/users/fongsl/roadmap/stringent/Hsap_H3K27ac_plus_H3K4me3_minus_E100.bed /dors/capra_lab/users/fongsl/roadmap/stringent/Hsap_H3K27ac_plus_H3K4me3_minus_E120.bed /dors/capra_lab/users/fongsl/roadmap/stringent/Hsap_H3K27ac_plus_H3K4me3_minus_E122.bed /dors/capra_lab/users/fongsl/roadmap/stringent/Hsap_H3K27ac_plus_H3K4me3_minus_E103.bed /dors/capra_lab/users/fongsl/roadmap/stringent/Hsap_H3K27ac_plus_H3K4me3_minus_E012.bed /dors/capra_lab/users/fongsl/roadmap/stringent/Hsap_H3K27ac_plus_H3K4me3_minus_E011.bed /dors/capra_lab/users/fongsl/roadmap/stringent/Hsap_H3K27ac_plus_H3K4me3_minus_E040.bed /dors/capra_lab/users/fongsl/roadmap/stringent/Hsap_H3K27ac_plus_H3K4me3_minus_E044.bed /dors/capra_lab/users/fongsl/roadmap/stringent/Hsap_H3K27ac_plus_H3K4me3_minus_E034.bed /dors/capra_lab/users/fongsl/roadmap/stringent/Hsap_H3K27ac_plus_H3K4me3_minus_E067.bed /dors/capra_lab/users/fongsl/roadmap/stringent/Hsap_H3K27ac_plus_H3K4me3_minus_E055.bed /dors/capra_lab/users/fongsl/roadmap/stringent/Hsap_H3K27ac_plus_H3K4me3_minus_E065.bed /dors/capra_lab/users/fongsl/roadmap/stringent/Hsap_H3K27ac_plus_H3K4me3_minus_E074.bed /dors/capra_lab/users/fongsl/roadmap/stringent/Hsap_H3K27ac_plus_H3K4me3_minus_E058.bed /dors/capra_lab/users/fongsl/roadmap/stringent/Hsap_H3K27ac_plus_H3K4me3_minus_E062.bed /dors/capra_lab/users/fongsl/roadmap/stringent/Hsap_H3K27ac_plus_H3K4me3_minus_E126.bed /dors/capra_lab/users/fongsl/roadmap/stringent/Hsap_H3K27ac_plus_H3K4me3_minus_E049.bed /dors/capra_lab/users/fongsl/roadmap/stringent/Hsap_H3K27ac_plus_H3K4me3_minus_E019.bed /dors/capra_lab/users/fongsl/roadmap/stringent/Hsap_H3K27ac_plus_H3K4me3_minus_E104.bed /dors/capra_lab/users/fongsl/roadmap/stringent/Hsap_H3K27ac_plus_H3K4me3_minus_E129.bed /dors/capra_lab/users/fongsl/roadmap/stringent/Hsap_H3K27ac_plus_H3K4me3_minus_E108.bed /dors/capra_lab/users/fongsl/roadmap/stringent/Hsap_H3K27ac_plus_H3K4me3_minus_E008.bed /dors/capra_lab/users/fongsl/roadmap/stringent/Hsap_H3K27ac_plus_H3K4me3_minus_E050.bed /dors/capra_lab/users/fongsl/roadmap/stringent/Hsap_H3K27ac_plus_H3K4me3_minus_E113.bed /dors/capra_lab/users/fongsl/roadmap/stringent/Hsap_H3K27ac_plus_H3K4me3_minus_E048.bed /dors/capra_lab/users/fongsl/roadmap/stringent/Hsap_H3K27ac_plus_H3K4me3_minus_E022.bed /dors/capra_lab/users/fongsl/roadmap/stringent/Hsap_H3K27ac_plus_H3K4me3_minus_E123.bed /dors/capra_lab/users/fongsl/roadmap/stringent/Hsap_H3K27ac_plus_H3K4me3_minus_E119.bed /dors/capra_lab/users/fongsl/roadmap/stringent/Hsap_H3K27ac_plus_H3K4me3_minus_E114.bed /dors/capra_lab/users/fongsl/roadmap/stringent/Hsap_H3K27ac_plus_H3K4me3_minus_E085.bed /dors/capra_lab/users/fongsl/roadmap/stringent/Hsap_H3K27ac_plus_H3K4me3_minus_E021.bed /dors/capra_lab/users/fongsl/roadmap/stringent/Hsap_H3K27ac_plus_H3K4me3_minus_E015.bed /dors/capra_lab/users/fongsl/roadmap/stringent/Hsap_H3K27ac_plus_H3K4me3_minus_E020.bed /dors/capra_lab/users/fongsl/roadmap/stringent/Hsap_H3K27ac_plus_H3K4me3_minus_E087.bed /dors/capra_lab/users/fongsl/roadmap/stringent/Hsap_H3K27ac_plus_H3K4me3_minus_E063.bed /dors/capra_lab/users/fongsl/roadmap/stringent/Hsap_H3K27ac_plus_H3K4me3_minus_E109.bed /dors/capra_lab/users/fongsl/roadmap/stringent/Hsap_H3K27ac_plus_H3K4me3_minus_E096.bed /dors/capra_lab/users/fongsl/roadmap/stringent/Hsap_H3K27ac_plus_H3K4me3_minus_E128.bed /dors/capra_lab/users/fongsl/roadmap/stringent/Hsap_H3K27ac_plus_H3K4me3_minus_E026.bed /dors/capra_lab/users/fongsl/roadmap/stringent/Hsap_H3K27ac_plus_H3K4me3_minus_E095.bed /dors/capra_lab/users/fongsl/roadmap/stringent/Hsap_H3K27ac_plus_H3K4me3_minus_E125.bed /dors/capra_lab/users/fongsl/roadmap/stringent/Hsap_H3K27ac_plus_H3K4me3_minus_E102.bed /dors/capra_lab/users/fongsl/roadmap/stringent/Hsap_H3K27ac_plus_H3K4me3_minus_E101.bed /dors/capra_lab/users/fongsl/roadmap/stringent/Hsap_H3K27ac_plus_H3K4me3_minus_E121.bed /dors/capra_lab/users/fongsl/roadmap/stringent/Hsap_H3K27ac_plus_H3K4me3_minus_E016.bed /dors/capra_lab/users/fongsl/roadmap/stringent/Hsap_H3K27ac_plus_H3K4me3_minus_E066.bed /dors/capra_lab/users/fongsl/roadmap/stringent/Hsap_H3K27ac_plus_H3K4me3_minus_E105.bed /dors/capra_lab/users/fongsl/roadmap/stringent/Hsap_H3K27ac_plus_H3K4me3_minus_E039.bed /dors/capra_lab/users/fongsl/roadmap/stringent/Hsap_H3K27ac_plus_H3K4me3_minus_E117.bed /dors/capra_lab/users/fongsl/roadmap/stringent/Hsap_H3K27ac_plus_H3K4me3_minus_E127.bed /dors/capra_lab/users/fongsl/roadmap/stringent/Hsap_H3K27ac_plus_H3K4me3_minus_E071.bed /dors/capra_lab/users/fongsl/roadmap/stringent/Hsap_H3K27ac_plus_H3K4me3_minus_E041.bed /dors/capra_lab/users/fongsl/roadmap/stringent/Hsap_H3K27ac_plus_H3K4me3_minus_E029.bed /dors/capra_lab/users/fongsl/roadmap/stringent/Hsap_H3K27ac_plus_H3K4me3_minus_E013.bed /dors/capra_lab/users/fongsl/roadmap/stringent/Hsap_H3K27ac_plus_H3K4me3_minus_E099.bed /dors/capra_lab/users/fongsl/roadmap/stringent/Hsap_H3K27ac_plus_H3K4me3_minus_E115.bed /dors/capra_lab/users/fongsl/roadmap/stringent/Hsap_H3K27ac_plus_H3K4me3_minus_E014.bed /dors/capra_lab/users/fongsl/roadmap/stringent/Hsap_H3K27ac_plus_H3K4me3_minus_E072.bed /dors/capra_lab/users/fongsl/roadmap/stringent/Hsap_H3K27ac_plus_H3K4me3_minus_E061.bed /dors/capra_lab/users/fongsl/roadmap/stringent/Hsap_H3K27ac_plus_H3K4me3_minus_E094.bed /dors/capra_lab/users/fongsl/roadmap/stringent/Hsap_H3K27ac_plus_H3K4me3_minus_E059.bed /dors/capra_lab/users/fongsl/roadmap/stringent/Hsap_H3K27ac_plus_H3K4me3_minus_E032.bed /dors/capra_lab/users/fongsl/roadmap/stringent/Hsap_H3K27ac_plus_H3K4me3_minus_E106.bed /dors/capra_lab/users/fongsl/roadmap/stringent/Hsap_H3K27ac_plus_H3K4me3_minus_E078.bed /dors/capra_lab/users/fongsl/roadmap/stringent/Hsap_H3K27ac_plus_H3K4me3_minus_E017.bed /dors/capra_lab/users/fongsl/roadmap/stringent/Hsap_H3K27ac_plus_H3K4me3_minus_E116.bed /dors/capra_lab/users/fongsl/roadmap/stringent/Hsap_H3K27ac_plus_H3K4me3_minus_E091.bed /dors/capra_lab/users/fongsl/roadmap/stringent/Hsap_H3K27ac_plus_H3K4me3_minus_E037.bed /dors/capra_lab/users/fongsl/roadmap/stringent/Hsap_H3K27ac_plus_H3K4me3_minus_E003.bed /dors/capra_lab/users/fongsl/roadmap/stringent/Hsap_H3K27ac_plus_H3K4me3_minus_E006.bed /dors/capra_lab/users/fongsl/roadmap/stringent/Hsap_H3K27ac_plus_H3K4me3_minus_E111.bed /dors/capra_lab/users/fongsl/roadmap/stringent/Hsap_H3K27ac_plus_H3K4me3_minus_E047.bed /dors/capra_lab/users/fongsl/roadmap/stringent/Hsap_H3K27ac_plus_H3K4me3_minus_E043.bed /dors/capra_lab/users/fongsl/roadmap/stringent/Hsap_H3K27ac_plus_H3K4me3_minus_E118.bed /dors/capra_lab/users/fongsl/roadmap/stringent/Hsap_H3K27ac_plus_H3K4me3_minus_E045.bed /dors/capra_lab/users/fongsl/roadmap/stringent/Hsap_H3K27ac_plus_H3K4me3_minus_E069.bed /dors/capra_lab/users/fongsl/roadmap/stringent/Hsap_H3K27ac_plus_H3K4me3_minus_E090.bed /dors/capra_lab/users/fongsl/roadmap/stringent/Hsap_H3K27ac_plus_H3K4me3_minus_E097.bed /dors/capra_lab/users/fongsl/roadmap/stringent/Hsap_H3K27ac_plus_H3K4me3_minus_E046.bed /dors/capra_lab/users/fongsl/roadmap/stringent/Hsap_H3K27ac_plus_H3K4me3_minus_E038.bed /dors/capra_lab/users/fongsl/roadmap/stringent/Hsap_H3K27ac_plus_H3K4me3_minus_E056.bed /dors/capra_lab/users/fongsl/roadmap/stringent/Hsap_H3K27ac_plus_H3K4me3_minus_E075.bed /dors/capra_lab/users/fongsl/roadmap/stringent/Hsap_H3K27ac_plus_H3K4me3_minus_E068.bed -f 0.5 -e -sorted -names E005 E080 E073 E007 E112 E076 E089 E092 E004 E042 E098 E124 E093 E084 E079 E100 E120 E122 E103 E012 E011 E040 E044 E034 E067 E055 E065 E074 E058 E062 E126 E049 E019 E104 E129 E108 E008 E050 E113 E048 E022 E123 E119 E114 E085 E021 E015 E020 E087 E063 E109 E096 E128 E026 E095 E125 E102 E101 E121 E016 E066 E105 E039 E117 E127 E071 E041 E029 E013 E099 E115 E014 E072 E061 E094 E059 E032 E106 E078 E017 E116 E091 E037 E003 E006 E111 E047 E043 E118 E045 E069 E090 E097 E046 E038 E056 E075 E068 > /dors/capra_lab/users/fongsl/roadmap/stringent/multiintersect_roadmap_enh_no_header.bed\n"
     ]
    },
    {
     "data": {
      "text/plain": [
       "0"
      ]
     },
     "execution_count": 6,
     "metadata": {},
     "output_type": "execute_result"
    }
   ],
   "source": [
    "# FOR MERGING FRAGMENTS - RERUN THE MULTI INTERSECT WITHOUT HEADERS\n",
    "output = \"/dors/capra_lab/users/fongsl/broadly_active_enhancers/data/roadmap_multi_data/multiintersect_roadmap_enh_no_header.bed\"\n",
    "\n",
    "os_cmd = \"multiIntersectBed -i %s -f 0.5 -e -sorted -names %s > %s\" % (a,b, output)\n",
    "print(os_cmd)                                                                                                                                                                                            \n",
    "os.system(os_cmd)"
   ]
  },
  {
   "cell_type": "code",
   "execution_count": 20,
   "metadata": {},
   "outputs": [
    {
     "data": {
      "text/plain": [
       "'/gpfs22/home/fongsl/broadly_active_enhancers/Roadmap_multi_intersect'"
      ]
     },
     "execution_count": 20,
     "metadata": {},
     "output_type": "execute_result"
    }
   ],
   "source": [
    "pwd"
   ]
  }
 ],
 "metadata": {
  "kernelspec": {
   "display_name": "Python 3",
   "language": "python",
   "name": "python3"
  },
  "language_info": {
   "codemirror_mode": {
    "name": "ipython",
    "version": 3
   },
   "file_extension": ".py",
   "mimetype": "text/x-python",
   "name": "python",
   "nbconvert_exporter": "python",
   "pygments_lexer": "ipython3",
   "version": "3.6.1"
  }
 },
 "nbformat": 4,
 "nbformat_minor": 2
}
