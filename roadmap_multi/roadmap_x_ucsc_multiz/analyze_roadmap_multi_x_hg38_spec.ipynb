{
 "cells": [
  {
   "cell_type": "code",
   "execution_count": null,
   "metadata": {
    "collapsed": true
   },
   "outputs": [],
   "source": [
    "#system(\"source activate sf_test\")"
   ]
  },
  {
   "cell_type": "code",
   "execution_count": null,
   "metadata": {
    "collapsed": true
   },
   "outputs": [],
   "source": [
    "#install.packages('ggplot2')\n",
    "#install.packages(\"dplyr\")"
   ]
  },
  {
   "cell_type": "code",
   "execution_count": 1,
   "metadata": {},
   "outputs": [
    {
     "name": "stderr",
     "output_type": "stream",
     "text": [
      "\n",
      "Attaching package: ‘dplyr’\n",
      "\n",
      "The following objects are masked from ‘package:stats’:\n",
      "\n",
      "    filter, lag\n",
      "\n",
      "The following objects are masked from ‘package:base’:\n",
      "\n",
      "    intersect, setdiff, setequal, union\n",
      "\n"
     ]
    }
   ],
   "source": [
    "library(ggplot2)\n",
    "library(dplyr)"
   ]
  },
  {
   "cell_type": "code",
   "execution_count": 2,
   "metadata": {
    "collapsed": true
   },
   "outputs": [],
   "source": [
    "#find the .BED files of Roadmap enhancers intersected with hg38 files containing species counts\n",
    "path <- \"/dors/capra_lab/users/fongsl/broadly_active_enhancers/data/roadmap_multi_data/hg38/human_specific\"\n",
    "setwd(path)"
   ]
  },
  {
   "cell_type": "code",
   "execution_count": 9,
   "metadata": {
    "collapsed": true
   },
   "outputs": [],
   "source": [
    "a <- list.files(pattern = \"\\\\.bed$\")"
   ]
  },
  {
   "cell_type": "code",
   "execution_count": 10,
   "metadata": {},
   "outputs": [
    {
     "name": "stdout",
     "output_type": "stream",
     "text": [
      " [1] \"chr1_hspec_x_hg38.bed\"  \"chr10_hspec_x_hg38.bed\" \"chr11_hspec_x_hg38.bed\"\n",
      " [4] \"chr12_hspec_x_hg38.bed\" \"chr13_hspec_x_hg38.bed\" \"chr14_hspec_x_hg38.bed\"\n",
      " [7] \"chr15_hspec_x_hg38.bed\" \"chr16_hspec_x_hg38.bed\" \"chr17_hspec_x_hg38.bed\"\n",
      "[10] \"chr18_hspec_x_hg38.bed\" \"chr19_hspec_x_hg38.bed\" \"chr2_hspec_x_hg38.bed\" \n",
      "[13] \"chr20_hspec_x_hg38.bed\" \"chr21_hspec_x_hg38.bed\" \"chr22_hspec_x_hg38.bed\"\n",
      "[16] \"chr3_hspec_x_hg38.bed\"  \"chr4_hspec_x_hg38.bed\"  \"chr5_hspec_x_hg38.bed\" \n",
      "[19] \"chr6_hspec_x_hg38.bed\"  \"chr7_hspec_x_hg38.bed\"  \"chr8_hspec_x_hg38.bed\" \n",
      "[22] \"chr9_hspec_x_hg38.bed\" \n"
     ]
    }
   ],
   "source": [
    "print(a)"
   ]
  },
  {
   "cell_type": "code",
   "execution_count": 45,
   "metadata": {},
   "outputs": [
    {
     "name": "stdout",
     "output_type": "stream",
     "text": [
      "[1] \"chr18_hspec_x_hg38.bed\"\n"
     ]
    },
    {
     "data": {
      "text/html": [
       "<ol class=list-inline>\n",
       "\t<li>727839</li>\n",
       "\t<li>14</li>\n",
       "</ol>\n"
      ],
      "text/latex": [
       "\\begin{enumerate*}\n",
       "\\item 727839\n",
       "\\item 14\n",
       "\\end{enumerate*}\n"
      ],
      "text/markdown": [
       "1. 727839\n",
       "2. 14\n",
       "\n",
       "\n"
      ],
      "text/plain": [
       "[1] 727839     14"
      ]
     },
     "metadata": {},
     "output_type": "display_data"
    },
    {
     "data": {
      "text/html": [
       "<table>\n",
       "<thead><tr><th scope=col>V1</th><th scope=col>V2</th><th scope=col>V3</th><th scope=col>V4</th><th scope=col>V5</th><th scope=col>V6</th><th scope=col>V7</th><th scope=col>V8</th><th scope=col>V9</th><th scope=col>V10</th><th scope=col>V11</th><th scope=col>V12</th><th scope=col>V13</th><th scope=col>V14</th></tr></thead>\n",
       "<tbody>\n",
       "\t<tr><td>chr18                                        </td><td> 9960                                        </td><td>10014                                        </td><td>1                                            </td><td>0.10                                         </td><td>.                                            </td><td>   -1                                        </td><td>   -1                                        </td><td>.                                            </td><td>.                                            </td><td>.                                            </td><td>.                                            </td><td>.                                            </td><td>  0                                          </td></tr>\n",
       "\t<tr><td>chr18                                        </td><td>10014                                        </td><td>10264                                        </td><td>2                                            </td><td>0.26                                         </td><td>chr18                                        </td><td>10148                                        </td><td>10750                                        </td><td>+                                            </td><td>hg38                                         </td><td>1                                            </td><td>0                                            </td><td>[ornAna1]                                    </td><td>116                                          </td></tr>\n",
       "\t<tr><td>chr18                                        </td><td>10264                                        </td><td>10286                                        </td><td>1                                            </td><td>0.10                                         </td><td>chr18                                        </td><td>10148                                        </td><td>10750                                        </td><td>+                                            </td><td>hg38                                         </td><td>1                                            </td><td>0                                            </td><td>[ornAna1]                                    </td><td> 22                                          </td></tr>\n",
       "\t<tr><td>chr18                                        </td><td>63671                                        </td><td>63859                                        </td><td>1                                            </td><td>0.10                                         </td><td>chr18                                        </td><td>62890                                        </td><td>63829                                        </td><td>+                                            </td><td>hg38                                         </td><td>0                                            </td><td>0                                            </td><td>[]                                           </td><td>158                                          </td></tr>\n",
       "\t<tr><td>chr18                                        </td><td>63671                                        </td><td>63859                                        </td><td>1                                            </td><td>0.10                                         </td><td>chr18                                        </td><td>63828                                        </td><td>63873                                        </td><td>+                                            </td><td>hg38                                         </td><td>1                                            </td><td>0                                            </td><td>[papAnu2]                                    </td><td> 31                                          </td></tr>\n",
       "\t<tr><td>chr18                                        </td><td>71042                                        </td><td>71266                                        </td><td>1                                            </td><td>0.10                                         </td><td>chr18                                        </td><td>70953                                        </td><td>71233                                        </td><td>+                                            </td><td>hg38                                         </td><td>5                                            </td><td>0                                            </td><td>[panTro4, ponAbe2, nomLeu3, macFas5, chlSab2]</td><td>191                                          </td></tr>\n",
       "</tbody>\n",
       "</table>\n"
      ],
      "text/latex": [
       "\\begin{tabular}{r|llllllllllllll}\n",
       " V1 & V2 & V3 & V4 & V5 & V6 & V7 & V8 & V9 & V10 & V11 & V12 & V13 & V14\\\\\n",
       "\\hline\n",
       "\t chr18                                         &  9960                                         & 10014                                         & 1                                             & 0.10                                          & .                                             &    -1                                         &    -1                                         & .                                             & .                                             & .                                             & .                                             & .                                             &   0                                          \\\\\n",
       "\t chr18                                             & 10014                                             & 10264                                             & 2                                                 & 0.26                                              & chr18                                             & 10148                                             & 10750                                             & +                                                 & hg38                                              & 1                                                 & 0                                                 & {[}ornAna1{]}                                     & 116                                              \\\\\n",
       "\t chr18                                             & 10264                                             & 10286                                             & 1                                                 & 0.10                                              & chr18                                             & 10148                                             & 10750                                             & +                                                 & hg38                                              & 1                                                 & 0                                                 & {[}ornAna1{]}                                     &  22                                              \\\\\n",
       "\t chr18                                             & 63671                                             & 63859                                             & 1                                                 & 0.10                                              & chr18                                             & 62890                                             & 63829                                             & +                                                 & hg38                                              & 0                                                 & 0                                                 & {[}{]}                                            & 158                                              \\\\\n",
       "\t chr18                                             & 63671                                             & 63859                                             & 1                                                 & 0.10                                              & chr18                                             & 63828                                             & 63873                                             & +                                                 & hg38                                              & 1                                                 & 0                                                 & {[}papAnu2{]}                                     &  31                                              \\\\\n",
       "\t chr18                                             & 71042                                             & 71266                                             & 1                                                 & 0.10                                              & chr18                                             & 70953                                             & 71233                                             & +                                                 & hg38                                              & 5                                                 & 0                                                 & {[}panTro4, ponAbe2, nomLeu3, macFas5, chlSab2{]} & 191                                              \\\\\n",
       "\\end{tabular}\n"
      ],
      "text/markdown": [
       "\n",
       "V1 | V2 | V3 | V4 | V5 | V6 | V7 | V8 | V9 | V10 | V11 | V12 | V13 | V14 | \n",
       "|---|---|---|---|---|---|\n",
       "| chr18                                         |  9960                                         | 10014                                         | 1                                             | 0.10                                          | .                                             |    -1                                         |    -1                                         | .                                             | .                                             | .                                             | .                                             | .                                             |   0                                           | \n",
       "| chr18                                         | 10014                                         | 10264                                         | 2                                             | 0.26                                          | chr18                                         | 10148                                         | 10750                                         | +                                             | hg38                                          | 1                                             | 0                                             | [ornAna1]                                     | 116                                           | \n",
       "| chr18                                         | 10264                                         | 10286                                         | 1                                             | 0.10                                          | chr18                                         | 10148                                         | 10750                                         | +                                             | hg38                                          | 1                                             | 0                                             | [ornAna1]                                     |  22                                           | \n",
       "| chr18                                         | 63671                                         | 63859                                         | 1                                             | 0.10                                          | chr18                                         | 62890                                         | 63829                                         | +                                             | hg38                                          | 0                                             | 0                                             | []                                            | 158                                           | \n",
       "| chr18                                         | 63671                                         | 63859                                         | 1                                             | 0.10                                          | chr18                                         | 63828                                         | 63873                                         | +                                             | hg38                                          | 1                                             | 0                                             | [papAnu2]                                     |  31                                           | \n",
       "| chr18                                         | 71042                                         | 71266                                         | 1                                             | 0.10                                          | chr18                                         | 70953                                         | 71233                                         | +                                             | hg38                                          | 5                                             | 0                                             | [panTro4, ponAbe2, nomLeu3, macFas5, chlSab2] | 191                                           | \n",
       "\n",
       "\n"
      ],
      "text/plain": [
       "  V1    V2    V3    V4 V5   V6    V7    V8    V9 V10  V11 V12\n",
       "1 chr18  9960 10014 1  0.10 .        -1    -1 .  .    .   .  \n",
       "2 chr18 10014 10264 2  0.26 chr18 10148 10750 +  hg38 1   0  \n",
       "3 chr18 10264 10286 1  0.10 chr18 10148 10750 +  hg38 1   0  \n",
       "4 chr18 63671 63859 1  0.10 chr18 62890 63829 +  hg38 0   0  \n",
       "5 chr18 63671 63859 1  0.10 chr18 63828 63873 +  hg38 1   0  \n",
       "6 chr18 71042 71266 1  0.10 chr18 70953 71233 +  hg38 5   0  \n",
       "  V13                                           V14\n",
       "1 .                                               0\n",
       "2 [ornAna1]                                     116\n",
       "3 [ornAna1]                                      22\n",
       "4 []                                            158\n",
       "5 [papAnu2]                                      31\n",
       "6 [panTro4, ponAbe2, nomLeu3, macFas5, chlSab2] 191"
      ]
     },
     "metadata": {},
     "output_type": "display_data"
    }
   ],
   "source": [
    "bedfile = a[10]\n",
    "print(bedfile)\n",
    "df <-read.table(bedfile, sep = '\\t', h=F, stringsAsFactors=F)\n",
    "dim(df)\n",
    "head(df)"
   ]
  },
  {
   "cell_type": "code",
   "execution_count": 58,
   "metadata": {},
   "outputs": [
    {
     "data": {
      "text/html": [
       "<table>\n",
       "<thead><tr><th scope=col>enh_chr</th><th scope=col>enh_start</th><th scope=col>enh_end</th><th scope=col>enh_overlap</th><th scope=col>enh_percentile</th><th scope=col>hg38_chr</th><th scope=col>hg38_start</th><th scope=col>hg38_end</th><th scope=col>hg38_strand</th><th scope=col>hg38_ref</th><th scope=col>hg38_100spec</th><th scope=col>hg38_8vspec</th><th scope=col>hg38-100spec_names</th><th scope=col>length</th></tr></thead>\n",
       "<tbody>\n",
       "</tbody>\n",
       "</table>\n"
      ],
      "text/latex": [
       "\\begin{tabular}{r|llllllllllllll}\n",
       " enh\\_chr & enh\\_start & enh\\_end & enh\\_overlap & enh\\_percentile & hg38\\_chr & hg38\\_start & hg38\\_end & hg38\\_strand & hg38\\_ref & hg38\\_100spec & hg38\\_8vspec & hg38-100spec\\_names & length\\\\\n",
       "\\hline\n",
       "\\end{tabular}\n"
      ],
      "text/markdown": [
       "\n",
       "enh_chr | enh_start | enh_end | enh_overlap | enh_percentile | hg38_chr | hg38_start | hg38_end | hg38_strand | hg38_ref | hg38_100spec | hg38_8vspec | hg38-100spec_names | length | \n",
       "||\n",
       "\n",
       "\n"
      ],
      "text/plain": [
       "     enh_chr enh_start enh_end enh_overlap enh_percentile hg38_chr hg38_start\n",
       "     hg38_end hg38_strand hg38_ref hg38_100spec hg38_8vspec hg38-100spec_names\n",
       "     length"
      ]
     },
     "metadata": {},
     "output_type": "display_data"
    }
   ],
   "source": [
    "headers <- c(\"enh_chr\", \"enh_start\", \"enh_end\", \"enh_overlap\", \"enh_percentile\", \"hg38_chr\", \"hg38_start\", \"hg38_end\", \"hg38_strand\", \"hg38_ref\", \"hg38_100spec\", \"hg38_8vspec\", \"hg38-100spec_names\", \"length\")\n",
    "\n",
    "# create empty dataframes to specifically collect information about human-specific enhancers in hg38 alignments\n",
    "\n",
    "hspecific <- data.frame(matrix(ncol = length(headers), nrow = 0))\n",
    "colnames(hspecific) <- headers\n",
    "\n",
    "# create empty dataframe to specifically collect information about broadly active enhancers and conservation\n",
    "\n",
    "bae <- data.frame(matrix(ncol = length(headers), nrow = 0))\n",
    "colnames(bae) <- headers\n",
    " \n",
    "head(bae)"
   ]
  },
  {
   "cell_type": "code",
   "execution_count": 57,
   "metadata": {
    "collapsed": true
   },
   "outputs": [],
   "source": [
    "graph_stuff <-function(bedfile){\n",
    "    # make dataframe of the bedfile\n",
    "    df <-read.table(bedfile, sep = '\\t', h=F, stringsAsFactors=F)\n",
    "    \n",
    "    chr= unlist(strsplit(bedfile, \"_\"))[1]\n",
    "    print(chr)\n",
    "    ## format the table\n",
    "\n",
    "    # rename columns\n",
    "    names(df) = c(\"enh_chr\", \"enh_start\", \"enh_end\", \"enh_overlap\", \"enh_percentile\", \"hg38_chr\", \"hg38_start\", \"hg38_end\", \"hg38_strand\", \"hg38_ref\", \"hg38_100spec\", \"hg38_8vspec\", \"hg38-100spec_names\", \"length\")\n",
    "\n",
    "    # convert species count columns from characters to integers \n",
    "    df$hg38_100spec <- as.integer(df$hg38_100spec)\n",
    "    df$hg38_8vspec <- as.integer(df$hg38_8vspec)\n",
    "\n",
    "    # calculate the length of fragment overlap in log10\n",
    "    df$log10_length = log(df$length, 10)\n",
    "    \n",
    "    # create a subset of the dataframe to remove non-overlapping roadmap fragments in hg38 MSA\n",
    "    df2 = subset(df, df$length >0)\n",
    "\n",
    "    #make a subset of the counts\n",
    "    df_count <-plyr::count(df2, vars = c( \"hg38_100spec\",\"enh_overlap\"))\n",
    "    \n",
    "    #make a heatmap\n",
    "    ggplot(df_count, aes(y = enh_overlap, x =hg38_100spec)) + \n",
    "        geom_tile(aes(fill = freq), color = \"white\")+\n",
    "        scale_fill_gradient(low = \"steelblue\",high = \"white\")+\n",
    "        ggtitle(paste0(\"Hg38 Species Alignments x Roadmap Enhancer Sample-Overlap - \", chr))\n",
    "    ggsave(paste0(chr,\"_hg38_heatmap.pdf\"), path = paste0(path,\"/result_pdf/\"), device = \"pdf\", width = 7, height = 5, units = \"in\", dpi=300)\n",
    "    \n",
    "    #make a histogram of the species conservation x the number of peaks that overlap each species-count.\n",
    "    ggplot(df2, aes(hg38_100spec)) + \n",
    "        geom_histogram(bins = 100) +\n",
    "        ggtitle(paste0(\"overlap of Hg38 species in roadmap enhancers (multi-intersected) - \", chr)) \n",
    "    ggsave(paste0(chr,\"_hg38_histogram.pdf\"), path = paste0(path,\"/result_pdf/\"), device = \"pdf\", width = 7, height = 5, units = \"in\", dpi=300)\n",
    "    \n",
    "    # relatedness of species/ misrepresentation of species diversity in dataset might skew our interpretation of this graph \n",
    "    \n",
    "    ggplot(df2, aes(x = hg38_100spec, y = enh_overlap, color=log10_length)) + \n",
    "        geom_point() +\n",
    "        scale_fill_gradient(low = \"steelblue\", high = \"white\")\n",
    "    ggsave(paste0(chr,\"_hg38_dot.pdf\"), path = paste0(path,\"/result_pdf/\"), device = \"pdf\", width = 8, height = 8, units = \"in\", dpi=300)\n",
    "\n",
    "    #while we're here, let's collect information on human-specific and broadly active enhancers across hg38.\n",
    "    chr_hspec = subset(df2, df2$hg38_100spec ==0)\n",
    "    hspecific =rbind(hspecific, chr_hspec)\n",
    "\n",
    "    chr_bae = subset(df2, df2$enh_percentile>0.9)\n",
    "    bae = rbind(bae, chr_bae)\n",
    "\n",
    "}"
   ]
  },
  {
   "cell_type": "code",
   "execution_count": 59,
   "metadata": {},
   "outputs": [
    {
     "name": "stdout",
     "output_type": "stream",
     "text": [
      " [1] \"chr1_hspec_x_hg38.bed\"  \"chr10_hspec_x_hg38.bed\" \"chr11_hspec_x_hg38.bed\"\n",
      " [4] \"chr12_hspec_x_hg38.bed\" \"chr13_hspec_x_hg38.bed\" \"chr14_hspec_x_hg38.bed\"\n",
      " [7] \"chr15_hspec_x_hg38.bed\" \"chr16_hspec_x_hg38.bed\" \"chr17_hspec_x_hg38.bed\"\n",
      "[10] \"chr18_hspec_x_hg38.bed\" \"chr19_hspec_x_hg38.bed\" \"chr2_hspec_x_hg38.bed\" \n",
      "[13] \"chr20_hspec_x_hg38.bed\" \"chr21_hspec_x_hg38.bed\" \"chr22_hspec_x_hg38.bed\"\n",
      "[16] \"chr3_hspec_x_hg38.bed\"  \"chr4_hspec_x_hg38.bed\"  \"chr5_hspec_x_hg38.bed\" \n",
      "[19] \"chr6_hspec_x_hg38.bed\"  \"chr7_hspec_x_hg38.bed\"  \"chr8_hspec_x_hg38.bed\" \n",
      "[22] \"chr9_hspec_x_hg38.bed\" \n",
      "[1] \"chr1\"\n"
     ]
    },
    {
     "name": "stderr",
     "output_type": "stream",
     "text": [
      "Warning message in graph_stuff(bedfile):\n",
      "“NAs introduced by coercion”Warning message in graph_stuff(bedfile):\n",
      "“NAs introduced by coercion”"
     ]
    },
    {
     "name": "stdout",
     "output_type": "stream",
     "text": [
      " [1] \"chr1_hspec_x_hg38.bed\"  \"chr10_hspec_x_hg38.bed\" \"chr11_hspec_x_hg38.bed\"\n",
      " [4] \"chr12_hspec_x_hg38.bed\" \"chr13_hspec_x_hg38.bed\" \"chr14_hspec_x_hg38.bed\"\n",
      " [7] \"chr15_hspec_x_hg38.bed\" \"chr16_hspec_x_hg38.bed\" \"chr17_hspec_x_hg38.bed\"\n",
      "[10] \"chr18_hspec_x_hg38.bed\" \"chr19_hspec_x_hg38.bed\" \"chr2_hspec_x_hg38.bed\" \n",
      "[13] \"chr20_hspec_x_hg38.bed\" \"chr21_hspec_x_hg38.bed\" \"chr22_hspec_x_hg38.bed\"\n",
      "[16] \"chr3_hspec_x_hg38.bed\"  \"chr4_hspec_x_hg38.bed\"  \"chr5_hspec_x_hg38.bed\" \n",
      "[19] \"chr6_hspec_x_hg38.bed\"  \"chr7_hspec_x_hg38.bed\"  \"chr8_hspec_x_hg38.bed\" \n",
      "[22] \"chr9_hspec_x_hg38.bed\" \n",
      "[1] \"chr10\"\n",
      " [1] \"chr1_hspec_x_hg38.bed\"  \"chr10_hspec_x_hg38.bed\" \"chr11_hspec_x_hg38.bed\"\n",
      " [4] \"chr12_hspec_x_hg38.bed\" \"chr13_hspec_x_hg38.bed\" \"chr14_hspec_x_hg38.bed\"\n",
      " [7] \"chr15_hspec_x_hg38.bed\" \"chr16_hspec_x_hg38.bed\" \"chr17_hspec_x_hg38.bed\"\n",
      "[10] \"chr18_hspec_x_hg38.bed\" \"chr19_hspec_x_hg38.bed\" \"chr2_hspec_x_hg38.bed\" \n",
      "[13] \"chr20_hspec_x_hg38.bed\" \"chr21_hspec_x_hg38.bed\" \"chr22_hspec_x_hg38.bed\"\n",
      "[16] \"chr3_hspec_x_hg38.bed\"  \"chr4_hspec_x_hg38.bed\"  \"chr5_hspec_x_hg38.bed\" \n",
      "[19] \"chr6_hspec_x_hg38.bed\"  \"chr7_hspec_x_hg38.bed\"  \"chr8_hspec_x_hg38.bed\" \n",
      "[22] \"chr9_hspec_x_hg38.bed\" \n",
      "[1] \"chr11\"\n",
      " [1] \"chr1_hspec_x_hg38.bed\"  \"chr10_hspec_x_hg38.bed\" \"chr11_hspec_x_hg38.bed\"\n",
      " [4] \"chr12_hspec_x_hg38.bed\" \"chr13_hspec_x_hg38.bed\" \"chr14_hspec_x_hg38.bed\"\n",
      " [7] \"chr15_hspec_x_hg38.bed\" \"chr16_hspec_x_hg38.bed\" \"chr17_hspec_x_hg38.bed\"\n",
      "[10] \"chr18_hspec_x_hg38.bed\" \"chr19_hspec_x_hg38.bed\" \"chr2_hspec_x_hg38.bed\" \n",
      "[13] \"chr20_hspec_x_hg38.bed\" \"chr21_hspec_x_hg38.bed\" \"chr22_hspec_x_hg38.bed\"\n",
      "[16] \"chr3_hspec_x_hg38.bed\"  \"chr4_hspec_x_hg38.bed\"  \"chr5_hspec_x_hg38.bed\" \n",
      "[19] \"chr6_hspec_x_hg38.bed\"  \"chr7_hspec_x_hg38.bed\"  \"chr8_hspec_x_hg38.bed\" \n",
      "[22] \"chr9_hspec_x_hg38.bed\" \n",
      "[1] \"chr12\"\n"
     ]
    },
    {
     "name": "stderr",
     "output_type": "stream",
     "text": [
      "Warning message in graph_stuff(bedfile):\n",
      "“NAs introduced by coercion”Warning message in graph_stuff(bedfile):\n",
      "“NAs introduced by coercion”"
     ]
    },
    {
     "name": "stdout",
     "output_type": "stream",
     "text": [
      " [1] \"chr1_hspec_x_hg38.bed\"  \"chr10_hspec_x_hg38.bed\" \"chr11_hspec_x_hg38.bed\"\n",
      " [4] \"chr12_hspec_x_hg38.bed\" \"chr13_hspec_x_hg38.bed\" \"chr14_hspec_x_hg38.bed\"\n",
      " [7] \"chr15_hspec_x_hg38.bed\" \"chr16_hspec_x_hg38.bed\" \"chr17_hspec_x_hg38.bed\"\n",
      "[10] \"chr18_hspec_x_hg38.bed\" \"chr19_hspec_x_hg38.bed\" \"chr2_hspec_x_hg38.bed\" \n",
      "[13] \"chr20_hspec_x_hg38.bed\" \"chr21_hspec_x_hg38.bed\" \"chr22_hspec_x_hg38.bed\"\n",
      "[16] \"chr3_hspec_x_hg38.bed\"  \"chr4_hspec_x_hg38.bed\"  \"chr5_hspec_x_hg38.bed\" \n",
      "[19] \"chr6_hspec_x_hg38.bed\"  \"chr7_hspec_x_hg38.bed\"  \"chr8_hspec_x_hg38.bed\" \n",
      "[22] \"chr9_hspec_x_hg38.bed\" \n",
      "[1] \"chr13\"\n"
     ]
    },
    {
     "name": "stderr",
     "output_type": "stream",
     "text": [
      "Warning message in graph_stuff(bedfile):\n",
      "“NAs introduced by coercion”Warning message in graph_stuff(bedfile):\n",
      "“NAs introduced by coercion”"
     ]
    },
    {
     "name": "stdout",
     "output_type": "stream",
     "text": [
      " [1] \"chr1_hspec_x_hg38.bed\"  \"chr10_hspec_x_hg38.bed\" \"chr11_hspec_x_hg38.bed\"\n",
      " [4] \"chr12_hspec_x_hg38.bed\" \"chr13_hspec_x_hg38.bed\" \"chr14_hspec_x_hg38.bed\"\n",
      " [7] \"chr15_hspec_x_hg38.bed\" \"chr16_hspec_x_hg38.bed\" \"chr17_hspec_x_hg38.bed\"\n",
      "[10] \"chr18_hspec_x_hg38.bed\" \"chr19_hspec_x_hg38.bed\" \"chr2_hspec_x_hg38.bed\" \n",
      "[13] \"chr20_hspec_x_hg38.bed\" \"chr21_hspec_x_hg38.bed\" \"chr22_hspec_x_hg38.bed\"\n",
      "[16] \"chr3_hspec_x_hg38.bed\"  \"chr4_hspec_x_hg38.bed\"  \"chr5_hspec_x_hg38.bed\" \n",
      "[19] \"chr6_hspec_x_hg38.bed\"  \"chr7_hspec_x_hg38.bed\"  \"chr8_hspec_x_hg38.bed\" \n",
      "[22] \"chr9_hspec_x_hg38.bed\" \n",
      "[1] \"chr14\"\n"
     ]
    },
    {
     "name": "stderr",
     "output_type": "stream",
     "text": [
      "Warning message in graph_stuff(bedfile):\n",
      "“NAs introduced by coercion”Warning message in graph_stuff(bedfile):\n",
      "“NAs introduced by coercion”"
     ]
    },
    {
     "name": "stdout",
     "output_type": "stream",
     "text": [
      " [1] \"chr1_hspec_x_hg38.bed\"  \"chr10_hspec_x_hg38.bed\" \"chr11_hspec_x_hg38.bed\"\n",
      " [4] \"chr12_hspec_x_hg38.bed\" \"chr13_hspec_x_hg38.bed\" \"chr14_hspec_x_hg38.bed\"\n",
      " [7] \"chr15_hspec_x_hg38.bed\" \"chr16_hspec_x_hg38.bed\" \"chr17_hspec_x_hg38.bed\"\n",
      "[10] \"chr18_hspec_x_hg38.bed\" \"chr19_hspec_x_hg38.bed\" \"chr2_hspec_x_hg38.bed\" \n",
      "[13] \"chr20_hspec_x_hg38.bed\" \"chr21_hspec_x_hg38.bed\" \"chr22_hspec_x_hg38.bed\"\n",
      "[16] \"chr3_hspec_x_hg38.bed\"  \"chr4_hspec_x_hg38.bed\"  \"chr5_hspec_x_hg38.bed\" \n",
      "[19] \"chr6_hspec_x_hg38.bed\"  \"chr7_hspec_x_hg38.bed\"  \"chr8_hspec_x_hg38.bed\" \n",
      "[22] \"chr9_hspec_x_hg38.bed\" \n",
      "[1] \"chr15\"\n",
      " [1] \"chr1_hspec_x_hg38.bed\"  \"chr10_hspec_x_hg38.bed\" \"chr11_hspec_x_hg38.bed\"\n",
      " [4] \"chr12_hspec_x_hg38.bed\" \"chr13_hspec_x_hg38.bed\" \"chr14_hspec_x_hg38.bed\"\n",
      " [7] \"chr15_hspec_x_hg38.bed\" \"chr16_hspec_x_hg38.bed\" \"chr17_hspec_x_hg38.bed\"\n",
      "[10] \"chr18_hspec_x_hg38.bed\" \"chr19_hspec_x_hg38.bed\" \"chr2_hspec_x_hg38.bed\" \n",
      "[13] \"chr20_hspec_x_hg38.bed\" \"chr21_hspec_x_hg38.bed\" \"chr22_hspec_x_hg38.bed\"\n",
      "[16] \"chr3_hspec_x_hg38.bed\"  \"chr4_hspec_x_hg38.bed\"  \"chr5_hspec_x_hg38.bed\" \n",
      "[19] \"chr6_hspec_x_hg38.bed\"  \"chr7_hspec_x_hg38.bed\"  \"chr8_hspec_x_hg38.bed\" \n",
      "[22] \"chr9_hspec_x_hg38.bed\" \n",
      "[1] \"chr16\"\n",
      " [1] \"chr1_hspec_x_hg38.bed\"  \"chr10_hspec_x_hg38.bed\" \"chr11_hspec_x_hg38.bed\"\n",
      " [4] \"chr12_hspec_x_hg38.bed\" \"chr13_hspec_x_hg38.bed\" \"chr14_hspec_x_hg38.bed\"\n",
      " [7] \"chr15_hspec_x_hg38.bed\" \"chr16_hspec_x_hg38.bed\" \"chr17_hspec_x_hg38.bed\"\n",
      "[10] \"chr18_hspec_x_hg38.bed\" \"chr19_hspec_x_hg38.bed\" \"chr2_hspec_x_hg38.bed\" \n",
      "[13] \"chr20_hspec_x_hg38.bed\" \"chr21_hspec_x_hg38.bed\" \"chr22_hspec_x_hg38.bed\"\n",
      "[16] \"chr3_hspec_x_hg38.bed\"  \"chr4_hspec_x_hg38.bed\"  \"chr5_hspec_x_hg38.bed\" \n",
      "[19] \"chr6_hspec_x_hg38.bed\"  \"chr7_hspec_x_hg38.bed\"  \"chr8_hspec_x_hg38.bed\" \n",
      "[22] \"chr9_hspec_x_hg38.bed\" \n",
      "[1] \"chr17\"\n",
      " [1] \"chr1_hspec_x_hg38.bed\"  \"chr10_hspec_x_hg38.bed\" \"chr11_hspec_x_hg38.bed\"\n",
      " [4] \"chr12_hspec_x_hg38.bed\" \"chr13_hspec_x_hg38.bed\" \"chr14_hspec_x_hg38.bed\"\n",
      " [7] \"chr15_hspec_x_hg38.bed\" \"chr16_hspec_x_hg38.bed\" \"chr17_hspec_x_hg38.bed\"\n",
      "[10] \"chr18_hspec_x_hg38.bed\" \"chr19_hspec_x_hg38.bed\" \"chr2_hspec_x_hg38.bed\" \n",
      "[13] \"chr20_hspec_x_hg38.bed\" \"chr21_hspec_x_hg38.bed\" \"chr22_hspec_x_hg38.bed\"\n",
      "[16] \"chr3_hspec_x_hg38.bed\"  \"chr4_hspec_x_hg38.bed\"  \"chr5_hspec_x_hg38.bed\" \n",
      "[19] \"chr6_hspec_x_hg38.bed\"  \"chr7_hspec_x_hg38.bed\"  \"chr8_hspec_x_hg38.bed\" \n",
      "[22] \"chr9_hspec_x_hg38.bed\" \n",
      "[1] \"chr18\"\n"
     ]
    },
    {
     "name": "stderr",
     "output_type": "stream",
     "text": [
      "Warning message in graph_stuff(bedfile):\n",
      "“NAs introduced by coercion”Warning message in graph_stuff(bedfile):\n",
      "“NAs introduced by coercion”"
     ]
    },
    {
     "name": "stdout",
     "output_type": "stream",
     "text": [
      " [1] \"chr1_hspec_x_hg38.bed\"  \"chr10_hspec_x_hg38.bed\" \"chr11_hspec_x_hg38.bed\"\n",
      " [4] \"chr12_hspec_x_hg38.bed\" \"chr13_hspec_x_hg38.bed\" \"chr14_hspec_x_hg38.bed\"\n",
      " [7] \"chr15_hspec_x_hg38.bed\" \"chr16_hspec_x_hg38.bed\" \"chr17_hspec_x_hg38.bed\"\n",
      "[10] \"chr18_hspec_x_hg38.bed\" \"chr19_hspec_x_hg38.bed\" \"chr2_hspec_x_hg38.bed\" \n",
      "[13] \"chr20_hspec_x_hg38.bed\" \"chr21_hspec_x_hg38.bed\" \"chr22_hspec_x_hg38.bed\"\n",
      "[16] \"chr3_hspec_x_hg38.bed\"  \"chr4_hspec_x_hg38.bed\"  \"chr5_hspec_x_hg38.bed\" \n",
      "[19] \"chr6_hspec_x_hg38.bed\"  \"chr7_hspec_x_hg38.bed\"  \"chr8_hspec_x_hg38.bed\" \n",
      "[22] \"chr9_hspec_x_hg38.bed\" \n",
      "[1] \"chr19\"\n"
     ]
    },
    {
     "name": "stderr",
     "output_type": "stream",
     "text": [
      "Warning message in graph_stuff(bedfile):\n",
      "“NAs introduced by coercion”Warning message in graph_stuff(bedfile):\n",
      "“NAs introduced by coercion”"
     ]
    },
    {
     "name": "stdout",
     "output_type": "stream",
     "text": [
      " [1] \"chr1_hspec_x_hg38.bed\"  \"chr10_hspec_x_hg38.bed\" \"chr11_hspec_x_hg38.bed\"\n",
      " [4] \"chr12_hspec_x_hg38.bed\" \"chr13_hspec_x_hg38.bed\" \"chr14_hspec_x_hg38.bed\"\n",
      " [7] \"chr15_hspec_x_hg38.bed\" \"chr16_hspec_x_hg38.bed\" \"chr17_hspec_x_hg38.bed\"\n",
      "[10] \"chr18_hspec_x_hg38.bed\" \"chr19_hspec_x_hg38.bed\" \"chr2_hspec_x_hg38.bed\" \n",
      "[13] \"chr20_hspec_x_hg38.bed\" \"chr21_hspec_x_hg38.bed\" \"chr22_hspec_x_hg38.bed\"\n",
      "[16] \"chr3_hspec_x_hg38.bed\"  \"chr4_hspec_x_hg38.bed\"  \"chr5_hspec_x_hg38.bed\" \n",
      "[19] \"chr6_hspec_x_hg38.bed\"  \"chr7_hspec_x_hg38.bed\"  \"chr8_hspec_x_hg38.bed\" \n",
      "[22] \"chr9_hspec_x_hg38.bed\" \n",
      "[1] \"chr2\"\n",
      " [1] \"chr1_hspec_x_hg38.bed\"  \"chr10_hspec_x_hg38.bed\" \"chr11_hspec_x_hg38.bed\"\n",
      " [4] \"chr12_hspec_x_hg38.bed\" \"chr13_hspec_x_hg38.bed\" \"chr14_hspec_x_hg38.bed\"\n",
      " [7] \"chr15_hspec_x_hg38.bed\" \"chr16_hspec_x_hg38.bed\" \"chr17_hspec_x_hg38.bed\"\n",
      "[10] \"chr18_hspec_x_hg38.bed\" \"chr19_hspec_x_hg38.bed\" \"chr2_hspec_x_hg38.bed\" \n",
      "[13] \"chr20_hspec_x_hg38.bed\" \"chr21_hspec_x_hg38.bed\" \"chr22_hspec_x_hg38.bed\"\n",
      "[16] \"chr3_hspec_x_hg38.bed\"  \"chr4_hspec_x_hg38.bed\"  \"chr5_hspec_x_hg38.bed\" \n",
      "[19] \"chr6_hspec_x_hg38.bed\"  \"chr7_hspec_x_hg38.bed\"  \"chr8_hspec_x_hg38.bed\" \n",
      "[22] \"chr9_hspec_x_hg38.bed\" \n",
      "[1] \"chr20\"\n"
     ]
    },
    {
     "name": "stderr",
     "output_type": "stream",
     "text": [
      "Warning message in graph_stuff(bedfile):\n",
      "“NAs introduced by coercion”Warning message in graph_stuff(bedfile):\n",
      "“NAs introduced by coercion”"
     ]
    },
    {
     "name": "stdout",
     "output_type": "stream",
     "text": [
      " [1] \"chr1_hspec_x_hg38.bed\"  \"chr10_hspec_x_hg38.bed\" \"chr11_hspec_x_hg38.bed\"\n",
      " [4] \"chr12_hspec_x_hg38.bed\" \"chr13_hspec_x_hg38.bed\" \"chr14_hspec_x_hg38.bed\"\n",
      " [7] \"chr15_hspec_x_hg38.bed\" \"chr16_hspec_x_hg38.bed\" \"chr17_hspec_x_hg38.bed\"\n",
      "[10] \"chr18_hspec_x_hg38.bed\" \"chr19_hspec_x_hg38.bed\" \"chr2_hspec_x_hg38.bed\" \n",
      "[13] \"chr20_hspec_x_hg38.bed\" \"chr21_hspec_x_hg38.bed\" \"chr22_hspec_x_hg38.bed\"\n",
      "[16] \"chr3_hspec_x_hg38.bed\"  \"chr4_hspec_x_hg38.bed\"  \"chr5_hspec_x_hg38.bed\" \n",
      "[19] \"chr6_hspec_x_hg38.bed\"  \"chr7_hspec_x_hg38.bed\"  \"chr8_hspec_x_hg38.bed\" \n",
      "[22] \"chr9_hspec_x_hg38.bed\" \n",
      "[1] \"chr21\"\n"
     ]
    },
    {
     "name": "stderr",
     "output_type": "stream",
     "text": [
      "Warning message in graph_stuff(bedfile):\n",
      "“NAs introduced by coercion”Warning message in graph_stuff(bedfile):\n",
      "“NAs introduced by coercion”"
     ]
    },
    {
     "name": "stdout",
     "output_type": "stream",
     "text": [
      " [1] \"chr1_hspec_x_hg38.bed\"  \"chr10_hspec_x_hg38.bed\" \"chr11_hspec_x_hg38.bed\"\n",
      " [4] \"chr12_hspec_x_hg38.bed\" \"chr13_hspec_x_hg38.bed\" \"chr14_hspec_x_hg38.bed\"\n",
      " [7] \"chr15_hspec_x_hg38.bed\" \"chr16_hspec_x_hg38.bed\" \"chr17_hspec_x_hg38.bed\"\n",
      "[10] \"chr18_hspec_x_hg38.bed\" \"chr19_hspec_x_hg38.bed\" \"chr2_hspec_x_hg38.bed\" \n",
      "[13] \"chr20_hspec_x_hg38.bed\" \"chr21_hspec_x_hg38.bed\" \"chr22_hspec_x_hg38.bed\"\n",
      "[16] \"chr3_hspec_x_hg38.bed\"  \"chr4_hspec_x_hg38.bed\"  \"chr5_hspec_x_hg38.bed\" \n",
      "[19] \"chr6_hspec_x_hg38.bed\"  \"chr7_hspec_x_hg38.bed\"  \"chr8_hspec_x_hg38.bed\" \n",
      "[22] \"chr9_hspec_x_hg38.bed\" \n",
      "[1] \"chr22\"\n",
      " [1] \"chr1_hspec_x_hg38.bed\"  \"chr10_hspec_x_hg38.bed\" \"chr11_hspec_x_hg38.bed\"\n",
      " [4] \"chr12_hspec_x_hg38.bed\" \"chr13_hspec_x_hg38.bed\" \"chr14_hspec_x_hg38.bed\"\n",
      " [7] \"chr15_hspec_x_hg38.bed\" \"chr16_hspec_x_hg38.bed\" \"chr17_hspec_x_hg38.bed\"\n",
      "[10] \"chr18_hspec_x_hg38.bed\" \"chr19_hspec_x_hg38.bed\" \"chr2_hspec_x_hg38.bed\" \n",
      "[13] \"chr20_hspec_x_hg38.bed\" \"chr21_hspec_x_hg38.bed\" \"chr22_hspec_x_hg38.bed\"\n",
      "[16] \"chr3_hspec_x_hg38.bed\"  \"chr4_hspec_x_hg38.bed\"  \"chr5_hspec_x_hg38.bed\" \n",
      "[19] \"chr6_hspec_x_hg38.bed\"  \"chr7_hspec_x_hg38.bed\"  \"chr8_hspec_x_hg38.bed\" \n",
      "[22] \"chr9_hspec_x_hg38.bed\" \n",
      "[1] \"chr3\"\n"
     ]
    },
    {
     "name": "stderr",
     "output_type": "stream",
     "text": [
      "Warning message in graph_stuff(bedfile):\n",
      "“NAs introduced by coercion”Warning message in graph_stuff(bedfile):\n",
      "“NAs introduced by coercion”"
     ]
    },
    {
     "name": "stdout",
     "output_type": "stream",
     "text": [
      " [1] \"chr1_hspec_x_hg38.bed\"  \"chr10_hspec_x_hg38.bed\" \"chr11_hspec_x_hg38.bed\"\n",
      " [4] \"chr12_hspec_x_hg38.bed\" \"chr13_hspec_x_hg38.bed\" \"chr14_hspec_x_hg38.bed\"\n",
      " [7] \"chr15_hspec_x_hg38.bed\" \"chr16_hspec_x_hg38.bed\" \"chr17_hspec_x_hg38.bed\"\n",
      "[10] \"chr18_hspec_x_hg38.bed\" \"chr19_hspec_x_hg38.bed\" \"chr2_hspec_x_hg38.bed\" \n",
      "[13] \"chr20_hspec_x_hg38.bed\" \"chr21_hspec_x_hg38.bed\" \"chr22_hspec_x_hg38.bed\"\n",
      "[16] \"chr3_hspec_x_hg38.bed\"  \"chr4_hspec_x_hg38.bed\"  \"chr5_hspec_x_hg38.bed\" \n",
      "[19] \"chr6_hspec_x_hg38.bed\"  \"chr7_hspec_x_hg38.bed\"  \"chr8_hspec_x_hg38.bed\" \n",
      "[22] \"chr9_hspec_x_hg38.bed\" \n",
      "[1] \"chr4\"\n"
     ]
    },
    {
     "name": "stderr",
     "output_type": "stream",
     "text": [
      "Warning message in graph_stuff(bedfile):\n",
      "“NAs introduced by coercion”Warning message in graph_stuff(bedfile):\n",
      "“NAs introduced by coercion”"
     ]
    },
    {
     "name": "stdout",
     "output_type": "stream",
     "text": [
      " [1] \"chr1_hspec_x_hg38.bed\"  \"chr10_hspec_x_hg38.bed\" \"chr11_hspec_x_hg38.bed\"\n",
      " [4] \"chr12_hspec_x_hg38.bed\" \"chr13_hspec_x_hg38.bed\" \"chr14_hspec_x_hg38.bed\"\n",
      " [7] \"chr15_hspec_x_hg38.bed\" \"chr16_hspec_x_hg38.bed\" \"chr17_hspec_x_hg38.bed\"\n",
      "[10] \"chr18_hspec_x_hg38.bed\" \"chr19_hspec_x_hg38.bed\" \"chr2_hspec_x_hg38.bed\" \n",
      "[13] \"chr20_hspec_x_hg38.bed\" \"chr21_hspec_x_hg38.bed\" \"chr22_hspec_x_hg38.bed\"\n",
      "[16] \"chr3_hspec_x_hg38.bed\"  \"chr4_hspec_x_hg38.bed\"  \"chr5_hspec_x_hg38.bed\" \n",
      "[19] \"chr6_hspec_x_hg38.bed\"  \"chr7_hspec_x_hg38.bed\"  \"chr8_hspec_x_hg38.bed\" \n",
      "[22] \"chr9_hspec_x_hg38.bed\" \n",
      "[1] \"chr5\"\n",
      " [1] \"chr1_hspec_x_hg38.bed\"  \"chr10_hspec_x_hg38.bed\" \"chr11_hspec_x_hg38.bed\"\n",
      " [4] \"chr12_hspec_x_hg38.bed\" \"chr13_hspec_x_hg38.bed\" \"chr14_hspec_x_hg38.bed\"\n",
      " [7] \"chr15_hspec_x_hg38.bed\" \"chr16_hspec_x_hg38.bed\" \"chr17_hspec_x_hg38.bed\"\n",
      "[10] \"chr18_hspec_x_hg38.bed\" \"chr19_hspec_x_hg38.bed\" \"chr2_hspec_x_hg38.bed\" \n",
      "[13] \"chr20_hspec_x_hg38.bed\" \"chr21_hspec_x_hg38.bed\" \"chr22_hspec_x_hg38.bed\"\n",
      "[16] \"chr3_hspec_x_hg38.bed\"  \"chr4_hspec_x_hg38.bed\"  \"chr5_hspec_x_hg38.bed\" \n",
      "[19] \"chr6_hspec_x_hg38.bed\"  \"chr7_hspec_x_hg38.bed\"  \"chr8_hspec_x_hg38.bed\" \n",
      "[22] \"chr9_hspec_x_hg38.bed\" \n",
      "[1] \"chr6\"\n",
      " [1] \"chr1_hspec_x_hg38.bed\"  \"chr10_hspec_x_hg38.bed\" \"chr11_hspec_x_hg38.bed\"\n",
      " [4] \"chr12_hspec_x_hg38.bed\" \"chr13_hspec_x_hg38.bed\" \"chr14_hspec_x_hg38.bed\"\n",
      " [7] \"chr15_hspec_x_hg38.bed\" \"chr16_hspec_x_hg38.bed\" \"chr17_hspec_x_hg38.bed\"\n",
      "[10] \"chr18_hspec_x_hg38.bed\" \"chr19_hspec_x_hg38.bed\" \"chr2_hspec_x_hg38.bed\" \n",
      "[13] \"chr20_hspec_x_hg38.bed\" \"chr21_hspec_x_hg38.bed\" \"chr22_hspec_x_hg38.bed\"\n",
      "[16] \"chr3_hspec_x_hg38.bed\"  \"chr4_hspec_x_hg38.bed\"  \"chr5_hspec_x_hg38.bed\" \n",
      "[19] \"chr6_hspec_x_hg38.bed\"  \"chr7_hspec_x_hg38.bed\"  \"chr8_hspec_x_hg38.bed\" \n",
      "[22] \"chr9_hspec_x_hg38.bed\" \n",
      "[1] \"chr7\"\n",
      " [1] \"chr1_hspec_x_hg38.bed\"  \"chr10_hspec_x_hg38.bed\" \"chr11_hspec_x_hg38.bed\"\n",
      " [4] \"chr12_hspec_x_hg38.bed\" \"chr13_hspec_x_hg38.bed\" \"chr14_hspec_x_hg38.bed\"\n",
      " [7] \"chr15_hspec_x_hg38.bed\" \"chr16_hspec_x_hg38.bed\" \"chr17_hspec_x_hg38.bed\"\n",
      "[10] \"chr18_hspec_x_hg38.bed\" \"chr19_hspec_x_hg38.bed\" \"chr2_hspec_x_hg38.bed\" \n",
      "[13] \"chr20_hspec_x_hg38.bed\" \"chr21_hspec_x_hg38.bed\" \"chr22_hspec_x_hg38.bed\"\n",
      "[16] \"chr3_hspec_x_hg38.bed\"  \"chr4_hspec_x_hg38.bed\"  \"chr5_hspec_x_hg38.bed\" \n",
      "[19] \"chr6_hspec_x_hg38.bed\"  \"chr7_hspec_x_hg38.bed\"  \"chr8_hspec_x_hg38.bed\" \n",
      "[22] \"chr9_hspec_x_hg38.bed\" \n",
      "[1] \"chr8\"\n",
      " [1] \"chr1_hspec_x_hg38.bed\"  \"chr10_hspec_x_hg38.bed\" \"chr11_hspec_x_hg38.bed\"\n",
      " [4] \"chr12_hspec_x_hg38.bed\" \"chr13_hspec_x_hg38.bed\" \"chr14_hspec_x_hg38.bed\"\n",
      " [7] \"chr15_hspec_x_hg38.bed\" \"chr16_hspec_x_hg38.bed\" \"chr17_hspec_x_hg38.bed\"\n",
      "[10] \"chr18_hspec_x_hg38.bed\" \"chr19_hspec_x_hg38.bed\" \"chr2_hspec_x_hg38.bed\" \n",
      "[13] \"chr20_hspec_x_hg38.bed\" \"chr21_hspec_x_hg38.bed\" \"chr22_hspec_x_hg38.bed\"\n",
      "[16] \"chr3_hspec_x_hg38.bed\"  \"chr4_hspec_x_hg38.bed\"  \"chr5_hspec_x_hg38.bed\" \n",
      "[19] \"chr6_hspec_x_hg38.bed\"  \"chr7_hspec_x_hg38.bed\"  \"chr8_hspec_x_hg38.bed\" \n",
      "[22] \"chr9_hspec_x_hg38.bed\" \n",
      "[1] \"chr9\"\n"
     ]
    },
    {
     "name": "stderr",
     "output_type": "stream",
     "text": [
      "Warning message in graph_stuff(bedfile):\n",
      "“NAs introduced by coercion”Warning message in graph_stuff(bedfile):\n",
      "“NAs introduced by coercion”"
     ]
    }
   ],
   "source": [
    "for (bedfile in a){\n",
    "        graph_stuff(bedfile)\n",
    "    }"
   ]
  },
  {
   "cell_type": "code",
   "execution_count": null,
   "metadata": {},
   "outputs": [],
   "source": [
    "###THE NEXT PART OF THIS SCRIPT BREAKS DOWN THE GRAPH_STUFF FUNCTION INTO PIECES FOR FURTHER DEVELOPMENT###"
   ]
  },
  {
   "cell_type": "code",
   "execution_count": null,
   "metadata": {
    "scrolled": false
   },
   "outputs": [],
   "source": [
    "# format the table\n",
    "\n",
    "# rename columns\n",
    "names(df) = c(\"enh_chr\", \"enh_start\", \"enh_end\", \"enh_overlap\", \"enh_percentile\", \"hg38_chr\", \"hg38_start\", \"hg38_end\", \"hg38_strand\", \"hg38_ref\", \"hg38_100spec\", \"hg38_8vspec\", \"hg38-100spec_names\", \"length\")\n",
    "\n",
    "# convert species count columns from characters to integers \n",
    "df$hg38_100spec <- as.integer(df$hg38_100spec)\n",
    "df$hg38_8vspec <- as.integer(df$hg38_8vspec)\n",
    "df$enh_percentile <- as.numeric(df$enh_percentile)\n",
    "\n",
    "# calculate the length of fragment overlap in log10\n",
    "df$log10_length = log(df$length, 10)\n",
    "\n",
    "# create a subset of the dataframe to remove non-overlapping roadmap fragments in hg38 MSA\n",
    "df2 = subset(df, df$length >0)\n",
    "\n",
    "#make a subset of the counts\n",
    "df_count <-plyr::count(df2, vars = c( \"hg38_100spec\",\"enh_overlap\"))\n",
    "\n",
    "head(df2)"
   ]
  },
  {
   "cell_type": "code",
   "execution_count": 70,
   "metadata": {},
   "outputs": [
    {
     "data": {
      "text/html": [
       "<table>\n",
       "<thead><tr><th scope=col>hg38_100spec</th><th scope=col>enh_overlap</th><th scope=col>freq</th></tr></thead>\n",
       "<tbody>\n",
       "\t<tr><td>0 </td><td>17</td><td>19</td></tr>\n",
       "\t<tr><td>0 </td><td>18</td><td> 9</td></tr>\n",
       "\t<tr><td>0 </td><td>19</td><td> 8</td></tr>\n",
       "\t<tr><td>0 </td><td>20</td><td> 3</td></tr>\n",
       "\t<tr><td>0 </td><td>21</td><td> 2</td></tr>\n",
       "\t<tr><td>0 </td><td>22</td><td> 1</td></tr>\n",
       "</tbody>\n",
       "</table>\n"
      ],
      "text/latex": [
       "\\begin{tabular}{r|lll}\n",
       " hg38\\_100spec & enh\\_overlap & freq\\\\\n",
       "\\hline\n",
       "\t 0  & 17 & 19\\\\\n",
       "\t 0  & 18 &  9\\\\\n",
       "\t 0  & 19 &  8\\\\\n",
       "\t 0  & 20 &  3\\\\\n",
       "\t 0  & 21 &  2\\\\\n",
       "\t 0  & 22 &  1\\\\\n",
       "\\end{tabular}\n"
      ],
      "text/markdown": [
       "\n",
       "hg38_100spec | enh_overlap | freq | \n",
       "|---|---|---|---|---|---|\n",
       "| 0  | 17 | 19 | \n",
       "| 0  | 18 |  9 | \n",
       "| 0  | 19 |  8 | \n",
       "| 0  | 20 |  3 | \n",
       "| 0  | 21 |  2 | \n",
       "| 0  | 22 |  1 | \n",
       "\n",
       "\n"
      ],
      "text/plain": [
       "  hg38_100spec enh_overlap freq\n",
       "1 0            17          19  \n",
       "2 0            18           9  \n",
       "3 0            19           8  \n",
       "4 0            20           3  \n",
       "5 0            21           2  \n",
       "6 0            22           1  "
      ]
     },
     "metadata": {},
     "output_type": "display_data"
    }
   ],
   "source": [
    "df_count <-plyr::count(bae, vars = c( \"hg38_100spec\",\"enh_overlap\"))\n",
    "head(df_count)"
   ]
  },
  {
   "cell_type": "code",
   "execution_count": 77,
   "metadata": {},
   "outputs": [
    {
     "data": {},
     "metadata": {},
     "output_type": "display_data"
    },
    {
     "data": {
      "image/png": "[encoded data removed]",
      "text/plain": [
       "plot without title"
      ]
     },
     "metadata": {},
     "output_type": "display_data"
    }
   ],
   "source": [
    "# the frequency of species-specific enhancers x the number of samples enhancers are found in\n",
    "ggplot(df_count, aes(y = enh_overlap, x =hg38_100spec)) + \n",
    "geom_tile(aes(fill = freq), color = \"white\")+\n",
    "scale_fill_gradient(low = \"steelblue\",high = \"white\")+\n",
    "ggtitle(\"Hg38 Species Alignments x Roadmap Enhancer Sample-Overlap 90th%\")\n",
    "\n",
    "ggsave(\"Hg38spec_X_roadmap90th_heatmap.pdf\", path = paste0(path,\"/result_pdf/\"), device = \"pdf\", width = 6, height = 4, units = \"in\", dpi=300)"
   ]
  },
  {
   "cell_type": "code",
   "execution_count": 78,
   "metadata": {},
   "outputs": [
    {
     "data": {},
     "metadata": {},
     "output_type": "display_data"
    },
    {
     "data": {
      "image/png": "[encoded data removed]",
      "text/plain": [
       "plot without title"
      ]
     },
     "metadata": {},
     "output_type": "display_data"
    }
   ],
   "source": [
    "ggplot(bae, aes(hg38_100spec)) + \n",
    "geom_histogram(bins = 100) +\n",
    "ggtitle(\"overlap of hg38 species in 90th percentile roadmap enhancers (multi-intersected)\") \n",
    "ggsave(\"Hg38spec_X_roadmap90th_histogram.pdf\", path = paste0(path,\"/result_pdf/\"), device = \"pdf\", width = 4, height = 4, units = \"in\", dpi=300)\n",
    "# relatedness of species/ misrepresentation of species diversity in dataset might skew our interpretation of this graph "
   ]
  },
  {
   "cell_type": "code",
   "execution_count": 73,
   "metadata": {},
   "outputs": [
    {
     "data": {},
     "metadata": {},
     "output_type": "display_data"
    },
    {
     "data": {
      "image/png": "[encoded data removed]",
      "text/plain": [
       "plot without title"
      ]
     },
     "metadata": {},
     "output_type": "display_data"
    }
   ],
   "source": [
    "ggplot(hspecific, aes(x = hg38_100spec, y = enh_overlap, color=log10_length)) + \n",
    "geom_point() +\n",
    "scale_fill_gradient(low = \"steelblue\", high = \"white\")+\n",
    "ggsave(\"chr18_dot.pdf\", path = paste0(path,\"/result_pdf/\"), device = \"pdf\", width = 4, height = 4, units = \"in\", dpi=300)"
   ]
  },
  {
   "cell_type": "code",
   "execution_count": 54,
   "metadata": {},
   "outputs": [
    {
     "data": {
      "text/html": [
       "15"
      ],
      "text/latex": [
       "15"
      ],
      "text/markdown": [
       "15"
      ],
      "text/plain": [
       "[1] 15"
      ]
     },
     "metadata": {},
     "output_type": "display_data"
    }
   ],
   "source": [
    "# how many Roadmap enhancers do not overlap any sequencing block in Multiz100-way?\n",
    "\n",
    "noverlap = subset(df, df$length==0)\n",
    "length(noverlap)\n",
    "\n",
    "chr_hspec = subset(df2, df2$hg38_100spec ==0)\n",
    "hspecific =rbind(hspecific, chr_hspec)\n",
    "\n",
    "chr_bae = subset(df2, df2$enh_percentile>0.9)\n",
    "bae = rbind(bae, chr_bae)\n"
   ]
  },
  {
   "cell_type": "code",
   "execution_count": 64,
   "metadata": {
    "scrolled": false
   },
   "outputs": [
    {
     "name": "stdout",
     "output_type": "stream",
     "text": [
      "[1] \"chr1_hspec_x_hg38.bed\"\n",
      "[1] \"chr1\"\n"
     ]
    },
    {
     "name": "stderr",
     "output_type": "stream",
     "text": [
      "Warning message:\n",
      "“NAs introduced by coercion”Warning message:\n",
      "“NAs introduced by coercion”"
     ]
    },
    {
     "name": "stdout",
     "output_type": "stream",
     "text": [
      "[1] \"chr10_hspec_x_hg38.bed\"\n",
      "[1] \"chr10\"\n",
      "[1] \"chr11_hspec_x_hg38.bed\"\n",
      "[1] \"chr11\"\n",
      "[1] \"chr12_hspec_x_hg38.bed\"\n",
      "[1] \"chr12\"\n"
     ]
    },
    {
     "name": "stderr",
     "output_type": "stream",
     "text": [
      "Warning message:\n",
      "“NAs introduced by coercion”Warning message:\n",
      "“NAs introduced by coercion”"
     ]
    },
    {
     "name": "stdout",
     "output_type": "stream",
     "text": [
      "[1] \"chr13_hspec_x_hg38.bed\"\n",
      "[1] \"chr13\"\n"
     ]
    },
    {
     "name": "stderr",
     "output_type": "stream",
     "text": [
      "Warning message:\n",
      "“NAs introduced by coercion”Warning message:\n",
      "“NAs introduced by coercion”"
     ]
    },
    {
     "name": "stdout",
     "output_type": "stream",
     "text": [
      "[1] \"chr14_hspec_x_hg38.bed\"\n",
      "[1] \"chr14\"\n"
     ]
    },
    {
     "name": "stderr",
     "output_type": "stream",
     "text": [
      "Warning message:\n",
      "“NAs introduced by coercion”Warning message:\n",
      "“NAs introduced by coercion”"
     ]
    },
    {
     "name": "stdout",
     "output_type": "stream",
     "text": [
      "[1] \"chr15_hspec_x_hg38.bed\"\n",
      "[1] \"chr15\"\n",
      "[1] \"chr16_hspec_x_hg38.bed\"\n",
      "[1] \"chr16\"\n",
      "[1] \"chr17_hspec_x_hg38.bed\"\n",
      "[1] \"chr17\"\n",
      "[1] \"chr18_hspec_x_hg38.bed\"\n",
      "[1] \"chr18\"\n"
     ]
    },
    {
     "name": "stderr",
     "output_type": "stream",
     "text": [
      "Warning message:\n",
      "“NAs introduced by coercion”Warning message:\n",
      "“NAs introduced by coercion”"
     ]
    },
    {
     "name": "stdout",
     "output_type": "stream",
     "text": [
      "[1] \"chr19_hspec_x_hg38.bed\"\n",
      "[1] \"chr19\"\n"
     ]
    },
    {
     "name": "stderr",
     "output_type": "stream",
     "text": [
      "Warning message:\n",
      "“NAs introduced by coercion”Warning message:\n",
      "“NAs introduced by coercion”"
     ]
    },
    {
     "name": "stdout",
     "output_type": "stream",
     "text": [
      "[1] \"chr2_hspec_x_hg38.bed\"\n",
      "[1] \"chr2\"\n",
      "[1] \"chr20_hspec_x_hg38.bed\"\n",
      "[1] \"chr20\"\n"
     ]
    },
    {
     "name": "stderr",
     "output_type": "stream",
     "text": [
      "Warning message:\n",
      "“NAs introduced by coercion”Warning message:\n",
      "“NAs introduced by coercion”"
     ]
    },
    {
     "name": "stdout",
     "output_type": "stream",
     "text": [
      "[1] \"chr21_hspec_x_hg38.bed\"\n",
      "[1] \"chr21\"\n"
     ]
    },
    {
     "name": "stderr",
     "output_type": "stream",
     "text": [
      "Warning message:\n",
      "“NAs introduced by coercion”Warning message:\n",
      "“NAs introduced by coercion”"
     ]
    },
    {
     "name": "stdout",
     "output_type": "stream",
     "text": [
      "[1] \"chr22_hspec_x_hg38.bed\"\n",
      "[1] \"chr22\"\n",
      "[1] \"chr3_hspec_x_hg38.bed\"\n",
      "[1] \"chr3\"\n"
     ]
    },
    {
     "name": "stderr",
     "output_type": "stream",
     "text": [
      "Warning message:\n",
      "“NAs introduced by coercion”Warning message:\n",
      "“NAs introduced by coercion”"
     ]
    },
    {
     "name": "stdout",
     "output_type": "stream",
     "text": [
      "[1] \"chr4_hspec_x_hg38.bed\"\n",
      "[1] \"chr4\"\n"
     ]
    },
    {
     "name": "stderr",
     "output_type": "stream",
     "text": [
      "Warning message:\n",
      "“NAs introduced by coercion”Warning message:\n",
      "“NAs introduced by coercion”"
     ]
    },
    {
     "name": "stdout",
     "output_type": "stream",
     "text": [
      "[1] \"chr5_hspec_x_hg38.bed\"\n",
      "[1] \"chr5\"\n",
      "[1] \"chr6_hspec_x_hg38.bed\"\n",
      "[1] \"chr6\"\n",
      "[1] \"chr7_hspec_x_hg38.bed\"\n",
      "[1] \"chr7\"\n",
      "[1] \"chr8_hspec_x_hg38.bed\"\n",
      "[1] \"chr8\"\n",
      "[1] \"chr9_hspec_x_hg38.bed\"\n",
      "[1] \"chr9\"\n"
     ]
    },
    {
     "name": "stderr",
     "output_type": "stream",
     "text": [
      "Warning message:\n",
      "“NAs introduced by coercion”Warning message:\n",
      "“NAs introduced by coercion”"
     ]
    }
   ],
   "source": [
    "for (bedfile in a){\n",
    "    print(bedfile)\n",
    "    # make dataframe of the bedfile\n",
    "    df <-read.table(bedfile, sep = '\\t', h=F, stringsAsFactors=F)\n",
    "    \n",
    "    chr= unlist(strsplit(bedfile, \"_\"))[1]\n",
    "    print(chr)\n",
    "    ## format the table\n",
    "\n",
    "    # rename columns\n",
    "    names(df) = c(\"enh_chr\", \"enh_start\", \"enh_end\", \"enh_overlap\", \"enh_percentile\", \"hg38_chr\", \"hg38_start\", \"hg38_end\", \"hg38_strand\", \"hg38_ref\", \"hg38_100spec\", \"hg38_8vspec\", \"hg38-100spec_names\", \"length\")\n",
    "\n",
    "    # convert species count columns from characters to integers \n",
    "    df$hg38_100spec <- as.integer(df$hg38_100spec)\n",
    "    df$hg38_8vspec <- as.integer(df$hg38_8vspec)\n",
    "\n",
    "    # calculate the length of fragment overlap in log10\n",
    "    df$log10_length = log(df$length, 10)\n",
    "    \n",
    "    # create a subset of the dataframe to remove non-overlapping roadmap fragments in hg38 MSA\n",
    "    df2 = subset(df, df$length >0)\n",
    "\n",
    "    chr_hspec = subset(df2, df2$hg38_100spec ==0)\n",
    "    hspecific =rbind(hspecific, chr_hspec)\n",
    "\n",
    "    chr_bae = subset(df2, df2$enh_percentile>0.9)\n",
    "    bae = rbind(bae, chr_bae)\n",
    "}"
   ]
  },
  {
   "cell_type": "code",
   "execution_count": 84,
   "metadata": {},
   "outputs": [],
   "source": [
    "b_out<-summary(bae)\n",
    "write.table(b_out,file = paste0(path,\"/bae_summary_hg38spec_x_roadmap.txt\"),append = FALSE, quote = FALSE, sep = \"\\t\", row.names = FALSE, col.names = TRUE) \n",
    "h_out <- summary(hspecific)\n",
    "write.table(h_out,file = paste0(path,\"/hspecific_summary_hg38spec_x_roadmap.txt\"),append = FALSE, quote = FALSE, sep = \"\\t\", row.names = FALSE, col.names = TRUE) "
   ]
  },
  {
   "cell_type": "code",
   "execution_count": 75,
   "metadata": {},
   "outputs": [],
   "source": [
    "write.table(bae, file = paste0(path,\"/hg38_90th_percentile_x_100species.bed\"), append = FALSE, quote = FALSE, sep = \"\\t\", row.names = FALSE, col.names = TRUE)\n",
    "write.table(hspecific, file = paste0(path,\"/hg38_human_specific_x_100species.bed\"), append = FALSE, quote = FALSE, sep = \"\\t\", row.names = FALSE, col.names = TRUE)\n",
    "\n"
   ]
  },
  {
   "cell_type": "code",
   "execution_count": 37,
   "metadata": {
    "scrolled": true
   },
   "outputs": [
    {
     "data": {
      "text/html": [
       "<dl>\n",
       "\t<dt>$enh_chr</dt>\n",
       "\t\t<dd>'character'</dd>\n",
       "\t<dt>$enh_start</dt>\n",
       "\t\t<dd>'integer'</dd>\n",
       "\t<dt>$enh_end</dt>\n",
       "\t\t<dd>'integer'</dd>\n",
       "\t<dt>$enh_overlap</dt>\n",
       "\t\t<dd>'integer'</dd>\n",
       "\t<dt>$enh_percentile</dt>\n",
       "\t\t<dd>'numeric'</dd>\n",
       "\t<dt>$hg38_chr</dt>\n",
       "\t\t<dd>'character'</dd>\n",
       "\t<dt>$hg38_start</dt>\n",
       "\t\t<dd>'integer'</dd>\n",
       "\t<dt>$hg38_end</dt>\n",
       "\t\t<dd>'integer'</dd>\n",
       "\t<dt>$hg38_strand</dt>\n",
       "\t\t<dd>'character'</dd>\n",
       "\t<dt>$hg38_ref</dt>\n",
       "\t\t<dd>'character'</dd>\n",
       "\t<dt>$hg38_100spec</dt>\n",
       "\t\t<dd>'integer'</dd>\n",
       "\t<dt>$hg38_8vspec</dt>\n",
       "\t\t<dd>'integer'</dd>\n",
       "\t<dt>$`hg38-100spec_names`</dt>\n",
       "\t\t<dd>'character'</dd>\n",
       "\t<dt>$length</dt>\n",
       "\t\t<dd>'integer'</dd>\n",
       "\t<dt>$log10_length</dt>\n",
       "\t\t<dd>'numeric'</dd>\n",
       "</dl>\n"
      ],
      "text/latex": [
       "\\begin{description}\n",
       "\\item[\\$enh\\_chr] 'character'\n",
       "\\item[\\$enh\\_start] 'integer'\n",
       "\\item[\\$enh\\_end] 'integer'\n",
       "\\item[\\$enh\\_overlap] 'integer'\n",
       "\\item[\\$enh\\_percentile] 'numeric'\n",
       "\\item[\\$hg38\\_chr] 'character'\n",
       "\\item[\\$hg38\\_start] 'integer'\n",
       "\\item[\\$hg38\\_end] 'integer'\n",
       "\\item[\\$hg38\\_strand] 'character'\n",
       "\\item[\\$hg38\\_ref] 'character'\n",
       "\\item[\\$hg38\\_100spec] 'integer'\n",
       "\\item[\\$hg38\\_8vspec] 'integer'\n",
       "\\item[\\$`hg38-100spec\\_names`] 'character'\n",
       "\\item[\\$length] 'integer'\n",
       "\\item[\\$log10\\_length] 'numeric'\n",
       "\\end{description}\n"
      ],
      "text/markdown": [
       "$enh_chr\n",
       ":   'character'\n",
       "$enh_start\n",
       ":   'integer'\n",
       "$enh_end\n",
       ":   'integer'\n",
       "$enh_overlap\n",
       ":   'integer'\n",
       "$enh_percentile\n",
       ":   'numeric'\n",
       "$hg38_chr\n",
       ":   'character'\n",
       "$hg38_start\n",
       ":   'integer'\n",
       "$hg38_end\n",
       ":   'integer'\n",
       "$hg38_strand\n",
       ":   'character'\n",
       "$hg38_ref\n",
       ":   'character'\n",
       "$hg38_100spec\n",
       ":   'integer'\n",
       "$hg38_8vspec\n",
       ":   'integer'\n",
       "$`hg38-100spec_names`\n",
       ":   'character'\n",
       "$length\n",
       ":   'integer'\n",
       "$log10_length\n",
       ":   'numeric'\n",
       "\n",
       "\n"
      ],
      "text/plain": [
       "$enh_chr\n",
       "[1] \"character\"\n",
       "\n",
       "$enh_start\n",
       "[1] \"integer\"\n",
       "\n",
       "$enh_end\n",
       "[1] \"integer\"\n",
       "\n",
       "$enh_overlap\n",
       "[1] \"integer\"\n",
       "\n",
       "$enh_percentile\n",
       "[1] \"numeric\"\n",
       "\n",
       "$hg38_chr\n",
       "[1] \"character\"\n",
       "\n",
       "$hg38_start\n",
       "[1] \"integer\"\n",
       "\n",
       "$hg38_end\n",
       "[1] \"integer\"\n",
       "\n",
       "$hg38_strand\n",
       "[1] \"character\"\n",
       "\n",
       "$hg38_ref\n",
       "[1] \"character\"\n",
       "\n",
       "$hg38_100spec\n",
       "[1] \"integer\"\n",
       "\n",
       "$hg38_8vspec\n",
       "[1] \"integer\"\n",
       "\n",
       "$`hg38-100spec_names`\n",
       "[1] \"character\"\n",
       "\n",
       "$length\n",
       "[1] \"integer\"\n",
       "\n",
       "$log10_length\n",
       "[1] \"numeric\"\n"
      ]
     },
     "metadata": {},
     "output_type": "display_data"
    },
    {
     "name": "stdout",
     "output_type": "stream",
     "text": [
      "'data.frame':\t727829 obs. of  15 variables:\n",
      " $ enh_chr           : chr  \"chr18\" \"chr18\" \"chr18\" \"chr18\" ...\n",
      " $ enh_start         : int  10014 10264 63671 63671 71042 71042 110750 111347 111438 111467 ...\n",
      " $ enh_end           : int  10264 10286 63859 63859 71266 71266 111293 111438 111467 111513 ...\n",
      " $ enh_overlap       : int  2 1 1 1 1 1 1 1 2 3 ...\n",
      " $ enh_percentile    : num  0.26 0.1 0.1 0.1 0.1 0.1 0.1 0.1 0.26 0.39 ...\n",
      " $ hg38_chr          : chr  \"chr18\" \"chr18\" \"chr18\" \"chr18\" ...\n",
      " $ hg38_start        : int  10148 10148 62890 63828 70953 71232 105475 105475 105475 105475 ...\n",
      " $ hg38_end          : int  10750 10750 63829 63873 71233 71378 111831 111831 111831 111831 ...\n",
      " $ hg38_strand       : chr  \"+\" \"+\" \"+\" \"+\" ...\n",
      " $ hg38_ref          : chr  \"hg38\" \"hg38\" \"hg38\" \"hg38\" ...\n",
      " $ hg38_100spec      : int  1 1 0 1 5 6 0 0 0 0 ...\n",
      " $ hg38_8vspec       : int  0 0 0 0 0 0 0 0 0 0 ...\n",
      " $ hg38-100spec_names: chr  \"[ornAna1]\" \"[ornAna1]\" \"[]\" \"[papAnu2]\" ...\n",
      " $ length            : int  116 22 158 31 191 34 543 91 29 46 ...\n",
      " $ log10_length      : num  2.06 1.34 2.2 1.49 2.28 ...\n"
     ]
    }
   ],
   "source": [
    "lapply(df2, class)\n",
    "str(df2)"
   ]
  }
 ],
 "metadata": {
  "kernelspec": {
   "display_name": "R",
   "language": "R",
   "name": "ir"
  },
  "language_info": {
   "codemirror_mode": "r",
   "file_extension": ".r",
   "mimetype": "text/x-r-source",
   "name": "R",
   "pygments_lexer": "r",
   "version": "3.3.2"
  }
 },
 "nbformat": 4,
 "nbformat_minor": 2
}
