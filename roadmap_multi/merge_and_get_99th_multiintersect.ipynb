{
 "cells": [
  {
   "cell_type": "code",
   "execution_count": 11,
   "metadata": {
    "collapsed": true
   },
   "outputs": [],
   "source": [
    "#180509\n",
    "#SarahFong\n",
    "\n",
    "#The purpose of this script is to merge back together.\n",
    "#.Bed files cannot have headers to perform a merge. \n",
    "#Then, to find meaningful enhancer signal among the fragments generated.\n",
    "\n",
    "import os\n",
    "import pandas"
   ]
  },
  {
   "cell_type": "code",
   "execution_count": 19,
   "metadata": {
    "collapsed": true
   },
   "outputs": [],
   "source": [
    "path = '/dors/capra_lab/users/fongsl/broadly_active_enhancers/data/roadmap_multi_data/'\n",
    "\n",
    "# The resultant multiintersect_roadmap_enhancer.bed file\n",
    "# Enhancers for each roadmap sample were stringently defined as H3K27AC with no overlapping H3K4me3 peaks\n",
    "\n",
    "input_bed = 'short_multiintersect_roadmap.bed'"
   ]
  },
  {
   "cell_type": "code",
   "execution_count": 6,
   "metadata": {},
   "outputs": [
    {
     "name": "stdout",
     "output_type": "stream",
     "text": [
      "mergeBed -i /dors/capra_lab/users/fongsl/broadly_active_enhancers/data/roadmap_multi_data/short_multiintersect_roadmap.bed -d 100 -c 4 -o collapse -delim ','> /dors/capra_lab/users/fongsl/broadly_active_enhancers/data/roadmap_multi_data/merged_short_multiintersect_roadmap.bed\n"
     ]
    }
   ],
   "source": [
    "#Merge fragments that are within 100 bases of one another\n",
    "#Collect a string of the samples the fragments come from, separated with a comma delimiter\n",
    "\n",
    "cmd= \"mergeBed -i %s/%s -d 100 -c 4 -o collapse -delim ','> %s/merged_%s\"% (path, input_bed, path, input_bed)\n",
    "print(cmd)"
   ]
  },
  {
   "cell_type": "code",
   "execution_count": 7,
   "metadata": {},
   "outputs": [
    {
     "data": {
      "text/plain": [
       "0"
      ]
     },
     "execution_count": 7,
     "metadata": {},
     "output_type": "execute_result"
    }
   ],
   "source": [
    "os.system(cmd)"
   ]
  },
  {
   "cell_type": "code",
   "execution_count": 66,
   "metadata": {},
   "outputs": [],
   "source": [
    "# this merged file will serve as the genome reference\n",
    "\n",
    "merged = \"%smerged_%s\"% (path, input_bed)\n",
    "multi = \"%s%s\" % (path, input_bed)"
   ]
  },
  {
   "cell_type": "code",
   "execution_count": 74,
   "metadata": {},
   "outputs": [],
   "source": [
    "dfm = pandas.read_table(merged, sep = '\\t')\n",
    "dfmg = pandas.read_table(multi, sep = '\\t')"
   ]
  },
  {
   "cell_type": "code",
   "execution_count": 68,
   "metadata": {
    "collapsed": true
   },
   "outputs": [],
   "source": [
    "dfm[4]= dfm[\"3\"].str.split(\",\").str.len()"
   ]
  },
  {
   "cell_type": "code",
   "execution_count": 97,
   "metadata": {},
   "outputs": [
    {
     "name": "stdout",
     "output_type": "stream",
     "text": [
      "         0        1        2   3  \\\n",
      "1739  chr1  1440605  1440986  37   \n",
      "3418  chr1  1757952  1757964  37   \n",
      "3419  chr1  1757964  1757995  38   \n",
      "3420  chr1  1757995  1758058  39   \n",
      "3421  chr1  1758058  1758065  40   \n",
      "\n",
      "                                                      4  length  \n",
      "1739  2,5,6,7,8,10,14,16,20,21,22,25,31,34,39,40,43,...     381  \n",
      "3418  2,3,5,9,10,14,17,20,22,23,25,29,31,32,35,37,38...      12  \n",
      "3419  2,3,5,9,10,13,14,17,20,22,23,25,29,31,32,35,37...      31  \n",
      "3420  2,3,5,9,10,13,14,17,20,22,23,25,29,31,32,35,37...      63  \n",
      "3421  2,3,5,9,10,13,14,17,20,22,23,25,29,31,32,35,37...       7  \n"
     ]
    }
   ],
   "source": [
    "# what if I just look at peaks in the 99% of intersected fragments?\n",
    "dfmg[\"length\"] = dfmg['2']-dfmg['1']\n",
    "db= dfmg.loc[dfmg['3']>=dfmg['3'].quantile(0.99)]\n",
    "print(db.head())\n",
    "db.shape\n",
    "db.to_csv(\"%s99_%s\"% (path, input_bed), sep='\\t', index = False, header = False)"
   ]
  },
  {
   "cell_type": "code",
   "execution_count": 69,
   "metadata": {},
   "outputs": [
    {
     "data": {
      "text/html": [
       "<div>\n",
       "<style>\n",
       "    .dataframe thead tr:only-child th {\n",
       "        text-align: right;\n",
       "    }\n",
       "\n",
       "    .dataframe thead th {\n",
       "        text-align: left;\n",
       "    }\n",
       "\n",
       "    .dataframe tbody tr th {\n",
       "        vertical-align: top;\n",
       "    }\n",
       "</style>\n",
       "<table border=\"1\" class=\"dataframe\">\n",
       "  <thead>\n",
       "    <tr style=\"text-align: right;\">\n",
       "      <th></th>\n",
       "      <th>0</th>\n",
       "      <th>1</th>\n",
       "      <th>2</th>\n",
       "      <th>3</th>\n",
       "      <th>4</th>\n",
       "    </tr>\n",
       "  </thead>\n",
       "  <tbody>\n",
       "    <tr>\n",
       "      <th>0</th>\n",
       "      <td>chr1</td>\n",
       "      <td>9998</td>\n",
       "      <td>10563</td>\n",
       "      <td>1,2,3,4,5,6,7,6,5,4,3,2,1</td>\n",
       "      <td>13</td>\n",
       "    </tr>\n",
       "    <tr>\n",
       "      <th>1</th>\n",
       "      <td>chr1</td>\n",
       "      <td>13045</td>\n",
       "      <td>15115</td>\n",
       "      <td>1,2,1</td>\n",
       "      <td>3</td>\n",
       "    </tr>\n",
       "    <tr>\n",
       "      <th>2</th>\n",
       "      <td>chr1</td>\n",
       "      <td>16072</td>\n",
       "      <td>16614</td>\n",
       "      <td>1</td>\n",
       "      <td>1</td>\n",
       "    </tr>\n",
       "    <tr>\n",
       "      <th>3</th>\n",
       "      <td>chr1</td>\n",
       "      <td>19949</td>\n",
       "      <td>20313</td>\n",
       "      <td>1</td>\n",
       "      <td>1</td>\n",
       "    </tr>\n",
       "    <tr>\n",
       "      <th>4</th>\n",
       "      <td>chr1</td>\n",
       "      <td>78919</td>\n",
       "      <td>79787</td>\n",
       "      <td>1</td>\n",
       "      <td>1</td>\n",
       "    </tr>\n",
       "  </tbody>\n",
       "</table>\n",
       "</div>"
      ],
      "text/plain": [
       "      0      1      2                          3   4\n",
       "0  chr1   9998  10563  1,2,3,4,5,6,7,6,5,4,3,2,1  13\n",
       "1  chr1  13045  15115                      1,2,1   3\n",
       "2  chr1  16072  16614                          1   1\n",
       "3  chr1  19949  20313                          1   1\n",
       "4  chr1  78919  79787                          1   1"
      ]
     },
     "execution_count": 69,
     "metadata": {},
     "output_type": "execute_result"
    }
   ],
   "source": [
    "dfm.head()"
   ]
  }
 ],
 "metadata": {
  "kernelspec": {
   "display_name": "Python 3",
   "language": "python",
   "name": "python3"
  },
  "language_info": {
   "codemirror_mode": {
    "name": "ipython",
    "version": 3
   },
   "file_extension": ".py",
   "mimetype": "text/x-python",
   "name": "python",
   "nbconvert_exporter": "python",
   "pygments_lexer": "ipython3",
   "version": "3.6.1"
  }
 },
 "nbformat": 4,
 "nbformat_minor": 2
}
