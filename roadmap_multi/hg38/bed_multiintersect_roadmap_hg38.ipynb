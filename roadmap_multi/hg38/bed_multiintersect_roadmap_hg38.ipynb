{
 "cells": [
  {
   "cell_type": "code",
   "execution_count": null,
   "metadata": {
    "collapsed": true
   },
   "outputs": [],
   "source": [
    "#180620\n",
    "#sarahfong\n",
    "\n",
    "#Hg38 migration\n",
    "\n",
    "# The purpose of this script is to identify broadly active enhancers WITHOUT using the Villar dataset as a reference.\n",
    "\n",
    "# This script was originally drafted as an alternative way to identify broadly active enhancers.\n",
    "#/dors/capra_lab/users/fongsl/capra_rotation/method1_roadmap_find_common_enhancer.py "
   ]
  },
  {
   "cell_type": "code",
   "execution_count": null,
   "metadata": {
    "collapsed": true
   },
   "outputs": [],
   "source": [
    "#!/usr/bin/python                                                                                                                                                                                         \n",
    "\n",
    "#sarahfong                                                                                                                                                                                                \n",
    "\n",
    "#180207 - The MultiIntersect command in step 3 has been relaxed. \n",
    "#Originally, we evaluated only reciprocal overlapping peak fragments, which resulted in very few and small peaks calling among all fragments. \n",
    "#To relax this, I will change the command from multiIntersectBed -i <<files>> -f 0.5 -r to multiIntersectBed -i <<files>> -f 0.5 -e, \n",
    "#This will include the fragment if there is 50% overlap of either fragment. \n",
    "#This accomodates overlapping very large peaks with very small peaks.                                                                                                                          \n",
    "\n",
    "#180123 - There are two methods in step 2 for subtracting overlapping H3K27ac and H3K4me3 ChIP-SEQ fragments.                                                                                             \n",
    "\n",
    "#Stringent requirements for calling an enhancer include (1) only non-overlapping H3K27ac+ H3K4me3- fragments.                                                                                             \n",
    "\n",
    "#Relaxed requirements for calling an enhancer include:\n",
    "#(1) non-overlapping H3K27ac+ H3K4me3- fragments (-A command) or \n",
    "#(2) fragments with 50% overlap of -a and -b in order to subtract one region from another.                                                                                                                                                                                                    \n",
    "\n",
    "#note about Relaxed requirements - \n",
    "#This method of using bedtools is based off Mary Lauren's analysis of the roadmap encode dataset looking for histone modifications of enhancer regions that do not contain promoter histone modifications. \n",
    "#This is also the method used in Villar 2015 to call enhancers.                                                                                                       \n",
    "\n",
    "#180118 - the purpose of this script is to iterate through each ENCODE tissue (e.g. E034, E035, etc.) to find any human enhancers. \n",
    "#I  define an enhancer as H3K27ac+ and H3K4me3-. H3K4me3- also marks active promoters.                                                                                                                                                                                           \n",
    "\n",
    "\n",
    "#step 1-  I will glob histone modification files needed to define active enhancers                                                                                                                        \n",
    "\n",
    "#step 2-  I will iterate through each tissue ID file using  bedtools to find non-overlapping ChIP-seq regions                                                                                             \n",
    "#         I will write a bed file for                                                                                                                                                                     \n",
    "#             Active enhancers: All H3k27ac marks non-overlapping w/ H3k4me3 found in that tissue. I.e. H3k27ac+/H3k4me3-                                                                                 \n",
    "\n",
    "#step 3-  I will then multiintersect the resultant enhancer files for all tissues. This will be run with the script \"roadmap_find_common_enhancer.py   "
   ]
  },
  {
   "cell_type": "code",
   "execution_count": 1,
   "metadata": {
    "collapsed": true
   },
   "outputs": [],
   "source": [
    "import os\n",
    "import sys\n",
    "import glob\n",
    "import datetime\n",
    "import pandas\n",
    "\n",
    "now = str(datetime.date.today())"
   ]
  },
  {
   "cell_type": "code",
   "execution_count": null,
   "metadata": {
    "collapsed": true
   },
   "outputs": [],
   "source": [
    "# generate H3K27ac+ H3K4me3- peaks using script /home/fongsl/broadly_active_enhancers/Make_roadmap_bedfiles.ipynb                                                                                                                                                                                  "
   ]
  },
  {
   "cell_type": "code",
   "execution_count": 2,
   "metadata": {
    "collapsed": true
   },
   "outputs": [],
   "source": [
    "# Multiintersect command\n",
    "data_path = \"/dors/capra_lab/users/fongsl/roadmap/hg38_2018-06-20/\"\n",
    "x = \"Hsap*.bed\"\n",
    "any_tissue_enhancer = glob.glob(\"%s%s\"%(data_path, x)) # glob together all the tissues                                                                                                                                        \n",
    "\n",
    "a = ' '.join(str(i) for i in any_tissue_enhancer)\n",
    "b = ' '.join((str(i).split(\"_\")[7]).split(\".\")[0] for i in any_tissue_enhancer)# a string of the tissue ids                                                                                                               "
   ]
  },
  {
   "cell_type": "code",
   "execution_count": 3,
   "metadata": {},
   "outputs": [
    {
     "data": {
      "text/plain": [
       "'NTR0003013 UBERON0002967 CL0000047 UBERON0000305 UBERON0002240 CL0000222 CL0000897 CL0001054 UBERON0001043 UBERON0000947 CL0000792 UBERON0001255 CL0000895 CL0000909 EFO0007086 UBERON0012489 UBERON0002106 CL0000084 NTR0000856 EFO0007116 UBERON0001159 UBERON0002686 EFO0003045 CL2000001 UBERON0003124 UBERON0018112 UBERON0001134 UBERON0002078 CL0000221 UBERON0006483 UBERON0008450 CL0000624 UBERON0000945 UBERON0012488 UBERON0003346 CL0000623 UBERON0002108 EFO0007089 NTR0003079 CL0001059 EFO0007096 UBERON0002305 UBERON0014455 UBERON0002113 CL2000045 CL1001608 UBERON0001774 UBERON0002084 EFO0001196 UBERON0002080 EFO0007108 EFO0007105 EFO0003042 UBERON0002370 EFO0007083 EFO0000586 UBERON0000317 CL0000236 UBERON0001987 UBERON0001871 UBERON0000059 UBERON0000992 NTR0000427 UBERON0000320 EFO0007098 CL1001606 CL0000905 UBERON0004222 UBERON0002369 UBERON0001873 CL0000223 CL0000351 UBERON0000016 CL0000625 UBERON0007106 UBERON0002107 UBERON0001264 UBERON0002048 UBERON0002038 CL0000899'"
      ]
     },
     "execution_count": 3,
     "metadata": {},
     "output_type": "execute_result"
    }
   ],
   "source": [
    "b"
   ]
  },
  {
   "cell_type": "code",
   "execution_count": 4,
   "metadata": {},
   "outputs": [
    {
     "data": {
      "text/plain": [
       "'/dors/capra_lab/users/fongsl/roadmap/hg38_2018-06-20/Hsap_H3K27ac_plus_H3K4me3_minus_NTR0003013.bed /dors/capra_lab/users/fongsl/roadmap/hg38_2018-06-20/Hsap_H3K27ac_plus_H3K4me3_minus_UBERON0002967.bed /dors/capra_lab/users/fongsl/roadmap/hg38_2018-06-20/Hsap_H3K27ac_plus_H3K4me3_minus_CL0000047.bed /dors/capra_lab/users/fongsl/roadmap/hg38_2018-06-20/Hsap_H3K27ac_plus_H3K4me3_minus_UBERON0000305.bed /dors/capra_lab/users/fongsl/roadmap/hg38_2018-06-20/Hsap_H3K27ac_plus_H3K4me3_minus_UBERON0002240.bed /dors/capra_lab/users/fongsl/roadmap/hg38_2018-06-20/Hsap_H3K27ac_plus_H3K4me3_minus_CL0000222.bed /dors/capra_lab/users/fongsl/roadmap/hg38_2018-06-20/Hsap_H3K27ac_plus_H3K4me3_minus_CL0000897.bed /dors/capra_lab/users/fongsl/roadmap/hg38_2018-06-20/Hsap_H3K27ac_plus_H3K4me3_minus_CL0001054.bed /dors/capra_lab/users/fongsl/roadmap/hg38_2018-06-20/Hsap_H3K27ac_plus_H3K4me3_minus_UBERON0001043.bed /dors/capra_lab/users/fongsl/roadmap/hg38_2018-06-20/Hsap_H3K27ac_plus_H3K4me3_minus_UBERON0000947.bed /dors/capra_lab/users/fongsl/roadmap/hg38_2018-06-20/Hsap_H3K27ac_plus_H3K4me3_minus_CL0000792.bed /dors/capra_lab/users/fongsl/roadmap/hg38_2018-06-20/Hsap_H3K27ac_plus_H3K4me3_minus_UBERON0001255.bed /dors/capra_lab/users/fongsl/roadmap/hg38_2018-06-20/Hsap_H3K27ac_plus_H3K4me3_minus_CL0000895.bed /dors/capra_lab/users/fongsl/roadmap/hg38_2018-06-20/Hsap_H3K27ac_plus_H3K4me3_minus_CL0000909.bed /dors/capra_lab/users/fongsl/roadmap/hg38_2018-06-20/Hsap_H3K27ac_plus_H3K4me3_minus_EFO0007086.bed /dors/capra_lab/users/fongsl/roadmap/hg38_2018-06-20/Hsap_H3K27ac_plus_H3K4me3_minus_UBERON0012489.bed /dors/capra_lab/users/fongsl/roadmap/hg38_2018-06-20/Hsap_H3K27ac_plus_H3K4me3_minus_UBERON0002106.bed /dors/capra_lab/users/fongsl/roadmap/hg38_2018-06-20/Hsap_H3K27ac_plus_H3K4me3_minus_CL0000084.bed /dors/capra_lab/users/fongsl/roadmap/hg38_2018-06-20/Hsap_H3K27ac_plus_H3K4me3_minus_NTR0000856.bed /dors/capra_lab/users/fongsl/roadmap/hg38_2018-06-20/Hsap_H3K27ac_plus_H3K4me3_minus_EFO0007116.bed /dors/capra_lab/users/fongsl/roadmap/hg38_2018-06-20/Hsap_H3K27ac_plus_H3K4me3_minus_UBERON0001159.bed /dors/capra_lab/users/fongsl/roadmap/hg38_2018-06-20/Hsap_H3K27ac_plus_H3K4me3_minus_UBERON0002686.bed /dors/capra_lab/users/fongsl/roadmap/hg38_2018-06-20/Hsap_H3K27ac_plus_H3K4me3_minus_EFO0003045.bed /dors/capra_lab/users/fongsl/roadmap/hg38_2018-06-20/Hsap_H3K27ac_plus_H3K4me3_minus_CL2000001.bed /dors/capra_lab/users/fongsl/roadmap/hg38_2018-06-20/Hsap_H3K27ac_plus_H3K4me3_minus_UBERON0003124.bed /dors/capra_lab/users/fongsl/roadmap/hg38_2018-06-20/Hsap_H3K27ac_plus_H3K4me3_minus_UBERON0018112.bed /dors/capra_lab/users/fongsl/roadmap/hg38_2018-06-20/Hsap_H3K27ac_plus_H3K4me3_minus_UBERON0001134.bed /dors/capra_lab/users/fongsl/roadmap/hg38_2018-06-20/Hsap_H3K27ac_plus_H3K4me3_minus_UBERON0002078.bed /dors/capra_lab/users/fongsl/roadmap/hg38_2018-06-20/Hsap_H3K27ac_plus_H3K4me3_minus_CL0000221.bed /dors/capra_lab/users/fongsl/roadmap/hg38_2018-06-20/Hsap_H3K27ac_plus_H3K4me3_minus_UBERON0006483.bed /dors/capra_lab/users/fongsl/roadmap/hg38_2018-06-20/Hsap_H3K27ac_plus_H3K4me3_minus_UBERON0008450.bed /dors/capra_lab/users/fongsl/roadmap/hg38_2018-06-20/Hsap_H3K27ac_plus_H3K4me3_minus_CL0000624.bed /dors/capra_lab/users/fongsl/roadmap/hg38_2018-06-20/Hsap_H3K27ac_plus_H3K4me3_minus_UBERON0000945.bed /dors/capra_lab/users/fongsl/roadmap/hg38_2018-06-20/Hsap_H3K27ac_plus_H3K4me3_minus_UBERON0012488.bed /dors/capra_lab/users/fongsl/roadmap/hg38_2018-06-20/Hsap_H3K27ac_plus_H3K4me3_minus_UBERON0003346.bed /dors/capra_lab/users/fongsl/roadmap/hg38_2018-06-20/Hsap_H3K27ac_plus_H3K4me3_minus_CL0000623.bed /dors/capra_lab/users/fongsl/roadmap/hg38_2018-06-20/Hsap_H3K27ac_plus_H3K4me3_minus_UBERON0002108.bed /dors/capra_lab/users/fongsl/roadmap/hg38_2018-06-20/Hsap_H3K27ac_plus_H3K4me3_minus_EFO0007089.bed /dors/capra_lab/users/fongsl/roadmap/hg38_2018-06-20/Hsap_H3K27ac_plus_H3K4me3_minus_NTR0003079.bed /dors/capra_lab/users/fongsl/roadmap/hg38_2018-06-20/Hsap_H3K27ac_plus_H3K4me3_minus_CL0001059.bed /dors/capra_lab/users/fongsl/roadmap/hg38_2018-06-20/Hsap_H3K27ac_plus_H3K4me3_minus_EFO0007096.bed /dors/capra_lab/users/fongsl/roadmap/hg38_2018-06-20/Hsap_H3K27ac_plus_H3K4me3_minus_UBERON0002305.bed /dors/capra_lab/users/fongsl/roadmap/hg38_2018-06-20/Hsap_H3K27ac_plus_H3K4me3_minus_UBERON0014455.bed /dors/capra_lab/users/fongsl/roadmap/hg38_2018-06-20/Hsap_H3K27ac_plus_H3K4me3_minus_UBERON0002113.bed /dors/capra_lab/users/fongsl/roadmap/hg38_2018-06-20/Hsap_H3K27ac_plus_H3K4me3_minus_CL2000045.bed /dors/capra_lab/users/fongsl/roadmap/hg38_2018-06-20/Hsap_H3K27ac_plus_H3K4me3_minus_CL1001608.bed /dors/capra_lab/users/fongsl/roadmap/hg38_2018-06-20/Hsap_H3K27ac_plus_H3K4me3_minus_UBERON0001774.bed /dors/capra_lab/users/fongsl/roadmap/hg38_2018-06-20/Hsap_H3K27ac_plus_H3K4me3_minus_UBERON0002084.bed /dors/capra_lab/users/fongsl/roadmap/hg38_2018-06-20/Hsap_H3K27ac_plus_H3K4me3_minus_EFO0001196.bed /dors/capra_lab/users/fongsl/roadmap/hg38_2018-06-20/Hsap_H3K27ac_plus_H3K4me3_minus_UBERON0002080.bed /dors/capra_lab/users/fongsl/roadmap/hg38_2018-06-20/Hsap_H3K27ac_plus_H3K4me3_minus_EFO0007108.bed /dors/capra_lab/users/fongsl/roadmap/hg38_2018-06-20/Hsap_H3K27ac_plus_H3K4me3_minus_EFO0007105.bed /dors/capra_lab/users/fongsl/roadmap/hg38_2018-06-20/Hsap_H3K27ac_plus_H3K4me3_minus_EFO0003042.bed /dors/capra_lab/users/fongsl/roadmap/hg38_2018-06-20/Hsap_H3K27ac_plus_H3K4me3_minus_UBERON0002370.bed /dors/capra_lab/users/fongsl/roadmap/hg38_2018-06-20/Hsap_H3K27ac_plus_H3K4me3_minus_EFO0007083.bed /dors/capra_lab/users/fongsl/roadmap/hg38_2018-06-20/Hsap_H3K27ac_plus_H3K4me3_minus_EFO0000586.bed /dors/capra_lab/users/fongsl/roadmap/hg38_2018-06-20/Hsap_H3K27ac_plus_H3K4me3_minus_UBERON0000317.bed /dors/capra_lab/users/fongsl/roadmap/hg38_2018-06-20/Hsap_H3K27ac_plus_H3K4me3_minus_CL0000236.bed /dors/capra_lab/users/fongsl/roadmap/hg38_2018-06-20/Hsap_H3K27ac_plus_H3K4me3_minus_UBERON0001987.bed /dors/capra_lab/users/fongsl/roadmap/hg38_2018-06-20/Hsap_H3K27ac_plus_H3K4me3_minus_UBERON0001871.bed /dors/capra_lab/users/fongsl/roadmap/hg38_2018-06-20/Hsap_H3K27ac_plus_H3K4me3_minus_UBERON0000059.bed /dors/capra_lab/users/fongsl/roadmap/hg38_2018-06-20/Hsap_H3K27ac_plus_H3K4me3_minus_UBERON0000992.bed /dors/capra_lab/users/fongsl/roadmap/hg38_2018-06-20/Hsap_H3K27ac_plus_H3K4me3_minus_NTR0000427.bed /dors/capra_lab/users/fongsl/roadmap/hg38_2018-06-20/Hsap_H3K27ac_plus_H3K4me3_minus_UBERON0000320.bed /dors/capra_lab/users/fongsl/roadmap/hg38_2018-06-20/Hsap_H3K27ac_plus_H3K4me3_minus_EFO0007098.bed /dors/capra_lab/users/fongsl/roadmap/hg38_2018-06-20/Hsap_H3K27ac_plus_H3K4me3_minus_CL1001606.bed /dors/capra_lab/users/fongsl/roadmap/hg38_2018-06-20/Hsap_H3K27ac_plus_H3K4me3_minus_CL0000905.bed /dors/capra_lab/users/fongsl/roadmap/hg38_2018-06-20/Hsap_H3K27ac_plus_H3K4me3_minus_UBERON0004222.bed /dors/capra_lab/users/fongsl/roadmap/hg38_2018-06-20/Hsap_H3K27ac_plus_H3K4me3_minus_UBERON0002369.bed /dors/capra_lab/users/fongsl/roadmap/hg38_2018-06-20/Hsap_H3K27ac_plus_H3K4me3_minus_UBERON0001873.bed /dors/capra_lab/users/fongsl/roadmap/hg38_2018-06-20/Hsap_H3K27ac_plus_H3K4me3_minus_CL0000223.bed /dors/capra_lab/users/fongsl/roadmap/hg38_2018-06-20/Hsap_H3K27ac_plus_H3K4me3_minus_CL0000351.bed /dors/capra_lab/users/fongsl/roadmap/hg38_2018-06-20/Hsap_H3K27ac_plus_H3K4me3_minus_UBERON0000016.bed /dors/capra_lab/users/fongsl/roadmap/hg38_2018-06-20/Hsap_H3K27ac_plus_H3K4me3_minus_CL0000625.bed /dors/capra_lab/users/fongsl/roadmap/hg38_2018-06-20/Hsap_H3K27ac_plus_H3K4me3_minus_UBERON0007106.bed /dors/capra_lab/users/fongsl/roadmap/hg38_2018-06-20/Hsap_H3K27ac_plus_H3K4me3_minus_UBERON0002107.bed /dors/capra_lab/users/fongsl/roadmap/hg38_2018-06-20/Hsap_H3K27ac_plus_H3K4me3_minus_UBERON0001264.bed /dors/capra_lab/users/fongsl/roadmap/hg38_2018-06-20/Hsap_H3K27ac_plus_H3K4me3_minus_UBERON0002048.bed /dors/capra_lab/users/fongsl/roadmap/hg38_2018-06-20/Hsap_H3K27ac_plus_H3K4me3_minus_UBERON0002038.bed /dors/capra_lab/users/fongsl/roadmap/hg38_2018-06-20/Hsap_H3K27ac_plus_H3K4me3_minus_CL0000899.bed'"
      ]
     },
     "execution_count": 4,
     "metadata": {},
     "output_type": "execute_result"
    }
   ],
   "source": [
    "a"
   ]
  },
  {
   "cell_type": "code",
   "execution_count": 9,
   "metadata": {},
   "outputs": [
    {
     "name": "stdout",
     "output_type": "stream",
     "text": [
      "multiIntersectBed -i /dors/capra_lab/users/fongsl/roadmap/hg38_2018-06-20/Hsap_H3K27ac_plus_H3K4me3_minus_NTR0003013.bed /dors/capra_lab/users/fongsl/roadmap/hg38_2018-06-20/Hsap_H3K27ac_plus_H3K4me3_minus_UBERON0002967.bed /dors/capra_lab/users/fongsl/roadmap/hg38_2018-06-20/Hsap_H3K27ac_plus_H3K4me3_minus_CL0000047.bed /dors/capra_lab/users/fongsl/roadmap/hg38_2018-06-20/Hsap_H3K27ac_plus_H3K4me3_minus_UBERON0000305.bed /dors/capra_lab/users/fongsl/roadmap/hg38_2018-06-20/Hsap_H3K27ac_plus_H3K4me3_minus_UBERON0002240.bed /dors/capra_lab/users/fongsl/roadmap/hg38_2018-06-20/Hsap_H3K27ac_plus_H3K4me3_minus_CL0000222.bed /dors/capra_lab/users/fongsl/roadmap/hg38_2018-06-20/Hsap_H3K27ac_plus_H3K4me3_minus_CL0000897.bed /dors/capra_lab/users/fongsl/roadmap/hg38_2018-06-20/Hsap_H3K27ac_plus_H3K4me3_minus_CL0001054.bed /dors/capra_lab/users/fongsl/roadmap/hg38_2018-06-20/Hsap_H3K27ac_plus_H3K4me3_minus_UBERON0001043.bed /dors/capra_lab/users/fongsl/roadmap/hg38_2018-06-20/Hsap_H3K27ac_plus_H3K4me3_minus_UBERON0000947.bed /dors/capra_lab/users/fongsl/roadmap/hg38_2018-06-20/Hsap_H3K27ac_plus_H3K4me3_minus_CL0000792.bed /dors/capra_lab/users/fongsl/roadmap/hg38_2018-06-20/Hsap_H3K27ac_plus_H3K4me3_minus_UBERON0001255.bed /dors/capra_lab/users/fongsl/roadmap/hg38_2018-06-20/Hsap_H3K27ac_plus_H3K4me3_minus_CL0000895.bed /dors/capra_lab/users/fongsl/roadmap/hg38_2018-06-20/Hsap_H3K27ac_plus_H3K4me3_minus_CL0000909.bed /dors/capra_lab/users/fongsl/roadmap/hg38_2018-06-20/Hsap_H3K27ac_plus_H3K4me3_minus_EFO0007086.bed /dors/capra_lab/users/fongsl/roadmap/hg38_2018-06-20/Hsap_H3K27ac_plus_H3K4me3_minus_UBERON0012489.bed /dors/capra_lab/users/fongsl/roadmap/hg38_2018-06-20/Hsap_H3K27ac_plus_H3K4me3_minus_UBERON0002106.bed /dors/capra_lab/users/fongsl/roadmap/hg38_2018-06-20/Hsap_H3K27ac_plus_H3K4me3_minus_CL0000084.bed /dors/capra_lab/users/fongsl/roadmap/hg38_2018-06-20/Hsap_H3K27ac_plus_H3K4me3_minus_NTR0000856.bed /dors/capra_lab/users/fongsl/roadmap/hg38_2018-06-20/Hsap_H3K27ac_plus_H3K4me3_minus_EFO0007116.bed /dors/capra_lab/users/fongsl/roadmap/hg38_2018-06-20/Hsap_H3K27ac_plus_H3K4me3_minus_UBERON0001159.bed /dors/capra_lab/users/fongsl/roadmap/hg38_2018-06-20/Hsap_H3K27ac_plus_H3K4me3_minus_UBERON0002686.bed /dors/capra_lab/users/fongsl/roadmap/hg38_2018-06-20/Hsap_H3K27ac_plus_H3K4me3_minus_EFO0003045.bed /dors/capra_lab/users/fongsl/roadmap/hg38_2018-06-20/Hsap_H3K27ac_plus_H3K4me3_minus_CL2000001.bed /dors/capra_lab/users/fongsl/roadmap/hg38_2018-06-20/Hsap_H3K27ac_plus_H3K4me3_minus_UBERON0003124.bed /dors/capra_lab/users/fongsl/roadmap/hg38_2018-06-20/Hsap_H3K27ac_plus_H3K4me3_minus_UBERON0018112.bed /dors/capra_lab/users/fongsl/roadmap/hg38_2018-06-20/Hsap_H3K27ac_plus_H3K4me3_minus_UBERON0001134.bed /dors/capra_lab/users/fongsl/roadmap/hg38_2018-06-20/Hsap_H3K27ac_plus_H3K4me3_minus_UBERON0002078.bed /dors/capra_lab/users/fongsl/roadmap/hg38_2018-06-20/Hsap_H3K27ac_plus_H3K4me3_minus_CL0000221.bed /dors/capra_lab/users/fongsl/roadmap/hg38_2018-06-20/Hsap_H3K27ac_plus_H3K4me3_minus_UBERON0006483.bed /dors/capra_lab/users/fongsl/roadmap/hg38_2018-06-20/Hsap_H3K27ac_plus_H3K4me3_minus_UBERON0008450.bed /dors/capra_lab/users/fongsl/roadmap/hg38_2018-06-20/Hsap_H3K27ac_plus_H3K4me3_minus_CL0000624.bed /dors/capra_lab/users/fongsl/roadmap/hg38_2018-06-20/Hsap_H3K27ac_plus_H3K4me3_minus_UBERON0000945.bed /dors/capra_lab/users/fongsl/roadmap/hg38_2018-06-20/Hsap_H3K27ac_plus_H3K4me3_minus_UBERON0012488.bed /dors/capra_lab/users/fongsl/roadmap/hg38_2018-06-20/Hsap_H3K27ac_plus_H3K4me3_minus_UBERON0003346.bed /dors/capra_lab/users/fongsl/roadmap/hg38_2018-06-20/Hsap_H3K27ac_plus_H3K4me3_minus_CL0000623.bed /dors/capra_lab/users/fongsl/roadmap/hg38_2018-06-20/Hsap_H3K27ac_plus_H3K4me3_minus_UBERON0002108.bed /dors/capra_lab/users/fongsl/roadmap/hg38_2018-06-20/Hsap_H3K27ac_plus_H3K4me3_minus_EFO0007089.bed /dors/capra_lab/users/fongsl/roadmap/hg38_2018-06-20/Hsap_H3K27ac_plus_H3K4me3_minus_NTR0003079.bed /dors/capra_lab/users/fongsl/roadmap/hg38_2018-06-20/Hsap_H3K27ac_plus_H3K4me3_minus_CL0001059.bed /dors/capra_lab/users/fongsl/roadmap/hg38_2018-06-20/Hsap_H3K27ac_plus_H3K4me3_minus_EFO0007096.bed /dors/capra_lab/users/fongsl/roadmap/hg38_2018-06-20/Hsap_H3K27ac_plus_H3K4me3_minus_UBERON0002305.bed /dors/capra_lab/users/fongsl/roadmap/hg38_2018-06-20/Hsap_H3K27ac_plus_H3K4me3_minus_UBERON0014455.bed /dors/capra_lab/users/fongsl/roadmap/hg38_2018-06-20/Hsap_H3K27ac_plus_H3K4me3_minus_UBERON0002113.bed /dors/capra_lab/users/fongsl/roadmap/hg38_2018-06-20/Hsap_H3K27ac_plus_H3K4me3_minus_CL2000045.bed /dors/capra_lab/users/fongsl/roadmap/hg38_2018-06-20/Hsap_H3K27ac_plus_H3K4me3_minus_CL1001608.bed /dors/capra_lab/users/fongsl/roadmap/hg38_2018-06-20/Hsap_H3K27ac_plus_H3K4me3_minus_UBERON0001774.bed /dors/capra_lab/users/fongsl/roadmap/hg38_2018-06-20/Hsap_H3K27ac_plus_H3K4me3_minus_UBERON0002084.bed /dors/capra_lab/users/fongsl/roadmap/hg38_2018-06-20/Hsap_H3K27ac_plus_H3K4me3_minus_EFO0001196.bed /dors/capra_lab/users/fongsl/roadmap/hg38_2018-06-20/Hsap_H3K27ac_plus_H3K4me3_minus_UBERON0002080.bed /dors/capra_lab/users/fongsl/roadmap/hg38_2018-06-20/Hsap_H3K27ac_plus_H3K4me3_minus_EFO0007108.bed /dors/capra_lab/users/fongsl/roadmap/hg38_2018-06-20/Hsap_H3K27ac_plus_H3K4me3_minus_EFO0007105.bed /dors/capra_lab/users/fongsl/roadmap/hg38_2018-06-20/Hsap_H3K27ac_plus_H3K4me3_minus_EFO0003042.bed /dors/capra_lab/users/fongsl/roadmap/hg38_2018-06-20/Hsap_H3K27ac_plus_H3K4me3_minus_UBERON0002370.bed /dors/capra_lab/users/fongsl/roadmap/hg38_2018-06-20/Hsap_H3K27ac_plus_H3K4me3_minus_EFO0007083.bed /dors/capra_lab/users/fongsl/roadmap/hg38_2018-06-20/Hsap_H3K27ac_plus_H3K4me3_minus_EFO0000586.bed /dors/capra_lab/users/fongsl/roadmap/hg38_2018-06-20/Hsap_H3K27ac_plus_H3K4me3_minus_UBERON0000317.bed /dors/capra_lab/users/fongsl/roadmap/hg38_2018-06-20/Hsap_H3K27ac_plus_H3K4me3_minus_CL0000236.bed /dors/capra_lab/users/fongsl/roadmap/hg38_2018-06-20/Hsap_H3K27ac_plus_H3K4me3_minus_UBERON0001987.bed /dors/capra_lab/users/fongsl/roadmap/hg38_2018-06-20/Hsap_H3K27ac_plus_H3K4me3_minus_UBERON0001871.bed /dors/capra_lab/users/fongsl/roadmap/hg38_2018-06-20/Hsap_H3K27ac_plus_H3K4me3_minus_UBERON0000059.bed /dors/capra_lab/users/fongsl/roadmap/hg38_2018-06-20/Hsap_H3K27ac_plus_H3K4me3_minus_UBERON0000992.bed /dors/capra_lab/users/fongsl/roadmap/hg38_2018-06-20/Hsap_H3K27ac_plus_H3K4me3_minus_NTR0000427.bed /dors/capra_lab/users/fongsl/roadmap/hg38_2018-06-20/Hsap_H3K27ac_plus_H3K4me3_minus_UBERON0000320.bed /dors/capra_lab/users/fongsl/roadmap/hg38_2018-06-20/Hsap_H3K27ac_plus_H3K4me3_minus_EFO0007098.bed /dors/capra_lab/users/fongsl/roadmap/hg38_2018-06-20/Hsap_H3K27ac_plus_H3K4me3_minus_CL1001606.bed /dors/capra_lab/users/fongsl/roadmap/hg38_2018-06-20/Hsap_H3K27ac_plus_H3K4me3_minus_CL0000905.bed /dors/capra_lab/users/fongsl/roadmap/hg38_2018-06-20/Hsap_H3K27ac_plus_H3K4me3_minus_UBERON0004222.bed /dors/capra_lab/users/fongsl/roadmap/hg38_2018-06-20/Hsap_H3K27ac_plus_H3K4me3_minus_UBERON0002369.bed /dors/capra_lab/users/fongsl/roadmap/hg38_2018-06-20/Hsap_H3K27ac_plus_H3K4me3_minus_UBERON0001873.bed /dors/capra_lab/users/fongsl/roadmap/hg38_2018-06-20/Hsap_H3K27ac_plus_H3K4me3_minus_CL0000223.bed /dors/capra_lab/users/fongsl/roadmap/hg38_2018-06-20/Hsap_H3K27ac_plus_H3K4me3_minus_CL0000351.bed /dors/capra_lab/users/fongsl/roadmap/hg38_2018-06-20/Hsap_H3K27ac_plus_H3K4me3_minus_UBERON0000016.bed /dors/capra_lab/users/fongsl/roadmap/hg38_2018-06-20/Hsap_H3K27ac_plus_H3K4me3_minus_CL0000625.bed /dors/capra_lab/users/fongsl/roadmap/hg38_2018-06-20/Hsap_H3K27ac_plus_H3K4me3_minus_UBERON0007106.bed /dors/capra_lab/users/fongsl/roadmap/hg38_2018-06-20/Hsap_H3K27ac_plus_H3K4me3_minus_UBERON0002107.bed /dors/capra_lab/users/fongsl/roadmap/hg38_2018-06-20/Hsap_H3K27ac_plus_H3K4me3_minus_UBERON0001264.bed /dors/capra_lab/users/fongsl/roadmap/hg38_2018-06-20/Hsap_H3K27ac_plus_H3K4me3_minus_UBERON0002048.bed /dors/capra_lab/users/fongsl/roadmap/hg38_2018-06-20/Hsap_H3K27ac_plus_H3K4me3_minus_UBERON0002038.bed /dors/capra_lab/users/fongsl/roadmap/hg38_2018-06-20/Hsap_H3K27ac_plus_H3K4me3_minus_CL0000899.bed -header -names NTR0003013 UBERON0002967 CL0000047 UBERON0000305 UBERON0002240 CL0000222 CL0000897 CL0001054 UBERON0001043 UBERON0000947 CL0000792 UBERON0001255 CL0000895 CL0000909 EFO0007086 UBERON0012489 UBERON0002106 CL0000084 NTR0000856 EFO0007116 UBERON0001159 UBERON0002686 EFO0003045 CL2000001 UBERON0003124 UBERON0018112 UBERON0001134 UBERON0002078 CL0000221 UBERON0006483 UBERON0008450 CL0000624 UBERON0000945 UBERON0012488 UBERON0003346 CL0000623 UBERON0002108 EFO0007089 NTR0003079 CL0001059 EFO0007096 UBERON0002305 UBERON0014455 UBERON0002113 CL2000045 CL1001608 UBERON0001774 UBERON0002084 EFO0001196 UBERON0002080 EFO0007108 EFO0007105 EFO0003042 UBERON0002370 EFO0007083 EFO0000586 UBERON0000317 CL0000236 UBERON0001987 UBERON0001871 UBERON0000059 UBERON0000992 NTR0000427 UBERON0000320 EFO0007098 CL1001606 CL0000905 UBERON0004222 UBERON0002369 UBERON0001873 CL0000223 CL0000351 UBERON0000016 CL0000625 UBERON0007106 UBERON0002107 UBERON0001264 UBERON0002048 UBERON0002038 CL0000899 > /dors/capra_lab/users/fongsl/broadly_active_enhancers/data/roadmap_multi_data/hg38_multiintersect_roadmap_enh.bed\n"
     ]
    },
    {
     "data": {
      "text/plain": [
       "0"
      ]
     },
     "execution_count": 9,
     "metadata": {},
     "output_type": "execute_result"
    }
   ],
   "source": [
    "# command with headers \n",
    "output = \"/dors/capra_lab/users/fongsl/broadly_active_enhancers/data/roadmap_multi_data/hg38/hg38_multiintersect_roadmap_enh.bed\"\n",
    "\n",
    "os_cmd = \"multiIntersectBed -i %s -header -names %s > %s\" % (a,b, output)\n",
    "print(os_cmd)                                                                                                                                                                                            \n",
    "os.system(os_cmd)"
   ]
  },
  {
   "cell_type": "code",
   "execution_count": 10,
   "metadata": {},
   "outputs": [
    {
     "name": "stdout",
     "output_type": "stream",
     "text": [
      "multiIntersectBed -i /dors/capra_lab/users/fongsl/roadmap/hg38_2018-06-20/Hsap_H3K27ac_plus_H3K4me3_minus_NTR0003013.bed /dors/capra_lab/users/fongsl/roadmap/hg38_2018-06-20/Hsap_H3K27ac_plus_H3K4me3_minus_UBERON0002967.bed /dors/capra_lab/users/fongsl/roadmap/hg38_2018-06-20/Hsap_H3K27ac_plus_H3K4me3_minus_CL0000047.bed /dors/capra_lab/users/fongsl/roadmap/hg38_2018-06-20/Hsap_H3K27ac_plus_H3K4me3_minus_UBERON0000305.bed /dors/capra_lab/users/fongsl/roadmap/hg38_2018-06-20/Hsap_H3K27ac_plus_H3K4me3_minus_UBERON0002240.bed /dors/capra_lab/users/fongsl/roadmap/hg38_2018-06-20/Hsap_H3K27ac_plus_H3K4me3_minus_CL0000222.bed /dors/capra_lab/users/fongsl/roadmap/hg38_2018-06-20/Hsap_H3K27ac_plus_H3K4me3_minus_CL0000897.bed /dors/capra_lab/users/fongsl/roadmap/hg38_2018-06-20/Hsap_H3K27ac_plus_H3K4me3_minus_CL0001054.bed /dors/capra_lab/users/fongsl/roadmap/hg38_2018-06-20/Hsap_H3K27ac_plus_H3K4me3_minus_UBERON0001043.bed /dors/capra_lab/users/fongsl/roadmap/hg38_2018-06-20/Hsap_H3K27ac_plus_H3K4me3_minus_UBERON0000947.bed /dors/capra_lab/users/fongsl/roadmap/hg38_2018-06-20/Hsap_H3K27ac_plus_H3K4me3_minus_CL0000792.bed /dors/capra_lab/users/fongsl/roadmap/hg38_2018-06-20/Hsap_H3K27ac_plus_H3K4me3_minus_UBERON0001255.bed /dors/capra_lab/users/fongsl/roadmap/hg38_2018-06-20/Hsap_H3K27ac_plus_H3K4me3_minus_CL0000895.bed /dors/capra_lab/users/fongsl/roadmap/hg38_2018-06-20/Hsap_H3K27ac_plus_H3K4me3_minus_CL0000909.bed /dors/capra_lab/users/fongsl/roadmap/hg38_2018-06-20/Hsap_H3K27ac_plus_H3K4me3_minus_EFO0007086.bed /dors/capra_lab/users/fongsl/roadmap/hg38_2018-06-20/Hsap_H3K27ac_plus_H3K4me3_minus_UBERON0012489.bed /dors/capra_lab/users/fongsl/roadmap/hg38_2018-06-20/Hsap_H3K27ac_plus_H3K4me3_minus_UBERON0002106.bed /dors/capra_lab/users/fongsl/roadmap/hg38_2018-06-20/Hsap_H3K27ac_plus_H3K4me3_minus_CL0000084.bed /dors/capra_lab/users/fongsl/roadmap/hg38_2018-06-20/Hsap_H3K27ac_plus_H3K4me3_minus_NTR0000856.bed /dors/capra_lab/users/fongsl/roadmap/hg38_2018-06-20/Hsap_H3K27ac_plus_H3K4me3_minus_EFO0007116.bed /dors/capra_lab/users/fongsl/roadmap/hg38_2018-06-20/Hsap_H3K27ac_plus_H3K4me3_minus_UBERON0001159.bed /dors/capra_lab/users/fongsl/roadmap/hg38_2018-06-20/Hsap_H3K27ac_plus_H3K4me3_minus_UBERON0002686.bed /dors/capra_lab/users/fongsl/roadmap/hg38_2018-06-20/Hsap_H3K27ac_plus_H3K4me3_minus_EFO0003045.bed /dors/capra_lab/users/fongsl/roadmap/hg38_2018-06-20/Hsap_H3K27ac_plus_H3K4me3_minus_CL2000001.bed /dors/capra_lab/users/fongsl/roadmap/hg38_2018-06-20/Hsap_H3K27ac_plus_H3K4me3_minus_UBERON0003124.bed /dors/capra_lab/users/fongsl/roadmap/hg38_2018-06-20/Hsap_H3K27ac_plus_H3K4me3_minus_UBERON0018112.bed /dors/capra_lab/users/fongsl/roadmap/hg38_2018-06-20/Hsap_H3K27ac_plus_H3K4me3_minus_UBERON0001134.bed /dors/capra_lab/users/fongsl/roadmap/hg38_2018-06-20/Hsap_H3K27ac_plus_H3K4me3_minus_UBERON0002078.bed /dors/capra_lab/users/fongsl/roadmap/hg38_2018-06-20/Hsap_H3K27ac_plus_H3K4me3_minus_CL0000221.bed /dors/capra_lab/users/fongsl/roadmap/hg38_2018-06-20/Hsap_H3K27ac_plus_H3K4me3_minus_UBERON0006483.bed /dors/capra_lab/users/fongsl/roadmap/hg38_2018-06-20/Hsap_H3K27ac_plus_H3K4me3_minus_UBERON0008450.bed /dors/capra_lab/users/fongsl/roadmap/hg38_2018-06-20/Hsap_H3K27ac_plus_H3K4me3_minus_CL0000624.bed /dors/capra_lab/users/fongsl/roadmap/hg38_2018-06-20/Hsap_H3K27ac_plus_H3K4me3_minus_UBERON0000945.bed /dors/capra_lab/users/fongsl/roadmap/hg38_2018-06-20/Hsap_H3K27ac_plus_H3K4me3_minus_UBERON0012488.bed /dors/capra_lab/users/fongsl/roadmap/hg38_2018-06-20/Hsap_H3K27ac_plus_H3K4me3_minus_UBERON0003346.bed /dors/capra_lab/users/fongsl/roadmap/hg38_2018-06-20/Hsap_H3K27ac_plus_H3K4me3_minus_CL0000623.bed /dors/capra_lab/users/fongsl/roadmap/hg38_2018-06-20/Hsap_H3K27ac_plus_H3K4me3_minus_UBERON0002108.bed /dors/capra_lab/users/fongsl/roadmap/hg38_2018-06-20/Hsap_H3K27ac_plus_H3K4me3_minus_EFO0007089.bed /dors/capra_lab/users/fongsl/roadmap/hg38_2018-06-20/Hsap_H3K27ac_plus_H3K4me3_minus_NTR0003079.bed /dors/capra_lab/users/fongsl/roadmap/hg38_2018-06-20/Hsap_H3K27ac_plus_H3K4me3_minus_CL0001059.bed /dors/capra_lab/users/fongsl/roadmap/hg38_2018-06-20/Hsap_H3K27ac_plus_H3K4me3_minus_EFO0007096.bed /dors/capra_lab/users/fongsl/roadmap/hg38_2018-06-20/Hsap_H3K27ac_plus_H3K4me3_minus_UBERON0002305.bed /dors/capra_lab/users/fongsl/roadmap/hg38_2018-06-20/Hsap_H3K27ac_plus_H3K4me3_minus_UBERON0014455.bed /dors/capra_lab/users/fongsl/roadmap/hg38_2018-06-20/Hsap_H3K27ac_plus_H3K4me3_minus_UBERON0002113.bed /dors/capra_lab/users/fongsl/roadmap/hg38_2018-06-20/Hsap_H3K27ac_plus_H3K4me3_minus_CL2000045.bed /dors/capra_lab/users/fongsl/roadmap/hg38_2018-06-20/Hsap_H3K27ac_plus_H3K4me3_minus_CL1001608.bed /dors/capra_lab/users/fongsl/roadmap/hg38_2018-06-20/Hsap_H3K27ac_plus_H3K4me3_minus_UBERON0001774.bed /dors/capra_lab/users/fongsl/roadmap/hg38_2018-06-20/Hsap_H3K27ac_plus_H3K4me3_minus_UBERON0002084.bed /dors/capra_lab/users/fongsl/roadmap/hg38_2018-06-20/Hsap_H3K27ac_plus_H3K4me3_minus_EFO0001196.bed /dors/capra_lab/users/fongsl/roadmap/hg38_2018-06-20/Hsap_H3K27ac_plus_H3K4me3_minus_UBERON0002080.bed /dors/capra_lab/users/fongsl/roadmap/hg38_2018-06-20/Hsap_H3K27ac_plus_H3K4me3_minus_EFO0007108.bed /dors/capra_lab/users/fongsl/roadmap/hg38_2018-06-20/Hsap_H3K27ac_plus_H3K4me3_minus_EFO0007105.bed /dors/capra_lab/users/fongsl/roadmap/hg38_2018-06-20/Hsap_H3K27ac_plus_H3K4me3_minus_EFO0003042.bed /dors/capra_lab/users/fongsl/roadmap/hg38_2018-06-20/Hsap_H3K27ac_plus_H3K4me3_minus_UBERON0002370.bed /dors/capra_lab/users/fongsl/roadmap/hg38_2018-06-20/Hsap_H3K27ac_plus_H3K4me3_minus_EFO0007083.bed /dors/capra_lab/users/fongsl/roadmap/hg38_2018-06-20/Hsap_H3K27ac_plus_H3K4me3_minus_EFO0000586.bed /dors/capra_lab/users/fongsl/roadmap/hg38_2018-06-20/Hsap_H3K27ac_plus_H3K4me3_minus_UBERON0000317.bed /dors/capra_lab/users/fongsl/roadmap/hg38_2018-06-20/Hsap_H3K27ac_plus_H3K4me3_minus_CL0000236.bed /dors/capra_lab/users/fongsl/roadmap/hg38_2018-06-20/Hsap_H3K27ac_plus_H3K4me3_minus_UBERON0001987.bed /dors/capra_lab/users/fongsl/roadmap/hg38_2018-06-20/Hsap_H3K27ac_plus_H3K4me3_minus_UBERON0001871.bed /dors/capra_lab/users/fongsl/roadmap/hg38_2018-06-20/Hsap_H3K27ac_plus_H3K4me3_minus_UBERON0000059.bed /dors/capra_lab/users/fongsl/roadmap/hg38_2018-06-20/Hsap_H3K27ac_plus_H3K4me3_minus_UBERON0000992.bed /dors/capra_lab/users/fongsl/roadmap/hg38_2018-06-20/Hsap_H3K27ac_plus_H3K4me3_minus_NTR0000427.bed /dors/capra_lab/users/fongsl/roadmap/hg38_2018-06-20/Hsap_H3K27ac_plus_H3K4me3_minus_UBERON0000320.bed /dors/capra_lab/users/fongsl/roadmap/hg38_2018-06-20/Hsap_H3K27ac_plus_H3K4me3_minus_EFO0007098.bed /dors/capra_lab/users/fongsl/roadmap/hg38_2018-06-20/Hsap_H3K27ac_plus_H3K4me3_minus_CL1001606.bed /dors/capra_lab/users/fongsl/roadmap/hg38_2018-06-20/Hsap_H3K27ac_plus_H3K4me3_minus_CL0000905.bed /dors/capra_lab/users/fongsl/roadmap/hg38_2018-06-20/Hsap_H3K27ac_plus_H3K4me3_minus_UBERON0004222.bed /dors/capra_lab/users/fongsl/roadmap/hg38_2018-06-20/Hsap_H3K27ac_plus_H3K4me3_minus_UBERON0002369.bed /dors/capra_lab/users/fongsl/roadmap/hg38_2018-06-20/Hsap_H3K27ac_plus_H3K4me3_minus_UBERON0001873.bed /dors/capra_lab/users/fongsl/roadmap/hg38_2018-06-20/Hsap_H3K27ac_plus_H3K4me3_minus_CL0000223.bed /dors/capra_lab/users/fongsl/roadmap/hg38_2018-06-20/Hsap_H3K27ac_plus_H3K4me3_minus_CL0000351.bed /dors/capra_lab/users/fongsl/roadmap/hg38_2018-06-20/Hsap_H3K27ac_plus_H3K4me3_minus_UBERON0000016.bed /dors/capra_lab/users/fongsl/roadmap/hg38_2018-06-20/Hsap_H3K27ac_plus_H3K4me3_minus_CL0000625.bed /dors/capra_lab/users/fongsl/roadmap/hg38_2018-06-20/Hsap_H3K27ac_plus_H3K4me3_minus_UBERON0007106.bed /dors/capra_lab/users/fongsl/roadmap/hg38_2018-06-20/Hsap_H3K27ac_plus_H3K4me3_minus_UBERON0002107.bed /dors/capra_lab/users/fongsl/roadmap/hg38_2018-06-20/Hsap_H3K27ac_plus_H3K4me3_minus_UBERON0001264.bed /dors/capra_lab/users/fongsl/roadmap/hg38_2018-06-20/Hsap_H3K27ac_plus_H3K4me3_minus_UBERON0002048.bed /dors/capra_lab/users/fongsl/roadmap/hg38_2018-06-20/Hsap_H3K27ac_plus_H3K4me3_minus_UBERON0002038.bed /dors/capra_lab/users/fongsl/roadmap/hg38_2018-06-20/Hsap_H3K27ac_plus_H3K4me3_minus_CL0000899.bed -f 0.5 -e -sorted -header -names NTR0003013 UBERON0002967 CL0000047 UBERON0000305 UBERON0002240 CL0000222 CL0000897 CL0001054 UBERON0001043 UBERON0000947 CL0000792 UBERON0001255 CL0000895 CL0000909 EFO0007086 UBERON0012489 UBERON0002106 CL0000084 NTR0000856 EFO0007116 UBERON0001159 UBERON0002686 EFO0003045 CL2000001 UBERON0003124 UBERON0018112 UBERON0001134 UBERON0002078 CL0000221 UBERON0006483 UBERON0008450 CL0000624 UBERON0000945 UBERON0012488 UBERON0003346 CL0000623 UBERON0002108 EFO0007089 NTR0003079 CL0001059 EFO0007096 UBERON0002305 UBERON0014455 UBERON0002113 CL2000045 CL1001608 UBERON0001774 UBERON0002084 EFO0001196 UBERON0002080 EFO0007108 EFO0007105 EFO0003042 UBERON0002370 EFO0007083 EFO0000586 UBERON0000317 CL0000236 UBERON0001987 UBERON0001871 UBERON0000059 UBERON0000992 NTR0000427 UBERON0000320 EFO0007098 CL1001606 CL0000905 UBERON0004222 UBERON0002369 UBERON0001873 CL0000223 CL0000351 UBERON0000016 CL0000625 UBERON0007106 UBERON0002107 UBERON0001264 UBERON0002048 UBERON0002038 CL0000899 > /dors/capra_lab/users/fongsl/broadly_active_enhancers/data/roadmap_multi_data/hg38_test.bed\n"
     ]
    },
    {
     "data": {
      "text/plain": [
       "0"
      ]
     },
     "execution_count": 10,
     "metadata": {},
     "output_type": "execute_result"
    }
   ],
   "source": [
    "# FOR MERGING FRAGMENTS - RERUN THE MULTI INTERSECT WITHOUT HEADERS\n",
    "\n",
    "#note - \"-f 0.5 -e\" arguments don't do anything in multi-intersect BEDTool function. They're completely useless.\n",
    "\n",
    "output = \"/dors/capra_lab/users/fongsl/broadly_active_enhancers/data/roadmap_multi_data/hg38/hg38_test.bed\"\n",
    "\n",
    "os_cmd = \"multiIntersectBed -i %s -f 0.5 -e -sorted -header -names %s > %s\" % (a,b, output)\n",
    "print(os_cmd)                                                                                                                                                                                            \n",
    "os.system(os_cmd)"
   ]
  }
 ],
 "metadata": {
  "kernelspec": {
   "display_name": "Python 3",
   "language": "python",
   "name": "python3"
  },
  "language_info": {
   "codemirror_mode": {
    "name": "ipython",
    "version": 3
   },
   "file_extension": ".py",
   "mimetype": "text/x-python",
   "name": "python",
   "nbconvert_exporter": "python",
   "pygments_lexer": "ipython3",
   "version": "3.6.1"
  }
 },
 "nbformat": 4,
 "nbformat_minor": 2
}
