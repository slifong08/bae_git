{
 "cells": [
  {
   "cell_type": "code",
   "execution_count": 1,
   "metadata": {
    "collapsed": true
   },
   "outputs": [],
   "source": [
    "#180607\n",
    "\n",
    "#!/bin/python\n",
    "\n",
    "#sarahfong\n",
    "#biopython is loaded in the sf_test env with 'conda install -c bioconda biopython'"
   ]
  },
  {
   "cell_type": "code",
   "execution_count": 2,
   "metadata": {
    "collapsed": true
   },
   "outputs": [],
   "source": [
    "import sys, os\n",
    "import glob"
   ]
  },
  {
   "cell_type": "code",
   "execution_count": 3,
   "metadata": {},
   "outputs": [
    {
     "data": {
      "text/plain": [
       "0"
      ]
     },
     "execution_count": 3,
     "metadata": {},
     "output_type": "execute_result"
    }
   ],
   "source": [
    "# load the bedtools module\n",
    "os.system(\"ml restore bed_ml\")"
   ]
  },
  {
   "cell_type": "code",
   "execution_count": 4,
   "metadata": {
    "collapsed": true
   },
   "outputs": [],
   "source": [
    "# this directory contains the .bed files of all human-specific coordinates of the genome. \n",
    "hg19_dir = \"/dors/capra_lab/users/fongsl/broadly_active_enhancers/data/hg19_villar/\""
   ]
  },
  {
   "cell_type": "code",
   "execution_count": 5,
   "metadata": {},
   "outputs": [
    {
     "name": "stdout",
     "output_type": "stream",
     "text": [
      "dict_keys(['chr1', 'chr22', 'chr10', 'chr15', 'chr8', 'chr19', 'chr4', 'chr18', 'chr13', 'chr16', 'chr21', 'chr2', 'chr7', 'chr3', 'chrX', 'chr9', 'chr20', 'chr17', 'chr5', 'chr12', 'chr14', 'chr6', 'chr11'])\n"
     ]
    }
   ],
   "source": [
    "# get hg19 human specific bed files\n",
    "hg19_list = glob.glob(\"%shg19_species*.bed\" % hg19_dir)\n",
    "hg19_dict = {(((i.split(\"/\")[-1])).split(\"_\")[-1]).split(\".\")[0]: i for i in hg19_list} # {chr:/file/path/chr.bed}\n",
    "print(hg19_dict.keys())"
   ]
  },
  {
   "cell_type": "code",
   "execution_count": 6,
   "metadata": {},
   "outputs": [
    {
     "data": {
      "text/plain": [
       "'/dors/capra_lab/users/fongsl/broadly_active_enhancers/data/hg19_villar/'"
      ]
     },
     "execution_count": 6,
     "metadata": {},
     "output_type": "execute_result"
    }
   ],
   "source": [
    "hg19_dir"
   ]
  },
  {
   "cell_type": "code",
   "execution_count": 7,
   "metadata": {},
   "outputs": [
    {
     "name": "stdout",
     "output_type": "stream",
     "text": [
      "dict_keys(['chr6', 'chr5', 'chr7', 'chr16', 'chr10', 'chr2', 'chr22', 'chr18', 'chr12', 'chr4', 'chr19', 'chr21', 'chr3', 'chr13', 'chrY', 'chr15', 'chr1', 'chrM', 'chr17', 'chr11', 'chr20', 'chr8', 'chr9', 'chr14', 'chrX'])\n"
     ]
    }
   ],
   "source": [
    "# get roadmap functional enhancers bed files\n",
    "bedpath = '/dors/capra_lab/users/fongsl/broadly_active_enhancers/data/roadmap_multi_data/'\n",
    "bed_list = glob.glob(\"%schr*_short_multiintersect_roadmap.bed\"% bedpath)\n",
    "\n",
    "#bed_list99 = glob.glob(\"%schr*_99_short_multiintersect_roadmap.bed\"% bedpath)\n",
    "\n",
    "bed_dict = {(i.split(\"/\")[-1]).split(\"_\")[0]: i for i in bed_list} # {chr:/file/villarpath/chr.bed}\n",
    "print(bed_dict.keys())"
   ]
  },
  {
   "cell_type": "code",
   "execution_count": 8,
   "metadata": {
    "scrolled": false
   },
   "outputs": [
    {
     "name": "stdout",
     "output_type": "stream",
     "text": [
      "chr6\n",
      "chr5\n",
      "chr7\n",
      "chr16\n",
      "chr10\n",
      "chr2\n",
      "chr22\n",
      "chr18\n",
      "chr12\n",
      "chr4\n",
      "chr19\n",
      "chr21\n",
      "chr3\n",
      "chr13\n",
      "chrY\n",
      "chr15\n",
      "chr1\n",
      "chrM\n",
      "chr17\n",
      "chr11\n",
      "chr20\n",
      "chr8\n",
      "chr9\n",
      "chr14\n",
      "chrX\n"
     ]
    }
   ],
   "source": [
    "for b_chr, b_file in bed_dict.items():\n",
    "    print(b_chr)\n",
    "    if b_chr in hg19_dict.keys():\n",
    "        hg19_file = hg19_dict[b_chr]\n",
    "        outfile = \"%shuman_specific/%s_hspec_x_hg19.bed\" %(bedpath, b_chr)\n",
    "        \n",
    "        bed_cmd = \"bedtools intersect -a %s -b %s -wao > %s\" %(b_file, hg19_file, outfile)\n",
    "        #print(bed_cmd)\n",
    "        os.system(bed_cmd)"
   ]
  },
  {
   "cell_type": "code",
   "execution_count": 15,
   "metadata": {},
   "outputs": [
    {
     "data": {
      "text/plain": [
       "0"
      ]
     },
     "execution_count": 15,
     "metadata": {},
     "output_type": "execute_result"
    }
   ],
   "source": [
    "# concatenate the resultant .BED files\n",
    "\n",
    "#On second thought, do not do this. The resultant file is MASSIVE. \n",
    "\n",
    "cmd = \"cat /dors/capra_lab/users/fongsl/broadly_active_enhancers/data/roadmap_multi_data/human_specific/chr*_hspec_x_hg19.bed > /dors/capra_lab/users/fongsl/broadly_active_enhancers/data/roadmap_multi_data/human_specific/all_chr_hspec_x_hg19.bed\"\n",
    "\n",
    "os.system(cmd)\n"
   ]
  }
 ],
 "metadata": {
  "kernelspec": {
   "display_name": "Python 3",
   "language": "python",
   "name": "python3"
  },
  "language_info": {
   "codemirror_mode": {
    "name": "ipython",
    "version": 3
   },
   "file_extension": ".py",
   "mimetype": "text/x-python",
   "name": "python",
   "nbconvert_exporter": "python",
   "pygments_lexer": "ipython3",
   "version": "3.6.1"
  }
 },
 "nbformat": 4,
 "nbformat_minor": 2
}
