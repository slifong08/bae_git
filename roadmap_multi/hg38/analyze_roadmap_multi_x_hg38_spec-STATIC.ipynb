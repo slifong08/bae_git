{
 "cells": [
  {
   "cell_type": "code",
   "execution_count": null,
   "metadata": {
    "collapsed": true
   },
   "outputs": [],
   "source": [
    "#system(\"source activate sf_test\")"
   ]
  },
  {
   "cell_type": "code",
   "execution_count": null,
   "metadata": {
    "collapsed": true
   },
   "outputs": [],
   "source": [
    "#install.packages('ggplot2')\n",
    "#install.packages(\"dplyr\")"
   ]
  },
  {
   "cell_type": "code",
   "execution_count": 20,
   "metadata": {},
   "outputs": [
    {
     "name": "stderr",
     "output_type": "stream",
     "text": [
      "\n",
      "Attaching package: ‘dplyr’\n",
      "\n",
      "The following objects are masked from ‘package:stats’:\n",
      "\n",
      "    filter, lag\n",
      "\n",
      "The following objects are masked from ‘package:base’:\n",
      "\n",
      "    intersect, setdiff, setequal, union\n",
      "\n"
     ]
    }
   ],
   "source": [
    "library(ggplot2)\n",
    "library(dplyr)"
   ]
  },
  {
   "cell_type": "code",
   "execution_count": 1,
   "metadata": {
    "collapsed": true
   },
   "outputs": [],
   "source": [
    "#find the .BED files of Roadmap enhancers intersected with hg19 files containing species counts\n",
    "path <- \"/dors/capra_lab/users/fongsl/broadly_active_enhancers/data/roadmap_multi_data/hg38/human_specific\"\n",
    "setwd(path)"
   ]
  },
  {
   "cell_type": "code",
   "execution_count": 3,
   "metadata": {
    "collapsed": true
   },
   "outputs": [],
   "source": [
    "a <- list.files()"
   ]
  },
  {
   "cell_type": "code",
   "execution_count": 4,
   "metadata": {},
   "outputs": [
    {
     "name": "stdout",
     "output_type": "stream",
     "text": [
      " [1] \"bae_summary_hg38spec_x_roadmap.txt\"      \n",
      " [2] \"chr1_hspec_x_hg38.bed\"                   \n",
      " [3] \"chr10_hspec_x_hg38.bed\"                  \n",
      " [4] \"chr11_hspec_x_hg38.bed\"                  \n",
      " [5] \"chr12_hspec_x_hg38.bed\"                  \n",
      " [6] \"chr13_hspec_x_hg38.bed\"                  \n",
      " [7] \"chr14_hspec_x_hg38.bed\"                  \n",
      " [8] \"chr15_hspec_x_hg38.bed\"                  \n",
      " [9] \"chr16_hspec_x_hg38.bed\"                  \n",
      "[10] \"chr17_hspec_x_hg38.bed\"                  \n",
      "[11] \"chr18_hspec_x_hg38.bed\"                  \n",
      "[12] \"chr19_hspec_x_hg38.bed\"                  \n",
      "[13] \"chr2_hspec_x_hg38.bed\"                   \n",
      "[14] \"chr20_hspec_x_hg38.bed\"                  \n",
      "[15] \"chr21_hspec_x_hg38.bed\"                  \n",
      "[16] \"chr22_hspec_x_hg38.bed\"                  \n",
      "[17] \"chr3_hspec_x_hg38.bed\"                   \n",
      "[18] \"chr4_hspec_x_hg38.bed\"                   \n",
      "[19] \"chr5_hspec_x_hg38.bed\"                   \n",
      "[20] \"chr6_hspec_x_hg38.bed\"                   \n",
      "[21] \"chr7_hspec_x_hg38.bed\"                   \n",
      "[22] \"chr8_hspec_x_hg38.bed\"                   \n",
      "[23] \"chr9_hspec_x_hg38.bed\"                   \n",
      "[24] \"hg38_90th_percentile_x_100species.bed\"   \n",
      "[25] \"hg38_human_specific_x_100species.bed\"    \n",
      "[26] \"hspecific_summary_hg38spec_x_roadmap.txt\"\n",
      "[27] \"result_pdf\"                              \n"
     ]
    }
   ],
   "source": [
    "print(a)"
   ]
  },
  {
   "cell_type": "code",
   "execution_count": 10,
   "metadata": {},
   "outputs": [
    {
     "name": "stdout",
     "output_type": "stream",
     "text": [
      "[1] \"hg38_human_specific_x_100species.bed\"\n"
     ]
    },
    {
     "data": {
      "text/html": [
       "<ol class=list-inline>\n",
       "\t<li>4958</li>\n",
       "\t<li>15</li>\n",
       "</ol>\n"
      ],
      "text/latex": [
       "\\begin{enumerate*}\n",
       "\\item 4958\n",
       "\\item 15\n",
       "\\end{enumerate*}\n"
      ],
      "text/markdown": [
       "1. 4958\n",
       "2. 15\n",
       "\n",
       "\n"
      ],
      "text/plain": [
       "[1] 4958   15"
      ]
     },
     "metadata": {},
     "output_type": "display_data"
    }
   ],
   "source": [
    "bedfile = a[25]\n",
    "print(bedfile)\n",
    "df <-read.table(bedfile, sep = '\\t', h=T, stringsAsFactors=F, nrows=20000)\n",
    "dim(df)"
   ]
  },
  {
   "cell_type": "code",
   "execution_count": 16,
   "metadata": {},
   "outputs": [
    {
     "data": {
      "text/html": [
       "<table>\n",
       "<thead><tr><th scope=col>enh_chr</th><th scope=col>enh_start</th><th scope=col>enh_end</th><th scope=col>enh_overlap</th><th scope=col>enh_percentile</th><th scope=col>hg_chr</th><th scope=col>hg_start</th><th scope=col>hg_end</th><th scope=col>hg_strand</th><th scope=col>hg_ref</th><th scope=col>hg_spec</th><th scope=col>hg_vspec</th><th scope=col>hg-spec_names</th><th scope=col>length</th><th scope=col>NA</th><th scope=col>log10_length</th></tr></thead>\n",
       "<tbody>\n",
       "\t<tr><td>chr1     </td><td> 180680  </td><td> 181024  </td><td>1        </td><td>0.10     </td><td>chr1     </td><td> 180904  </td><td> 181582  </td><td>+        </td><td>NA       </td><td>0        </td><td>0        </td><td>[]       </td><td>120      </td><td>2.0791812</td><td>2.0791812</td></tr>\n",
       "\t<tr><td>chr1     </td><td>1588651  </td><td>1588801  </td><td>1        </td><td>0.10     </td><td>chr1     </td><td>1588447  </td><td>1589160  </td><td>+        </td><td>NA       </td><td>0        </td><td>0        </td><td>[]       </td><td>150      </td><td>2.1760913</td><td>2.1760913</td></tr>\n",
       "\t<tr><td>chr1     </td><td>1720651  </td><td>1720748  </td><td>1        </td><td>0.10     </td><td>chr1     </td><td>1720694  </td><td>1720891  </td><td>+        </td><td>NA       </td><td>0        </td><td>0        </td><td>[]       </td><td> 54      </td><td>1.7323938</td><td>1.7323938</td></tr>\n",
       "\t<tr><td>chr1     </td><td>1720748  </td><td>1720776  </td><td>2        </td><td>0.26     </td><td>chr1     </td><td>1720694  </td><td>1720891  </td><td>+        </td><td>NA       </td><td>0        </td><td>0        </td><td>[]       </td><td> 28      </td><td>1.4471580</td><td>1.4471580</td></tr>\n",
       "\t<tr><td>chr1     </td><td>1720776  </td><td>1720932  </td><td>3        </td><td>0.39     </td><td>chr1     </td><td>1720694  </td><td>1720891  </td><td>+        </td><td>NA       </td><td>0        </td><td>0        </td><td>[]       </td><td>115      </td><td>2.0606978</td><td>2.0606978</td></tr>\n",
       "\t<tr><td>chr1     </td><td>1720932  </td><td>1721032  </td><td>4        </td><td>0.48     </td><td>chr1     </td><td>1720956  </td><td>1720959  </td><td>+        </td><td>NA       </td><td>0        </td><td>0        </td><td>[]       </td><td>  3      </td><td>0.4771213</td><td>0.4771213</td></tr>\n",
       "</tbody>\n",
       "</table>\n"
      ],
      "text/latex": [
       "\\begin{tabular}{r|llllllllllllllll}\n",
       " enh\\_chr & enh\\_start & enh\\_end & enh\\_overlap & enh\\_percentile & hg\\_chr & hg\\_start & hg\\_end & hg\\_strand & hg\\_ref & hg\\_spec & hg\\_vspec & hg-spec\\_names & length & NA & log10\\_length\\\\\n",
       "\\hline\n",
       "\t chr1      &  180680   &  181024   & 1         & 0.10      & chr1      &  180904   &  181582   & +         & NA        & 0         & 0         & {[}{]}    & 120       & 2.0791812 & 2.0791812\\\\\n",
       "\t chr1      & 1588651   & 1588801   & 1         & 0.10      & chr1      & 1588447   & 1589160   & +         & NA        & 0         & 0         & {[}{]}    & 150       & 2.1760913 & 2.1760913\\\\\n",
       "\t chr1      & 1720651   & 1720748   & 1         & 0.10      & chr1      & 1720694   & 1720891   & +         & NA        & 0         & 0         & {[}{]}    &  54       & 1.7323938 & 1.7323938\\\\\n",
       "\t chr1      & 1720748   & 1720776   & 2         & 0.26      & chr1      & 1720694   & 1720891   & +         & NA        & 0         & 0         & {[}{]}    &  28       & 1.4471580 & 1.4471580\\\\\n",
       "\t chr1      & 1720776   & 1720932   & 3         & 0.39      & chr1      & 1720694   & 1720891   & +         & NA        & 0         & 0         & {[}{]}    & 115       & 2.0606978 & 2.0606978\\\\\n",
       "\t chr1      & 1720932   & 1721032   & 4         & 0.48      & chr1      & 1720956   & 1720959   & +         & NA        & 0         & 0         & {[}{]}    &   3       & 0.4771213 & 0.4771213\\\\\n",
       "\\end{tabular}\n"
      ],
      "text/markdown": [
       "\n",
       "enh_chr | enh_start | enh_end | enh_overlap | enh_percentile | hg_chr | hg_start | hg_end | hg_strand | hg_ref | hg_spec | hg_vspec | hg-spec_names | length | NA | log10_length | \n",
       "|---|---|---|---|---|---|\n",
       "| chr1      |  180680   |  181024   | 1         | 0.10      | chr1      |  180904   |  181582   | +         | NA        | 0         | 0         | []        | 120       | 2.0791812 | 2.0791812 | \n",
       "| chr1      | 1588651   | 1588801   | 1         | 0.10      | chr1      | 1588447   | 1589160   | +         | NA        | 0         | 0         | []        | 150       | 2.1760913 | 2.1760913 | \n",
       "| chr1      | 1720651   | 1720748   | 1         | 0.10      | chr1      | 1720694   | 1720891   | +         | NA        | 0         | 0         | []        |  54       | 1.7323938 | 1.7323938 | \n",
       "| chr1      | 1720748   | 1720776   | 2         | 0.26      | chr1      | 1720694   | 1720891   | +         | NA        | 0         | 0         | []        |  28       | 1.4471580 | 1.4471580 | \n",
       "| chr1      | 1720776   | 1720932   | 3         | 0.39      | chr1      | 1720694   | 1720891   | +         | NA        | 0         | 0         | []        | 115       | 2.0606978 | 2.0606978 | \n",
       "| chr1      | 1720932   | 1721032   | 4         | 0.48      | chr1      | 1720956   | 1720959   | +         | NA        | 0         | 0         | []        |   3       | 0.4771213 | 0.4771213 | \n",
       "\n",
       "\n"
      ],
      "text/plain": [
       "  enh_chr enh_start enh_end enh_overlap enh_percentile hg_chr hg_start hg_end \n",
       "1 chr1     180680    181024 1           0.10           chr1    180904   181582\n",
       "2 chr1    1588651   1588801 1           0.10           chr1   1588447  1589160\n",
       "3 chr1    1720651   1720748 1           0.10           chr1   1720694  1720891\n",
       "4 chr1    1720748   1720776 2           0.26           chr1   1720694  1720891\n",
       "5 chr1    1720776   1720932 3           0.39           chr1   1720694  1720891\n",
       "6 chr1    1720932   1721032 4           0.48           chr1   1720956  1720959\n",
       "  hg_strand hg_ref hg_spec hg_vspec hg-spec_names length <NA>      log10_length\n",
       "1 +         NA     0       0        []            120    2.0791812 2.0791812   \n",
       "2 +         NA     0       0        []            150    2.1760913 2.1760913   \n",
       "3 +         NA     0       0        []             54    1.7323938 1.7323938   \n",
       "4 +         NA     0       0        []             28    1.4471580 1.4471580   \n",
       "5 +         NA     0       0        []            115    2.0606978 2.0606978   \n",
       "6 +         NA     0       0        []              3    0.4771213 0.4771213   "
      ]
     },
     "metadata": {},
     "output_type": "display_data"
    }
   ],
   "source": [
    "head(df)"
   ]
  },
  {
   "cell_type": "code",
   "execution_count": 17,
   "metadata": {
    "scrolled": true
   },
   "outputs": [
    {
     "data": {
      "text/html": [
       "<table>\n",
       "<thead><tr><th scope=col>enh_chr</th><th scope=col>enh_start</th><th scope=col>enh_end</th><th scope=col>enh_overlap</th><th scope=col>enh_percentile</th><th scope=col>hg_chr</th><th scope=col>hg_start</th><th scope=col>hg_end</th><th scope=col>hg_strand</th><th scope=col>hg_ref</th><th scope=col>hg_spec</th><th scope=col>hg_vspec</th><th scope=col>hg-spec_names</th><th scope=col>length</th><th scope=col>NA</th><th scope=col>NA</th><th scope=col>log10_length</th></tr></thead>\n",
       "<tbody>\n",
       "\t<tr><td>chr1     </td><td> 180680  </td><td> 181024  </td><td>1        </td><td>0.10     </td><td>chr1     </td><td> 180904  </td><td> 181582  </td><td>+        </td><td>NA       </td><td>0        </td><td>0        </td><td>[]       </td><td>120      </td><td>2.0791812</td><td>2.0791812</td><td>2.0791812</td></tr>\n",
       "\t<tr><td>chr1     </td><td>1588651  </td><td>1588801  </td><td>1        </td><td>0.10     </td><td>chr1     </td><td>1588447  </td><td>1589160  </td><td>+        </td><td>NA       </td><td>0        </td><td>0        </td><td>[]       </td><td>150      </td><td>2.1760913</td><td>2.1760913</td><td>2.1760913</td></tr>\n",
       "\t<tr><td>chr1     </td><td>1720651  </td><td>1720748  </td><td>1        </td><td>0.10     </td><td>chr1     </td><td>1720694  </td><td>1720891  </td><td>+        </td><td>NA       </td><td>0        </td><td>0        </td><td>[]       </td><td> 54      </td><td>1.7323938</td><td>1.7323938</td><td>1.7323938</td></tr>\n",
       "\t<tr><td>chr1     </td><td>1720748  </td><td>1720776  </td><td>2        </td><td>0.26     </td><td>chr1     </td><td>1720694  </td><td>1720891  </td><td>+        </td><td>NA       </td><td>0        </td><td>0        </td><td>[]       </td><td> 28      </td><td>1.4471580</td><td>1.4471580</td><td>1.4471580</td></tr>\n",
       "\t<tr><td>chr1     </td><td>1720776  </td><td>1720932  </td><td>3        </td><td>0.39     </td><td>chr1     </td><td>1720694  </td><td>1720891  </td><td>+        </td><td>NA       </td><td>0        </td><td>0        </td><td>[]       </td><td>115      </td><td>2.0606978</td><td>2.0606978</td><td>2.0606978</td></tr>\n",
       "\t<tr><td>chr1     </td><td>1720932  </td><td>1721032  </td><td>4        </td><td>0.48     </td><td>chr1     </td><td>1720956  </td><td>1720959  </td><td>+        </td><td>NA       </td><td>0        </td><td>0        </td><td>[]       </td><td>  3      </td><td>0.4771213</td><td>0.4771213</td><td>0.4771213</td></tr>\n",
       "</tbody>\n",
       "</table>\n"
      ],
      "text/latex": [
       "\\begin{tabular}{r|lllllllllllllllll}\n",
       " enh\\_chr & enh\\_start & enh\\_end & enh\\_overlap & enh\\_percentile & hg\\_chr & hg\\_start & hg\\_end & hg\\_strand & hg\\_ref & hg\\_spec & hg\\_vspec & hg-spec\\_names & length & NA & NA & log10\\_length\\\\\n",
       "\\hline\n",
       "\t chr1      &  180680   &  181024   & 1         & 0.10      & chr1      &  180904   &  181582   & +         & NA        & 0         & 0         & {[}{]}    & 120       & 2.0791812 & 2.0791812 & 2.0791812\\\\\n",
       "\t chr1      & 1588651   & 1588801   & 1         & 0.10      & chr1      & 1588447   & 1589160   & +         & NA        & 0         & 0         & {[}{]}    & 150       & 2.1760913 & 2.1760913 & 2.1760913\\\\\n",
       "\t chr1      & 1720651   & 1720748   & 1         & 0.10      & chr1      & 1720694   & 1720891   & +         & NA        & 0         & 0         & {[}{]}    &  54       & 1.7323938 & 1.7323938 & 1.7323938\\\\\n",
       "\t chr1      & 1720748   & 1720776   & 2         & 0.26      & chr1      & 1720694   & 1720891   & +         & NA        & 0         & 0         & {[}{]}    &  28       & 1.4471580 & 1.4471580 & 1.4471580\\\\\n",
       "\t chr1      & 1720776   & 1720932   & 3         & 0.39      & chr1      & 1720694   & 1720891   & +         & NA        & 0         & 0         & {[}{]}    & 115       & 2.0606978 & 2.0606978 & 2.0606978\\\\\n",
       "\t chr1      & 1720932   & 1721032   & 4         & 0.48      & chr1      & 1720956   & 1720959   & +         & NA        & 0         & 0         & {[}{]}    &   3       & 0.4771213 & 0.4771213 & 0.4771213\\\\\n",
       "\\end{tabular}\n"
      ],
      "text/markdown": [
       "\n",
       "enh_chr | enh_start | enh_end | enh_overlap | enh_percentile | hg_chr | hg_start | hg_end | hg_strand | hg_ref | hg_spec | hg_vspec | hg-spec_names | length | NA | NA | log10_length | \n",
       "|---|---|---|---|---|---|\n",
       "| chr1      |  180680   |  181024   | 1         | 0.10      | chr1      |  180904   |  181582   | +         | NA        | 0         | 0         | []        | 120       | 2.0791812 | 2.0791812 | 2.0791812 | \n",
       "| chr1      | 1588651   | 1588801   | 1         | 0.10      | chr1      | 1588447   | 1589160   | +         | NA        | 0         | 0         | []        | 150       | 2.1760913 | 2.1760913 | 2.1760913 | \n",
       "| chr1      | 1720651   | 1720748   | 1         | 0.10      | chr1      | 1720694   | 1720891   | +         | NA        | 0         | 0         | []        |  54       | 1.7323938 | 1.7323938 | 1.7323938 | \n",
       "| chr1      | 1720748   | 1720776   | 2         | 0.26      | chr1      | 1720694   | 1720891   | +         | NA        | 0         | 0         | []        |  28       | 1.4471580 | 1.4471580 | 1.4471580 | \n",
       "| chr1      | 1720776   | 1720932   | 3         | 0.39      | chr1      | 1720694   | 1720891   | +         | NA        | 0         | 0         | []        | 115       | 2.0606978 | 2.0606978 | 2.0606978 | \n",
       "| chr1      | 1720932   | 1721032   | 4         | 0.48      | chr1      | 1720956   | 1720959   | +         | NA        | 0         | 0         | []        |   3       | 0.4771213 | 0.4771213 | 0.4771213 | \n",
       "\n",
       "\n"
      ],
      "text/plain": [
       "  enh_chr enh_start enh_end enh_overlap enh_percentile hg_chr hg_start hg_end \n",
       "1 chr1     180680    181024 1           0.10           chr1    180904   181582\n",
       "2 chr1    1588651   1588801 1           0.10           chr1   1588447  1589160\n",
       "3 chr1    1720651   1720748 1           0.10           chr1   1720694  1720891\n",
       "4 chr1    1720748   1720776 2           0.26           chr1   1720694  1720891\n",
       "5 chr1    1720776   1720932 3           0.39           chr1   1720694  1720891\n",
       "6 chr1    1720932   1721032 4           0.48           chr1   1720956  1720959\n",
       "  hg_strand hg_ref hg_spec hg_vspec hg-spec_names length <NA>      <NA>     \n",
       "1 +         NA     0       0        []            120    2.0791812 2.0791812\n",
       "2 +         NA     0       0        []            150    2.1760913 2.1760913\n",
       "3 +         NA     0       0        []             54    1.7323938 1.7323938\n",
       "4 +         NA     0       0        []             28    1.4471580 1.4471580\n",
       "5 +         NA     0       0        []            115    2.0606978 2.0606978\n",
       "6 +         NA     0       0        []              3    0.4771213 0.4771213\n",
       "  log10_length\n",
       "1 2.0791812   \n",
       "2 2.1760913   \n",
       "3 1.7323938   \n",
       "4 1.4471580   \n",
       "5 2.0606978   \n",
       "6 0.4771213   "
      ]
     },
     "metadata": {},
     "output_type": "display_data"
    },
    {
     "data": {
      "text/html": [
       "<table>\n",
       "<thead><tr><th scope=col>enh_chr</th><th scope=col>enh_start</th><th scope=col>enh_end</th><th scope=col>enh_overlap</th><th scope=col>enh_percentile</th><th scope=col>hg_chr</th><th scope=col>hg_start</th><th scope=col>hg_end</th><th scope=col>hg_strand</th><th scope=col>hg_ref</th><th scope=col>hg_spec</th><th scope=col>hg_vspec</th><th scope=col>hg-spec_names</th><th scope=col>length</th><th scope=col>NA</th><th scope=col>NA.1</th><th scope=col>log10_length</th></tr></thead>\n",
       "<tbody>\n",
       "\t<tr><td>chr1     </td><td> 180680  </td><td> 181024  </td><td>1        </td><td>0.10     </td><td>chr1     </td><td> 180904  </td><td> 181582  </td><td>+        </td><td>NA       </td><td>0        </td><td>0        </td><td>[]       </td><td>120      </td><td>2.0791812</td><td>2.0791812</td><td>2.0791812</td></tr>\n",
       "\t<tr><td>chr1     </td><td>1588651  </td><td>1588801  </td><td>1        </td><td>0.10     </td><td>chr1     </td><td>1588447  </td><td>1589160  </td><td>+        </td><td>NA       </td><td>0        </td><td>0        </td><td>[]       </td><td>150      </td><td>2.1760913</td><td>2.1760913</td><td>2.1760913</td></tr>\n",
       "\t<tr><td>chr1     </td><td>1720651  </td><td>1720748  </td><td>1        </td><td>0.10     </td><td>chr1     </td><td>1720694  </td><td>1720891  </td><td>+        </td><td>NA       </td><td>0        </td><td>0        </td><td>[]       </td><td> 54      </td><td>1.7323938</td><td>1.7323938</td><td>1.7323938</td></tr>\n",
       "\t<tr><td>chr1     </td><td>1720748  </td><td>1720776  </td><td>2        </td><td>0.26     </td><td>chr1     </td><td>1720694  </td><td>1720891  </td><td>+        </td><td>NA       </td><td>0        </td><td>0        </td><td>[]       </td><td> 28      </td><td>1.4471580</td><td>1.4471580</td><td>1.4471580</td></tr>\n",
       "\t<tr><td>chr1     </td><td>1720776  </td><td>1720932  </td><td>3        </td><td>0.39     </td><td>chr1     </td><td>1720694  </td><td>1720891  </td><td>+        </td><td>NA       </td><td>0        </td><td>0        </td><td>[]       </td><td>115      </td><td>2.0606978</td><td>2.0606978</td><td>2.0606978</td></tr>\n",
       "\t<tr><td>chr1     </td><td>1720932  </td><td>1721032  </td><td>4        </td><td>0.48     </td><td>chr1     </td><td>1720956  </td><td>1720959  </td><td>+        </td><td>NA       </td><td>0        </td><td>0        </td><td>[]       </td><td>  3      </td><td>0.4771213</td><td>0.4771213</td><td>0.4771213</td></tr>\n",
       "</tbody>\n",
       "</table>\n"
      ],
      "text/latex": [
       "\\begin{tabular}{r|lllllllllllllllll}\n",
       " enh\\_chr & enh\\_start & enh\\_end & enh\\_overlap & enh\\_percentile & hg\\_chr & hg\\_start & hg\\_end & hg\\_strand & hg\\_ref & hg\\_spec & hg\\_vspec & hg-spec\\_names & length & NA & NA.1 & log10\\_length\\\\\n",
       "\\hline\n",
       "\t chr1      &  180680   &  181024   & 1         & 0.10      & chr1      &  180904   &  181582   & +         & NA        & 0         & 0         & {[}{]}    & 120       & 2.0791812 & 2.0791812 & 2.0791812\\\\\n",
       "\t chr1      & 1588651   & 1588801   & 1         & 0.10      & chr1      & 1588447   & 1589160   & +         & NA        & 0         & 0         & {[}{]}    & 150       & 2.1760913 & 2.1760913 & 2.1760913\\\\\n",
       "\t chr1      & 1720651   & 1720748   & 1         & 0.10      & chr1      & 1720694   & 1720891   & +         & NA        & 0         & 0         & {[}{]}    &  54       & 1.7323938 & 1.7323938 & 1.7323938\\\\\n",
       "\t chr1      & 1720748   & 1720776   & 2         & 0.26      & chr1      & 1720694   & 1720891   & +         & NA        & 0         & 0         & {[}{]}    &  28       & 1.4471580 & 1.4471580 & 1.4471580\\\\\n",
       "\t chr1      & 1720776   & 1720932   & 3         & 0.39      & chr1      & 1720694   & 1720891   & +         & NA        & 0         & 0         & {[}{]}    & 115       & 2.0606978 & 2.0606978 & 2.0606978\\\\\n",
       "\t chr1      & 1720932   & 1721032   & 4         & 0.48      & chr1      & 1720956   & 1720959   & +         & NA        & 0         & 0         & {[}{]}    &   3       & 0.4771213 & 0.4771213 & 0.4771213\\\\\n",
       "\\end{tabular}\n"
      ],
      "text/markdown": [
       "\n",
       "enh_chr | enh_start | enh_end | enh_overlap | enh_percentile | hg_chr | hg_start | hg_end | hg_strand | hg_ref | hg_spec | hg_vspec | hg-spec_names | length | NA | NA.1 | log10_length | \n",
       "|---|---|---|---|---|---|\n",
       "| chr1      |  180680   |  181024   | 1         | 0.10      | chr1      |  180904   |  181582   | +         | NA        | 0         | 0         | []        | 120       | 2.0791812 | 2.0791812 | 2.0791812 | \n",
       "| chr1      | 1588651   | 1588801   | 1         | 0.10      | chr1      | 1588447   | 1589160   | +         | NA        | 0         | 0         | []        | 150       | 2.1760913 | 2.1760913 | 2.1760913 | \n",
       "| chr1      | 1720651   | 1720748   | 1         | 0.10      | chr1      | 1720694   | 1720891   | +         | NA        | 0         | 0         | []        |  54       | 1.7323938 | 1.7323938 | 1.7323938 | \n",
       "| chr1      | 1720748   | 1720776   | 2         | 0.26      | chr1      | 1720694   | 1720891   | +         | NA        | 0         | 0         | []        |  28       | 1.4471580 | 1.4471580 | 1.4471580 | \n",
       "| chr1      | 1720776   | 1720932   | 3         | 0.39      | chr1      | 1720694   | 1720891   | +         | NA        | 0         | 0         | []        | 115       | 2.0606978 | 2.0606978 | 2.0606978 | \n",
       "| chr1      | 1720932   | 1721032   | 4         | 0.48      | chr1      | 1720956   | 1720959   | +         | NA        | 0         | 0         | []        |   3       | 0.4771213 | 0.4771213 | 0.4771213 | \n",
       "\n",
       "\n"
      ],
      "text/plain": [
       "  enh_chr enh_start enh_end enh_overlap enh_percentile hg_chr hg_start hg_end \n",
       "1 chr1     180680    181024 1           0.10           chr1    180904   181582\n",
       "2 chr1    1588651   1588801 1           0.10           chr1   1588447  1589160\n",
       "3 chr1    1720651   1720748 1           0.10           chr1   1720694  1720891\n",
       "4 chr1    1720748   1720776 2           0.26           chr1   1720694  1720891\n",
       "5 chr1    1720776   1720932 3           0.39           chr1   1720694  1720891\n",
       "6 chr1    1720932   1721032 4           0.48           chr1   1720956  1720959\n",
       "  hg_strand hg_ref hg_spec hg_vspec hg-spec_names length <NA>      NA.1     \n",
       "1 +         NA     0       0        []            120    2.0791812 2.0791812\n",
       "2 +         NA     0       0        []            150    2.1760913 2.1760913\n",
       "3 +         NA     0       0        []             54    1.7323938 1.7323938\n",
       "4 +         NA     0       0        []             28    1.4471580 1.4471580\n",
       "5 +         NA     0       0        []            115    2.0606978 2.0606978\n",
       "6 +         NA     0       0        []              3    0.4771213 0.4771213\n",
       "  log10_length\n",
       "1 2.0791812   \n",
       "2 2.1760913   \n",
       "3 1.7323938   \n",
       "4 1.4471580   \n",
       "5 2.0606978   \n",
       "6 0.4771213   "
      ]
     },
     "metadata": {},
     "output_type": "display_data"
    }
   ],
   "source": [
    "# format the table\n",
    "\n",
    "# rename columns\n",
    "names(df) = c(\"enh_chr\", \"enh_start\", \"enh_end\", \"enh_overlap\", \"enh_percentile\", \"hg_chr\", \"hg_start\", \"hg_end\", \"hg_strand\", \"hg_ref\", \"hg_spec\", \"hg_vspec\", \"hg-spec_names\", \"length\")\n",
    "\n",
    "# convert species count columns from characters to integers \n",
    "df$hg_spec <- as.integer(df$hg_spec)\n",
    "df$hg_vspec <- as.integer(df$hg_vspec)\n",
    "\n",
    "# calculate the length of fragment overlap in log10\n",
    "df$log10_length = log(df$length, 10)\n",
    "head(df)\n",
    "\n",
    "# create a subset of the dataframe to remove non-overlapping roadmap fragments in hg19 MSA\n",
    "df2 = subset(df, df$length >0)\n",
    "\n",
    "#make a subset of the counts\n",
    "df_count <-plyr::count(df2, vars = c( \"hg_spec\",\"enh_overlap\"))\n",
    "\n",
    "head(df2)"
   ]
  },
  {
   "cell_type": "code",
   "execution_count": 18,
   "metadata": {},
   "outputs": [
    {
     "data": {
      "text/html": [
       "17"
      ],
      "text/latex": [
       "17"
      ],
      "text/markdown": [
       "17"
      ],
      "text/plain": [
       "[1] 17"
      ]
     },
     "metadata": {},
     "output_type": "display_data"
    }
   ],
   "source": [
    "# how many Roadmap enhancers do not overlap any sequencing block in Multiz46-way?\n",
    "\n",
    "noverlap = subset(df, df$length==0)\n",
    "length(noverlap)\n",
    "\n",
    "hspecific = subset(df2, df2$hg_spec ==0)\n"
   ]
  },
  {
   "cell_type": "code",
   "execution_count": 60,
   "metadata": {
    "scrolled": false
   },
   "outputs": [
    {
     "name": "stderr",
     "output_type": "stream",
     "text": [
      "`stat_bin()` using `bins = 30`. Pick better value with `binwidth`.\n",
      "Warning message:\n",
      "“Transformation introduced infinite values in continuous y-axis”Warning message:\n",
      "“Removed 6 rows containing missing values (geom_bar).”"
     ]
    },
    {
     "data": {},
     "metadata": {},
     "output_type": "display_data"
    },
    {
     "data": {
      "image/png": "[encoded data removed]",
      "text/plain": [
       "plot without title"
      ]
     },
     "metadata": {},
     "output_type": "display_data"
    }
   ],
   "source": [
    "ggplot(data=df2, aes(length, color= enh_overlap)\n",
    "      )+ \n",
    "geom_histogram()+\n",
    "ggtitle(\"human-specific length distribution\")+\n",
    "scale_y_log10()"
   ]
  },
  {
   "cell_type": "code",
   "execution_count": 61,
   "metadata": {},
   "outputs": [
    {
     "data": {
      "text/html": [
       "<table>\n",
       "<thead><tr><th scope=col>hg_spec</th><th scope=col>enh_overlap</th><th scope=col>freq</th></tr></thead>\n",
       "<tbody>\n",
       "\t<tr><td>0   </td><td>1   </td><td>2564</td></tr>\n",
       "\t<tr><td>0   </td><td>2   </td><td> 918</td></tr>\n",
       "\t<tr><td>0   </td><td>3   </td><td> 508</td></tr>\n",
       "\t<tr><td>0   </td><td>4   </td><td> 300</td></tr>\n",
       "\t<tr><td>0   </td><td>5   </td><td> 180</td></tr>\n",
       "\t<tr><td>0   </td><td>6   </td><td> 122</td></tr>\n",
       "</tbody>\n",
       "</table>\n"
      ],
      "text/latex": [
       "\\begin{tabular}{r|lll}\n",
       " hg\\_spec & enh\\_overlap & freq\\\\\n",
       "\\hline\n",
       "\t 0    & 1    & 2564\\\\\n",
       "\t 0    & 2    &  918\\\\\n",
       "\t 0    & 3    &  508\\\\\n",
       "\t 0    & 4    &  300\\\\\n",
       "\t 0    & 5    &  180\\\\\n",
       "\t 0    & 6    &  122\\\\\n",
       "\\end{tabular}\n"
      ],
      "text/markdown": [
       "\n",
       "hg_spec | enh_overlap | freq | \n",
       "|---|---|---|---|---|---|\n",
       "| 0    | 1    | 2564 | \n",
       "| 0    | 2    |  918 | \n",
       "| 0    | 3    |  508 | \n",
       "| 0    | 4    |  300 | \n",
       "| 0    | 5    |  180 | \n",
       "| 0    | 6    |  122 | \n",
       "\n",
       "\n"
      ],
      "text/plain": [
       "  hg_spec enh_overlap freq\n",
       "1 0       1           2564\n",
       "2 0       2            918\n",
       "3 0       3            508\n",
       "4 0       4            300\n",
       "5 0       5            180\n",
       "6 0       6            122"
      ]
     },
     "metadata": {},
     "output_type": "display_data"
    }
   ],
   "source": [
    "df_count <-plyr::count(df2, vars = c( \"hg_spec\",\"enh_overlap\"))\n",
    "head(df_count)"
   ]
  },
  {
   "cell_type": "code",
   "execution_count": 62,
   "metadata": {
    "collapsed": true
   },
   "outputs": [],
   "source": [
    "graph_stuff <-function(bedfile){\n",
    "    # make dataframe of the bedfile\n",
    "    df <-read.table(bedfile, sep = '\\t', h=F, stringsAsFactors=F)\n",
    "    \n",
    "    chr= unlist(strsplit(bedfile, \"_\"))[1]\n",
    "    print(chr)\n",
    "    ## format the table\n",
    "\n",
    "    # rename columns\n",
    "    names(df) = c(\"enh_chr\", \"enh_start\", \"enh_end\", \"enh_overlap\", \"enh_percentile\", \"hg_chr\", \"hg_start\", \"hg_end\", \"hg_strand\", \"hg_ref\", \"hg_spec\", \"hg_vspec\", \"hg-spec_names\", \"length\")\n",
    "\n",
    "    # convert species count columns from characters to integers \n",
    "    df$hg_spec <- as.integer(df$hg_spec)\n",
    "    df$hg_vspec <- as.integer(df$hg_vspec)\n",
    "\n",
    "    # calculate the length of fragment overlap in log10\n",
    "    df$log10_length = log(df$length, 10)\n",
    "    \n",
    "    # create a subset of the dataframe to remove non-overlapping roadmap fragments in hg19 MSA\n",
    "    df2 = subset(df, df$length >0)\n",
    "\n",
    "    #make a subset of the counts\n",
    "    df_count <-plyr::count(df2, vars = c( \"hg_spec\",\"enh_overlap\"))\n",
    "    \n",
    "    ggplot(df_count, aes(y = enh_overlap, x =hg_spec)) + \n",
    "        geom_tile(aes(fill = freq), color = \"white\")+\n",
    "        scale_fill_gradient(low = \"steelblue\",high = \"white\")+\n",
    "        ggtitle(paste0(\"Hg19 Species Alignments x Roadmap Enhancer Sample-Overlap - \", chr))\n",
    "    ggsave(paste0(chr,\"_heatmap.pdf\"), path = paste0(path,\"/result_pdf/\"), device = \"pdf\", width = 7, height = 5, units = \"in\", dpi=300)\n",
    "    \n",
    "    ggplot(df2, aes(hg_spec)) + \n",
    "        geom_histogram(bins = 46) +\n",
    "        ggtitle(paste0(\"overlap of hg19 species in roadmap enhancers (multi-intersected) - \", chr)) \n",
    "    ggsave(paste0(chr,\"_histogram.pdf\"), path = paste0(path,\"/result_pdf/\"), device = \"pdf\", width = 7, height = 5, units = \"in\", dpi=300)\n",
    "# relatedness of species/ misrepresentation of species diversity in dataset might skew our interpretation of this graph \n",
    "    \n",
    "    ggplot(df2, aes(y = hg_spec, x = enh_overlap, color=log10_length)) + \n",
    "        geom_point() +\n",
    "        scale_fill_gradient(low = \"steelblue\", high = \"white\")\n",
    "    ggsave(paste0(chr,\"_dot.pdf\"), path = paste0(path,\"/result_pdf/\"), device = \"pdf\", width = 8, height = 8, units = \"in\", dpi=300)\n",
    "}\n",
    "\n"
   ]
  },
  {
   "cell_type": "code",
   "execution_count": null,
   "metadata": {
    "collapsed": true
   },
   "outputs": [],
   "source": [
    "for (bedfile in a){\n",
    "        graph_stuff(bedfile)\n",
    "    }"
   ]
  },
  {
   "cell_type": "code",
   "execution_count": 63,
   "metadata": {},
   "outputs": [
    {
     "data": {},
     "metadata": {},
     "output_type": "display_data"
    },
    {
     "data": {
      "image/png": "[encoded data removed]",
      "text/plain": [
       "plot without title"
      ]
     },
     "metadata": {},
     "output_type": "display_data"
    }
   ],
   "source": [
    "# the frequency of species-specific enhancers x the number of samples enhancers are found in\n",
    "ggplot(df_count, aes(y = enh_overlap, x =hg_spec)) + \n",
    "geom_tile(aes(fill = freq), color = \"white\")+\n",
    "scale_fill_gradient(low = \"steelblue\",high = \"white\")+\n",
    "ggtitle(\"Hg38 Species Alignments x Roadmap Enhancer Sample-Overlap - Chr18\")\n",
    "\n",
    "ggsave(\"hspecific_hg38_heatmap.pdf\", path = paste0(path,\"/result_pdf/\"), device = \"pdf\", width = 4, height = 4, units = \"in\", dpi=300)"
   ]
  },
  {
   "cell_type": "code",
   "execution_count": 64,
   "metadata": {
    "scrolled": true
   },
   "outputs": [
    {
     "data": {},
     "metadata": {},
     "output_type": "display_data"
    },
    {
     "data": {
      "image/png": "[encoded data removed]",
      "text/plain": [
       "plot without title"
      ]
     },
     "metadata": {},
     "output_type": "display_data"
    }
   ],
   "source": [
    "ggplot(df2, aes(hg_spec)) + \n",
    "geom_histogram(bins = 46) +\n",
    "ggtitle(\"overlap of hg38 species in roadmap enhancers (multi-intersected)\") \n",
    "ggsave(\"hspecific_hg38_histogram.pdf\", path = paste0(path,\"/result_pdf/\"), device = \"pdf\", width = 4, height = 4, units = \"in\", dpi=300)\n",
    "# relatedness of species/ misrepresentation of species diversity in dataset might skew our interpretation of this graph "
   ]
  },
  {
   "cell_type": "code",
   "execution_count": 65,
   "metadata": {},
   "outputs": [
    {
     "data": {
      "text/plain": [
       "   enh_chr            enh_start            enh_end           enh_overlap    \n",
       " Length:4958        Min.   :    63671   Min.   :    63859   Min.   : 1.000  \n",
       " Class :character   1st Qu.: 31186624   1st Qu.: 31186670   1st Qu.: 1.000  \n",
       " Mode  :character   Median : 57713974   Median : 57714234   Median : 1.000  \n",
       "                    Mean   : 74309433   Mean   : 74309702   Mean   : 2.613  \n",
       "                    3rd Qu.:112749814   3rd Qu.:112749846   3rd Qu.: 3.000  \n",
       "                    Max.   :248792057   Max.   :248792277   Max.   :25.000  \n",
       "                                                                            \n",
       " enh_percentile      hg_chr             hg_start             hg_end         \n",
       " Min.   :0.1000   Length:4958        Min.   :    62890   Min.   :    63829  \n",
       " 1st Qu.:0.1000   Class :character   1st Qu.: 31182600   1st Qu.: 31186923  \n",
       " Median :0.1000   Mode  :character   Median : 57713927   Median : 57725251  \n",
       " Mean   :0.2631                      Mean   : 74303980   Mean   : 74312313  \n",
       " 3rd Qu.:0.3900                      3rd Qu.:112749809   3rd Qu.:112749836  \n",
       " Max.   :0.9700                      Max.   :248791878   Max.   :248792200  \n",
       "                                                                            \n",
       "  hg_strand             hg_ref        hg_spec     hg_vspec hg-spec_names     \n",
       " Length:4958        Min.   : NA    Min.   :0   Min.   :0   Length:4958       \n",
       " Class :character   1st Qu.: NA    1st Qu.:0   1st Qu.:0   Class :character  \n",
       " Mode  :character   Median : NA    Median :0   Median :0   Mode  :character  \n",
       "                    Mean   :NaN    Mean   :0   Mean   :0                     \n",
       "                    3rd Qu.: NA    3rd Qu.:0   3rd Qu.:0                     \n",
       "                    Max.   : NA    Max.   :0   Max.   :0                     \n",
       "                    NA's   :4958                                             \n",
       "     length              NA              NA         log10_length  \n",
       " Min.   :   1.00   Min.   :0.000   Min.   :0.000   Min.   :0.000  \n",
       " 1st Qu.:  11.00   1st Qu.:1.041   1st Qu.:1.041   1st Qu.:1.041  \n",
       " Median :  38.00   Median :1.580   Median :1.580   Median :1.580  \n",
       " Mean   :  95.15   Mean   :1.532   Mean   :1.532   Mean   :1.532  \n",
       " 3rd Qu.: 116.00   3rd Qu.:2.064   3rd Qu.:2.064   3rd Qu.:2.064  \n",
       " Max.   :1826.00   Max.   :3.262   Max.   :3.262   Max.   :3.262  \n",
       "                                                                  "
      ]
     },
     "metadata": {},
     "output_type": "display_data"
    }
   ],
   "source": [
    "summary(df)"
   ]
  },
  {
   "cell_type": "code",
   "execution_count": null,
   "metadata": {
    "collapsed": true,
    "scrolled": true
   },
   "outputs": [],
   "source": [
    "lapply(df2, class)\n",
    "str(df2)"
   ]
  },
  {
   "cell_type": "code",
   "execution_count": 66,
   "metadata": {},
   "outputs": [
    {
     "data": {},
     "metadata": {},
     "output_type": "display_data"
    },
    {
     "data": {
      "image/png": "[encoded data removed]",
      "text/plain": [
       "plot without title"
      ]
     },
     "metadata": {},
     "output_type": "display_data"
    }
   ],
   "source": [
    "ggplot(df2, aes(y = hg_spec, x = enh_overlap, color=log10_length)) + \n",
    "geom_point() +\n",
    "scale_fill_gradient(low = \"steelblue\", high = \"white\")+\n",
    "ggsave(\"hspecific_hg38_dot.pdf\", path = paste0(path,\"/result_pdf/\"), device = \"pdf\", width = 4, height = 4, units = \"in\", dpi=300)"
   ]
  }
 ],
 "metadata": {
  "kernelspec": {
   "display_name": "R",
   "language": "R",
   "name": "ir"
  },
  "language_info": {
   "codemirror_mode": "r",
   "file_extension": ".r",
   "mimetype": "text/x-r-source",
   "name": "R",
   "pygments_lexer": "r",
   "version": "3.3.2"
  }
 },
 "nbformat": 4,
 "nbformat_minor": 2
}
