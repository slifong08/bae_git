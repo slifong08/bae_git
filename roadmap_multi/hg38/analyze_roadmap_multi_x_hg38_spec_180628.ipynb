{
 "cells": [
  {
   "cell_type": "code",
   "execution_count": null,
   "metadata": {
    "collapsed": true
   },
   "outputs": [],
   "source": [
    "#system(\"source activate sf_test\")"
   ]
  },
  {
   "cell_type": "code",
   "execution_count": null,
   "metadata": {
    "collapsed": true
   },
   "outputs": [],
   "source": [
    "#install.packages('ggplot2')\n",
    "#install.packages(\"dplyr\")"
   ]
  },
  {
   "cell_type": "code",
   "execution_count": 2,
   "metadata": {},
   "outputs": [
    {
     "name": "stderr",
     "output_type": "stream",
     "text": [
      "\n",
      "Attaching package: ‘dplyr’\n",
      "\n",
      "The following objects are masked from ‘package:stats’:\n",
      "\n",
      "    filter, lag\n",
      "\n",
      "The following objects are masked from ‘package:base’:\n",
      "\n",
      "    intersect, setdiff, setequal, union\n",
      "\n"
     ]
    }
   ],
   "source": [
    "library(ggplot2)\n",
    "library(dplyr)"
   ]
  },
  {
   "cell_type": "code",
   "execution_count": 3,
   "metadata": {
    "collapsed": true
   },
   "outputs": [],
   "source": [
    "#find the .BED files of Roadmap enhancers intersected with hg19 files containing species counts\n",
    "path <- \"/dors/capra_lab/users/fongsl/broadly_active_enhancers/data/roadmap_multi_data/hg38/human_specific\"\n",
    "setwd(path)"
   ]
  },
  {
   "cell_type": "code",
   "execution_count": 4,
   "metadata": {
    "collapsed": true
   },
   "outputs": [],
   "source": [
    "a <- list.files(pattern=\"\\\\chr*\")"
   ]
  },
  {
   "cell_type": "code",
   "execution_count": null,
   "metadata": {},
   "outputs": [],
   "source": [
    "print(a)"
   ]
  },
  {
   "cell_type": "code",
   "execution_count": 5,
   "metadata": {},
   "outputs": [
    {
     "name": "stdout",
     "output_type": "stream",
     "text": [
      "[1] \"chr1_hspec_x_hg38.bed\"\n"
     ]
    },
    {
     "data": {
      "text/html": [
       "<ol class=list-inline>\n",
       "\t<li>20000</li>\n",
       "\t<li>14</li>\n",
       "</ol>\n"
      ],
      "text/latex": [
       "\\begin{enumerate*}\n",
       "\\item 20000\n",
       "\\item 14\n",
       "\\end{enumerate*}\n"
      ],
      "text/markdown": [
       "1. 20000\n",
       "2. 14\n",
       "\n",
       "\n"
      ],
      "text/plain": [
       "[1] 20000    14"
      ]
     },
     "metadata": {},
     "output_type": "display_data"
    },
    {
     "data": {
      "text/html": [
       "<table>\n",
       "<thead><tr><th scope=col>V1</th><th scope=col>V2</th><th scope=col>V3</th><th scope=col>V4</th><th scope=col>V5</th><th scope=col>V6</th><th scope=col>V7</th><th scope=col>V8</th><th scope=col>V9</th><th scope=col>V10</th><th scope=col>V11</th><th scope=col>V12</th><th scope=col>V13</th><th scope=col>V14</th></tr></thead>\n",
       "<tbody>\n",
       "\t<tr><td>chr1 </td><td> 9988</td><td>10018</td><td>1    </td><td>0.10 </td><td>.    </td><td>-1   </td><td>-1   </td><td>.    </td><td>.    </td><td>.    </td><td>.    </td><td>.    </td><td>0    </td></tr>\n",
       "\t<tr><td>chr1 </td><td>10018</td><td>10100</td><td>2    </td><td>0.26 </td><td>.    </td><td>-1   </td><td>-1   </td><td>.    </td><td>.    </td><td>.    </td><td>.    </td><td>.    </td><td>0    </td></tr>\n",
       "\t<tr><td>chr1 </td><td>10100</td><td>10214</td><td>3    </td><td>0.39 </td><td>.    </td><td>-1   </td><td>-1   </td><td>.    </td><td>.    </td><td>.    </td><td>.    </td><td>.    </td><td>0    </td></tr>\n",
       "\t<tr><td>chr1 </td><td>10214</td><td>10471</td><td>4    </td><td>0.48 </td><td>.    </td><td>-1   </td><td>-1   </td><td>.    </td><td>.    </td><td>.    </td><td>.    </td><td>.    </td><td>0    </td></tr>\n",
       "\t<tr><td>chr1 </td><td>10471</td><td>10516</td><td>3    </td><td>0.39 </td><td>.    </td><td>-1   </td><td>-1   </td><td>.    </td><td>.    </td><td>.    </td><td>.    </td><td>.    </td><td>0    </td></tr>\n",
       "\t<tr><td>chr1 </td><td>10516</td><td>10542</td><td>2    </td><td>0.26 </td><td>.    </td><td>-1   </td><td>-1   </td><td>.    </td><td>.    </td><td>.    </td><td>.    </td><td>.    </td><td>0    </td></tr>\n",
       "</tbody>\n",
       "</table>\n"
      ],
      "text/latex": [
       "\\begin{tabular}{r|llllllllllllll}\n",
       " V1 & V2 & V3 & V4 & V5 & V6 & V7 & V8 & V9 & V10 & V11 & V12 & V13 & V14\\\\\n",
       "\\hline\n",
       "\t chr1  &  9988 & 10018 & 1     & 0.10  & .     & -1    & -1    & .     & .     & .     & .     & .     & 0    \\\\\n",
       "\t chr1  & 10018 & 10100 & 2     & 0.26  & .     & -1    & -1    & .     & .     & .     & .     & .     & 0    \\\\\n",
       "\t chr1  & 10100 & 10214 & 3     & 0.39  & .     & -1    & -1    & .     & .     & .     & .     & .     & 0    \\\\\n",
       "\t chr1  & 10214 & 10471 & 4     & 0.48  & .     & -1    & -1    & .     & .     & .     & .     & .     & 0    \\\\\n",
       "\t chr1  & 10471 & 10516 & 3     & 0.39  & .     & -1    & -1    & .     & .     & .     & .     & .     & 0    \\\\\n",
       "\t chr1  & 10516 & 10542 & 2     & 0.26  & .     & -1    & -1    & .     & .     & .     & .     & .     & 0    \\\\\n",
       "\\end{tabular}\n"
      ],
      "text/markdown": [
       "\n",
       "V1 | V2 | V3 | V4 | V5 | V6 | V7 | V8 | V9 | V10 | V11 | V12 | V13 | V14 | \n",
       "|---|---|---|---|---|---|\n",
       "| chr1  |  9988 | 10018 | 1     | 0.10  | .     | -1    | -1    | .     | .     | .     | .     | .     | 0     | \n",
       "| chr1  | 10018 | 10100 | 2     | 0.26  | .     | -1    | -1    | .     | .     | .     | .     | .     | 0     | \n",
       "| chr1  | 10100 | 10214 | 3     | 0.39  | .     | -1    | -1    | .     | .     | .     | .     | .     | 0     | \n",
       "| chr1  | 10214 | 10471 | 4     | 0.48  | .     | -1    | -1    | .     | .     | .     | .     | .     | 0     | \n",
       "| chr1  | 10471 | 10516 | 3     | 0.39  | .     | -1    | -1    | .     | .     | .     | .     | .     | 0     | \n",
       "| chr1  | 10516 | 10542 | 2     | 0.26  | .     | -1    | -1    | .     | .     | .     | .     | .     | 0     | \n",
       "\n",
       "\n"
      ],
      "text/plain": [
       "  V1   V2    V3    V4 V5   V6 V7 V8 V9 V10 V11 V12 V13 V14\n",
       "1 chr1  9988 10018 1  0.10 .  -1 -1 .  .   .   .   .   0  \n",
       "2 chr1 10018 10100 2  0.26 .  -1 -1 .  .   .   .   .   0  \n",
       "3 chr1 10100 10214 3  0.39 .  -1 -1 .  .   .   .   .   0  \n",
       "4 chr1 10214 10471 4  0.48 .  -1 -1 .  .   .   .   .   0  \n",
       "5 chr1 10471 10516 3  0.39 .  -1 -1 .  .   .   .   .   0  \n",
       "6 chr1 10516 10542 2  0.26 .  -1 -1 .  .   .   .   .   0  "
      ]
     },
     "metadata": {},
     "output_type": "display_data"
    }
   ],
   "source": [
    "bedfile = a[1]\n",
    "print(bedfile)\n",
    "df <-read.table(bedfile, sep = '\\t', h=F, stringsAsFactors=F, nrows=20000)\n",
    "dim(df)\n",
    "head(df)"
   ]
  },
  {
   "cell_type": "code",
   "execution_count": null,
   "metadata": {
    "collapsed": true
   },
   "outputs": [],
   "source": [
    "#hq_species =['Mmul', 'Cjac', 'Mmus', 'Rnor', 'Ocun', 'Btau', 'Sscr', 'Cfam', 'Fcat'] #rhesus, marmoset, mouse, rat, rabbit, cow\n",
    "hq_species = c('hg38', 'rheMac3', 'calJac3', 'mm10', 'rn6', 'oryCun2', 'bosTau8', 'canFam3', 'felCat8', 'susScr3')"
   ]
  },
  {
   "cell_type": "code",
   "execution_count": 6,
   "metadata": {
    "scrolled": false
   },
   "outputs": [
    {
     "name": "stderr",
     "output_type": "stream",
     "text": [
      "Warning message in eval(expr, envir, enclos):\n",
      "“NAs introduced by coercion”Warning message in eval(expr, envir, enclos):\n",
      "“NAs introduced by coercion”"
     ]
    }
   ],
   "source": [
    "# format the table\n",
    "\n",
    "# rename columns\n",
    "names(df) = c(\"enh_chr\", \"enh_start\", \"enh_end\", \"enh_overlap\",\"enh_percentile\", \"hg138_chr\", \"hg38_start\", \"hg38_end\", \"hg38_strand\", \"hg38_ref\", \"hg38_100spec\", \"hg38_9vspec\", \"hg38_100spec_names\", \"length\")\n",
    "\n",
    "# convert species count columns from characters to integers \n",
    "df$hg38_100spec <- as.integer(df$hg38_100spec)\n",
    "df$hg38_9vspec <- as.integer(df$hg38_9vspec)\n",
    "#df$new= sum((hq_species %in% df$hg38_100spec_names), na.rm=TRUE)\n",
    "\n",
    "# calculate the length of fragment overlap in log10\n",
    "df$log10_length = log(df$length, 10)\n",
    "\n",
    "# create a subset of the dataframe to remove non-overlapping roadmap fragments in hg19 MSA\n",
    "df2 = subset(df, df$length >0)\n",
    "\n",
    "#make a subset of the counts\n",
    "df_count <-plyr::count(df2, vars = c( \"hg38_100spec\",\"enh_overlap\"))\n",
    "\n",
    "#head(df2, nrows =1)"
   ]
  },
  {
   "cell_type": "code",
   "execution_count": 15,
   "metadata": {},
   "outputs": [
    {
     "data": {
      "text/html": [
       "'integer'"
      ],
      "text/latex": [
       "'integer'"
      ],
      "text/markdown": [
       "'integer'"
      ],
      "text/plain": [
       "[1] \"integer\""
      ]
     },
     "metadata": {},
     "output_type": "display_data"
    }
   ],
   "source": [
    "typeof(df2$hg38_100spec)"
   ]
  },
  {
   "cell_type": "code",
   "execution_count": 20,
   "metadata": {},
   "outputs": [
    {
     "data": {},
     "metadata": {},
     "output_type": "display_data"
    },
    {
     "data": {
      "image/png": "[encoded data removed]",
      "text/plain": [
       "plot without title"
      ]
     },
     "metadata": {},
     "output_type": "display_data"
    }
   ],
   "source": [
    "ggplot(data=df2, aes(enh_overlap, color= hg38_100spec, group =hg38_100spec ))+ geom_boxplot()\n",
    "#scale_color_gradientn(colours = rainbow(4))+\n",
    "#ggtitle(\"TEST - chr1 species conservation x sample overlap\") + xlab(\"hg38 start\")"
   ]
  },
  {
   "cell_type": "code",
   "execution_count": null,
   "metadata": {
    "collapsed": true
   },
   "outputs": [],
   "source": [
    "a <- df2[1,-1]"
   ]
  },
  {
   "cell_type": "code",
   "execution_count": null,
   "metadata": {
    "collapsed": true
   },
   "outputs": [],
   "source": [
    "a$new= sum(hq_species %in% a$hg38_100spec_names, na.rm=TRUE)"
   ]
  },
  {
   "cell_type": "code",
   "execution_count": null,
   "metadata": {},
   "outputs": [],
   "source": [
    "for (species in hq_species){\n",
    "    val = 0\n",
    "    a= grep(species,as.factor(a$hg38_100spec_names))\n",
    "    print(a)\n",
    "\n",
    "}"
   ]
  },
  {
   "cell_type": "code",
   "execution_count": null,
   "metadata": {},
   "outputs": [],
   "source": [
    "matches <- (grep(paste(hq_species,collapse=\"|\"), \n",
    "                        unlist(a$hg38_100spec_names), value=TRUE))\n",
    "print(matches)"
   ]
  },
  {
   "cell_type": "code",
   "execution_count": null,
   "metadata": {},
   "outputs": [],
   "source": [
    "# how many Roadmap enhancers do not overlap any sequencing block in Multiz46-way?\n",
    "\n",
    "noverlap = subset(df, df$length==0)\n",
    "length(noverlap)\n",
    "\n",
    "hspecific = subset(df2, df2$hg38_100spec ==0)\n",
    "few=subset(df2, hg38_100spec<5)"
   ]
  },
  {
   "cell_type": "code",
   "execution_count": null,
   "metadata": {
    "scrolled": false
   },
   "outputs": [],
   "source": [
    "ggplot(data=few, aes(x= hg38_start, y = enh_overlap,width = length, color= hg38_100spec))+ \n",
    "geom_tile()+\n",
    "scale_color_gradientn(colours = rainbow(4))+\n",
    "ggtitle(\"TEST - chr1 species conservation x sample overlap\") + xlab(\"hg38 start\")"
   ]
  },
  {
   "cell_type": "code",
   "execution_count": null,
   "metadata": {},
   "outputs": [],
   "source": [
    "ggplot(data=few, aes(y = enh_overlap, x = hg38_start, color=hg38_100spec))+ \n",
    "geom_line(size =1)+\n",
    "scale_color_gradientn(colours = rainbow(4))+\n",
    "scale_x_continuous()"
   ]
  },
  {
   "cell_type": "code",
   "execution_count": null,
   "metadata": {},
   "outputs": [],
   "source": [
    "ggplot(data=few, aes(x = hg38_start, y = enh_overlap, xend = hg38_end, yend = enh_overlap, color = hg38_100spec))+ \n",
    "geom_segment(size = 1)+\n",
    "\n",
    "geom_point(size =0.25)+\n",
    "scale_color_gradientn(colours = rainbow(4))\n"
   ]
  },
  {
   "cell_type": "code",
   "execution_count": null,
   "metadata": {
    "collapsed": true
   },
   "outputs": [],
   "source": [
    "df_count <-plyr::count(df2, vars = c( \"hg38_100spec\",\"enh_overlap\"))\n",
    "head(df_count)"
   ]
  },
  {
   "cell_type": "code",
   "execution_count": null,
   "metadata": {
    "collapsed": true
   },
   "outputs": [],
   "source": []
  },
  {
   "cell_type": "code",
   "execution_count": null,
   "metadata": {
    "collapsed": true
   },
   "outputs": [],
   "source": [
    "graph_stuff <-function(bedfile){\n",
    "    # make dataframe of the bedfile\n",
    "    df <-read.table(bedfile, sep = '\\t', h=F, stringsAsFactors=F)\n",
    "    \n",
    "    chr= unlist(strsplit(bedfile, \"_\"))[1]\n",
    "    print(chr)\n",
    "    ## format the table\n",
    "\n",
    "    names(df) = c(\"enh_chr\", \"enh_start\", \"enh_end\", \"enh_overlap\",\"enh_percentile\", \"hg138_chr\", \"hg38_start\", \"hg38_end\", \"hg38_strand\", \"hg38_ref\", \"hg38_100spec\", \"hg38_9vspec\", \"hg38-100spec_names\", \"length\")\n",
    "\n",
    "    # convert species count columns from characters to integers \n",
    "    df$hg38_100spec <- as.integer(df$hg38_100spec)\n",
    "    df$hg38_9vspec <- as.integer(df$hg38_9vspec)\n",
    "\n",
    "    # calculate the length of fragment overlap in log10\n",
    "    df$log10_length = log(df$length, 10)\n",
    "    \n",
    "\n",
    "    # create a subset of the dataframe to remove non-overlapping roadmap fragments in hg19 MSA\n",
    "    df2   = subset(df, df$length >0)\n",
    "\n",
    "    #make a subset of the counts\n",
    "    df_count <-plyr::count(df2, vars = c( \"hg38_100spec\",\"enh_overlap\"))\n",
    "\n",
    "    \n",
    "    ggplot(df_count, aes(y = enh_overlap, x =hg38_100spec)) + \n",
    "        geom_tile(aes(fill = freq), color = \"white\")+\n",
    "        scale_fill_gradient(low = \"steelblue\",high = \"white\")+\n",
    "        ggtitle(paste0(\"Hg38 Species Alignments x Roadmap Enhancer Sample-Overlap - \", chr))\n",
    "    ggsave(paste0(chr,\"_hg38_heatmap.pdf\"), path = paste0(path,\"/result_pdf/\"), device = \"pdf\", width = 7, height = 5, units = \"in\", dpi=300)\n",
    "    \n",
    "    ggplot(df2, aes(hg38_100spec)) + \n",
    "        geom_histogram(bins = 46) +\n",
    "        ggtitle(paste0(\"overlap of hg38 species in roadmap enhancers (multi-intersected) - \", chr)) \n",
    "    ggsave(paste0(chr,\"_hg38_histogram.pdf\"), path = paste0(path,\"/result_pdf/\"), device = \"pdf\", width = 7, height = 5, units = \"in\", dpi=300)\n",
    "    # relatedness of species/ misrepresentation of species diversity in dataset might skew our interpretation of this graph \n",
    "    \n",
    "    ggplot(df2, aes(y = hg38_100spec, x = enh_overlap, color=log10_length)) + \n",
    "        geom_point() +\n",
    "        scale_fill_gradient(low = \"steelblue\", high = \"white\")\n",
    "    ggsave(paste0(chr,\"_hg38_dot.pdf\"), path = paste0(path,\"/result_pdf/\"), device = \"pdf\", width = 8, height = 8, units = \"in\", dpi=300)\n",
    "    \n",
    "    #tile plot\n",
    "    ggplot(data=few, aes(x= hg38_start, y = enh_overlap,width = length, color= hg38_100spec))+ \n",
    "    geom_tile()+\n",
    "    scale_color_gradientn(colours = rainbow(4))   \n",
    "    ggsave(paste0(chr,\"_hg38_tile.pdf\"), path = paste0(path,\"/result_pdf/\"), device = \"pdf\", width = 8, height = 8, units = \"in\", dpi=300)\n",
    "    \n",
    "    #lineplot\n",
    "    ggplot(data=few, aes(x = hg38_start, y = enh_overlap, xend = hg38_end, yend = enh_overlap, color = hg38_100spec))+ \n",
    "    geom_segment(size = 1)+\n",
    "    ggsave(paste0(chr,\"_hg38_line.pdf\"), path = paste0(path,\"/result_pdf/\"), device = \"pdf\", width = 8, height = 8, units = \"in\", dpi=300)\n",
    "    \n",
    "    #pointplot\n",
    "    geom_point(size =0.25)+\n",
    "    scale_color_gradientn(colours = rainbow(4))\n",
    "    ggsave(paste0(chr,\"_hg38_point.pdf\"), path = paste0(path,\"/result_pdf/\"), device = \"pdf\", width = 8, height = 8, units = \"in\", dpi=300)\n",
    "}\n",
    "\n"
   ]
  },
  {
   "cell_type": "code",
   "execution_count": null,
   "metadata": {},
   "outputs": [],
   "source": [
    "for (bedfile in a){\n",
    "        graph_stuff(bedfile)\n",
    "    }"
   ]
  },
  {
   "cell_type": "code",
   "execution_count": null,
   "metadata": {
    "collapsed": true
   },
   "outputs": [],
   "source": [
    "# the frequency of species-specific enhancers x the number of samples enhancers are found in\n",
    "ggplot(df_count, aes(y = enh_overlap, x =hg38_100spec)) + \n",
    "geom_tile(aes(fill = freq), color = \"white\")+\n",
    "scale_fill_gradient(low = \"steelblue\",high = \"white\")+\n",
    "ggtitle(\"Hg38 Species Alignments x Roadmap Enhancer Sample-Overlap - Chr18\")\n",
    "\n",
    "ggsave(\"chrtest_heatmap.pdf\", path = paste0(path,\"/result_pdf/\"), device = \"pdf\", width = 4, height = 4, units = \"in\", dpi=300)"
   ]
  },
  {
   "cell_type": "code",
   "execution_count": null,
   "metadata": {
    "collapsed": true,
    "scrolled": true
   },
   "outputs": [],
   "source": [
    "ggplot(df2, aes(hg38_100spec)) + \n",
    "geom_histogram(bins = 100) +\n",
    "ggtitle(\"overlap of hg38 species in roadmap enhancers (multi-intersected)\") \n",
    "ggsave(\"chrtest_histogram.pdf\", path = paste0(path,\"/result_pdf/\"), device = \"pdf\", width = 4, height = 4, units = \"in\", dpi=300)\n",
    "# relatedness of species/ misrepresentation of species diversity in dataset might skew our interpretation of this graph "
   ]
  },
  {
   "cell_type": "code",
   "execution_count": null,
   "metadata": {
    "collapsed": true
   },
   "outputs": [],
   "source": [
    "summary(df)"
   ]
  },
  {
   "cell_type": "code",
   "execution_count": null,
   "metadata": {
    "scrolled": true
   },
   "outputs": [],
   "source": [
    "lapply(df2, class)\n",
    "str(df2)"
   ]
  },
  {
   "cell_type": "code",
   "execution_count": null,
   "metadata": {
    "collapsed": true
   },
   "outputs": [],
   "source": [
    "ggplot(df2, aes(y = hg38_100spec, x = enh_overlap, color=log10_length)) + \n",
    "geom_point() +\n",
    "scale_fill_gradient(low = \"steelblue\", high = \"white\")+\n",
    "ggsave(\"chrtest_dot.pdf\", path = paste0(path,\"/result_pdf/\"), device = \"pdf\", width = 4, height = 4, units = \"in\", dpi=300)"
   ]
  }
 ],
 "metadata": {
  "kernelspec": {
   "display_name": "R",
   "language": "R",
   "name": "ir"
  },
  "language_info": {
   "codemirror_mode": "r",
   "file_extension": ".r",
   "mimetype": "text/x-r-source",
   "name": "R",
   "pygments_lexer": "r",
   "version": "3.3.2"
  }
 },
 "nbformat": 4,
 "nbformat_minor": 2
}
