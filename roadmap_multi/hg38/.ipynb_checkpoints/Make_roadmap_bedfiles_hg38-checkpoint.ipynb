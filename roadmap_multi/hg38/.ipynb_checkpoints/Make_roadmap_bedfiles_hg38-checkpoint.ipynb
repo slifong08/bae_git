{
 "cells": [
  {
   "cell_type": "code",
   "execution_count": null,
   "metadata": {
    "collapsed": true
   },
   "outputs": [],
   "source": [
    "#180620\n",
    "\n",
    "#sarahfong\n",
    "\n",
    "#doing the same analysis as before, but migrating to hg38 alignments downloaded from ENCODE"
   ]
  },
  {
   "cell_type": "code",
   "execution_count": null,
   "metadata": {
    "collapsed": true
   },
   "outputs": [],
   "source": [
    "#!/usr/bin/python\n",
    "\n",
    "#sarahfong\n",
    "\n",
    "#180207 - The MultiIntersect command in step 3 has been relaxed. \n",
    "    #Originally, we evaluated only reciprocal overlapping peak fragments, resulting in few and small peaks called among all fragments. \n",
    "    #Changed command from multiIntersectBed -i <<files>> -f 0.5 -r to multiIntersectBed -i <<files>> -f 0.5 -e\n",
    "        #Includes fragment if there is 50% overlap of either fragment. \n",
    "    #This accomodates overlapping very large peaks with very small peaks.\n",
    "\n",
    "#180123 - There are two methods in step 2 for subtracting overlapping H3K27ac and H3K4me3 ChIP-SEQ fragments.\n",
    "\n",
    "#Stringent requirements for calling an enhancer include \n",
    "    #(1) only non-overlapping H3K27ac+ H3K4me3- fragments.\n",
    "\n",
    "#Relaxed requirements for calling an enhancer include \n",
    "    #(1) non-overlapping H3K27ac+ H3K4me3- fragments (-A command) \n",
    "    #(2) fragments with 50% overlap of -a and -b in order to subtract one region from another.\n",
    "\n",
    "    #Note about Relaxed requirements \n",
    "        #This method is based off Mary Lauren's analysis histone modifications of enhancer regions in roadmap. \n",
    "        #This is the method used in Villar 2015 to call enhancers. \n",
    "\n",
    "#180118 - the purpose of this script is to iterate through each ENCODE tissue (e.g. E034, E035, etc.) to find any human enhancers. \n",
    "    #an enhancer as H3K27ac+ and H3K4me3-. \n",
    "    #H3K4me3+ marks active promoters.\n",
    "\n",
    "\n",
    "##### Method #####\n",
    "\n",
    "#step 1-  Glob histone modification files\n",
    "\n",
    "#step 2-  Iterate through each tissue ID file using bedtools - find non-overlapping ChIP-seq regions and write .bed file\n",
    "\n",
    "#             Active enhancers: All H3k27ac marks non-overlapping w/ H3k4me3 found in that tissue. I.e. H3k27ac+/H3k4me3-\n",
    "\n",
    "#step 3-  I will then multiintersect the resultant enhancer files for all tissues. This will be run with the script \"roadmap_find_common_enhancer.py"
   ]
  },
  {
   "cell_type": "code",
   "execution_count": 1,
   "metadata": {},
   "outputs": [
    {
     "name": "stdout",
     "output_type": "stream",
     "text": [
      "2018-06-20\n"
     ]
    }
   ],
   "source": [
    "# import modules\n",
    "\n",
    "import os\n",
    "import sys\n",
    "import glob\n",
    "import datetime\n",
    "import pandas\n",
    "\n",
    "now = str(datetime.date.today())\n",
    "print(now)"
   ]
  },
  {
   "cell_type": "code",
   "execution_count": 2,
   "metadata": {
    "collapsed": true
   },
   "outputs": [],
   "source": [
    "# hg38path\n",
    "path = \"/dors/capra_lab/data_clean/roadmap_epigenomics/hg38/stable_replicated_peaks/\"\n",
    "\n",
    "os.chdir(path)"
   ]
  },
  {
   "cell_type": "code",
   "execution_count": 3,
   "metadata": {
    "collapsed": true
   },
   "outputs": [],
   "source": [
    "#step 1- find matching H3k27ac and H3k4me3 datasets per tissue_id\n",
    "\n",
    "h3k27ac = glob.glob(\"*H3K27ac*.bed\")\n",
    "h3k4me3 = glob.glob(\"*H3K4me3*.bed\")\n",
    "\n",
    "h3k27ac_dict = dict((name.split(\"-\")[0], name) for name in h3k27ac) \n",
    "h3k4me3_dict = dict((name.split(\"-\")[0], name) for name in h3k4me3)\n",
    "\n",
    "matched_dataset=list(key for key in h3k27ac_dict.keys() if key in h3k4me3_dict.keys())"
   ]
  },
  {
   "cell_type": "code",
   "execution_count": 4,
   "metadata": {},
   "outputs": [
    {
     "name": "stdout",
     "output_type": "stream",
     "text": [
      "[]\n"
     ]
    }
   ],
   "source": [
    "print(matched_dataset)"
   ]
  },
  {
   "cell_type": "code",
   "execution_count": 5,
   "metadata": {},
   "outputs": [
    {
     "name": "stdout",
     "output_type": "stream",
     "text": [
      "/dors/capra_lab/users/fongsl/roadmap/2018-05-02\n"
     ]
    }
   ],
   "source": [
    "# make output dir\n",
    "new_dir =\"/dors/capra_lab/users/fongsl/roadmap/%s\" % now\n",
    "\n",
    "new_dir_cmd = \"mkdir %s\" % new_dir\n",
    "os.system(new_dir_cmd)\n",
    "print(new_dir)"
   ]
  },
  {
   "cell_type": "code",
   "execution_count": null,
   "metadata": {
    "collapsed": true
   },
   "outputs": [],
   "source": [
    "for tissue_id in matched_dataset:\n",
    "\n",
    "    h3k27ac_val = h3k27ac_dict[tissue_id] # key for h3k27ac.bed filename\n",
    "    h3k4me3_val = h3k4me3_dict[tissue_id] # key for h3k4me3.bed filename\n",
    "\n",
    "    output_file = \"Hsap_H3K27ac_plus_H3K4me3_minus_%s.bed\" % (tissue_id)\n",
    "\n",
    "    #STRINGENT enhancer definition. 180122 stringent analysis.\n",
    "    os_cmd = \"bedtools intersect -a %s -b %s -sorted -v > '%s/%s'\" % (h3k27ac_val, h3k4me3_val, new_dir, output_file) \n",
    "\n",
    "    #RELAXED enhancer definition. 180123 relaxed analysis.\n",
    "    #os_cmd = \"bedtools subtract -A -f 0.5 -r -a %s -b %s -sorted > '%s'\"% (h3k27ac_val, h3k4me3_val, output_file) \n",
    "\n",
    "    print(\"step2 forloop OS_CMD\", os_cmd)\n",
    "\n",
    "    os.system(os_cmd)\n"
   ]
  }
 ],
 "metadata": {
  "kernelspec": {
   "display_name": "Python 3",
   "language": "python",
   "name": "python3"
  },
  "language_info": {
   "codemirror_mode": {
    "name": "ipython",
    "version": 3
   },
   "file_extension": ".py",
   "mimetype": "text/x-python",
   "name": "python",
   "nbconvert_exporter": "python",
   "pygments_lexer": "ipython3",
   "version": "3.6.1"
  }
 },
 "nbformat": 4,
 "nbformat_minor": 2
}
