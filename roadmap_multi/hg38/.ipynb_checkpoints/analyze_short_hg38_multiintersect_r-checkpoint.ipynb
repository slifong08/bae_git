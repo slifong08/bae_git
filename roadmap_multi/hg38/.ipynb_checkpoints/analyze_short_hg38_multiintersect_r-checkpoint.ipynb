{
 "cells": [
  {
   "cell_type": "code",
   "execution_count": null,
   "metadata": {
    "collapsed": true
   },
   "outputs": [],
   "source": [
    "#!/bin/python\n",
    "\n",
    "#sarahfong\n",
    "#180620 hg38 migration"
   ]
  },
  {
   "cell_type": "code",
   "execution_count": 1,
   "metadata": {
    "collapsed": true
   },
   "outputs": [],
   "source": [
    "import pandas\n",
    "import os"
   ]
  },
  {
   "cell_type": "code",
   "execution_count": 2,
   "metadata": {},
   "outputs": [
    {
     "data": {
      "text/plain": [
       "0"
      ]
     },
     "execution_count": 2,
     "metadata": {},
     "output_type": "execute_result"
    }
   ],
   "source": [
    "os.system(\"source activate sf_test\")"
   ]
  },
  {
   "cell_type": "code",
   "execution_count": 2,
   "metadata": {
    "collapsed": true
   },
   "outputs": [],
   "source": [
    "bedpath = \"/dors/capra_lab/users/fongsl/broadly_active_enhancers/data/roadmap_multi_data/hg38/\""
   ]
  },
  {
   "cell_type": "code",
   "execution_count": 3,
   "metadata": {},
   "outputs": [
    {
     "name": "stdout",
     "output_type": "stream",
     "text": [
      "chr1\n",
      "chr10\n",
      "chr11\n",
      "chr12\n",
      "chr13\n",
      "chr14\n",
      "chr15\n",
      "chr16\n",
      "chr17\n",
      "chr18\n",
      "chr19\n",
      "chr2\n",
      "chr20\n",
      "chr21\n",
      "chr22\n",
      "chr3\n",
      "chr4\n",
      "chr5\n",
      "chr6\n",
      "chr7\n",
      "chr8\n",
      "chr9\n",
      "chrM\n",
      "chrX\n",
      "chrY\n"
     ]
    }
   ],
   "source": [
    "#file of the multiintersected roadmap enhancer peaks\n",
    "\n",
    "bedfile =\"short_hg38_multiintersect.bed\" \n",
    "\n",
    "df = pandas.read_table(\"%s%s\"%(bedpath, bedfile), sep = '\\t', header = -1)\n",
    "num = df[0].unique()\n",
    "for chr_num in num:\n",
    "    if len(chr_num) <6: # there are some random parts of the genome (see box below) that I'm going to avoid for now. idk what these are. \n",
    "        print(chr_num)\n",
    "    \n",
    "        chr_df = df.loc[df[0]== chr_num]\n",
    "    \n",
    "        chr_df = chr_df[[0, 1, 2, 3]] # this will write \"chr\", \"start\", \"end\" and \"no. overlapping samples into .BED file\n",
    "\n",
    "        chr_df.to_csv(\"%s%s_%s\" %(bedpath, chr_num, bedfile), index = False, header = False, sep = '\\t')"
   ]
  },
  {
   "cell_type": "code",
   "execution_count": 8,
   "metadata": {},
   "outputs": [
    {
     "data": {
      "text/html": [
       "<div>\n",
       "<style>\n",
       "    .dataframe thead tr:only-child th {\n",
       "        text-align: right;\n",
       "    }\n",
       "\n",
       "    .dataframe thead th {\n",
       "        text-align: left;\n",
       "    }\n",
       "\n",
       "    .dataframe tbody tr th {\n",
       "        vertical-align: top;\n",
       "    }\n",
       "</style>\n",
       "<table border=\"1\" class=\"dataframe\">\n",
       "  <thead>\n",
       "    <tr style=\"text-align: right;\">\n",
       "      <th></th>\n",
       "      <th>0</th>\n",
       "      <th>1</th>\n",
       "      <th>2</th>\n",
       "      <th>3</th>\n",
       "      <th>4</th>\n",
       "      <th>5</th>\n",
       "    </tr>\n",
       "  </thead>\n",
       "  <tbody>\n",
       "    <tr>\n",
       "      <th>0</th>\n",
       "      <td>chr1</td>\n",
       "      <td>9988</td>\n",
       "      <td>10018</td>\n",
       "      <td>1</td>\n",
       "      <td>24</td>\n",
       "      <td>0.10</td>\n",
       "    </tr>\n",
       "    <tr>\n",
       "      <th>1</th>\n",
       "      <td>chr1</td>\n",
       "      <td>10018</td>\n",
       "      <td>10100</td>\n",
       "      <td>2</td>\n",
       "      <td>24,46</td>\n",
       "      <td>0.26</td>\n",
       "    </tr>\n",
       "    <tr>\n",
       "      <th>2</th>\n",
       "      <td>chr1</td>\n",
       "      <td>10100</td>\n",
       "      <td>10214</td>\n",
       "      <td>3</td>\n",
       "      <td>24,45,46</td>\n",
       "      <td>0.39</td>\n",
       "    </tr>\n",
       "    <tr>\n",
       "      <th>3</th>\n",
       "      <td>chr1</td>\n",
       "      <td>10214</td>\n",
       "      <td>10471</td>\n",
       "      <td>4</td>\n",
       "      <td>1,24,45,46</td>\n",
       "      <td>0.48</td>\n",
       "    </tr>\n",
       "    <tr>\n",
       "      <th>4</th>\n",
       "      <td>chr1</td>\n",
       "      <td>10471</td>\n",
       "      <td>10516</td>\n",
       "      <td>3</td>\n",
       "      <td>24,45,46</td>\n",
       "      <td>0.39</td>\n",
       "    </tr>\n",
       "  </tbody>\n",
       "</table>\n",
       "</div>"
      ],
      "text/plain": [
       "      0      1      2  3           4     5\n",
       "0  chr1   9988  10018  1          24  0.10\n",
       "1  chr1  10018  10100  2       24,46  0.26\n",
       "2  chr1  10100  10214  3    24,45,46  0.39\n",
       "3  chr1  10214  10471  4  1,24,45,46  0.48\n",
       "4  chr1  10471  10516  3    24,45,46  0.39"
      ]
     },
     "execution_count": 8,
     "metadata": {},
     "output_type": "execute_result"
    }
   ],
   "source": [
    "df[5]=(df[3].rank(pct=True)).round(2)\n",
    "df.head()"
   ]
  },
  {
   "cell_type": "code",
   "execution_count": 4,
   "metadata": {},
   "outputs": [
    {
     "name": "stdout",
     "output_type": "stream",
     "text": [
      "['chr1' 'chr10' 'chr11' 'chr12' 'chr13' 'chr14' 'chr14_GL000194v1_random'\n",
      " 'chr14_GL000225v1_random' 'chr14_KI270722v1_random'\n",
      " 'chr14_KI270724v1_random' 'chr15' 'chr16' 'chr16_KI270728v1_random'\n",
      " 'chr17' 'chr17_GL000205v2_random' 'chr17_KI270729v1_random' 'chr18'\n",
      " 'chr19' 'chr1_KI270706v1_random' 'chr1_KI270709v1_random'\n",
      " 'chr1_KI270711v1_random' 'chr1_KI270712v1_random' 'chr1_KI270713v1_random'\n",
      " 'chr1_KI270714v1_random' 'chr2' 'chr20' 'chr21' 'chr22'\n",
      " 'chr22_KI270732v1_random' 'chr22_KI270733v1_random'\n",
      " 'chr22_KI270735v1_random' 'chr3' 'chr3_GL000221v1_random' 'chr4' 'chr5'\n",
      " 'chr6' 'chr7' 'chr8' 'chr9' 'chr9_KI270719v1_random' 'chrM'\n",
      " 'chrUn_GL000195v1' 'chrUn_GL000214v1' 'chrUn_GL000216v2'\n",
      " 'chrUn_GL000218v1' 'chrUn_GL000219v1' 'chrUn_GL000220v1'\n",
      " 'chrUn_KI270438v1' 'chrUn_KI270442v1' 'chrUn_KI270466v1'\n",
      " 'chrUn_KI270467v1' 'chrUn_KI270538v1' 'chrUn_KI270587v1'\n",
      " 'chrUn_KI270744v1' 'chrUn_KI270752v1' 'chrUn_KI270754v1'\n",
      " 'chrUn_KI270755v1' 'chrX' 'chrY']\n"
     ]
    }
   ],
   "source": [
    "num = df[0].unique()\n",
    "print(num)"
   ]
  },
  {
   "cell_type": "code",
   "execution_count": 6,
   "metadata": {},
   "outputs": [
    {
     "name": "stdout",
     "output_type": "stream",
     "text": [
      "/dors/capra_lab/users/fongsl/broadly_active_enhancers/data/roadmap_multi_data/hg38/short_hg38_multiintersect.bed\n"
     ]
    }
   ],
   "source": [
    "print(\"%s%s\"%(bedpath, bedfile))"
   ]
  },
  {
   "cell_type": "code",
   "execution_count": null,
   "metadata": {
    "collapsed": true
   },
   "outputs": [],
   "source": [
    "#the 99th percentile of overlapping roadmap multi-intersect enhancer peaks\n",
    "\n",
    "bedfile99 = \"99_short_multiintersect_roadmap.bed\"\n",
    "df99 = pandas.read_table(\"%s%s\"%(bedpath, bedfile99), sep = '\\t', header=-1)\n",
    "num99 = df99[0].unique()\n",
    "for chr_num in num99:\n",
    "    chr_df = df99.loc[df99[0]== chr_num]\n",
    "    chr_df = chr_df[[0,1,2]]\n",
    "    chr_df.to_csv(\"%s%s_%s\" %(bedpath, chr_num, bedfile99), index = False, header = False, sep = '\\t')"
   ]
  },
  {
   "cell_type": "code",
   "execution_count": null,
   "metadata": {
    "collapsed": true
   },
   "outputs": [],
   "source": [
    "#the 90th percentile of villar overlapping roadmap enhancer peaks\n",
    "datapath = \"/dors/capra_lab/users/fongsl/broadly_active_enhancers/data/villar_ref_data/\"\n",
    "bedfile = \"hspecific_villar_bae_hq_aln.bed\"\n",
    "\n",
    "df = pandas.read_table(\"%s%s\"%(datapath, bedfile), sep = '\\t')\n",
    "num = df['v-chr'].unique()\n",
    "for chr_num in num:\n",
    "    chr_df = df.loc[df[\"v-chr\"]== chr_num]\n",
    "    chr_df.to_csv(\"%s%s_%s\" %(datapath, chr_num, bedfile), index = False, header = False, sep = '\\t')"
   ]
  }
 ],
 "metadata": {
  "kernelspec": {
   "display_name": "Python 3",
   "language": "python",
   "name": "python3"
  },
  "language_info": {
   "codemirror_mode": {
    "name": "ipython",
    "version": 3
   },
   "file_extension": ".py",
   "mimetype": "text/x-python",
   "name": "python",
   "nbconvert_exporter": "python",
   "pygments_lexer": "ipython3",
   "version": "3.6.1"
  }
 },
 "nbformat": 4,
 "nbformat_minor": 2
}
