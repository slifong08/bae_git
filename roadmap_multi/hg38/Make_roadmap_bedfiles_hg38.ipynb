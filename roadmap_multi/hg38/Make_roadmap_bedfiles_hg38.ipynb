{
 "cells": [
  {
   "cell_type": "code",
   "execution_count": null,
   "metadata": {
    "collapsed": true
   },
   "outputs": [],
   "source": [
    "#180620\n",
    "\n",
    "#sarahfong\n",
    "\n",
    "#doing the same analysis as before, but migrating to hg38 alignments downloaded from ENCODE"
   ]
  },
  {
   "cell_type": "code",
   "execution_count": null,
   "metadata": {
    "collapsed": true
   },
   "outputs": [],
   "source": [
    "#!/usr/bin/python\n",
    "\n",
    "#sarahfong\n",
    "\n",
    "#180207 - The MultiIntersect command in step 3 has been relaxed. \n",
    "    #Originally, we evaluated only reciprocal overlapping peak fragments, resulting in few and small peaks called among all fragments. \n",
    "    #Changed command from multiIntersectBed -i <<files>> -f 0.5 -r to multiIntersectBed -i <<files>> -f 0.5 -e\n",
    "        #Includes fragment if there is 50% overlap of either fragment. \n",
    "    #This accomodates overlapping very large peaks with very small peaks.\n",
    "\n",
    "#180123 - There are two methods in step 2 for subtracting overlapping H3K27ac and H3K4me3 ChIP-SEQ fragments.\n",
    "\n",
    "#Stringent requirements for calling an enhancer include \n",
    "    #(1) only non-overlapping H3K27ac+ H3K4me3- fragments.\n",
    "\n",
    "#Relaxed requirements for calling an enhancer include \n",
    "    #(1) non-overlapping H3K27ac+ H3K4me3- fragments (-A command) \n",
    "    #(2) fragments with 50% overlap of -a and -b in order to subtract one region from another.\n",
    "\n",
    "    #Note about Relaxed requirements \n",
    "        #This method is based off Mary Lauren's analysis histone modifications of enhancer regions in roadmap. \n",
    "        #This is the method used in Villar 2015 to call enhancers. \n",
    "\n",
    "#180118 - the purpose of this script is to iterate through each ENCODE tissue (e.g. E034, E035, etc.) to find any human enhancers. \n",
    "    #an enhancer as H3K27ac+ and H3K4me3-. \n",
    "    #H3K4me3+ marks active promoters.\n",
    "\n",
    "\n",
    "##### Method #####\n",
    "\n",
    "#step 1-  Glob histone modification files\n",
    "\n",
    "#step 2-  Iterate through each tissue ID file using bedtools - find non-overlapping ChIP-seq regions and write .bed file\n",
    "\n",
    "#             Active enhancers: All H3k27ac marks non-overlapping w/ H3k4me3 found in that tissue. I.e. H3k27ac+/H3k4me3-\n",
    "\n",
    "#step 3-  I will then multiintersect the resultant enhancer files for all tissues. This will be run with the script \"roadmap_find_common_enhancer.py"
   ]
  },
  {
   "cell_type": "code",
   "execution_count": 2,
   "metadata": {},
   "outputs": [
    {
     "name": "stdout",
     "output_type": "stream",
     "text": [
      "2018-06-20\n"
     ]
    }
   ],
   "source": [
    "# import modules\n",
    "\n",
    "import os\n",
    "import sys\n",
    "import glob\n",
    "import datetime\n",
    "import pandas\n",
    "\n",
    "now = str(datetime.date.today())\n",
    "print(now)"
   ]
  },
  {
   "cell_type": "code",
   "execution_count": 3,
   "metadata": {
    "collapsed": true
   },
   "outputs": [],
   "source": [
    "# hg38path\n",
    "path = \"/dors/capra_lab/data_clean/roadmap_epigenomics/hg38/stable_replicated_peaks/\"\n",
    "\n",
    "os.chdir(path)"
   ]
  },
  {
   "cell_type": "code",
   "execution_count": 4,
   "metadata": {
    "collapsed": true
   },
   "outputs": [],
   "source": [
    "#step 1- find matching H3k27ac and H3k4me3 datasets per tissue_id\n",
    "\n",
    "h3k27ac = glob.glob(\"*H3K27ac*.bed\")\n",
    "h3k4me3 = glob.glob(\"*H3K4me3*.bed\")\n",
    "\n",
    "h3k27ac_dict = dict((name.split(\"_\")[2], name) for name in h3k27ac) \n",
    "h3k4me3_dict = dict((name.split(\"_\")[2], name) for name in h3k4me3)\n",
    "\n",
    "matched_dataset=list(key for key in h3k27ac_dict.keys() if key in h3k4me3_dict.keys())\n",
    "\n",
    "tissue_dict ={}\n",
    "for biosample in matched_dataset:\n",
    "    if biosample in h3k27ac_dict.keys():\n",
    "\n",
    "        tissue_id = \"\".join(h3k27ac_dict[biosample].split('_')[3:-1])\n",
    "        tissue_dict[biosample] = tissue_id\n",
    "        "
   ]
  },
  {
   "cell_type": "code",
   "execution_count": 38,
   "metadata": {},
   "outputs": [
    {
     "name": "stdout",
     "output_type": "stream",
     "text": [
      "dict_values(['H9', 'chorionicvillus', 'liver', 'CD4-positive,alpha-betamemoryTcell', 'musclelayerofduodenum', 'kidney', 'HUES6', 'CD4-positive,CD25-positive,alpha-betaregulatoryTcell', 'chorion', 'trophoblastcell', 'angulargyrus', 'foreskinmelanocyte', 'smallintestine', 'heartrightventricle', 'rightcardiacatrium', 'adrenalgland', 'iPS-18a', 'mesendoderm', 'foreskinfibroblast', 'naivethymus-derivedCD4-positive,alpha-betaTcell', 'ectodermalcell', 'placentalbasalplate', 'thymus', 'stomachsmoothmuscle', 'esophagus', 'psoasmuscle', 'largeintestine', 'mesodermalcell', 'skeletalmuscletissue', 'spleen', 'middlefrontalarea46', 'ovary', 'iPSDF19.11', 'substantianigra', 'endocrinepancreas', 'T-cell', 'effectormemoryCD4-positive,alpha-betaTcell', 'HUES48', 'cingulategyrus', 'Bcell', 'subcutaneousabdominaladiposetissue', 'aorta', 'urinarybladder', 'lung', 'musclelayerofcolon', 'UCSF-4', 'heartleftventricle', 'neurosphere', 'naturalkillercell', 'mucosaofrectum', 'stomach', 'amnion', 'colonicmucosa', 'temporallobe', 'CD4-positive,alpha-betaTcell', 'mesenchymalstemcell', 'rectalsmoothmuscletissue', 'CD8-positive,alpha-betamemoryTcell', 'sigmoidcolon', 'CD14-positivemonocyte', 'duodenalmucosa', 'T-helper17cell', 'placenta', 'endodermalcell', 'commonmyeloidprogenitor,CD34-positive', 'caudatenucleus', 'CD8-positive,alpha-betaTcell', 'fibroblastofbreast', 'layerofhippocampus', 'pancreas', 'peripheralbloodmononuclearcell', 'IMR-90', 'iPS-20b', 'neuralstemprogenitorcell', 'iPSDF6.9', 'spinalcord', 'foreskinkeratinocyte', 'HUES64', 'muscleoftrunk', 'H1-hESC'])\n"
     ]
    }
   ],
   "source": [
    "print(tissue_dict.values())"
   ]
  },
  {
   "cell_type": "code",
   "execution_count": 5,
   "metadata": {},
   "outputs": [
    {
     "name": "stdout",
     "output_type": "stream",
     "text": [
      "/dors/capra_lab/users/fongsl/roadmap/hg38_2018-06-20\n"
     ]
    }
   ],
   "source": [
    "# make output dir\n",
    "new_dir =\"/dors/capra_lab/users/fongsl/roadmap/hg38_%s\" % now\n",
    "\n",
    "new_dir_cmd = \"mkdir %s\" % new_dir\n",
    "os.system(new_dir_cmd)\n",
    "print(new_dir)"
   ]
  },
  {
   "cell_type": "code",
   "execution_count": 24,
   "metadata": {},
   "outputs": [
    {
     "name": "stdout",
     "output_type": "stream",
     "text": [
      "bedtools intersect -a HSap_ENCFF835UOA_EFO0003045_H9_H3K27ac.bed -b HSap_ENCFF485ZIC_EFO0003045_H9_H3K4me3.bed -v -sorted > '/dors/capra_lab/users/fongsl/roadmap/hg38_2018-06-20/Hsap_H3K27ac_plus_H3K4me3_minus_EFO0003045.bed'\n",
      "bedtools intersect -a HSap_ENCFF472NTY_UBERON0007106_chorionic_villus_H3K27ac.bed -b HSap_ENCFF816IVW_UBERON0007106_chorionic_villus_H3K4me3.bed -v -sorted > '/dors/capra_lab/users/fongsl/roadmap/hg38_2018-06-20/Hsap_H3K27ac_plus_H3K4me3_minus_UBERON0007106.bed'\n",
      "bedtools intersect -a HSap_ENCFF275ZWJ_UBERON0002107_liver_H3K27ac.bed -b HSap_ENCFF726WMX_UBERON0002107_liver_H3K4me3.bed -v -sorted > '/dors/capra_lab/users/fongsl/roadmap/hg38_2018-06-20/Hsap_H3K27ac_plus_H3K4me3_minus_UBERON0002107.bed'\n",
      "bedtools intersect -a HSap_ENCFF384FUV_CL0000897_CD4-positive,_alpha-beta_memory_T_cell_H3K27ac.bed -b HSap_ENCFF629PCT_CL0000897_CD4-positive,_alpha-beta_memory_T_cell_H3K4me3.bed -v -sorted > '/dors/capra_lab/users/fongsl/roadmap/hg38_2018-06-20/Hsap_H3K27ac_plus_H3K4me3_minus_CL0000897.bed'\n",
      "bedtools intersect -a HSap_ENCFF476VFI_UBERON0012488_muscle_layer_of_duodenum_H3K27ac.bed -b HSap_ENCFF017QZX_UBERON0012488_muscle_layer_of_duodenum_H3K4me3.bed -v -sorted > '/dors/capra_lab/users/fongsl/roadmap/hg38_2018-06-20/Hsap_H3K27ac_plus_H3K4me3_minus_UBERON0012488.bed'\n",
      "bedtools intersect -a HSap_ENCFF584JKX_UBERON0002113_kidney_H3K27ac.bed -b HSap_ENCFF751ZDX_UBERON0002113_kidney_H3K4me3.bed -v -sorted > '/dors/capra_lab/users/fongsl/roadmap/hg38_2018-06-20/Hsap_H3K27ac_plus_H3K4me3_minus_UBERON0002113.bed'\n",
      "bedtools intersect -a HSap_ENCFF774NSM_EFO0007086_HUES6_H3K27ac.bed -b HSap_ENCFF146DDP_EFO0007086_HUES6_H3K4me3.bed -v -sorted > '/dors/capra_lab/users/fongsl/roadmap/hg38_2018-06-20/Hsap_H3K27ac_plus_H3K4me3_minus_EFO0007086.bed'\n",
      "bedtools intersect -a HSap_ENCFF382WGI_CL0000792_CD4-positive,_CD25-positive,_alpha-beta_regulatory_T_cell_H3K27ac.bed -b HSap_ENCFF499SSL_CL0000792_CD4-positive,_CD25-positive,_alpha-beta_regulatory_T_cell_H3K4me3.bed -v -sorted > '/dors/capra_lab/users/fongsl/roadmap/hg38_2018-06-20/Hsap_H3K27ac_plus_H3K4me3_minus_CL0000792.bed'\n",
      "bedtools intersect -a HSap_ENCFF978GZA_UBERON0003124_chorion_H3K27ac.bed -b HSap_ENCFF054ZHV_UBERON0003124_chorion_H3K4me3.bed -v -sorted > '/dors/capra_lab/users/fongsl/roadmap/hg38_2018-06-20/Hsap_H3K27ac_plus_H3K4me3_minus_UBERON0003124.bed'\n",
      "bedtools intersect -a HSap_ENCFF059KOC_CL0000351_trophoblast_cell_H3K27ac.bed -b HSap_ENCFF284KNZ_CL0000351_trophoblast_cell_H3K4me3.bed -v -sorted > '/dors/capra_lab/users/fongsl/roadmap/hg38_2018-06-20/Hsap_H3K27ac_plus_H3K4me3_minus_CL0000351.bed'\n",
      "bedtools intersect -a HSap_ENCFF454RCC_UBERON0002686_angular_gyrus_H3K27ac.bed -b HSap_ENCFF173OYB_UBERON0002686_angular_gyrus_H3K4me3.bed -v -sorted > '/dors/capra_lab/users/fongsl/roadmap/hg38_2018-06-20/Hsap_H3K27ac_plus_H3K4me3_minus_UBERON0002686.bed'\n",
      "bedtools intersect -a HSap_ENCFF386RIR_CL2000045_foreskin_melanocyte_H3K27ac.bed -b HSap_ENCFF977URK_CL2000045_foreskin_melanocyte_H3K4me3.bed -v -sorted > '/dors/capra_lab/users/fongsl/roadmap/hg38_2018-06-20/Hsap_H3K27ac_plus_H3K4me3_minus_CL2000045.bed'\n",
      "bedtools intersect -a HSap_ENCFF434KGU_UBERON0002108_small_intestine_H3K27ac.bed -b HSap_ENCFF012TFR_UBERON0002108_small_intestine_H3K4me3.bed -v -sorted > '/dors/capra_lab/users/fongsl/roadmap/hg38_2018-06-20/Hsap_H3K27ac_plus_H3K4me3_minus_UBERON0002108.bed'\n",
      "bedtools intersect -a HSap_ENCFF908ALW_UBERON0002080_heart_right_ventricle_H3K27ac.bed -b HSap_ENCFF786ACC_UBERON0002080_heart_right_ventricle_H3K4me3.bed -v -sorted > '/dors/capra_lab/users/fongsl/roadmap/hg38_2018-06-20/Hsap_H3K27ac_plus_H3K4me3_minus_UBERON0002080.bed'\n",
      "bedtools intersect -a HSap_ENCFF267XRX_UBERON0002078_right_cardiac_atrium_H3K27ac.bed -b HSap_ENCFF976DLO_UBERON0002078_right_cardiac_atrium_H3K4me3.bed -v -sorted > '/dors/capra_lab/users/fongsl/roadmap/hg38_2018-06-20/Hsap_H3K27ac_plus_H3K4me3_minus_UBERON0002078.bed'\n",
      "bedtools intersect -a HSap_ENCFF193BKF_UBERON0002369_adrenal_gland_H3K27ac.bed -b HSap_ENCFF198OBU_UBERON0002369_adrenal_gland_H3K4me3.bed -v -sorted > '/dors/capra_lab/users/fongsl/roadmap/hg38_2018-06-20/Hsap_H3K27ac_plus_H3K4me3_minus_UBERON0002369.bed'\n",
      "bedtools intersect -a HSap_ENCFF693NFF_EFO0007105_iPS-18a_H3K27ac.bed -b HSap_ENCFF535AUL_EFO0007105_iPS-18a_H3K4me3.bed -v -sorted > '/dors/capra_lab/users/fongsl/roadmap/hg38_2018-06-20/Hsap_H3K27ac_plus_H3K4me3_minus_EFO0007105.bed'\n",
      "bedtools intersect -a HSap_ENCFF459UTL_NTR0000856_mesendoderm_H3K27ac.bed -b HSap_ENCFF052VWO_NTR0000856_mesendoderm_H3K4me3.bed -v -sorted > '/dors/capra_lab/users/fongsl/roadmap/hg38_2018-06-20/Hsap_H3K27ac_plus_H3K4me3_minus_NTR0000856.bed'\n",
      "bedtools intersect -a HSap_ENCFF574KKX_CL1001608_foreskin_fibroblast_H3K27ac.bed -b HSap_ENCFF026OAP_CL1001608_foreskin_fibroblast_H3K4me3.bed -v -sorted > '/dors/capra_lab/users/fongsl/roadmap/hg38_2018-06-20/Hsap_H3K27ac_plus_H3K4me3_minus_CL1001608.bed'\n",
      "bedtools intersect -a HSap_ENCFF502SDP_CL0000895_naive_thymus-derived_CD4-positive,_alpha-beta_T_cell_H3K27ac.bed -b HSap_ENCFF763AZX_CL0000895_naive_thymus-derived_CD4-positive,_alpha-beta_T_cell_H3K4me3.bed -v -sorted > '/dors/capra_lab/users/fongsl/roadmap/hg38_2018-06-20/Hsap_H3K27ac_plus_H3K4me3_minus_CL0000895.bed'\n",
      "bedtools intersect -a HSap_ENCFF909CTU_CL0000221_ectodermal_cell_H3K27ac.bed -b HSap_ENCFF450NCT_CL0000221_ectodermal_cell_H3K4me3.bed -v -sorted > '/dors/capra_lab/users/fongsl/roadmap/hg38_2018-06-20/Hsap_H3K27ac_plus_H3K4me3_minus_CL0000221.bed'\n",
      "bedtools intersect -a HSap_ENCFF682RZK_NTR0003013_placental_basal_plate_H3K27ac.bed -b HSap_ENCFF756QQF_NTR0003013_placental_basal_plate_H3K4me3.bed -v -sorted > '/dors/capra_lab/users/fongsl/roadmap/hg38_2018-06-20/Hsap_H3K27ac_plus_H3K4me3_minus_NTR0003013.bed'\n",
      "bedtools intersect -a HSap_ENCFF591XBH_UBERON0002370_thymus_H3K27ac.bed -b HSap_ENCFF535MNK_UBERON0002370_thymus_H3K4me3.bed -v -sorted > '/dors/capra_lab/users/fongsl/roadmap/hg38_2018-06-20/Hsap_H3K27ac_plus_H3K4me3_minus_UBERON0002370.bed'\n",
      "bedtools intersect -a HSap_ENCFF892SLQ_UBERON0004222_stomach_smooth_muscle_H3K27ac.bed -b HSap_ENCFF801SOS_UBERON0004222_stomach_smooth_muscle_H3K4me3.bed -v -sorted > '/dors/capra_lab/users/fongsl/roadmap/hg38_2018-06-20/Hsap_H3K27ac_plus_H3K4me3_minus_UBERON0004222.bed'\n",
      "bedtools intersect -a HSap_ENCFF535PRN_UBERON0001043_esophagus_H3K27ac.bed -b HSap_ENCFF812UXQ_UBERON0001043_esophagus_H3K4me3.bed -v -sorted > '/dors/capra_lab/users/fongsl/roadmap/hg38_2018-06-20/Hsap_H3K27ac_plus_H3K4me3_minus_UBERON0001043.bed'\n",
      "bedtools intersect -a HSap_ENCFF265IZO_UBERON0008450_psoas_muscle_H3K27ac.bed -b HSap_ENCFF783HFC_UBERON0008450_psoas_muscle_H3K4me3.bed -v -sorted > '/dors/capra_lab/users/fongsl/roadmap/hg38_2018-06-20/Hsap_H3K27ac_plus_H3K4me3_minus_UBERON0008450.bed'\n",
      "bedtools intersect -a HSap_ENCFF393MNY_UBERON0000059_large_intestine_H3K27ac.bed -b HSap_ENCFF190SPX_UBERON0000059_large_intestine_H3K4me3.bed -v -sorted > '/dors/capra_lab/users/fongsl/roadmap/hg38_2018-06-20/Hsap_H3K27ac_plus_H3K4me3_minus_UBERON0000059.bed'\n",
      "bedtools intersect -a HSap_ENCFF997UPL_CL0000222_mesodermal_cell_H3K27ac.bed -b HSap_ENCFF870OTW_CL0000222_mesodermal_cell_H3K4me3.bed -v -sorted > '/dors/capra_lab/users/fongsl/roadmap/hg38_2018-06-20/Hsap_H3K27ac_plus_H3K4me3_minus_CL0000222.bed'\n",
      "bedtools intersect -a HSap_ENCFF216VYV_UBERON0001134_skeletal_muscle_tissue_H3K27ac.bed -b HSap_ENCFF792MLG_UBERON0001134_skeletal_muscle_tissue_H3K4me3.bed -v -sorted > '/dors/capra_lab/users/fongsl/roadmap/hg38_2018-06-20/Hsap_H3K27ac_plus_H3K4me3_minus_UBERON0001134.bed'\n",
      "bedtools intersect -a HSap_ENCFF661WLX_UBERON0002106_spleen_H3K27ac.bed -b HSap_ENCFF590BSY_UBERON0002106_spleen_H3K4me3.bed -v -sorted > '/dors/capra_lab/users/fongsl/roadmap/hg38_2018-06-20/Hsap_H3K27ac_plus_H3K4me3_minus_UBERON0002106.bed'\n",
      "bedtools intersect -a HSap_ENCFF685EHR_UBERON0006483_middle_frontal_area_46_H3K27ac.bed -b HSap_ENCFF644YTC_UBERON0006483_middle_frontal_area_46_H3K4me3.bed -v -sorted > '/dors/capra_lab/users/fongsl/roadmap/hg38_2018-06-20/Hsap_H3K27ac_plus_H3K4me3_minus_UBERON0006483.bed'\n",
      "bedtools intersect -a HSap_ENCFF182CMV_UBERON0000992_ovary_H3K27ac.bed -b HSap_ENCFF463CXA_UBERON0000992_ovary_H3K4me3.bed -v -sorted > '/dors/capra_lab/users/fongsl/roadmap/hg38_2018-06-20/Hsap_H3K27ac_plus_H3K4me3_minus_UBERON0000992.bed'\n"
     ]
    },
    {
     "name": "stdout",
     "output_type": "stream",
     "text": [
      "bedtools intersect -a HSap_ENCFF749RHX_EFO0007096_iPS_DF_19.11_H3K27ac.bed -b HSap_ENCFF519CNY_EFO0007096_iPS_DF_19.11_H3K4me3.bed -v -sorted > '/dors/capra_lab/users/fongsl/roadmap/hg38_2018-06-20/Hsap_H3K27ac_plus_H3K4me3_minus_EFO0007096.bed'\n",
      "bedtools intersect -a HSap_ENCFF818ISZ_UBERON0002038_substantia_nigra_H3K27ac.bed -b HSap_ENCFF631ETT_UBERON0002038_substantia_nigra_H3K4me3.bed -v -sorted > '/dors/capra_lab/users/fongsl/roadmap/hg38_2018-06-20/Hsap_H3K27ac_plus_H3K4me3_minus_UBERON0002038.bed'\n",
      "bedtools intersect -a HSap_ENCFF459QWJ_UBERON0000016_endocrine_pancreas_H3K27ac.bed -b HSap_ENCFF729BGV_UBERON0000016_endocrine_pancreas_H3K4me3.bed -v -sorted > '/dors/capra_lab/users/fongsl/roadmap/hg38_2018-06-20/Hsap_H3K27ac_plus_H3K4me3_minus_UBERON0000016.bed'\n",
      "bedtools intersect -a HSap_ENCFF963JHV_CL0000084_T-cell_H3K27ac.bed -b HSap_ENCFF598DYJ_CL0000084_T-cell_H3K4me3.bed -v -sorted > '/dors/capra_lab/users/fongsl/roadmap/hg38_2018-06-20/Hsap_H3K27ac_plus_H3K4me3_minus_CL0000084.bed'\n",
      "bedtools intersect -a HSap_ENCFF590IZA_CL0000905_effector_memory_CD4-positive,_alpha-beta_T_cell_H3K27ac.bed -b HSap_ENCFF971CDA_CL0000905_effector_memory_CD4-positive,_alpha-beta_T_cell_H3K4me3.bed -v -sorted > '/dors/capra_lab/users/fongsl/roadmap/hg38_2018-06-20/Hsap_H3K27ac_plus_H3K4me3_minus_CL0000905.bed'\n",
      "bedtools intersect -a HSap_ENCFF607YSA_EFO0007083_HUES48_H3K27ac.bed -b HSap_ENCFF530UOO_EFO0007083_HUES48_H3K4me3.bed -v -sorted > '/dors/capra_lab/users/fongsl/roadmap/hg38_2018-06-20/Hsap_H3K27ac_plus_H3K4me3_minus_EFO0007083.bed'\n",
      "bedtools intersect -a HSap_ENCFF663DTI_UBERON0002967_cingulate_gyrus_H3K27ac.bed -b HSap_ENCFF295HHI_UBERON0002967_cingulate_gyrus_H3K4me3.bed -v -sorted > '/dors/capra_lab/users/fongsl/roadmap/hg38_2018-06-20/Hsap_H3K27ac_plus_H3K4me3_minus_UBERON0002967.bed'\n",
      "bedtools intersect -a HSap_ENCFF059WXH_CL0000236_B_cell_H3K27ac.bed -b HSap_ENCFF727GPA_CL0000236_B_cell_H3K4me3.bed -v -sorted > '/dors/capra_lab/users/fongsl/roadmap/hg38_2018-06-20/Hsap_H3K27ac_plus_H3K4me3_minus_CL0000236.bed'\n",
      "bedtools intersect -a HSap_ENCFF772EKS_UBERON0014455_subcutaneous_abdominal_adipose_tissue_H3K27ac.bed -b HSap_ENCFF290CQD_UBERON0014455_subcutaneous_abdominal_adipose_tissue_H3K4me3.bed -v -sorted > '/dors/capra_lab/users/fongsl/roadmap/hg38_2018-06-20/Hsap_H3K27ac_plus_H3K4me3_minus_UBERON0014455.bed'\n",
      "bedtools intersect -a HSap_ENCFF057LJS_UBERON0000947_aorta_H3K27ac.bed -b HSap_ENCFF455KIC_UBERON0000947_aorta_H3K4me3.bed -v -sorted > '/dors/capra_lab/users/fongsl/roadmap/hg38_2018-06-20/Hsap_H3K27ac_plus_H3K4me3_minus_UBERON0000947.bed'\n",
      "bedtools intersect -a HSap_ENCFF515VMS_UBERON0001255_urinary_bladder_H3K27ac.bed -b HSap_ENCFF738QDH_UBERON0001255_urinary_bladder_H3K4me3.bed -v -sorted > '/dors/capra_lab/users/fongsl/roadmap/hg38_2018-06-20/Hsap_H3K27ac_plus_H3K4me3_minus_UBERON0001255.bed'\n",
      "bedtools intersect -a HSap_ENCFF562MSH_UBERON0002048_lung_H3K27ac.bed -b HSap_ENCFF723CUO_UBERON0002048_lung_H3K4me3.bed -v -sorted > '/dors/capra_lab/users/fongsl/roadmap/hg38_2018-06-20/Hsap_H3K27ac_plus_H3K4me3_minus_UBERON0002048.bed'\n",
      "bedtools intersect -a HSap_ENCFF433RKE_UBERON0012489_muscle_layer_of_colon_H3K27ac.bed -b HSap_ENCFF698YWG_UBERON0012489_muscle_layer_of_colon_H3K4me3.bed -v -sorted > '/dors/capra_lab/users/fongsl/roadmap/hg38_2018-06-20/Hsap_H3K27ac_plus_H3K4me3_minus_UBERON0012489.bed'\n",
      "bedtools intersect -a HSap_ENCFF848ZBF_EFO0007116_UCSF-4_H3K27ac.bed -b HSap_ENCFF341MEQ_EFO0007116_UCSF-4_H3K4me3.bed -v -sorted > '/dors/capra_lab/users/fongsl/roadmap/hg38_2018-06-20/Hsap_H3K27ac_plus_H3K4me3_minus_EFO0007116.bed'\n",
      "bedtools intersect -a HSap_ENCFF094TOI_UBERON0002084_heart_left_ventricle_H3K27ac.bed -b HSap_ENCFF866LXE_UBERON0002084_heart_left_ventricle_H3K4me3.bed -v -sorted > '/dors/capra_lab/users/fongsl/roadmap/hg38_2018-06-20/Hsap_H3K27ac_plus_H3K4me3_minus_UBERON0002084.bed'\n",
      "bedtools intersect -a HSap_ENCFF691JCE_NTR0000427_neurosphere_H3K27ac.bed -b HSap_ENCFF003UEO_NTR0000427_neurosphere_H3K4me3.bed -v -sorted > '/dors/capra_lab/users/fongsl/roadmap/hg38_2018-06-20/Hsap_H3K27ac_plus_H3K4me3_minus_NTR0000427.bed'\n",
      "bedtools intersect -a HSap_ENCFF240LSH_CL0000623_natural_killer_cell_H3K27ac.bed -b HSap_ENCFF505EGX_CL0000623_natural_killer_cell_H3K4me3.bed -v -sorted > '/dors/capra_lab/users/fongsl/roadmap/hg38_2018-06-20/Hsap_H3K27ac_plus_H3K4me3_minus_CL0000623.bed'\n",
      "bedtools intersect -a HSap_ENCFF299NWK_UBERON0003346_mucosa_of_rectum_H3K27ac.bed -b HSap_ENCFF030BZG_UBERON0003346_mucosa_of_rectum_H3K4me3.bed -v -sorted > '/dors/capra_lab/users/fongsl/roadmap/hg38_2018-06-20/Hsap_H3K27ac_plus_H3K4me3_minus_UBERON0003346.bed'\n",
      "bedtools intersect -a HSap_ENCFF055FKA_UBERON0000945_stomach_H3K27ac.bed -b HSap_ENCFF805ZSK_UBERON0000945_stomach_H3K4me3.bed -v -sorted > '/dors/capra_lab/users/fongsl/roadmap/hg38_2018-06-20/Hsap_H3K27ac_plus_H3K4me3_minus_UBERON0000945.bed'\n",
      "bedtools intersect -a HSap_ENCFF636SIY_UBERON0000305_amnion_H3K27ac.bed -b HSap_ENCFF006KVW_UBERON0000305_amnion_H3K4me3.bed -v -sorted > '/dors/capra_lab/users/fongsl/roadmap/hg38_2018-06-20/Hsap_H3K27ac_plus_H3K4me3_minus_UBERON0000305.bed'\n",
      "bedtools intersect -a HSap_ENCFF051OAR_UBERON0000317_colonic_mucosa_H3K27ac.bed -b HSap_ENCFF637OKI_UBERON0000317_colonic_mucosa_H3K4me3.bed -v -sorted > '/dors/capra_lab/users/fongsl/roadmap/hg38_2018-06-20/Hsap_H3K27ac_plus_H3K4me3_minus_UBERON0000317.bed'\n",
      "bedtools intersect -a HSap_ENCFF859DLP_UBERON0001871_temporal_lobe_H3K27ac.bed -b HSap_ENCFF324VLH_UBERON0001871_temporal_lobe_H3K4me3.bed -v -sorted > '/dors/capra_lab/users/fongsl/roadmap/hg38_2018-06-20/Hsap_H3K27ac_plus_H3K4me3_minus_UBERON0001871.bed'\n",
      "bedtools intersect -a HSap_ENCFF714CRK_CL0000624_CD4-positive,_alpha-beta_T_cell_H3K27ac.bed -b HSap_ENCFF093RDC_CL0000624_CD4-positive,_alpha-beta_T_cell_H3K4me3.bed -v -sorted > '/dors/capra_lab/users/fongsl/roadmap/hg38_2018-06-20/Hsap_H3K27ac_plus_H3K4me3_minus_CL0000624.bed'\n",
      "bedtools intersect -a HSap_ENCFF268FCW_EFO0000586_mesenchymal_stem_cell_H3K27ac.bed -b HSap_ENCFF011GWS_EFO0000586_mesenchymal_stem_cell_H3K4me3.bed -v -sorted > '/dors/capra_lab/users/fongsl/roadmap/hg38_2018-06-20/Hsap_H3K27ac_plus_H3K4me3_minus_EFO0000586.bed'\n",
      "bedtools intersect -a HSap_ENCFF459MKC_UBERON0018112_rectal_smooth_muscle_tissue_H3K27ac.bed -b HSap_ENCFF450UIL_UBERON0018112_rectal_smooth_muscle_tissue_H3K4me3.bed -v -sorted > '/dors/capra_lab/users/fongsl/roadmap/hg38_2018-06-20/Hsap_H3K27ac_plus_H3K4me3_minus_UBERON0018112.bed'\n",
      "bedtools intersect -a HSap_ENCFF376SKL_CL0000909_CD8-positive,_alpha-beta_memory_T_cell_H3K27ac.bed -b HSap_ENCFF737OXZ_CL0000909_CD8-positive,_alpha-beta_memory_T_cell_H3K4me3.bed -v -sorted > '/dors/capra_lab/users/fongsl/roadmap/hg38_2018-06-20/Hsap_H3K27ac_plus_H3K4me3_minus_CL0000909.bed'\n",
      "bedtools intersect -a HSap_ENCFF096HVY_UBERON0001159_sigmoid_colon_H3K27ac.bed -b HSap_ENCFF890JZD_UBERON0001159_sigmoid_colon_H3K4me3.bed -v -sorted > '/dors/capra_lab/users/fongsl/roadmap/hg38_2018-06-20/Hsap_H3K27ac_plus_H3K4me3_minus_UBERON0001159.bed'\n",
      "bedtools intersect -a HSap_ENCFF544QYY_CL0001054_CD14-positive_monocyte_H3K27ac.bed -b HSap_ENCFF275IMY_CL0001054_CD14-positive_monocyte_H3K4me3.bed -v -sorted > '/dors/capra_lab/users/fongsl/roadmap/hg38_2018-06-20/Hsap_H3K27ac_plus_H3K4me3_minus_CL0001054.bed'\n",
      "bedtools intersect -a HSap_ENCFF400TER_UBERON0000320_duodenal_mucosa_H3K27ac.bed -b HSap_ENCFF328NII_UBERON0000320_duodenal_mucosa_H3K4me3.bed -v -sorted > '/dors/capra_lab/users/fongsl/roadmap/hg38_2018-06-20/Hsap_H3K27ac_plus_H3K4me3_minus_UBERON0000320.bed'\n",
      "bedtools intersect -a HSap_ENCFF156ZWE_CL0000899_T-helper_17_cell_H3K27ac.bed -b HSap_ENCFF840IIO_CL0000899_T-helper_17_cell_H3K4me3.bed -v -sorted > '/dors/capra_lab/users/fongsl/roadmap/hg38_2018-06-20/Hsap_H3K27ac_plus_H3K4me3_minus_CL0000899.bed'\n",
      "bedtools intersect -a HSap_ENCFF825OIT_UBERON0001987_placenta_H3K27ac.bed -b HSap_ENCFF514UDM_UBERON0001987_placenta_H3K4me3.bed -v -sorted > '/dors/capra_lab/users/fongsl/roadmap/hg38_2018-06-20/Hsap_H3K27ac_plus_H3K4me3_minus_UBERON0001987.bed'\n",
      "bedtools intersect -a HSap_ENCFF435HDB_CL0000223_endodermal_cell_H3K27ac.bed -b HSap_ENCFF599VIR_CL0000223_endodermal_cell_H3K4me3.bed -v -sorted > '/dors/capra_lab/users/fongsl/roadmap/hg38_2018-06-20/Hsap_H3K27ac_plus_H3K4me3_minus_CL0000223.bed'\n"
     ]
    },
    {
     "name": "stdout",
     "output_type": "stream",
     "text": [
      "bedtools intersect -a HSap_ENCFF844RUD_CL0001059_common_myeloid_progenitor,_CD34-positive_H3K27ac.bed -b HSap_ENCFF655QJF_CL0001059_common_myeloid_progenitor,_CD34-positive_H3K4me3.bed -v -sorted > '/dors/capra_lab/users/fongsl/roadmap/hg38_2018-06-20/Hsap_H3K27ac_plus_H3K4me3_minus_CL0001059.bed'\n",
      "bedtools intersect -a HSap_ENCFF253UKG_UBERON0001873_caudate_nucleus_H3K27ac.bed -b HSap_ENCFF788TVU_UBERON0001873_caudate_nucleus_H3K4me3.bed -v -sorted > '/dors/capra_lab/users/fongsl/roadmap/hg38_2018-06-20/Hsap_H3K27ac_plus_H3K4me3_minus_UBERON0001873.bed'\n",
      "bedtools intersect -a HSap_ENCFF321NYQ_CL0000625_CD8-positive,_alpha-beta_T_cell_H3K27ac.bed -b HSap_ENCFF269CAD_CL0000625_CD8-positive,_alpha-beta_T_cell_H3K4me3.bed -v -sorted > '/dors/capra_lab/users/fongsl/roadmap/hg38_2018-06-20/Hsap_H3K27ac_plus_H3K4me3_minus_CL0000625.bed'\n",
      "bedtools intersect -a HSap_ENCFF945WZJ_NTR0003079_fibroblast_of_breast_H3K27ac.bed -b HSap_ENCFF814LCB_NTR0003079_fibroblast_of_breast_H3K4me3.bed -v -sorted > '/dors/capra_lab/users/fongsl/roadmap/hg38_2018-06-20/Hsap_H3K27ac_plus_H3K4me3_minus_NTR0003079.bed'\n",
      "bedtools intersect -a HSap_ENCFF178BNQ_UBERON0002305_layer_of_hippocampus_H3K27ac.bed -b HSap_ENCFF335HTD_UBERON0002305_layer_of_hippocampus_H3K4me3.bed -v -sorted > '/dors/capra_lab/users/fongsl/roadmap/hg38_2018-06-20/Hsap_H3K27ac_plus_H3K4me3_minus_UBERON0002305.bed'\n",
      "bedtools intersect -a HSap_ENCFF769XNX_UBERON0001264_pancreas_H3K27ac.bed -b HSap_ENCFF918CGC_UBERON0001264_pancreas_H3K4me3.bed -v -sorted > '/dors/capra_lab/users/fongsl/roadmap/hg38_2018-06-20/Hsap_H3K27ac_plus_H3K4me3_minus_UBERON0001264.bed'\n",
      "bedtools intersect -a HSap_ENCFF376BEW_CL2000001_peripheral_blood_mononuclear_cell_H3K27ac.bed -b HSap_ENCFF977VHE_CL2000001_peripheral_blood_mononuclear_cell_H3K4me3.bed -v -sorted > '/dors/capra_lab/users/fongsl/roadmap/hg38_2018-06-20/Hsap_H3K27ac_plus_H3K4me3_minus_CL2000001.bed'\n",
      "bedtools intersect -a HSap_ENCFF730BVO_EFO0001196_IMR-90_H3K27ac.bed -b HSap_ENCFF018CAH_EFO0001196_IMR-90_H3K4me3.bed -v -sorted > '/dors/capra_lab/users/fongsl/roadmap/hg38_2018-06-20/Hsap_H3K27ac_plus_H3K4me3_minus_EFO0001196.bed'\n",
      "bedtools intersect -a HSap_ENCFF748FSW_EFO0007108_iPS-20b_H3K27ac.bed -b HSap_ENCFF401HOA_EFO0007108_iPS-20b_H3K4me3.bed -v -sorted > '/dors/capra_lab/users/fongsl/roadmap/hg38_2018-06-20/Hsap_H3K27ac_plus_H3K4me3_minus_EFO0007108.bed'\n",
      "bedtools intersect -a HSap_ENCFF722OBP_CL0000047_neural_stem_progenitor_cell_H3K27ac.bed -b HSap_ENCFF043FGL_CL0000047_neural_stem_progenitor_cell_H3K4me3.bed -v -sorted > '/dors/capra_lab/users/fongsl/roadmap/hg38_2018-06-20/Hsap_H3K27ac_plus_H3K4me3_minus_CL0000047.bed'\n",
      "bedtools intersect -a HSap_ENCFF514ZKY_EFO0007098_iPS_DF_6.9_H3K27ac.bed -b HSap_ENCFF140FVM_EFO0007098_iPS_DF_6.9_H3K4me3.bed -v -sorted > '/dors/capra_lab/users/fongsl/roadmap/hg38_2018-06-20/Hsap_H3K27ac_plus_H3K4me3_minus_EFO0007098.bed'\n",
      "bedtools intersect -a HSap_ENCFF835MQW_UBERON0002240_spinal_cord_H3K27ac.bed -b HSap_ENCFF004NNG_UBERON0002240_spinal_cord_H3K4me3.bed -v -sorted > '/dors/capra_lab/users/fongsl/roadmap/hg38_2018-06-20/Hsap_H3K27ac_plus_H3K4me3_minus_UBERON0002240.bed'\n",
      "bedtools intersect -a HSap_ENCFF640APB_CL1001606_foreskin_keratinocyte_H3K27ac.bed -b HSap_ENCFF249HFS_CL1001606_foreskin_keratinocyte_H3K4me3.bed -v -sorted > '/dors/capra_lab/users/fongsl/roadmap/hg38_2018-06-20/Hsap_H3K27ac_plus_H3K4me3_minus_CL1001606.bed'\n",
      "bedtools intersect -a HSap_ENCFF180DGZ_EFO0007089_HUES64_H3K27ac.bed -b HSap_ENCFF609VEG_EFO0007089_HUES64_H3K4me3.bed -v -sorted > '/dors/capra_lab/users/fongsl/roadmap/hg38_2018-06-20/Hsap_H3K27ac_plus_H3K4me3_minus_EFO0007089.bed'\n",
      "bedtools intersect -a HSap_ENCFF191ZYA_UBERON0001774_muscle_of_trunk_H3K27ac.bed -b HSap_ENCFF581IRI_UBERON0001774_muscle_of_trunk_H3K4me3.bed -v -sorted > '/dors/capra_lab/users/fongsl/roadmap/hg38_2018-06-20/Hsap_H3K27ac_plus_H3K4me3_minus_UBERON0001774.bed'\n",
      "bedtools intersect -a HSap_ENCFF045CUG_EFO0003042_H1-hESC_H3K27ac.bed -b HSap_ENCFF744ORJ_EFO0003042_H1-hESC_H3K4me3.bed -v -sorted > '/dors/capra_lab/users/fongsl/roadmap/hg38_2018-06-20/Hsap_H3K27ac_plus_H3K4me3_minus_EFO0003042.bed'\n"
     ]
    }
   ],
   "source": [
    "for tissue_id in matched_dataset:\n",
    "\n",
    "    h3k27ac_val = h3k27ac_dict[tissue_id] # key for h3k27ac.bed filename\n",
    "    #sort_27ac = \"sortBed -i %s > sorted_%s \" %(h3k27ac_val, h3k27ac_val)\n",
    "    #print(sort_27ac)\n",
    "    #os.system(sort_27ac)\n",
    "    #rename_cmd =\"mv sorted_%s %s\"%(h3k27ac_val, h3k27ac_val)\n",
    "    #os.system(rename_cmd)\n",
    "    \n",
    "    h3k4me3_val = h3k4me3_dict[tissue_id] # key for h3k4me3.bed filename\n",
    "    #sort_me3 = \"sortBed -i %s > sorted_%s \" %(h3k4me3_val, h3k4me3_val)\n",
    "    #print(sort_me3)\n",
    "    #os.system(sort_me3)\n",
    "    #rename_cmd =\"mv sorted_%s %s\"%(h3k4me3_val, h3k4me3_val)\n",
    "    #os.system(rename_cmd)\n",
    "    output_file = \"Hsap_H3K27ac_plus_H3K4me3_minus_%s.bed\" % (tissue_id)\n",
    "\n",
    "    #STRINGENT enhancer definition. 180122 stringent analysis.\n",
    "    os_cmd = \"bedtools intersect -a %s -b %s -v -sorted > '%s/%s'\" % (h3k27ac_val, h3k4me3_val, new_dir, output_file) \n",
    "\n",
    "    #RELAXED enhancer definition. 180123 relaxed analysis.\n",
    "    #os_cmd = \"bedtools subtract -a %s -b %s > '%s/%s'\"% (h3k27ac_val, h3k4me3_val, new_dir, output_file) \n",
    "\n",
    "    print(os_cmd)\n",
    "\n",
    "    os.system(os_cmd)\n",
    "\n"
   ]
  },
  {
   "cell_type": "code",
   "execution_count": 7,
   "metadata": {
    "collapsed": true
   },
   "outputs": [],
   "source": [
    "df = pandas.read_table(\"HSap_ENCFF835UOA_EFO0003045_H9_H3K27ac.bed\", sep= '\\t', header = -1)"
   ]
  },
  {
   "cell_type": "code",
   "execution_count": 14,
   "metadata": {},
   "outputs": [
    {
     "name": "stdout",
     "output_type": "stream",
     "text": [
      "3567\n"
     ]
    }
   ],
   "source": [
    "df[3] = df[2].subtract(df[1])\n",
    "print(df[3].max())"
   ]
  }
 ],
 "metadata": {
  "kernelspec": {
   "display_name": "Python 3",
   "language": "python",
   "name": "python3"
  },
  "language_info": {
   "codemirror_mode": {
    "name": "ipython",
    "version": 3
   },
   "file_extension": ".py",
   "mimetype": "text/x-python",
   "name": "python",
   "nbconvert_exporter": "python",
   "pygments_lexer": "ipython3",
   "version": "3.6.1"
  }
 },
 "nbformat": 4,
 "nbformat_minor": 2
}
