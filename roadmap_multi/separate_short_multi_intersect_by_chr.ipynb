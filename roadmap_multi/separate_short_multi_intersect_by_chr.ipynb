{
 "cells": [
  {
   "cell_type": "code",
   "execution_count": 2,
   "metadata": {},
   "outputs": [],
   "source": [
    "import pandas"
   ]
  },
  {
   "cell_type": "code",
   "execution_count": 8,
   "metadata": {
    "collapsed": true
   },
   "outputs": [],
   "source": [
    "bedpath = \"/dors/capra_lab/users/fongsl/broadly_active_enhancers/data/roadmap_multi_data/\"\n",
    "#file of the multiintersected roadmap segments\n",
    "bedfile =\"short_multiintersect_roadmap.bed\" "
   ]
  },
  {
   "cell_type": "code",
   "execution_count": 9,
   "metadata": {
    "collapsed": true
   },
   "outputs": [],
   "source": [
    "df = pandas.read_table(\"%s%s\"%(bedpath, bedfile), sep = '\\t')"
   ]
  },
  {
   "cell_type": "code",
   "execution_count": 10,
   "metadata": {},
   "outputs": [
    {
     "name": "stdout",
     "output_type": "stream",
     "text": [
      "['chr1' 'chr10' 'chr11' 'chr12' 'chr13' 'chr14' 'chr15' 'chr16' 'chr17'\n",
      " 'chr18' 'chr19' 'chr2' 'chr20' 'chr21' 'chr22' 'chr3' 'chr4' 'chr5' 'chr6'\n",
      " 'chr7' 'chr8' 'chr9' 'chrM' 'chrX' 'chrY']\n"
     ]
    }
   ],
   "source": [
    "num = df[\"0\"].unique()\n",
    "print(num)"
   ]
  },
  {
   "cell_type": "code",
   "execution_count": 13,
   "metadata": {},
   "outputs": [],
   "source": [
    "for chr_num in num:\n",
    "    chr_df = df.loc[df[\"0\"]== chr_num]\n",
    "    chr_df.to_csv(\"%s%s_%s\" %(bedpath, chr_num, bedfile), index = False, header = False, sep = '\\t')"
   ]
  }
 ],
 "metadata": {
  "kernelspec": {
   "display_name": "Python 3",
   "language": "python",
   "name": "python3"
  },
  "language_info": {
   "codemirror_mode": {
    "name": "ipython",
    "version": 3
   },
   "file_extension": ".py",
   "mimetype": "text/x-python",
   "name": "python",
   "nbconvert_exporter": "python",
   "pygments_lexer": "ipython3",
   "version": "3.6.1"
  }
 },
 "nbformat": 4,
 "nbformat_minor": 2
}
